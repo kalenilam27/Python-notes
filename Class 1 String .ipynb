{
 "cells": [
  {
   "cell_type": "code",
   "execution_count": 1,
   "id": "908d3dc7",
   "metadata": {},
   "outputs": [],
   "source": [
    "s='ineuron'"
   ]
  },
  {
   "cell_type": "code",
   "execution_count": 2,
   "id": "e5b7a125",
   "metadata": {},
   "outputs": [
    {
     "data": {
      "text/plain": [
       "str"
      ]
     },
     "execution_count": 2,
     "metadata": {},
     "output_type": "execute_result"
    }
   ],
   "source": [
    "type(s)"
   ]
  },
  {
   "cell_type": "code",
   "execution_count": 3,
   "id": "b172689d",
   "metadata": {},
   "outputs": [
    {
     "data": {
      "text/plain": [
       "'i'"
      ]
     },
     "execution_count": 3,
     "metadata": {},
     "output_type": "execute_result"
    }
   ],
   "source": [
    "s[0]"
   ]
  },
  {
   "cell_type": "code",
   "execution_count": 5,
   "id": "f25f91fb",
   "metadata": {},
   "outputs": [
    {
     "data": {
      "text/plain": [
       "'o'"
      ]
     },
     "execution_count": 5,
     "metadata": {},
     "output_type": "execute_result"
    }
   ],
   "source": [
    "s[5]"
   ]
  },
  {
   "cell_type": "code",
   "execution_count": 6,
   "id": "87a4180f",
   "metadata": {},
   "outputs": [
    {
     "data": {
      "text/plain": [
       "'n'"
      ]
     },
     "execution_count": 6,
     "metadata": {},
     "output_type": "execute_result"
    }
   ],
   "source": [
    "s[-1]"
   ]
  },
  {
   "cell_type": "code",
   "execution_count": 7,
   "id": "5592074e",
   "metadata": {},
   "outputs": [],
   "source": [
    "s1=\"subh\""
   ]
  },
  {
   "cell_type": "code",
   "execution_count": 9,
   "id": "c7f52d7e",
   "metadata": {},
   "outputs": [
    {
     "data": {
      "text/plain": [
       "'b'"
      ]
     },
     "execution_count": 9,
     "metadata": {},
     "output_type": "execute_result"
    }
   ],
   "source": [
    "s1[-2]"
   ]
  },
  {
   "cell_type": "code",
   "execution_count": 10,
   "id": "13778d81",
   "metadata": {},
   "outputs": [],
   "source": [
    "s2=\"this is my very first programming class\""
   ]
  },
  {
   "cell_type": "code",
   "execution_count": 11,
   "id": "3c302598",
   "metadata": {},
   "outputs": [
    {
     "data": {
      "text/plain": [
       "'m'"
      ]
     },
     "execution_count": 11,
     "metadata": {},
     "output_type": "execute_result"
    }
   ],
   "source": [
    "s2[8]"
   ]
  },
  {
   "cell_type": "code",
   "execution_count": 12,
   "id": "4fc60d4b",
   "metadata": {},
   "outputs": [
    {
     "data": {
      "text/plain": [
       "'his '"
      ]
     },
     "execution_count": 12,
     "metadata": {},
     "output_type": "execute_result"
    }
   ],
   "source": [
    "s2[1:5]"
   ]
  },
  {
   "cell_type": "code",
   "execution_count": 13,
   "id": "c9d8ff46",
   "metadata": {},
   "outputs": [
    {
     "data": {
      "text/plain": [
       "'s my very first programm'"
      ]
     },
     "execution_count": 13,
     "metadata": {},
     "output_type": "execute_result"
    }
   ],
   "source": [
    "s2[6:30]"
   ]
  },
  {
   "cell_type": "code",
   "execution_count": 14,
   "id": "6b780c2c",
   "metadata": {},
   "outputs": [
    {
     "data": {
      "text/plain": [
       "'sm eyfrtporm'"
      ]
     },
     "execution_count": 14,
     "metadata": {},
     "output_type": "execute_result"
    }
   ],
   "source": [
    "s2[6:30:2]"
   ]
  },
  {
   "cell_type": "code",
   "execution_count": 18,
   "id": "76b1df4f",
   "metadata": {},
   "outputs": [
    {
     "data": {
      "text/plain": [
       "'svf r'"
      ]
     },
     "execution_count": 18,
     "metadata": {},
     "output_type": "execute_result"
    }
   ],
   "source": [
    "s2[6:30:5]"
   ]
  },
  {
   "cell_type": "code",
   "execution_count": 19,
   "id": "a33bbd30",
   "metadata": {},
   "outputs": [
    {
     "data": {
      "text/plain": [
       "'sye r oai a'"
      ]
     },
     "execution_count": 19,
     "metadata": {},
     "output_type": "execute_result"
    }
   ],
   "source": [
    "s2[6::3]"
   ]
  },
  {
   "cell_type": "code",
   "execution_count": 20,
   "id": "72749481",
   "metadata": {},
   "outputs": [],
   "source": [
    "s=\"shudhanshu\""
   ]
  },
  {
   "cell_type": "code",
   "execution_count": 21,
   "id": "57cc8bba",
   "metadata": {},
   "outputs": [
    {
     "data": {
      "text/plain": [
       "'shudhansh'"
      ]
     },
     "execution_count": 21,
     "metadata": {},
     "output_type": "execute_result"
    }
   ],
   "source": [
    "s[0:9:1]"
   ]
  },
  {
   "cell_type": "code",
   "execution_count": 25,
   "id": "2c32c47a",
   "metadata": {},
   "outputs": [
    {
     "data": {
      "text/plain": [
       "''"
      ]
     },
     "execution_count": 25,
     "metadata": {},
     "output_type": "execute_result"
    }
   ],
   "source": [
    "s[0:8:-1]"
   ]
  },
  {
   "cell_type": "code",
   "execution_count": 26,
   "id": "4c5637a3",
   "metadata": {},
   "outputs": [
    {
     "data": {
      "text/plain": [
       "'hsnahduh'"
      ]
     },
     "execution_count": 26,
     "metadata": {},
     "output_type": "execute_result"
    }
   ],
   "source": [
    " s[8:0:-1]"
   ]
  },
  {
   "cell_type": "code",
   "execution_count": 27,
   "id": "a104129a",
   "metadata": {},
   "outputs": [
    {
     "data": {
      "text/plain": [
       "'hnhu'"
      ]
     },
     "execution_count": 27,
     "metadata": {},
     "output_type": "execute_result"
    }
   ],
   "source": [
    "s[8:0:-2]"
   ]
  },
  {
   "cell_type": "code",
   "execution_count": 28,
   "id": "a299a04d",
   "metadata": {},
   "outputs": [
    {
     "data": {
      "text/plain": [
       "'shudhan'"
      ]
     },
     "execution_count": 28,
     "metadata": {},
     "output_type": "execute_result"
    }
   ],
   "source": [
    "s[:-3]"
   ]
  },
  {
   "cell_type": "code",
   "execution_count": 32,
   "id": "91ca85e6",
   "metadata": {},
   "outputs": [
    {
     "data": {
      "text/plain": [
       "'hu'"
      ]
     },
     "execution_count": 32,
     "metadata": {},
     "output_type": "execute_result"
    }
   ],
   "source": [
    "s[-2:]"
   ]
  },
  {
   "cell_type": "code",
   "execution_count": 33,
   "id": "dc3f4f3d",
   "metadata": {},
   "outputs": [
    {
     "data": {
      "text/plain": [
       "'shudhanshu'"
      ]
     },
     "execution_count": 33,
     "metadata": {},
     "output_type": "execute_result"
    }
   ],
   "source": [
    "s[::1]"
   ]
  },
  {
   "cell_type": "code",
   "execution_count": 34,
   "id": "f7d710de",
   "metadata": {},
   "outputs": [
    {
     "data": {
      "text/plain": [
       "'uhsnahduhs'"
      ]
     },
     "execution_count": 34,
     "metadata": {},
     "output_type": "execute_result"
    }
   ],
   "source": [
    "s[::-1]"
   ]
  },
  {
   "cell_type": "code",
   "execution_count": 35,
   "id": "88a8d7f9",
   "metadata": {},
   "outputs": [
    {
     "data": {
      "text/plain": [
       "'this is my very first programming class'"
      ]
     },
     "execution_count": 35,
     "metadata": {},
     "output_type": "execute_result"
    }
   ],
   "source": [
    "s2"
   ]
  },
  {
   "cell_type": "code",
   "execution_count": 36,
   "id": "daf6b083",
   "metadata": {},
   "outputs": [
    {
     "data": {
      "text/plain": [
       "'ssalc gnimmargorp tsrif yrev ym si siht'"
      ]
     },
     "execution_count": 36,
     "metadata": {},
     "output_type": "execute_result"
    }
   ],
   "source": [
    "s2[::-1]"
   ]
  },
  {
   "cell_type": "code",
   "execution_count": 37,
   "id": "5bd1bc54",
   "metadata": {},
   "outputs": [],
   "source": [
    "s3=\"ineuron\""
   ]
  },
  {
   "cell_type": "code",
   "execution_count": 38,
   "id": "8ea702af",
   "metadata": {},
   "outputs": [
    {
     "data": {
      "text/plain": [
       "'norueni'"
      ]
     },
     "execution_count": 38,
     "metadata": {},
     "output_type": "execute_result"
    }
   ],
   "source": [
    "s3[::-1]"
   ]
  },
  {
   "cell_type": "code",
   "execution_count": 40,
   "id": "a177c6e5",
   "metadata": {},
   "outputs": [
    {
     "data": {
      "text/plain": [
       "''"
      ]
     },
     "execution_count": 40,
     "metadata": {},
     "output_type": "execute_result"
    }
   ],
   "source": [
    "s3[-3:-7:1]"
   ]
  },
  {
   "cell_type": "code",
   "execution_count": 41,
   "id": "b1fe39be",
   "metadata": {},
   "outputs": [
    {
     "data": {
      "text/plain": [
       "'ineur'"
      ]
     },
     "execution_count": 41,
     "metadata": {},
     "output_type": "execute_result"
    }
   ],
   "source": [
    "s3[-7:-2:1]"
   ]
  },
  {
   "cell_type": "code",
   "execution_count": 42,
   "id": "20085a73",
   "metadata": {},
   "outputs": [
    {
     "data": {
      "text/plain": [
       "'shudhanshu'"
      ]
     },
     "execution_count": 42,
     "metadata": {},
     "output_type": "execute_result"
    }
   ],
   "source": [
    "s"
   ]
  },
  {
   "cell_type": "code",
   "execution_count": 45,
   "id": "ef0309b6",
   "metadata": {},
   "outputs": [
    {
     "data": {
      "text/plain": [
       "''"
      ]
     },
     "execution_count": 45,
     "metadata": {},
     "output_type": "execute_result"
    }
   ],
   "source": [
    "s[ :-1:-1]"
   ]
  },
  {
   "cell_type": "code",
   "execution_count": 46,
   "id": "f423b48d",
   "metadata": {},
   "outputs": [],
   "source": [
    "s=\"shudhanshu\""
   ]
  },
  {
   "cell_type": "code",
   "execution_count": 55,
   "id": "60b3de48",
   "metadata": {},
   "outputs": [
    {
     "data": {
      "text/plain": [
       "'shudhanshukale'"
      ]
     },
     "execution_count": 55,
     "metadata": {},
     "output_type": "execute_result"
    }
   ],
   "source": [
    "s+str(\"kale\")"
   ]
  },
  {
   "cell_type": "code",
   "execution_count": 56,
   "id": "24f38299",
   "metadata": {},
   "outputs": [
    {
     "data": {
      "text/plain": [
       "10"
      ]
     },
     "execution_count": 56,
     "metadata": {},
     "output_type": "execute_result"
    }
   ],
   "source": [
    "len(s)"
   ]
  },
  {
   "cell_type": "code",
   "execution_count": 60,
   "id": "705944b7",
   "metadata": {},
   "outputs": [
    {
     "data": {
      "text/plain": [
       "'shudhanshushudhanshushudhanshushudhanshu'"
      ]
     },
     "execution_count": 60,
     "metadata": {},
     "output_type": "execute_result"
    }
   ],
   "source": [
    "s*4"
   ]
  },
  {
   "cell_type": "code",
   "execution_count": 62,
   "id": "588af574",
   "metadata": {},
   "outputs": [
    {
     "data": {
      "text/plain": [
       "1"
      ]
     },
     "execution_count": 62,
     "metadata": {},
     "output_type": "execute_result"
    }
   ],
   "source": [
    "s.count(\"dh\")"
   ]
  },
  {
   "cell_type": "code",
   "execution_count": 63,
   "id": "4780309c",
   "metadata": {},
   "outputs": [
    {
     "data": {
      "text/plain": [
       "['sh', 'dhansh', '']"
      ]
     },
     "execution_count": 63,
     "metadata": {},
     "output_type": "execute_result"
    }
   ],
   "source": [
    "s.split(\"u\")"
   ]
  },
  {
   "cell_type": "code",
   "execution_count": 64,
   "id": "cac3470c",
   "metadata": {},
   "outputs": [],
   "source": [
    "sw=\"At the start of the war in 2014, Russia invaded and annexed Crimea, and Russian-backed separatists seized part of the Donbas, the south-eastern region of Ukraine (consisting of Luhansk and Donetsk oblasts), sparking a regional war.[21][22] In 2021, Russia began a large military build-up along its border with Ukraine, amassing up to 190,000 troops and their equipment. In a televised address shortly before the invasion, Russian president Vladimir Putin espoused irredentist views,[23] challenged Ukraine's right to statehood,[24][25] and falsely[26] accused Ukraine of being governed by neo-Nazis who persecute the ethnic Russian minority.[27] Putin also alleged that eastward expansion by the North Atlantic Treaty Organization (NATO) threatens Russia's national security, something NATO has disputed.[28] Russia demanded NATO stop expanding and permanently bar Ukraine from ever joining the alliance.[29] Multiple nations accused Russia of planning to attack or invade Ukraine, which Russian officials repeatedly denied as late as 23 February 2022.[33]\""
   ]
  },
  {
   "cell_type": "code",
   "execution_count": 65,
   "id": "42e23a94",
   "metadata": {},
   "outputs": [
    {
     "data": {
      "text/plain": [
       "\"At the start of the war in 2014, Russia invaded and annexed Crimea, and Russian-backed separatists seized part of the Donbas, the south-eastern region of Ukraine (consisting of Luhansk and Donetsk oblasts), sparking a regional war.[21][22] In 2021, Russia began a large military build-up along its border with Ukraine, amassing up to 190,000 troops and their equipment. In a televised address shortly before the invasion, Russian president Vladimir Putin espoused irredentist views,[23] challenged Ukraine's right to statehood,[24][25] and falsely[26] accused Ukraine of being governed by neo-Nazis who persecute the ethnic Russian minority.[27] Putin also alleged that eastward expansion by the North Atlantic Treaty Organization (NATO) threatens Russia's national security, something NATO has disputed.[28] Russia demanded NATO stop expanding and permanently bar Ukraine from ever joining the alliance.[29] Multiple nations accused Russia of planning to attack or invade Ukraine, which Russian officials repeatedly denied as late as 23 February 2022.[33]\""
      ]
     },
     "execution_count": 65,
     "metadata": {},
     "output_type": "execute_result"
    }
   ],
   "source": [
    "sw"
   ]
  },
  {
   "cell_type": "code",
   "execution_count": 66,
   "id": "dd51b5be",
   "metadata": {},
   "outputs": [
    {
     "data": {
      "text/plain": [
       "['At',\n",
       " 'the',\n",
       " 'start',\n",
       " 'of',\n",
       " 'the',\n",
       " 'war',\n",
       " 'in',\n",
       " '2014,',\n",
       " 'Russia',\n",
       " 'invaded',\n",
       " 'and',\n",
       " 'annexed',\n",
       " 'Crimea,',\n",
       " 'and',\n",
       " 'Russian-backed',\n",
       " 'separatists',\n",
       " 'seized',\n",
       " 'part',\n",
       " 'of',\n",
       " 'the',\n",
       " 'Donbas,',\n",
       " 'the',\n",
       " 'south-eastern',\n",
       " 'region',\n",
       " 'of',\n",
       " 'Ukraine',\n",
       " '(consisting',\n",
       " 'of',\n",
       " 'Luhansk',\n",
       " 'and',\n",
       " 'Donetsk',\n",
       " 'oblasts),',\n",
       " 'sparking',\n",
       " 'a',\n",
       " 'regional',\n",
       " 'war.[21][22]',\n",
       " 'In',\n",
       " '2021,',\n",
       " 'Russia',\n",
       " 'began',\n",
       " 'a',\n",
       " 'large',\n",
       " 'military',\n",
       " 'build-up',\n",
       " 'along',\n",
       " 'its',\n",
       " 'border',\n",
       " 'with',\n",
       " 'Ukraine,',\n",
       " 'amassing',\n",
       " 'up',\n",
       " 'to',\n",
       " '190,000',\n",
       " 'troops',\n",
       " 'and',\n",
       " 'their',\n",
       " 'equipment.',\n",
       " 'In',\n",
       " 'a',\n",
       " 'televised',\n",
       " 'address',\n",
       " 'shortly',\n",
       " 'before',\n",
       " 'the',\n",
       " 'invasion,',\n",
       " 'Russian',\n",
       " 'president',\n",
       " 'Vladimir',\n",
       " 'Putin',\n",
       " 'espoused',\n",
       " 'irredentist',\n",
       " 'views,[23]',\n",
       " 'challenged',\n",
       " \"Ukraine's\",\n",
       " 'right',\n",
       " 'to',\n",
       " 'statehood,[24][25]',\n",
       " 'and',\n",
       " 'falsely[26]',\n",
       " 'accused',\n",
       " 'Ukraine',\n",
       " 'of',\n",
       " 'being',\n",
       " 'governed',\n",
       " 'by',\n",
       " 'neo-Nazis',\n",
       " 'who',\n",
       " 'persecute',\n",
       " 'the',\n",
       " 'ethnic',\n",
       " 'Russian',\n",
       " 'minority.[27]',\n",
       " 'Putin',\n",
       " 'also',\n",
       " 'alleged',\n",
       " 'that',\n",
       " 'eastward',\n",
       " 'expansion',\n",
       " 'by',\n",
       " 'the',\n",
       " 'North',\n",
       " 'Atlantic',\n",
       " 'Treaty',\n",
       " 'Organization',\n",
       " '(NATO)',\n",
       " 'threatens',\n",
       " \"Russia's\",\n",
       " 'national',\n",
       " 'security,',\n",
       " 'something',\n",
       " 'NATO',\n",
       " 'has',\n",
       " 'disputed.[28]',\n",
       " 'Russia',\n",
       " 'demanded',\n",
       " 'NATO',\n",
       " 'stop',\n",
       " 'expanding',\n",
       " 'and',\n",
       " 'permanently',\n",
       " 'bar',\n",
       " 'Ukraine',\n",
       " 'from',\n",
       " 'ever',\n",
       " 'joining',\n",
       " 'the',\n",
       " 'alliance.[29]',\n",
       " 'Multiple',\n",
       " 'nations',\n",
       " 'accused',\n",
       " 'Russia',\n",
       " 'of',\n",
       " 'planning',\n",
       " 'to',\n",
       " 'attack',\n",
       " 'or',\n",
       " 'invade',\n",
       " 'Ukraine,',\n",
       " 'which',\n",
       " 'Russian',\n",
       " 'officials',\n",
       " 'repeatedly',\n",
       " 'denied',\n",
       " 'as',\n",
       " 'late',\n",
       " 'as',\n",
       " '23',\n",
       " 'February',\n",
       " '2022.[33]']"
      ]
     },
     "execution_count": 66,
     "metadata": {},
     "output_type": "execute_result"
    }
   ],
   "source": [
    "sw.split(\" \")"
   ]
  },
  {
   "cell_type": "code",
   "execution_count": 73,
   "id": "3b8a6bac",
   "metadata": {},
   "outputs": [
    {
     "data": {
      "text/plain": [
       "\"AT THE START OF THE WAR IN 2014, RUSSIA INVADED AND ANNEXED CRIMEA, AND RUSSIAN-BACKED SEPARATISTS SEIZED PART OF THE DONBAS, THE SOUTH-EASTERN REGION OF UKRAINE (CONSISTING OF LUHANSK AND DONETSK OBLASTS), SPARKING A REGIONAL WAR.[21][22] IN 2021, RUSSIA BEGAN A LARGE MILITARY BUILD-UP ALONG ITS BORDER WITH UKRAINE, AMASSING UP TO 190,000 TROOPS AND THEIR EQUIPMENT. IN A TELEVISED ADDRESS SHORTLY BEFORE THE INVASION, RUSSIAN PRESIDENT VLADIMIR PUTIN ESPOUSED IRREDENTIST VIEWS,[23] CHALLENGED UKRAINE'S RIGHT TO STATEHOOD,[24][25] AND FALSELY[26] ACCUSED UKRAINE OF BEING GOVERNED BY NEO-NAZIS WHO PERSECUTE THE ETHNIC RUSSIAN MINORITY.[27] PUTIN ALSO ALLEGED THAT EASTWARD EXPANSION BY THE NORTH ATLANTIC TREATY ORGANIZATION (NATO) THREATENS RUSSIA'S NATIONAL SECURITY, SOMETHING NATO HAS DISPUTED.[28] RUSSIA DEMANDED NATO STOP EXPANDING AND PERMANENTLY BAR UKRAINE FROM EVER JOINING THE ALLIANCE.[29] MULTIPLE NATIONS ACCUSED RUSSIA OF PLANNING TO ATTACK OR INVADE UKRAINE, WHICH RUSSIAN OFFICIALS REPEATEDLY DENIED AS LATE AS 23 FEBRUARY 2022.[33]\""
      ]
     },
     "execution_count": 73,
     "metadata": {},
     "output_type": "execute_result"
    }
   ],
   "source": [
    "sw.upper()"
   ]
  },
  {
   "cell_type": "code",
   "execution_count": 74,
   "id": "0fac98f9",
   "metadata": {},
   "outputs": [
    {
     "data": {
      "text/plain": [
       "\"at the start of the war in 2014, russia invaded and annexed crimea, and russian-backed separatists seized part of the donbas, the south-eastern region of ukraine (consisting of luhansk and donetsk oblasts), sparking a regional war.[21][22] in 2021, russia began a large military build-up along its border with ukraine, amassing up to 190,000 troops and their equipment. in a televised address shortly before the invasion, russian president vladimir putin espoused irredentist views,[23] challenged ukraine's right to statehood,[24][25] and falsely[26] accused ukraine of being governed by neo-nazis who persecute the ethnic russian minority.[27] putin also alleged that eastward expansion by the north atlantic treaty organization (nato) threatens russia's national security, something nato has disputed.[28] russia demanded nato stop expanding and permanently bar ukraine from ever joining the alliance.[29] multiple nations accused russia of planning to attack or invade ukraine, which russian officials repeatedly denied as late as 23 february 2022.[33]\""
      ]
     },
     "execution_count": 74,
     "metadata": {},
     "output_type": "execute_result"
    }
   ],
   "source": [
    "sw.lower()"
   ]
  },
  {
   "cell_type": "code",
   "execution_count": 12,
   "id": "83bc586a",
   "metadata": {},
   "outputs": [],
   "source": [
    "s=\"sudhanshu kuMAR\""
   ]
  },
  {
   "cell_type": "code",
   "execution_count": 13,
   "id": "156ccd55",
   "metadata": {},
   "outputs": [
    {
     "data": {
      "text/plain": [
       "'Sudhanshu Kumar'"
      ]
     },
     "execution_count": 13,
     "metadata": {},
     "output_type": "execute_result"
    }
   ],
   "source": [
    "s.title()"
   ]
  },
  {
   "cell_type": "code",
   "execution_count": 14,
   "id": "8b6f687a",
   "metadata": {},
   "outputs": [
    {
     "data": {
      "text/plain": [
       "'Sudhanshu kumar'"
      ]
     },
     "execution_count": 14,
     "metadata": {},
     "output_type": "execute_result"
    }
   ],
   "source": [
    "s.capitalize()"
   ]
  },
  {
   "cell_type": "code",
   "execution_count": 15,
   "id": "4a15a204",
   "metadata": {},
   "outputs": [
    {
     "data": {
      "text/plain": [
       "'SUDHANSHU KUmar'"
      ]
     },
     "execution_count": 15,
     "metadata": {},
     "output_type": "execute_result"
    }
   ],
   "source": [
    "s.swapcase()"
   ]
  },
  {
   "cell_type": "code",
   "execution_count": 16,
   "id": "13df4950",
   "metadata": {},
   "outputs": [
    {
     "data": {
      "text/plain": [
       "'RAMuk uhsnahdus'"
      ]
     },
     "execution_count": 16,
     "metadata": {},
     "output_type": "execute_result"
    }
   ],
   "source": [
    "\"\".join(reversed(s))"
   ]
  },
  {
   "cell_type": "code",
   "execution_count": 22,
   "id": "d976022d",
   "metadata": {},
   "outputs": [
    {
     "data": {
      "text/plain": [
       "'RAMuk uhsnahdus'"
      ]
     },
     "execution_count": 22,
     "metadata": {},
     "output_type": "execute_result"
    }
   ],
   "source": [
    "s[ ::-1]"
   ]
  },
  {
   "cell_type": "code",
   "execution_count": 23,
   "id": "f60d371b",
   "metadata": {},
   "outputs": [],
   "source": [
    "s=\"ram\""
   ]
  },
  {
   "cell_type": "code",
   "execution_count": 25,
   "id": "b32f1a8a",
   "metadata": {},
   "outputs": [
    {
     "data": {
      "text/plain": [
       "'ram'"
      ]
     },
     "execution_count": 25,
     "metadata": {},
     "output_type": "execute_result"
    }
   ],
   "source": [
    "s.strip()"
   ]
  },
  {
   "cell_type": "code",
   "execution_count": 26,
   "id": "be156d4f",
   "metadata": {},
   "outputs": [
    {
     "data": {
      "text/plain": [
       "'ram'"
      ]
     },
     "execution_count": 26,
     "metadata": {},
     "output_type": "execute_result"
    }
   ],
   "source": [
    "s.lstrip()"
   ]
  },
  {
   "cell_type": "code",
   "execution_count": 27,
   "id": "0768fdef",
   "metadata": {},
   "outputs": [
    {
     "data": {
      "text/plain": [
       "'ram'"
      ]
     },
     "execution_count": 27,
     "metadata": {},
     "output_type": "execute_result"
    }
   ],
   "source": [
    "s.rstrip()"
   ]
  },
  {
   "cell_type": "code",
   "execution_count": 33,
   "id": "472009fa",
   "metadata": {},
   "outputs": [
    {
     "data": {
      "text/plain": [
       "'s*u*d*h*a*n*s*h*u'"
      ]
     },
     "execution_count": 33,
     "metadata": {},
     "output_type": "execute_result"
    }
   ],
   "source": [
    "\"*\".join(\"sudhanshu\")"
   ]
  },
  {
   "cell_type": "code",
   "execution_count": 35,
   "id": "50743336",
   "metadata": {},
   "outputs": [
    {
     "data": {
      "text/plain": [
       "'zzzzzzzzramzzzzzzzzz'"
      ]
     },
     "execution_count": 35,
     "metadata": {},
     "output_type": "execute_result"
    }
   ],
   "source": [
    "s.center(20,\"z\")"
   ]
  },
  {
   "cell_type": "code",
   "execution_count": 36,
   "id": "ead7bd0d",
   "metadata": {},
   "outputs": [],
   "source": [
    "s=\"sudhanshu\""
   ]
  },
  {
   "cell_type": "code",
   "execution_count": 37,
   "id": "f7c11d50",
   "metadata": {},
   "outputs": [
    {
     "data": {
      "text/plain": [
       "False"
      ]
     },
     "execution_count": 37,
     "metadata": {},
     "output_type": "execute_result"
    }
   ],
   "source": [
    "s.isupper()"
   ]
  },
  {
   "cell_type": "code",
   "execution_count": 41,
   "id": "4e4580d5",
   "metadata": {},
   "outputs": [],
   "source": [
    "s=\"RAM\""
   ]
  },
  {
   "cell_type": "code",
   "execution_count": 42,
   "id": "d0eee57a",
   "metadata": {},
   "outputs": [
    {
     "data": {
      "text/plain": [
       "False"
      ]
     },
     "execution_count": 42,
     "metadata": {},
     "output_type": "execute_result"
    }
   ],
   "source": [
    "s.islower()"
   ]
  },
  {
   "cell_type": "code",
   "execution_count": 49,
   "id": "7696137b",
   "metadata": {},
   "outputs": [],
   "source": [
    "s= \"nilam kale\""
   ]
  },
  {
   "cell_type": "code",
   "execution_count": 50,
   "id": "c4a1f813",
   "metadata": {},
   "outputs": [
    {
     "data": {
      "text/plain": [
       "False"
      ]
     },
     "execution_count": 50,
     "metadata": {},
     "output_type": "execute_result"
    }
   ],
   "source": [
    "s.isspace()"
   ]
  },
  {
   "cell_type": "code",
   "execution_count": 51,
   "id": "99880edd",
   "metadata": {},
   "outputs": [],
   "source": [
    "s=\" \""
   ]
  },
  {
   "cell_type": "code",
   "execution_count": 52,
   "id": "70c68de5",
   "metadata": {},
   "outputs": [
    {
     "data": {
      "text/plain": [
       "True"
      ]
     },
     "execution_count": 52,
     "metadata": {},
     "output_type": "execute_result"
    }
   ],
   "source": [
    "s.isspace()"
   ]
  },
  {
   "cell_type": "code",
   "execution_count": 53,
   "id": "9578fe7d",
   "metadata": {},
   "outputs": [
    {
     "data": {
      "text/plain": [
       "' '"
      ]
     },
     "execution_count": 53,
     "metadata": {},
     "output_type": "execute_result"
    }
   ],
   "source": [
    "s"
   ]
  },
  {
   "cell_type": "code",
   "execution_count": 54,
   "id": "8221b751",
   "metadata": {},
   "outputs": [],
   "source": [
    "s= \"nilam kale\""
   ]
  },
  {
   "cell_type": "code",
   "execution_count": 55,
   "id": "bd562c73",
   "metadata": {},
   "outputs": [
    {
     "data": {
      "text/plain": [
       "False"
      ]
     },
     "execution_count": 55,
     "metadata": {},
     "output_type": "execute_result"
    }
   ],
   "source": [
    "s.isdigit()"
   ]
  },
  {
   "cell_type": "code",
   "execution_count": 61,
   "id": "70b02091",
   "metadata": {},
   "outputs": [],
   "source": [
    "s=\"1567890\""
   ]
  },
  {
   "cell_type": "code",
   "execution_count": 62,
   "id": "25a06b23",
   "metadata": {},
   "outputs": [
    {
     "data": {
      "text/plain": [
       "True"
      ]
     },
     "execution_count": 62,
     "metadata": {},
     "output_type": "execute_result"
    }
   ],
   "source": [
    "s.isdigit()"
   ]
  },
  {
   "cell_type": "code",
   "execution_count": 63,
   "id": "6ba7b550",
   "metadata": {},
   "outputs": [],
   "source": [
    "s=\"123abcd\""
   ]
  },
  {
   "cell_type": "code",
   "execution_count": 66,
   "id": "70cbe24f",
   "metadata": {},
   "outputs": [
    {
     "data": {
      "text/plain": [
       "True"
      ]
     },
     "execution_count": 66,
     "metadata": {},
     "output_type": "execute_result"
    }
   ],
   "source": [
    "s.isalnum()"
   ]
  },
  {
   "cell_type": "code",
   "execution_count": 67,
   "id": "394de2bf",
   "metadata": {},
   "outputs": [],
   "source": [
    "s=\"Nilamkale   \""
   ]
  },
  {
   "cell_type": "code",
   "execution_count": 69,
   "id": "302fbbfc",
   "metadata": {},
   "outputs": [
    {
     "data": {
      "text/plain": [
       "True"
      ]
     },
     "execution_count": 69,
     "metadata": {},
     "output_type": "execute_result"
    }
   ],
   "source": [
    "s.startswith(\"N\")"
   ]
  },
  {
   "cell_type": "code",
   "execution_count": 70,
   "id": "de90a3a9",
   "metadata": {},
   "outputs": [
    {
     "data": {
      "text/plain": [
       "False"
      ]
     },
     "execution_count": 70,
     "metadata": {},
     "output_type": "execute_result"
    }
   ],
   "source": [
    "s.endswith(\"e\")"
   ]
  },
  {
   "cell_type": "code",
   "execution_count": 71,
   "id": "4d2012f1",
   "metadata": {},
   "outputs": [
    {
     "data": {
      "text/plain": [
       "'Nilamkale'"
      ]
     },
     "execution_count": 71,
     "metadata": {},
     "output_type": "execute_result"
    }
   ],
   "source": [
    "s.strip()"
   ]
  },
  {
   "cell_type": "code",
   "execution_count": 73,
   "id": "7304ec75",
   "metadata": {},
   "outputs": [
    {
     "data": {
      "text/plain": [
       "['Ni', 'amka', 'e   ']"
      ]
     },
     "execution_count": 73,
     "metadata": {},
     "output_type": "execute_result"
    }
   ],
   "source": [
    "s.split(\"l\")"
   ]
  },
  {
   "cell_type": "code",
   "execution_count": 74,
   "id": "d33aec96",
   "metadata": {},
   "outputs": [
    {
     "data": {
      "text/plain": [
       "'Nilamkale   '"
      ]
     },
     "execution_count": 74,
     "metadata": {},
     "output_type": "execute_result"
    }
   ],
   "source": [
    "s"
   ]
  },
  {
   "cell_type": "code",
   "execution_count": 78,
   "id": "fa311411",
   "metadata": {},
   "outputs": [
    {
     "data": {
      "text/plain": [
       "True"
      ]
     },
     "execution_count": 78,
     "metadata": {},
     "output_type": "execute_result"
    }
   ],
   "source": [
    "s.isascii()"
   ]
  },
  {
   "cell_type": "code",
   "execution_count": 102,
   "id": "a11acb63",
   "metadata": {},
   "outputs": [
    {
     "name": "stdout",
     "output_type": "stream",
     "text": [
      "97\n"
     ]
    }
   ],
   "source": [
    "\n",
    "print(ord(\"a\"))"
   ]
  },
  {
   "cell_type": "code",
   "execution_count": 101,
   "id": "12c9ae4f",
   "metadata": {},
   "outputs": [
    {
     "name": "stdout",
     "output_type": "stream",
     "text": [
      "122\n"
     ]
    }
   ],
   "source": [
    "print(ord(\"z\"))"
   ]
  },
  {
   "cell_type": "code",
   "execution_count": 103,
   "id": "8fe31a97",
   "metadata": {},
   "outputs": [
    {
     "name": "stdout",
     "output_type": "stream",
     "text": [
      "65\n"
     ]
    }
   ],
   "source": [
    "print(ord(\"A\"))"
   ]
  },
  {
   "cell_type": "code",
   "execution_count": 104,
   "id": "b04858cd",
   "metadata": {},
   "outputs": [
    {
     "name": "stdout",
     "output_type": "stream",
     "text": [
      "90\n"
     ]
    }
   ],
   "source": [
    "print(ord(\"Z\"))"
   ]
  },
  {
   "cell_type": "code",
   "execution_count": 105,
   "id": "7756e3cf",
   "metadata": {},
   "outputs": [
    {
     "data": {
      "text/plain": [
       "'Nilamkale   '"
      ]
     },
     "execution_count": 105,
     "metadata": {},
     "output_type": "execute_result"
    }
   ],
   "source": [
    "s"
   ]
  },
  {
   "cell_type": "code",
   "execution_count": 107,
   "id": "e130a8bf",
   "metadata": {},
   "outputs": [
    {
     "data": {
      "text/plain": [
       "'********Nilamkale   *******'"
      ]
     },
     "execution_count": 107,
     "metadata": {},
     "output_type": "execute_result"
    }
   ],
   "source": [
    "s.center(27,\"*\")"
   ]
  },
  {
   "cell_type": "code",
   "execution_count": 108,
   "id": "cd4e1edf",
   "metadata": {},
   "outputs": [
    {
     "data": {
      "text/plain": [
       "False"
      ]
     },
     "execution_count": 108,
     "metadata": {},
     "output_type": "execute_result"
    }
   ],
   "source": [
    "s.isspace()"
   ]
  },
  {
   "cell_type": "code",
   "execution_count": 109,
   "id": "56190e07",
   "metadata": {},
   "outputs": [],
   "source": [
    "s=\"344\""
   ]
  },
  {
   "cell_type": "code",
   "execution_count": 110,
   "id": "b71bba1e",
   "metadata": {},
   "outputs": [
    {
     "data": {
      "text/plain": [
       "True"
      ]
     },
     "execution_count": 110,
     "metadata": {},
     "output_type": "execute_result"
    }
   ],
   "source": [
    "s.isdigit()"
   ]
  },
  {
   "cell_type": "code",
   "execution_count": 111,
   "id": "d9b996df",
   "metadata": {},
   "outputs": [],
   "source": [
    "s=\"344.77\""
   ]
  },
  {
   "cell_type": "code",
   "execution_count": 112,
   "id": "c679ca82",
   "metadata": {},
   "outputs": [
    {
     "data": {
      "text/plain": [
       "False"
      ]
     },
     "execution_count": 112,
     "metadata": {},
     "output_type": "execute_result"
    }
   ],
   "source": [
    "s.isdigit()"
   ]
  },
  {
   "cell_type": "code",
   "execution_count": 131,
   "id": "eed44550",
   "metadata": {},
   "outputs": [
    {
     "data": {
      "text/plain": [
       "False"
      ]
     },
     "execution_count": 131,
     "metadata": {},
     "output_type": "execute_result"
    }
   ],
   "source": [
    "s.isdecimal()"
   ]
  },
  {
   "cell_type": "code",
   "execution_count": 120,
   "id": "38d8c3da",
   "metadata": {},
   "outputs": [],
   "source": [
    "s=\".8\""
   ]
  },
  {
   "cell_type": "code",
   "execution_count": 130,
   "id": "f19e517a",
   "metadata": {},
   "outputs": [
    {
     "data": {
      "text/plain": [
       "False"
      ]
     },
     "execution_count": 130,
     "metadata": {},
     "output_type": "execute_result"
    }
   ],
   "source": [
    "s.isdecimal()"
   ]
  },
  {
   "cell_type": "code",
   "execution_count": 150,
   "id": "71dfe123",
   "metadata": {},
   "outputs": [],
   "source": [
    "s= \"nilamkale\\tnagpur\\tchandrapur\"\n"
   ]
  },
  {
   "cell_type": "code",
   "execution_count": 151,
   "id": "eaaa5053",
   "metadata": {},
   "outputs": [
    {
     "data": {
      "text/plain": [
       "'nilamkale\\tnagpur\\tchandrapur'"
      ]
     },
     "execution_count": 151,
     "metadata": {},
     "output_type": "execute_result"
    }
   ],
   "source": [
    "s"
   ]
  },
  {
   "cell_type": "code",
   "execution_count": 152,
   "id": "df53601e",
   "metadata": {},
   "outputs": [
    {
     "data": {
      "text/plain": [
       "'nilamkale       nagpur  chandrapur'"
      ]
     },
     "execution_count": 152,
     "metadata": {},
     "output_type": "execute_result"
    }
   ],
   "source": [
    "s.expandtabs()"
   ]
  },
  {
   "cell_type": "code",
   "execution_count": 153,
   "id": "0b1acbb4",
   "metadata": {},
   "outputs": [
    {
     "data": {
      "text/plain": [
       "'rupardnahc      rupgan  elakmalin'"
      ]
     },
     "execution_count": 153,
     "metadata": {},
     "output_type": "execute_result"
    }
   ],
   "source": [
    "\"\".join(reversed(s)).expandtabs()"
   ]
  },
  {
   "cell_type": "code",
   "execution_count": 156,
   "id": "02a0377c",
   "metadata": {},
   "outputs": [],
   "source": [
    "s=\"sonal\\tis\\tin\\tnagpur\\tbangalore\""
   ]
  },
  {
   "cell_type": "code",
   "execution_count": 157,
   "id": "1f7c261f",
   "metadata": {},
   "outputs": [
    {
     "data": {
      "text/plain": [
       "'sonal\\tis\\tin\\tnagpur\\tbangalore'"
      ]
     },
     "execution_count": 157,
     "metadata": {},
     "output_type": "execute_result"
    }
   ],
   "source": [
    "s"
   ]
  },
  {
   "cell_type": "code",
   "execution_count": 158,
   "id": "9d0a5e3d",
   "metadata": {},
   "outputs": [
    {
     "data": {
      "text/plain": [
       "'sonal   is      in      nagpur  bangalore'"
      ]
     },
     "execution_count": 158,
     "metadata": {},
     "output_type": "execute_result"
    }
   ],
   "source": [
    "s.expandtabs()"
   ]
  },
  {
   "cell_type": "code",
   "execution_count": 159,
   "id": "f8e780f1",
   "metadata": {},
   "outputs": [
    {
     "data": {
      "text/plain": [
       "'erolagnab       rupgan  ni      si      lanos'"
      ]
     },
     "execution_count": 159,
     "metadata": {},
     "output_type": "execute_result"
    }
   ],
   "source": [
    "\"\".join(reversed(s)).expandtabs()"
   ]
  },
  {
   "cell_type": "code",
   "execution_count": 160,
   "id": "17e3a4a2",
   "metadata": {},
   "outputs": [],
   "source": [
    "s=\"my name is nilam\""
   ]
  },
  {
   "cell_type": "code",
   "execution_count": 161,
   "id": "728a07a7",
   "metadata": {},
   "outputs": [
    {
     "data": {
      "text/plain": [
       "'my name is nilam'"
      ]
     },
     "execution_count": 161,
     "metadata": {},
     "output_type": "execute_result"
    }
   ],
   "source": [
    "s"
   ]
  },
  {
   "cell_type": "code",
   "execution_count": 162,
   "id": "8e2ada82",
   "metadata": {},
   "outputs": [
    {
     "data": {
      "text/plain": [
       "'my name is sonal'"
      ]
     },
     "execution_count": 162,
     "metadata": {},
     "output_type": "execute_result"
    }
   ],
   "source": [
    "s.replace(\"nilam\",\"sonal\")"
   ]
  },
  {
   "cell_type": "code",
   "execution_count": 167,
   "id": "d46b631a",
   "metadata": {},
   "outputs": [],
   "source": [
    "s=\"nagpur\""
   ]
  },
  {
   "cell_type": "code",
   "execution_count": 170,
   "id": "921e67ca",
   "metadata": {},
   "outputs": [
    {
     "data": {
      "text/plain": [
       "True"
      ]
     },
     "execution_count": 170,
     "metadata": {},
     "output_type": "execute_result"
    }
   ],
   "source": [
    "s.isascii()"
   ]
  },
  {
   "cell_type": "code",
   "execution_count": 172,
   "id": "08aba6d0",
   "metadata": {},
   "outputs": [
    {
     "name": "stdout",
     "output_type": "stream",
     "text": [
      "97\n"
     ]
    }
   ],
   "source": [
    "print(ord(\"a\"))"
   ]
  },
  {
   "cell_type": "code",
   "execution_count": 176,
   "id": "b9cc5732",
   "metadata": {},
   "outputs": [],
   "source": [
    "s=\"abs\""
   ]
  },
  {
   "cell_type": "code",
   "execution_count": 177,
   "id": "e3a4f483",
   "metadata": {},
   "outputs": [
    {
     "data": {
      "text/plain": [
       "True"
      ]
     },
     "execution_count": 177,
     "metadata": {},
     "output_type": "execute_result"
    }
   ],
   "source": [
    "s.isalpha()"
   ]
  },
  {
   "cell_type": "code",
   "execution_count": 179,
   "id": "cd5ce855",
   "metadata": {},
   "outputs": [
    {
     "data": {
      "text/plain": [
       "True"
      ]
     },
     "execution_count": 179,
     "metadata": {},
     "output_type": "execute_result"
    }
   ],
   "source": [
    "s.isalnum()"
   ]
  },
  {
   "cell_type": "code",
   "execution_count": 180,
   "id": "64e23ec6",
   "metadata": {},
   "outputs": [
    {
     "data": {
      "text/plain": [
       "True"
      ]
     },
     "execution_count": 180,
     "metadata": {},
     "output_type": "execute_result"
    }
   ],
   "source": [
    "s.isascii()"
   ]
  },
  {
   "cell_type": "code",
   "execution_count": null,
   "id": "978c4379",
   "metadata": {},
   "outputs": [],
   "source": []
  }
 ],
 "metadata": {
  "kernelspec": {
   "display_name": "Python 3 (ipykernel)",
   "language": "python",
   "name": "python3"
  },
  "language_info": {
   "codemirror_mode": {
    "name": "ipython",
    "version": 3
   },
   "file_extension": ".py",
   "mimetype": "text/x-python",
   "name": "python",
   "nbconvert_exporter": "python",
   "pygments_lexer": "ipython3",
   "version": "3.9.12"
  }
 },
 "nbformat": 4,
 "nbformat_minor": 5
}
