{
 "cells": [
  {
   "cell_type": "markdown",
   "id": "2e6715d8",
   "metadata": {},
   "source": [
    "# Class 3 Conditional statement - if , elif, else "
   ]
  },
  {
   "cell_type": "code",
   "execution_count": 1,
   "id": "d0f4c874",
   "metadata": {},
   "outputs": [],
   "source": [
    "a=10\n",
    "if a==11:\n",
    "    print(\"this is my first condition\")"
   ]
  },
  {
   "cell_type": "code",
   "execution_count": 2,
   "id": "d16e5811",
   "metadata": {},
   "outputs": [],
   "source": [
    "a=10\n",
    "if a > 5:\n",
    "    pass"
   ]
  },
  {
   "cell_type": "code",
   "execution_count": 3,
   "id": "c14c2bb7",
   "metadata": {},
   "outputs": [],
   "source": [
    "a=10\n",
    "if a<8 :\n",
    "    print(\"print this if condition is true\")"
   ]
  },
  {
   "cell_type": "code",
   "execution_count": 4,
   "id": "d8b36909",
   "metadata": {},
   "outputs": [
    {
     "name": "stdout",
     "output_type": "stream",
     "text": [
      "print this\n"
     ]
    }
   ],
   "source": [
    "a=10\n",
    "if a==11:\n",
    "    print(\" my condition is false\")\n",
    "    \n",
    "else :\n",
    "    print(\"print this\")"
   ]
  },
  {
   "cell_type": "code",
   "execution_count": 6,
   "id": "8f256959",
   "metadata": {},
   "outputs": [
    {
     "name": "stdout",
     "output_type": "stream",
     "text": [
      "we are trying to compare 10 with 12\n"
     ]
    }
   ],
   "source": [
    "a=10\n",
    "if a==11:\n",
    "    print(\" we are trying to compare 10 with 11\")\n",
    "    \n",
    "elif a==10:\n",
    "        print(\"we are trying to compare 10 with 12\")\n",
    "        \n",
    "else :\n",
    "            print(\"if all the blocks get fails do this\")\n"
   ]
  },
  {
   "cell_type": "code",
   "execution_count": 7,
   "id": "2f8235a0",
   "metadata": {},
   "outputs": [
    {
     "name": "stdout",
     "output_type": "stream",
     "text": [
      " will surely buy this jacket\n"
     ]
    }
   ],
   "source": [
    "price = 600\n",
    "\n",
    "if price > 600 :\n",
    "    print(\" i wont be able to buy this jacket\")\n",
    "    \n",
    "elif price < 600 : \n",
    "    print (\" i will be able to buy this jacket\")\n",
    "    \n",
    "elif price == 600 :\n",
    "    print (\" will surely buy this jacket\")\n",
    "    \n",
    "else :\n",
    "    print (\" i dont know\")"
   ]
  },
  {
   "cell_type": "code",
   "execution_count": 8,
   "id": "a8f6a025",
   "metadata": {},
   "outputs": [
    {
     "data": {
      "text/plain": [
       "True"
      ]
     },
     "execution_count": 8,
     "metadata": {},
     "output_type": "execute_result"
    }
   ],
   "source": [
    "l = [1,2,3,4,5,6]\n",
    "2 in l"
   ]
  },
  {
   "cell_type": "code",
   "execution_count": 9,
   "id": "31946459",
   "metadata": {},
   "outputs": [
    {
     "name": "stdout",
     "output_type": "stream",
     "text": [
      " i will not perform a task\n"
     ]
    }
   ],
   "source": [
    "if 90 in l :\n",
    "    print (\" i will perform a task\")\n",
    "else :\n",
    "    print (\" i will not perform a task\")"
   ]
  },
  {
   "cell_type": "code",
   "execution_count": 10,
   "id": "472255cb",
   "metadata": {},
   "outputs": [
    {
     "name": "stdout",
     "output_type": "stream",
     "text": [
      " try to do sub\n"
     ]
    }
   ],
   "source": [
    "if 10 in l:\n",
    "    print (\" try to do addition\")\n",
    "elif 4 in l:\n",
    "    print (\" try to do sub\")\n",
    "elif 3 in l:\n",
    "    print (\" try to do mul\")\n",
    "if 8 in l:\n",
    "    print (\" this is a new statement\")"
   ]
  },
  {
   "cell_type": "code",
   "execution_count": null,
   "id": "896bb65c",
   "metadata": {},
   "outputs": [],
   "source": [
    "a = 400\n"
   ]
  },
  {
   "cell_type": "code",
   "execution_count": null,
   "id": "3133b260",
   "metadata": {},
   "outputs": [],
   "source": [
    "b=int(input())"
   ]
  },
  {
   "cell_type": "code",
   "execution_count": 7,
   "id": "3f85f238",
   "metadata": {},
   "outputs": [
    {
     "name": "stdout",
     "output_type": "stream",
     "text": [
      "515\n",
      "i wont be able to do with this price tag\n",
      "lets try something else\n"
     ]
    }
   ],
   "source": [
    "price = int(input())\n",
    "\n",
    "if price <500 :\n",
    "    print (\" i will be able to buy vegetables\")\n",
    "    \n",
    "    if price < 400:\n",
    "        print(\" i will be able to buy shirt\")\n",
    "        \n",
    "    elif price < 300:\n",
    "         print (\" i will be able to buy handbag\")\n",
    "     \n",
    "         if price < 200:\n",
    "             print (\"i wont like to do something\")\n",
    "    \n",
    "    else :\n",
    "        print (\" i wont be able to do anything\")\n",
    "        \n",
    "else :\n",
    "        print (\"i wont be able to do with this price tag\")\n",
    "        \n",
    "if price > 500:\n",
    "        \n",
    "        print(\"lets try something else\")"
   ]
  },
  {
   "cell_type": "code",
   "execution_count": 14,
   "id": "0623783f",
   "metadata": {},
   "outputs": [
    {
     "name": "stdout",
     "output_type": "stream",
     "text": [
      "490\n",
      "NO GRE\n",
      "TOFEL\n"
     ]
    }
   ],
   "source": [
    "marks = int(input())\n",
    "\n",
    "if marks < 600:\n",
    "    print(\"NO GRE\")\n",
    "    \n",
    "    if marks <500:\n",
    "        print(\"TOFEL\")\n",
    "        \n",
    "        if marks < 300:\n",
    "            print(\" try something else\")\n",
    "            \n",
    "    else :\n",
    "        print (\" you got a TOFEL\")\n",
    "        \n",
    "else :\n",
    "    print(\" congratulations you got GRE\")"
   ]
  },
  {
   "cell_type": "code",
   "execution_count": 18,
   "id": "5066b799",
   "metadata": {},
   "outputs": [
    {
     "name": "stdout",
     "output_type": "stream",
     "text": [
      "enter floating point number : 0\n",
      " entered value is zero\n"
     ]
    }
   ],
   "source": [
    "value = float(input( \"enter floating point number : \"  ))\n",
    "\n",
    "if value >= 0:\n",
    "    if value ==0:\n",
    "        print(\" entered value is zero\")\n",
    "        \n",
    "    else :\n",
    "        print(\" Entered value is positive\")\n",
    "        \n",
    "else :\n",
    "            print(\" Entered value is negative\")\n",
    "\n"
   ]
  },
  {
   "cell_type": "code",
   "execution_count": 20,
   "id": "ec8e4134",
   "metadata": {},
   "outputs": [],
   "source": [
    "a= 10\n",
    "if a < 10 and a ==10 :\n",
    "    print (\" try to do something\")"
   ]
  },
  {
   "cell_type": "code",
   "execution_count": 23,
   "id": "d9e6885d",
   "metadata": {},
   "outputs": [],
   "source": [
    "a =\" Nilam\"\n",
    "if a ==\"Nilam\" or a==\"Nilam\":\n",
    "     print(\" This is Nilam\")"
   ]
  },
  {
   "cell_type": "code",
   "execution_count": 24,
   "id": "1fe49e01",
   "metadata": {},
   "outputs": [
    {
     "name": "stdout",
     "output_type": "stream",
     "text": [
      " lets do something\n"
     ]
    }
   ],
   "source": [
    "a=10\n",
    "b=11\n",
    "c=12\n",
    "d=13\n",
    "if a==10 or b==11 and c==12 and d ==13 :\n",
    "    print(\" lets do something\")"
   ]
  },
  {
   "cell_type": "code",
   "execution_count": 35,
   "id": "71758649",
   "metadata": {},
   "outputs": [],
   "source": [
    "d={\"key1\": \"value\" , \"key2\": \"nilam\" , \"key3\" : \"ineuron\"}\n"
   ]
  },
  {
   "cell_type": "code",
   "execution_count": 36,
   "id": "24a60e3f",
   "metadata": {},
   "outputs": [
    {
     "data": {
      "text/plain": [
       "{'key1': 'value', 'key2': 'nilam', 'key3': 'ineuron'}"
      ]
     },
     "execution_count": 36,
     "metadata": {},
     "output_type": "execute_result"
    }
   ],
   "source": [
    "d"
   ]
  },
  {
   "cell_type": "code",
   "execution_count": 40,
   "id": "070c1947",
   "metadata": {},
   "outputs": [
    {
     "name": "stdout",
     "output_type": "stream",
     "text": [
      " all the values are verified\n",
      " d.values()\n"
     ]
    }
   ],
   "source": [
    " if d[ \"key1\"] == \"value\" and d[\"key2\"] == \"nilam\" and d[\"key3\"] == \"ineuron\":\n",
    "    print(\" all the values are verified\")\n",
    "    print (\" d.values()\")\n",
    "    \n",
    "else :\n",
    "    print( \" values are not verified\")"
   ]
  },
  {
   "cell_type": "code",
   "execution_count": 42,
   "id": "c2b9c626",
   "metadata": {},
   "outputs": [
    {
     "data": {
      "text/plain": [
       "dict_values(['value', 'nilam', 'ineuron'])"
      ]
     },
     "execution_count": 42,
     "metadata": {},
     "output_type": "execute_result"
    }
   ],
   "source": [
    "d.values()"
   ]
  },
  {
   "cell_type": "code",
   "execution_count": 43,
   "id": "19cb1bcf",
   "metadata": {},
   "outputs": [
    {
     "data": {
      "text/plain": [
       "dict_items([('key1', 'value'), ('key2', 'nilam'), ('key3', 'ineuron')])"
      ]
     },
     "execution_count": 43,
     "metadata": {},
     "output_type": "execute_result"
    }
   ],
   "source": [
    "d.items()"
   ]
  },
  {
   "cell_type": "code",
   "execution_count": 44,
   "id": "dd4ae4e9",
   "metadata": {},
   "outputs": [
    {
     "data": {
      "text/plain": [
       "dict_keys(['key1', 'key2', 'key3'])"
      ]
     },
     "execution_count": 44,
     "metadata": {},
     "output_type": "execute_result"
    }
   ],
   "source": [
    "d.keys()"
   ]
  },
  {
   "cell_type": "code",
   "execution_count": 45,
   "id": "cbed9a8c",
   "metadata": {},
   "outputs": [],
   "source": [
    "l = [1,2,3,4,5,\"sudh\" ,234.45]"
   ]
  },
  {
   "cell_type": "code",
   "execution_count": 54,
   "id": "affa2e5a",
   "metadata": {},
   "outputs": [
    {
     "name": "stdout",
     "output_type": "stream",
     "text": [
      "2\n",
      "3\n",
      "4\n",
      "5\n",
      "6\n",
      "sudh1\n",
      "235.45\n"
     ]
    }
   ],
   "source": [
    "for i in l:\n",
    "    if type(i) == int or type(i) == float :\n",
    "        print(i+1)\n",
    "    elif type(i) == str:\n",
    "        print(i+ str(1))\n",
    "    \n",
    "    "
   ]
  },
  {
   "cell_type": "code",
   "execution_count": 56,
   "id": "3f690e28",
   "metadata": {},
   "outputs": [
    {
     "name": "stdout",
     "output_type": "stream",
     "text": [
      "9876543210"
     ]
    }
   ],
   "source": [
    "a=[9, 8,7,6,5,4,3,2,10]\n",
    "for i in a :\n",
    "    print(i, end= \"\")"
   ]
  },
  {
   "cell_type": "code",
   "execution_count": 61,
   "id": "df601354",
   "metadata": {},
   "outputs": [],
   "source": [
    "l1=[]\n",
    "for i in l:\n",
    "    if type(i)==int:\n",
    "        l1.append(i)"
   ]
  },
  {
   "cell_type": "code",
   "execution_count": 64,
   "id": "c0b3b99e",
   "metadata": {},
   "outputs": [
    {
     "data": {
      "text/plain": [
       "[1, 2, 3, 4, 5, 'sudh', 234.45]"
      ]
     },
     "execution_count": 64,
     "metadata": {},
     "output_type": "execute_result"
    }
   ],
   "source": [
    "l"
   ]
  },
  {
   "cell_type": "code",
   "execution_count": 66,
   "id": "c1c468ea",
   "metadata": {},
   "outputs": [
    {
     "name": "stdout",
     "output_type": "stream",
     "text": [
      "2\n",
      "3\n",
      "4\n",
      "5\n",
      "6\n",
      "sudh1\n",
      "235.45\n"
     ]
    }
   ],
   "source": [
    " for i in l:\n",
    "        if type(i)== int:\n",
    "            print(i+1)\n",
    "        if type(i)==float:\n",
    "            print(i+1)\n",
    "        if type(i)== str:\n",
    "                print(i+str(1))\n",
    "                \n",
    "                "
   ]
  },
  {
   "cell_type": "code",
   "execution_count": 67,
   "id": "46e5a701",
   "metadata": {},
   "outputs": [
    {
     "name": "stdout",
     "output_type": "stream",
     "text": [
      "2\n",
      "3\n",
      "4\n",
      "5\n",
      "6\n",
      "sudh1\n",
      "235.45\n"
     ]
    }
   ],
   "source": [
    "for i in l:\n",
    "        if type(i)== int:\n",
    "            print(i+1)\n",
    "        elif type(i)==float:\n",
    "            print(i+1)\n",
    "        elif type(i)== str:\n",
    "                print(i+str(1))\n",
    "                "
   ]
  },
  {
   "cell_type": "code",
   "execution_count": 70,
   "id": "9c83bf36",
   "metadata": {},
   "outputs": [
    {
     "name": "stdout",
     "output_type": "stream",
     "text": [
      "2\n",
      "3\n",
      "4\n",
      "5\n",
      "6\n",
      "sudh1\n",
      "235.45\n"
     ]
    }
   ],
   "source": [
    "for i in l:\n",
    "        if type(i)== int or type(i)==float:\n",
    "            print(i+1)\n",
    "        elif type(i)== str:\n",
    "                print(i+str(1))"
   ]
  },
  {
   "cell_type": "code",
   "execution_count": null,
   "id": "df767ee7",
   "metadata": {},
   "outputs": [],
   "source": [
    "l = [1,2,3,4,5 ,\"car\",5,6,7]\n",
    "\n",
    "for i in l:\n",
    "    if i.isnumeric():\n",
    "        print(i)"
   ]
  },
  {
   "cell_type": "code",
   "execution_count": null,
   "id": "66a24691",
   "metadata": {},
   "outputs": [],
   "source": [
    "list=[]\n",
    "name = input(\"enter a name: \")\n",
    "while name != \"chandan\" :\n",
    "    list.append(name)\n",
    "    print(list)"
   ]
  },
  {
   "cell_type": "code",
   "execution_count": null,
   "id": "f735ad13",
   "metadata": {},
   "outputs": [],
   "source": [
    "\n",
    "l = [1,2,3,4,5465,67,\"sudh\"]"
   ]
  },
  {
   "cell_type": "code",
   "execution_count": null,
   "id": "431cca48",
   "metadata": {},
   "outputs": [],
   "source": [
    "for i in l:\n",
    "    if type(i)== str:\n",
    "        if i== \"d\":\n",
    "            break\n",
    "             print(i)"
   ]
  },
  {
   "cell_type": "code",
   "execution_count": null,
   "id": "2eb87d02",
   "metadata": {},
   "outputs": [],
   "source": [
    "a=10\n",
    "if a<8:\n",
    "    print(\"if the condition is true\")"
   ]
  },
  {
   "cell_type": "code",
   "execution_count": 3,
   "id": "9e0c6e2c",
   "metadata": {},
   "outputs": [
    {
     "name": "stdout",
     "output_type": "stream",
     "text": [
      "enter a number :320\n",
      "not able to crack GRE\n"
     ]
    }
   ],
   "source": [
    "marks = int(input(\"enter a number :\"))\n",
    "\n",
    "if marks>600:\n",
    "    print(\"able to crack GRE\")\n",
    "    \n",
    "elif marks <600:\n",
    "        print(\"not able to crack GRE\")\n",
    "        \n",
    "elif marks<500:\n",
    "            pass"
   ]
  },
  {
   "cell_type": "code",
   "execution_count": 11,
   "id": "da0f93cd",
   "metadata": {
    "scrolled": true
   },
   "outputs": [
    {
     "name": "stdout",
     "output_type": "stream",
     "text": [
      "Enter value of temperature in celsius: 78\n",
      " value in celsius to fahr:  172.4\n"
     ]
    }
   ],
   "source": [
    "# to calculate temperature deg C to deg F\n",
    "celsius = int(input(\"Enter value of temperature in celsius: \"))\n",
    "\n",
    "fahr=(9/5)*celsius + 32\n",
    "\n",
    "print(\" value in celsius to fahr: \" , fahr)\n",
    "\n"
   ]
  },
  {
   "cell_type": "code",
   "execution_count": 12,
   "id": "c4bcf965",
   "metadata": {},
   "outputs": [
    {
     "name": "stdout",
     "output_type": "stream",
     "text": [
      "                                  2022\n",
      "\n",
      "      January                   February                   March\n",
      "Mo Tu We Th Fr Sa Su      Mo Tu We Th Fr Sa Su      Mo Tu We Th Fr Sa Su\n",
      "                1  2          1  2  3  4  5  6          1  2  3  4  5  6\n",
      " 3  4  5  6  7  8  9       7  8  9 10 11 12 13       7  8  9 10 11 12 13\n",
      "10 11 12 13 14 15 16      14 15 16 17 18 19 20      14 15 16 17 18 19 20\n",
      "17 18 19 20 21 22 23      21 22 23 24 25 26 27      21 22 23 24 25 26 27\n",
      "24 25 26 27 28 29 30      28                        28 29 30 31\n",
      "31\n",
      "\n",
      "       April                      May                       June\n",
      "Mo Tu We Th Fr Sa Su      Mo Tu We Th Fr Sa Su      Mo Tu We Th Fr Sa Su\n",
      "             1  2  3                         1             1  2  3  4  5\n",
      " 4  5  6  7  8  9 10       2  3  4  5  6  7  8       6  7  8  9 10 11 12\n",
      "11 12 13 14 15 16 17       9 10 11 12 13 14 15      13 14 15 16 17 18 19\n",
      "18 19 20 21 22 23 24      16 17 18 19 20 21 22      20 21 22 23 24 25 26\n",
      "25 26 27 28 29 30         23 24 25 26 27 28 29      27 28 29 30\n",
      "                          30 31\n",
      "\n",
      "        July                     August                  September\n",
      "Mo Tu We Th Fr Sa Su      Mo Tu We Th Fr Sa Su      Mo Tu We Th Fr Sa Su\n",
      "             1  2  3       1  2  3  4  5  6  7                1  2  3  4\n",
      " 4  5  6  7  8  9 10       8  9 10 11 12 13 14       5  6  7  8  9 10 11\n",
      "11 12 13 14 15 16 17      15 16 17 18 19 20 21      12 13 14 15 16 17 18\n",
      "18 19 20 21 22 23 24      22 23 24 25 26 27 28      19 20 21 22 23 24 25\n",
      "25 26 27 28 29 30 31      29 30 31                  26 27 28 29 30\n",
      "\n",
      "      October                   November                  December\n",
      "Mo Tu We Th Fr Sa Su      Mo Tu We Th Fr Sa Su      Mo Tu We Th Fr Sa Su\n",
      "                1  2          1  2  3  4  5  6                1  2  3  4\n",
      " 3  4  5  6  7  8  9       7  8  9 10 11 12 13       5  6  7  8  9 10 11\n",
      "10 11 12 13 14 15 16      14 15 16 17 18 19 20      12 13 14 15 16 17 18\n",
      "17 18 19 20 21 22 23      21 22 23 24 25 26 27      19 20 21 22 23 24 25\n",
      "24 25 26 27 28 29 30      28 29 30                  26 27 28 29 30 31\n",
      "31\n",
      "\n"
     ]
    }
   ],
   "source": [
    "import calendar\n",
    "print(calendar.calendar(2022))"
   ]
  },
  {
   "cell_type": "code",
   "execution_count": 3,
   "id": "5005c400",
   "metadata": {},
   "outputs": [
    {
     "name": "stdout",
     "output_type": "stream",
     "text": [
      "lets do something 1\n",
      "lets do something 2\n",
      "lets do something 3\n",
      "lets do something 4\n",
      "True\n",
      "True\n"
     ]
    }
   ],
   "source": [
    "a,b,c,d=10,11,12,13\n",
    "if a==10 or b==11 and c==12 and d==13:\n",
    "    print(\"lets do something 1\")\n",
    "if a==10 and b==11 and c==12 or d==13:\n",
    "    print(\"lets do something 2\")\n",
    "if (a==10 and b==11)or (c==12 and d==13):\n",
    "    print(\"lets do something 3\")\n",
    "if a==10 and b==11 and c==12 and d ==13 or a==10:   \n",
    "    print(\"lets do something 4\")\n",
    "    print(type(a) == int)\n",
    "print(type(a) is int)\n",
    "    "
   ]
  },
  {
   "cell_type": "code",
   "execution_count": 4,
   "id": "1fda5028",
   "metadata": {},
   "outputs": [
    {
     "data": {
      "text/plain": [
       "True"
      ]
     },
     "execution_count": 4,
     "metadata": {},
     "output_type": "execute_result"
    }
   ],
   "source": [
    "type(a)== int"
   ]
  },
  {
   "cell_type": "code",
   "execution_count": 5,
   "id": "bf9b23e5",
   "metadata": {},
   "outputs": [
    {
     "data": {
      "text/plain": [
       "True"
      ]
     },
     "execution_count": 5,
     "metadata": {},
     "output_type": "execute_result"
    }
   ],
   "source": [
    "type (a) is int"
   ]
  },
  {
   "cell_type": "code",
   "execution_count": 6,
   "id": "74010823",
   "metadata": {},
   "outputs": [
    {
     "name": "stdout",
     "output_type": "stream",
     "text": [
      " No active alarm\n",
      " No active alarm\n",
      " No active alarm\n",
      " No active alarm\n",
      " No active alarm\n",
      " No active alarm\n",
      " No active alarm\n",
      "we have an active alarm number :  1324\n",
      " No active alarm\n",
      " No active alarm\n",
      " No active alarm\n",
      " No active alarm\n",
      " No active alarm\n"
     ]
    }
   ],
   "source": [
    "l = [0,0,0,0,0,0,0,1324,0,0,0,0,0]\n",
    "\n",
    "for i in l:\n",
    "    if i>0:\n",
    "        print(\"we have an active alarm number : \" , i)\n",
    "        \n",
    "    else :\n",
    "        print(\" No active alarm\")"
   ]
  },
  {
   "cell_type": "code",
   "execution_count": 15,
   "id": "42276fae",
   "metadata": {},
   "outputs": [
    {
     "name": "stdout",
     "output_type": "stream",
     "text": [
      "[]\n"
     ]
    }
   ],
   "source": [
    "l=[1,2,3,4,5,\"sudh\",234.45]\n",
    "\n",
    "a=0\n",
    "l1= []\n",
    "for i in l:\n",
    "    if type (i)== int:\n",
    "        l1 == l1+ [i]\n",
    "print(l1)\n",
    "\n",
    "\n",
    "\n"
   ]
  },
  {
   "cell_type": "code",
   "execution_count": 24,
   "id": "287f86dc",
   "metadata": {},
   "outputs": [
    {
     "name": "stdout",
     "output_type": "stream",
     "text": [
      " enter a no from 1 to 40 : 39\n",
      " colour is saffaron\n",
      " colour is White\n",
      "colour is green\n"
     ]
    }
   ],
   "source": [
    "a = int(input(\" enter a no from 1 to 40 : \"))\n",
    "if a>=1 or a<=9 :\n",
    "        print(\" colour is saffaron\")\n",
    "if 10<=a>=20 :\n",
    "    print(\" colour is White\")\n",
    "if 21 <=a>=30:\n",
    "    print(\"colour is green\")\n",
    "elif 31<=a>=40:\n",
    "    print(\"colour is maroon\")\n",
    "    \n",
    "else :\n",
    "        print(\"enter no from 1 to 40\")\n"
   ]
  },
  {
   "cell_type": "code",
   "execution_count": 25,
   "id": "319ea07f",
   "metadata": {},
   "outputs": [
    {
     "data": {
      "text/plain": [
       "[1, 2, 3, 4, 5, 'sudh', 234.45]"
      ]
     },
     "execution_count": 25,
     "metadata": {},
     "output_type": "execute_result"
    }
   ],
   "source": [
    "l"
   ]
  },
  {
   "cell_type": "code",
   "execution_count": 27,
   "id": "2ab28fc8",
   "metadata": {},
   "outputs": [
    {
     "name": "stdout",
     "output_type": "stream",
     "text": [
      "2\n",
      "3\n",
      "4\n",
      "5\n",
      "6\n",
      "sudh1\n",
      "235.45\n"
     ]
    }
   ],
   "source": [
    "for i in l:\n",
    "    if type (i)==int or type(i)==float:\n",
    "        print(i+1)\n",
    "    elif type(i)==str:\n",
    "        print (i+ str(1))"
   ]
  },
  {
   "cell_type": "code",
   "execution_count": 1,
   "id": "f0e7ca8a",
   "metadata": {},
   "outputs": [
    {
     "name": "stdout",
     "output_type": "stream",
     "text": [
      " Enter the price7000\n",
      "i can buy jacket\n"
     ]
    }
   ],
   "source": [
    "price=int(input(\" Enter the price\"))\n",
    "\n",
    "if price > 5000:\n",
    "    print(\"i can buy jacket\")\n",
    "    \n",
    "elif price > 5000 and price <= 10000:\n",
    "        print(\" i can buy both shirt and jcket\")\n",
    "        \n",
    "elif price >10000:\n",
    "        print(\" i can only buy vegetables\")\n",
    "else :\n",
    "            print(\"i cant buy anything\")"
   ]
  },
  {
   "cell_type": "code",
   "execution_count": 12,
   "id": "a968ae69",
   "metadata": {},
   "outputs": [
    {
     "name": "stdout",
     "output_type": "stream",
     "text": [
      "[[2, 56, 43], ['sad', 'sad', 234, 'forty', 'rest', 734], [12, 39, 67], [(2-8j), 3.065, 7, 'tinku'], 'welcome'] \n",
      "\n",
      "Q1\n",
      "[[2, 56, 43], ['sad', 'sad', 234, 'forty', 'rest', 734], [12, 39, 67], [(2-8j), 3.065, 7, 'tinku'], 'welcome'] \n",
      "\n",
      "Q2\n",
      "final list after removing all the string in the nested list :  [[2, 56, 43], ['sad', 'sad', 234, 'forty', 'rest', 734], [12, 39, 67], [(2-8j), 3.065, 7, 'tinku'], 'welcome']\n",
      "final list after removing all the string in the nested list :  [[2, 56, 43], ['sad', 'sad', 234, 'forty', 'rest', 734], [12, 39, 67], [(2-8j), 3.065, 7, 'tinku'], 'welcome']\n",
      "final list after removing all the string in the nested list :  [[2, 56, 43], ['sad', 'sad', 234, 'forty', 'rest', 734], [12, 39, 67], [(2-8j), 3.065, 7, 'tinku'], 'welcome']\n",
      "final list after removing all the string in the nested list :  [[2, 56, 43], ['sad', 'sad', 234, 'forty', 'rest', 734], [12, 39, 67], [(2-8j), 3.065, 7, 'tinku'], 'welcome']\n",
      "final list after removing all the string in the nested list :  [[2, 56, 43], ['sad', 'sad', 234, 'forty', 'rest', 734], [12, 39, 67], [(2-8j), 3.065, 7, 'tinku'], 'welcome']\n"
     ]
    }
   ],
   "source": [
    "l=[[2,56,43],['sad','sad',234,'forty','rest',734],[2-8j,3.065,7,'tinku'],'welcome']\n",
    "\n",
    "l.insert(2,[12,39,67])\n",
    "print(l,'\\n')\n",
    "print('Q1')\n",
    "\n",
    "for i in l:\n",
    "    if type (i)== list:\n",
    "        \n",
    "        for j in range(len(i)):\n",
    "            if (i[j])== str :\n",
    "                \n",
    "                print(\" sublist: \", i, \"\\n\" , \"index= \" , j, \"value = \" , i[j], \"\\n\")\n",
    "                \n",
    "print(l,'\\n')\n",
    "print('Q2')\n",
    "\n",
    "for i in l:\n",
    "    if type (i)== list:\n",
    "        \n",
    "        for j in range(len(i)):\n",
    "            if (i[j])== str :\n",
    "                i[j] =\"\"\n",
    "                \n",
    "    print(\"final list after removing all the string in the nested list : \" ,l)\n",
    "                \n",
    "    "
   ]
  },
  {
   "cell_type": "code",
   "execution_count": 4,
   "id": "54473394",
   "metadata": {},
   "outputs": [
    {
     "name": "stdout",
     "output_type": "stream",
     "text": [
      "type 1 for monthly calendar and type 2 for yearly calendar : 2\n",
      " enter year: 2022\n",
      "    January 2022\n",
      "Mo Tu We Th Fr Sa Su\n",
      "                1  2\n",
      " 3  4  5  6  7  8  9\n",
      "10 11 12 13 14 15 16\n",
      "17 18 19 20 21 22 23\n",
      "24 25 26 27 28 29 30\n",
      "31\n",
      "\n",
      "   February 2022\n",
      "Mo Tu We Th Fr Sa Su\n",
      "    1  2  3  4  5  6\n",
      " 7  8  9 10 11 12 13\n",
      "14 15 16 17 18 19 20\n",
      "21 22 23 24 25 26 27\n",
      "28\n",
      "\n",
      "     March 2022\n",
      "Mo Tu We Th Fr Sa Su\n",
      "    1  2  3  4  5  6\n",
      " 7  8  9 10 11 12 13\n",
      "14 15 16 17 18 19 20\n",
      "21 22 23 24 25 26 27\n",
      "28 29 30 31\n",
      "\n",
      "     April 2022\n",
      "Mo Tu We Th Fr Sa Su\n",
      "             1  2  3\n",
      " 4  5  6  7  8  9 10\n",
      "11 12 13 14 15 16 17\n",
      "18 19 20 21 22 23 24\n",
      "25 26 27 28 29 30\n",
      "\n",
      "      May 2022\n",
      "Mo Tu We Th Fr Sa Su\n",
      "                   1\n",
      " 2  3  4  5  6  7  8\n",
      " 9 10 11 12 13 14 15\n",
      "16 17 18 19 20 21 22\n",
      "23 24 25 26 27 28 29\n",
      "30 31\n",
      "\n",
      "     June 2022\n",
      "Mo Tu We Th Fr Sa Su\n",
      "       1  2  3  4  5\n",
      " 6  7  8  9 10 11 12\n",
      "13 14 15 16 17 18 19\n",
      "20 21 22 23 24 25 26\n",
      "27 28 29 30\n",
      "\n",
      "     July 2022\n",
      "Mo Tu We Th Fr Sa Su\n",
      "             1  2  3\n",
      " 4  5  6  7  8  9 10\n",
      "11 12 13 14 15 16 17\n",
      "18 19 20 21 22 23 24\n",
      "25 26 27 28 29 30 31\n",
      "\n",
      "    August 2022\n",
      "Mo Tu We Th Fr Sa Su\n",
      " 1  2  3  4  5  6  7\n",
      " 8  9 10 11 12 13 14\n",
      "15 16 17 18 19 20 21\n",
      "22 23 24 25 26 27 28\n",
      "29 30 31\n",
      "\n",
      "   September 2022\n",
      "Mo Tu We Th Fr Sa Su\n",
      "          1  2  3  4\n",
      " 5  6  7  8  9 10 11\n",
      "12 13 14 15 16 17 18\n",
      "19 20 21 22 23 24 25\n",
      "26 27 28 29 30\n",
      "\n",
      "    October 2022\n",
      "Mo Tu We Th Fr Sa Su\n",
      "                1  2\n",
      " 3  4  5  6  7  8  9\n",
      "10 11 12 13 14 15 16\n",
      "17 18 19 20 21 22 23\n",
      "24 25 26 27 28 29 30\n",
      "31\n",
      "\n",
      "   November 2022\n",
      "Mo Tu We Th Fr Sa Su\n",
      "    1  2  3  4  5  6\n",
      " 7  8  9 10 11 12 13\n",
      "14 15 16 17 18 19 20\n",
      "21 22 23 24 25 26 27\n",
      "28 29 30\n",
      "\n",
      "   December 2022\n",
      "Mo Tu We Th Fr Sa Su\n",
      "          1  2  3  4\n",
      " 5  6  7  8  9 10 11\n",
      "12 13 14 15 16 17 18\n",
      "19 20 21 22 23 24 25\n",
      "26 27 28 29 30 31\n",
      "\n"
     ]
    }
   ],
   "source": [
    "import calendar\n",
    "\n",
    "n = int(input(\"type 1 for monthly calendar and type 2 for yearly calendar : \"))\n",
    "\n",
    "if n==1 :\n",
    "        yy=int(input(\" enter year: \"))\n",
    "        mm=int(input(\" enter month : \"))\n",
    "        print(calendar.month(yy,mm))\n",
    "\n",
    "elif n==2:\n",
    "    yy=int(input(\" enter year: \")) \n",
    "    for m in range(1,13):\n",
    "         print(calendar.month(yy,m))\n",
    "\n"
   ]
  },
  {
   "cell_type": "code",
   "execution_count": 10,
   "id": "55e3acbe",
   "metadata": {},
   "outputs": [
    {
     "data": {
      "text/plain": [
       "'sudh'"
      ]
     },
     "execution_count": 10,
     "metadata": {},
     "output_type": "execute_result"
    }
   ],
   "source": [
    "l = [3,4,5,6,7 , [23,456,67,8,78,78] , [345,56,87,8,98,9] , (234,6657,6) , {\"key1\" :\"sudh\" , 234:[23,45,656]}]\n",
    "l[-1] [\"key1\"]"
   ]
  },
  {
   "cell_type": "code",
   "execution_count": 16,
   "id": "3b1eeb4b",
   "metadata": {},
   "outputs": [],
   "source": [
    "l=[1,2,3,4,5,\"sudh\",23.55]\n",
    "l1=[]\n",
    "for i in l:\n",
    "     if type(i)==int:\n",
    "        l1.append(i)\n",
    "\n"
   ]
  },
  {
   "cell_type": "code",
   "execution_count": 17,
   "id": "ed28d475",
   "metadata": {},
   "outputs": [
    {
     "data": {
      "text/plain": [
       "[1, 2, 3, 4, 5]"
      ]
     },
     "execution_count": 17,
     "metadata": {},
     "output_type": "execute_result"
    }
   ],
   "source": [
    "l1"
   ]
  },
  {
   "cell_type": "code",
   "execution_count": 18,
   "id": "28c276f5",
   "metadata": {},
   "outputs": [],
   "source": [
    "l = [{'key1': 'sudh', 234: [23, 45, 656]},\n",
    " (234, 6657, 6),\n",
    " [345, 56, 87, 8, 98, 9],\n",
    " [23, 456, 67, 8, 78, 78],\n",
    " 7,\n",
    " 6,\n",
    " 5,\n",
    " 4,\n",
    " 3]"
   ]
  },
  {
   "cell_type": "code",
   "execution_count": 26,
   "id": "06620f6c",
   "metadata": {},
   "outputs": [
    {
     "data": {
      "text/plain": [
       "['key1', 234]"
      ]
     },
     "execution_count": 26,
     "metadata": {},
     "output_type": "execute_result"
    }
   ],
   "source": [
    "list(l[0].keys())"
   ]
  },
  {
   "cell_type": "code",
   "execution_count": 35,
   "id": "0a749f3d",
   "metadata": {},
   "outputs": [
    {
     "name": "stdout",
     "output_type": "stream",
     "text": [
      "['key1', 234]\n"
     ]
    }
   ],
   "source": [
    "for i in l:\n",
    "    if type(i)== dict:\n",
    "        print(list(i.keys()))"
   ]
  },
  {
   "cell_type": "code",
   "execution_count": 40,
   "id": "9596d094",
   "metadata": {},
   "outputs": [
    {
     "name": "stdout",
     "output_type": "stream",
     "text": [
      " the original list : [3, 5, 6, 8, 10]\n",
      "The list of missing elements : [0, 1, 2, 4, 7, 9]\n"
     ]
    }
   ],
   "source": [
    "test_list = [3, 5, 6, 8, 10]\n",
    "\n",
    "print(\" the original list : \" + str(test_list))\n",
    "\n",
    "res= [ele for ele in range(max(test_list)+1) if ele not in test_list ]\n",
    "\n",
    "print(\"The list of missing elements : \" + str(res))\n"
   ]
  },
  {
   "cell_type": "code",
   "execution_count": 49,
   "id": "0b7faaa6",
   "metadata": {},
   "outputs": [
    {
     "name": "stdout",
     "output_type": "stream",
     "text": [
      "eggs\n",
      "ham\n",
      "0\n",
      "0\n"
     ]
    }
   ],
   "source": [
    "# Identify the three blocks in this code:\n",
    "\n",
    "spam=0\n",
    "    \n",
    "if spam ==0:\n",
    "        print(\"eggs\")\n",
    "        \n",
    "if spam>5:\n",
    "        print(\"balcony\")\n",
    "        \n",
    "else :\n",
    "        print(\"ham\")\n",
    "        \n",
    "        print(spam)\n",
    "        \n",
    "        print (spam)"
   ]
  },
  {
   "cell_type": "code",
   "execution_count": 52,
   "id": "17aa23a0",
   "metadata": {},
   "outputs": [
    {
     "data": {
      "text/plain": [
       "dict_items([('key1', 'surendra'), ('key2', 'sudh'), ('key3', 'ineuron')])"
      ]
     },
     "execution_count": 52,
     "metadata": {},
     "output_type": "execute_result"
    }
   ],
   "source": [
    "d={'key1':\"surendra\", 'key2':\"sudh\", 'key3':\"ineuron\"}\n",
    "\n",
    "d.values()\n",
    "d.keys()\n",
    "d.items()"
   ]
  },
  {
   "cell_type": "code",
   "execution_count": 53,
   "id": "fbfdb03b",
   "metadata": {},
   "outputs": [
    {
     "data": {
      "text/plain": [
       "dict_keys(['key1', 'key2', 'key3'])"
      ]
     },
     "execution_count": 53,
     "metadata": {},
     "output_type": "execute_result"
    }
   ],
   "source": [
    "d.keys()"
   ]
  },
  {
   "cell_type": "code",
   "execution_count": 54,
   "id": "dd2721e2",
   "metadata": {},
   "outputs": [
    {
     "data": {
      "text/plain": [
       "dict_values(['surendra', 'sudh', 'ineuron'])"
      ]
     },
     "execution_count": 54,
     "metadata": {},
     "output_type": "execute_result"
    }
   ],
   "source": [
    "d.values()"
   ]
  },
  {
   "cell_type": "code",
   "execution_count": 55,
   "id": "5a23407c",
   "metadata": {},
   "outputs": [
    {
     "name": "stdout",
     "output_type": "stream",
     "text": [
      "2\n",
      "3\n",
      "trip\n"
     ]
    },
    {
     "ename": "TypeError",
     "evalue": "list indices must be integers or slices, not str",
     "output_type": "error",
     "traceback": [
      "\u001b[1;31m---------------------------------------------------------------------------\u001b[0m",
      "\u001b[1;31mTypeError\u001b[0m                                 Traceback (most recent call last)",
      "Input \u001b[1;32mIn [55]\u001b[0m, in \u001b[0;36m<cell line: 3>\u001b[1;34m()\u001b[0m\n\u001b[0;32m      1\u001b[0m l\u001b[38;5;241m=\u001b[39m[\u001b[38;5;241m1\u001b[39m,\u001b[38;5;241m2\u001b[39m,\u001b[38;5;241m3\u001b[39m,\u001b[38;5;124m\"\u001b[39m\u001b[38;5;124mtrip\u001b[39m\u001b[38;5;124m\"\u001b[39m,\u001b[38;5;241m234.6\u001b[39m]\n\u001b[0;32m      3\u001b[0m \u001b[38;5;28;01mfor\u001b[39;00m i \u001b[38;5;129;01min\u001b[39;00m l:\n\u001b[1;32m----> 4\u001b[0m     \u001b[38;5;28mprint\u001b[39m(\u001b[43ml\u001b[49m\u001b[43m[\u001b[49m\u001b[43mi\u001b[49m\u001b[43m]\u001b[49m)\n",
      "\u001b[1;31mTypeError\u001b[0m: list indices must be integers or slices, not str"
     ]
    }
   ],
   "source": [
    "l=[1,2,3,\"trip\",234.6]\n",
    "\n",
    "for i in l:\n",
    "    print(l[i])"
   ]
  },
  {
   "cell_type": "code",
   "execution_count": 17,
   "id": "7aec38ce",
   "metadata": {},
   "outputs": [
    {
     "name": "stdout",
     "output_type": "stream",
     "text": [
      " the original list: [3, 5, 6, 8, 10, 13, 18, 23]\n",
      " the missing ele in test_list : [0, 1, 2, 4, 7, 9, 11, 12, 14, 15, 16, 17, 19, 20, 21, 22]\n"
     ]
    }
   ],
   "source": [
    "test_list = [3, 5, 6, 8, 10,13,18, 23]\n",
    "\n",
    "print(\" the original list: \"  +str(test_list))\n",
    "\n",
    "res = [ele for ele in range (max(test_list)+1) if ele not in (test_list)]\n",
    "\n",
    "print(\" the missing ele in test_list : \"  +str(res))\n"
   ]
  },
  {
   "cell_type": "code",
   "execution_count": 33,
   "id": "e7d5fb18",
   "metadata": {},
   "outputs": [
    {
     "name": "stdout",
     "output_type": "stream",
     "text": [
      "Enter a number: 9\n",
      "integer\n",
      "invalid\n"
     ]
    }
   ],
   "source": [
    "i= int(input(\"Enter a number: \"))\n",
    "\n",
    "if type(i)== int:\n",
    "    print(\"integer\")\n",
    "    \n",
    "\n",
    "if type(i)== float:\n",
    "    print(\"float\")\n",
    "\n",
    "else :\n",
    "      print(\"invalid\")"
   ]
  },
  {
   "cell_type": "code",
   "execution_count": 50,
   "id": "47125e13",
   "metadata": {},
   "outputs": [
    {
     "name": "stdout",
     "output_type": "stream",
     "text": [
      "enter the travellingallowance of cab: 400\n",
      " the distance was short: \n"
     ]
    }
   ],
   "source": [
    "travelling_allowance = int(input(\"enter the travellingallowance of cab: \"))\n",
    "\n",
    "if travelling_allowance >1000:\n",
    "    print(\" the distance was too long: \")\n",
    "    \n",
    "elif travelling_allowance <500:\n",
    "    print(\" the distance was short: \")\n"
   ]
  },
  {
   "cell_type": "code",
   "execution_count": 62,
   "id": "02b0faa6",
   "metadata": {},
   "outputs": [
    {
     "name": "stdout",
     "output_type": "stream",
     "text": [
      "Enter marks: 320\n",
      " try something else\n"
     ]
    }
   ],
   "source": [
    "marks=int(input(\"Enter marks: \"))\n",
    "\n",
    "if marks>600:\n",
    "    \n",
    "    print(\"addmission in GRE\")\n",
    "    \n",
    "elif marks <500 and marks>400:\n",
    "    print(\" TOFEL\")\n",
    "    \n",
    "else :\n",
    "    print(\" try something else\")"
   ]
  },
  {
   "cell_type": "code",
   "execution_count": 82,
   "id": "adac29aa",
   "metadata": {},
   "outputs": [
    {
     "name": "stdout",
     "output_type": "stream",
     "text": [
      " enter number: -0.98\n",
      "None\n"
     ]
    }
   ],
   "source": [
    "value= float(input(\" enter number: \"))\n",
    "\n",
    "if value >= 0:\n",
    "     if value == 0:\n",
    "             print(\" the value is zero\")\n",
    "    \n",
    "     elif value < 0 :\n",
    "            print(\" value is smaller than zero \")\n",
    "    \n",
    "     else:\n",
    "            print(\" the value is positive \")\n",
    "    \n",
    "else:\n",
    "    print(\"None\")"
   ]
  },
  {
   "cell_type": "code",
   "execution_count": 89,
   "id": "bd743af4",
   "metadata": {},
   "outputs": [
    {
     "name": "stdout",
     "output_type": "stream",
     "text": [
      "6\n",
      "7\n",
      "8\n",
      "9\n",
      "10\n",
      "244.45\n"
     ]
    }
   ],
   "source": [
    "l= [1,2,3,4,5,\"sudh\", 234.45]\n",
    "\n",
    "for i in l:\n",
    "    if type(i)== int:\n",
    "        print(i+5)\n",
    "        \n",
    "    if type(i)== float:\n",
    "        print(i+10)\n",
    "        \n",
    "   "
   ]
  },
  {
   "cell_type": "code",
   "execution_count": 4,
   "id": "872938f4",
   "metadata": {},
   "outputs": [
    {
     "name": "stdout",
     "output_type": "stream",
     "text": [
      "dict_values([200, 300])\n",
      "sum 500\n"
     ]
    }
   ],
   "source": [
    "d = {\"a\":200,\"b\":300}\n",
    "print(d.values())\n",
    "s= sum(d.values())\n",
    "print(\"sum\",s)"
   ]
  },
  {
   "cell_type": "code",
   "execution_count": 33,
   "id": "76f604e5",
   "metadata": {},
   "outputs": [
    {
     "name": "stdout",
     "output_type": "stream",
     "text": [
      "the number is float\n"
     ]
    }
   ],
   "source": [
    "def number(i):\n",
    "    \n",
    "        if type (i) == float:\n",
    "             print(\"the number is float\")\n",
    "            \n",
    "        elif type(i) == int:\n",
    "                    print(\"the number is integer\")\n",
    "        \n",
    "        else:\n",
    "                print(\"the number is invalid\")\n",
    "        \n",
    "number(00.567)\n",
    "        "
   ]
  },
  {
   "cell_type": "code",
   "execution_count": 11,
   "id": "591fe802",
   "metadata": {},
   "outputs": [
    {
     "name": "stdout",
     "output_type": "stream",
     "text": [
      "type 1 for monthly  and type 2 for yearly : 2\n",
      "Enter year : 2012\n",
      "    January 2012\n",
      "Mo Tu We Th Fr Sa Su\n",
      "                   1\n",
      " 2  3  4  5  6  7  8\n",
      " 9 10 11 12 13 14 15\n",
      "16 17 18 19 20 21 22\n",
      "23 24 25 26 27 28 29\n",
      "30 31\n",
      "\n",
      "   February 2012\n",
      "Mo Tu We Th Fr Sa Su\n",
      "       1  2  3  4  5\n",
      " 6  7  8  9 10 11 12\n",
      "13 14 15 16 17 18 19\n",
      "20 21 22 23 24 25 26\n",
      "27 28 29\n",
      "\n",
      "     March 2012\n",
      "Mo Tu We Th Fr Sa Su\n",
      "          1  2  3  4\n",
      " 5  6  7  8  9 10 11\n",
      "12 13 14 15 16 17 18\n",
      "19 20 21 22 23 24 25\n",
      "26 27 28 29 30 31\n",
      "\n",
      "     April 2012\n",
      "Mo Tu We Th Fr Sa Su\n",
      "                   1\n",
      " 2  3  4  5  6  7  8\n",
      " 9 10 11 12 13 14 15\n",
      "16 17 18 19 20 21 22\n",
      "23 24 25 26 27 28 29\n",
      "30\n",
      "\n",
      "      May 2012\n",
      "Mo Tu We Th Fr Sa Su\n",
      "    1  2  3  4  5  6\n",
      " 7  8  9 10 11 12 13\n",
      "14 15 16 17 18 19 20\n",
      "21 22 23 24 25 26 27\n",
      "28 29 30 31\n",
      "\n",
      "     June 2012\n",
      "Mo Tu We Th Fr Sa Su\n",
      "             1  2  3\n",
      " 4  5  6  7  8  9 10\n",
      "11 12 13 14 15 16 17\n",
      "18 19 20 21 22 23 24\n",
      "25 26 27 28 29 30\n",
      "\n",
      "     July 2012\n",
      "Mo Tu We Th Fr Sa Su\n",
      "                   1\n",
      " 2  3  4  5  6  7  8\n",
      " 9 10 11 12 13 14 15\n",
      "16 17 18 19 20 21 22\n",
      "23 24 25 26 27 28 29\n",
      "30 31\n",
      "\n",
      "    August 2012\n",
      "Mo Tu We Th Fr Sa Su\n",
      "       1  2  3  4  5\n",
      " 6  7  8  9 10 11 12\n",
      "13 14 15 16 17 18 19\n",
      "20 21 22 23 24 25 26\n",
      "27 28 29 30 31\n",
      "\n",
      "   September 2012\n",
      "Mo Tu We Th Fr Sa Su\n",
      "                1  2\n",
      " 3  4  5  6  7  8  9\n",
      "10 11 12 13 14 15 16\n",
      "17 18 19 20 21 22 23\n",
      "24 25 26 27 28 29 30\n",
      "\n",
      "    October 2012\n",
      "Mo Tu We Th Fr Sa Su\n",
      " 1  2  3  4  5  6  7\n",
      " 8  9 10 11 12 13 14\n",
      "15 16 17 18 19 20 21\n",
      "22 23 24 25 26 27 28\n",
      "29 30 31\n",
      "\n",
      "   November 2012\n",
      "Mo Tu We Th Fr Sa Su\n",
      "          1  2  3  4\n",
      " 5  6  7  8  9 10 11\n",
      "12 13 14 15 16 17 18\n",
      "19 20 21 22 23 24 25\n",
      "26 27 28 29 30\n",
      "\n",
      "   December 2012\n",
      "Mo Tu We Th Fr Sa Su\n",
      "                1  2\n",
      " 3  4  5  6  7  8  9\n",
      "10 11 12 13 14 15 16\n",
      "17 18 19 20 21 22 23\n",
      "24 25 26 27 28 29 30\n",
      "31\n",
      "\n"
     ]
    }
   ],
   "source": [
    "import calendar\n",
    "\n",
    "n= int(input(\"type 1 for monthly  and type 2 for yearly : \"))\n",
    "    \n",
    "if n==1:\n",
    "        yy= int(input( \"Enter year : \"))\n",
    "        mm= int(input(\" Enter month: \"))\n",
    "        \n",
    "        print( calendar.month(yy,mm))\n",
    "\n",
    "if n==2:\n",
    "         yy= int(input( \"Enter year : \"))\n",
    "        \n",
    "         for m in range(1,13): \n",
    "                \n",
    "                  print( calendar.month(yy,m))\n",
    "            "
   ]
  },
  {
   "cell_type": "code",
   "execution_count": null,
   "id": "47151f2c",
   "metadata": {},
   "outputs": [],
   "source": []
  },
  {
   "cell_type": "code",
   "execution_count": null,
   "id": "e46a9dac",
   "metadata": {},
   "outputs": [],
   "source": []
  }
 ],
 "metadata": {
  "kernelspec": {
   "display_name": "Python 3 (ipykernel)",
   "language": "python",
   "name": "python3"
  },
  "language_info": {
   "codemirror_mode": {
    "name": "ipython",
    "version": 3
   },
   "file_extension": ".py",
   "mimetype": "text/x-python",
   "name": "python",
   "nbconvert_exporter": "python",
   "pygments_lexer": "ipython3",
   "version": "3.9.12"
  }
 },
 "nbformat": 4,
 "nbformat_minor": 5
}
