{
 "cells": [
  {
   "cell_type": "markdown",
   "id": "7b11e8a1",
   "metadata": {},
   "source": [
    "# Class 11 Numpy as np"
   ]
  },
  {
   "cell_type": "code",
   "execution_count": 1,
   "id": "08f12432",
   "metadata": {},
   "outputs": [],
   "source": [
    "import numpy as np"
   ]
  },
  {
   "cell_type": "markdown",
   "id": "6a61c4ea",
   "metadata": {},
   "source": [
    "CREATING ARRAYS:"
   ]
  },
  {
   "cell_type": "code",
   "execution_count": 2,
   "id": "f3f859ce",
   "metadata": {},
   "outputs": [],
   "source": [
    "a = np.array([7,9,0])"
   ]
  },
  {
   "cell_type": "code",
   "execution_count": 3,
   "id": "10ef01af",
   "metadata": {},
   "outputs": [
    {
     "data": {
      "text/plain": [
       "array([7, 9, 0])"
      ]
     },
     "execution_count": 3,
     "metadata": {},
     "output_type": "execute_result"
    }
   ],
   "source": [
    "a"
   ]
  },
  {
   "cell_type": "code",
   "execution_count": 4,
   "id": "eb0b15d7",
   "metadata": {},
   "outputs": [],
   "source": [
    "b = np.array([[6,7,8],[8,9,0] ], dtype=float)"
   ]
  },
  {
   "cell_type": "code",
   "execution_count": 5,
   "id": "81df292e",
   "metadata": {},
   "outputs": [
    {
     "data": {
      "text/plain": [
       "array([[6., 7., 8.],\n",
       "       [8., 9., 0.]])"
      ]
     },
     "execution_count": 5,
     "metadata": {},
     "output_type": "execute_result"
    }
   ],
   "source": [
    "b"
   ]
  },
  {
   "cell_type": "code",
   "execution_count": 6,
   "id": "509ad200",
   "metadata": {},
   "outputs": [],
   "source": [
    "c = np.array([[6,7,8],[8,9,0],[0,8,5] ], dtype=int)"
   ]
  },
  {
   "cell_type": "code",
   "execution_count": 7,
   "id": "6daa85ad",
   "metadata": {},
   "outputs": [
    {
     "data": {
      "text/plain": [
       "array([[6, 7, 8],\n",
       "       [8, 9, 0],\n",
       "       [0, 8, 5]])"
      ]
     },
     "execution_count": 7,
     "metadata": {},
     "output_type": "execute_result"
    }
   ],
   "source": [
    "c"
   ]
  },
  {
   "cell_type": "markdown",
   "id": "ec432e2b",
   "metadata": {},
   "source": [
    "INITIAL PLACEHOLDERS:"
   ]
  },
  {
   "cell_type": "code",
   "execution_count": 8,
   "id": "e7f2b1d0",
   "metadata": {},
   "outputs": [
    {
     "data": {
      "text/plain": [
       "array([[[0., 0., 0., 0., 0., 0.],\n",
       "        [0., 0., 0., 0., 0., 0.],\n",
       "        [0., 0., 0., 0., 0., 0.],\n",
       "        [0., 0., 0., 0., 0., 0.]]])"
      ]
     },
     "execution_count": 8,
     "metadata": {},
     "output_type": "execute_result"
    }
   ],
   "source": [
    "np.zeros([1,4,6]) # creating an array of zeros"
   ]
  },
  {
   "cell_type": "code",
   "execution_count": 9,
   "id": "834b93e2",
   "metadata": {},
   "outputs": [
    {
     "data": {
      "text/plain": [
       "array([[[1, 1, 1, 1, 1, 1, 1],\n",
       "        [1, 1, 1, 1, 1, 1, 1],\n",
       "        [1, 1, 1, 1, 1, 1, 1],\n",
       "        [1, 1, 1, 1, 1, 1, 1],\n",
       "        [1, 1, 1, 1, 1, 1, 1]],\n",
       "\n",
       "       [[1, 1, 1, 1, 1, 1, 1],\n",
       "        [1, 1, 1, 1, 1, 1, 1],\n",
       "        [1, 1, 1, 1, 1, 1, 1],\n",
       "        [1, 1, 1, 1, 1, 1, 1],\n",
       "        [1, 1, 1, 1, 1, 1, 1]]])"
      ]
     },
     "execution_count": 9,
     "metadata": {},
     "output_type": "execute_result"
    }
   ],
   "source": [
    "np.ones([2,5,7] , dtype = int)  # creating an array of ones"
   ]
  },
  {
   "cell_type": "code",
   "execution_count": 10,
   "id": "7a7133a2",
   "metadata": {},
   "outputs": [],
   "source": [
    "d = np.arange(10,29,2)"
   ]
  },
  {
   "cell_type": "code",
   "execution_count": 11,
   "id": "b8a4512a",
   "metadata": {},
   "outputs": [
    {
     "data": {
      "text/plain": [
       "array([10, 12, 14, 16, 18, 20, 22, 24, 26, 28])"
      ]
     },
     "execution_count": 11,
     "metadata": {},
     "output_type": "execute_result"
    }
   ],
   "source": [
    "d"
   ]
  },
  {
   "cell_type": "code",
   "execution_count": 12,
   "id": "e97ef8a7",
   "metadata": {},
   "outputs": [
    {
     "data": {
      "text/plain": [
       "array([0.        , 0.28571429, 0.57142857, 0.85714286, 1.14285714,\n",
       "       1.42857143, 1.71428571, 2.        ])"
      ]
     },
     "execution_count": 12,
     "metadata": {},
     "output_type": "execute_result"
    }
   ],
   "source": [
    "np.linspace(0,2,8)"
   ]
  },
  {
   "cell_type": "code",
   "execution_count": 13,
   "id": "5ca56cea",
   "metadata": {},
   "outputs": [
    {
     "data": {
      "text/plain": [
       "array([0.        , 0.14285714, 0.28571429, 0.42857143, 0.57142857,\n",
       "       0.71428571, 0.85714286, 1.        ])"
      ]
     },
     "execution_count": 13,
     "metadata": {},
     "output_type": "execute_result"
    }
   ],
   "source": [
    "np.linspace(0,1,8)"
   ]
  },
  {
   "cell_type": "code",
   "execution_count": 14,
   "id": "d36c2839",
   "metadata": {},
   "outputs": [],
   "source": [
    "e = np.full((2,5),8)"
   ]
  },
  {
   "cell_type": "code",
   "execution_count": 15,
   "id": "3af7eb8c",
   "metadata": {},
   "outputs": [
    {
     "data": {
      "text/plain": [
       "array([[8, 8, 8, 8, 8],\n",
       "       [8, 8, 8, 8, 8]])"
      ]
     },
     "execution_count": 15,
     "metadata": {},
     "output_type": "execute_result"
    }
   ],
   "source": [
    "e"
   ]
  },
  {
   "cell_type": "code",
   "execution_count": 16,
   "id": "0acfcbde",
   "metadata": {},
   "outputs": [],
   "source": [
    "f = np.eye(3 , dtype = int) # creating identity matrix"
   ]
  },
  {
   "cell_type": "code",
   "execution_count": 17,
   "id": "e9adbd41",
   "metadata": {},
   "outputs": [
    {
     "data": {
      "text/plain": [
       "array([[1, 0, 0],\n",
       "       [0, 1, 0],\n",
       "       [0, 0, 1]])"
      ]
     },
     "execution_count": 17,
     "metadata": {},
     "output_type": "execute_result"
    }
   ],
   "source": [
    "f"
   ]
  },
  {
   "cell_type": "code",
   "execution_count": 18,
   "id": "31095bef",
   "metadata": {},
   "outputs": [
    {
     "data": {
      "text/plain": [
       "array([[0.85754399, 0.46332269, 0.81229168],\n",
       "       [0.80681104, 0.87599816, 0.28266564],\n",
       "       [0.58258462, 0.41796373, 0.48174744]])"
      ]
     },
     "execution_count": 18,
     "metadata": {},
     "output_type": "execute_result"
    }
   ],
   "source": [
    "np.random.random((3,3))"
   ]
  },
  {
   "cell_type": "code",
   "execution_count": 19,
   "id": "b69f7477",
   "metadata": {},
   "outputs": [],
   "source": [
    "arr= np.random.randint(10,20,(3,3))"
   ]
  },
  {
   "cell_type": "code",
   "execution_count": 20,
   "id": "016a5270",
   "metadata": {},
   "outputs": [
    {
     "data": {
      "text/plain": [
       "array([[11, 18, 15],\n",
       "       [17, 15, 19],\n",
       "       [12, 17, 16]])"
      ]
     },
     "execution_count": 20,
     "metadata": {},
     "output_type": "execute_result"
    }
   ],
   "source": [
    "arr"
   ]
  },
  {
   "cell_type": "code",
   "execution_count": 21,
   "id": "857a2908",
   "metadata": {},
   "outputs": [
    {
     "data": {
      "text/plain": [
       "array([[0.83827138, 0.94442934, 0.9864344 , 0.84802209],\n",
       "       [0.84004106, 0.76705543, 0.01856453, 0.54857877],\n",
       "       [0.71824406, 0.64161107, 0.8851662 , 0.93879405],\n",
       "       [0.82862871, 0.97906291, 0.21407115, 0.69065944]])"
      ]
     },
     "execution_count": 21,
     "metadata": {},
     "output_type": "execute_result"
    }
   ],
   "source": [
    "np.random.random((4,4))"
   ]
  },
  {
   "cell_type": "code",
   "execution_count": 22,
   "id": "5262cbd6",
   "metadata": {},
   "outputs": [
    {
     "data": {
      "text/plain": [
       "array([[6., 7.],\n",
       "       [8., 8.],\n",
       "       [9., 0.]])"
      ]
     },
     "execution_count": 22,
     "metadata": {},
     "output_type": "execute_result"
    }
   ],
   "source": [
    "np.empty((3,2))"
   ]
  },
  {
   "cell_type": "code",
   "execution_count": 23,
   "id": "7a6dcc4f",
   "metadata": {},
   "outputs": [
    {
     "data": {
      "text/plain": [
       "(3,)"
      ]
     },
     "execution_count": 23,
     "metadata": {},
     "output_type": "execute_result"
    }
   ],
   "source": [
    "a.shape"
   ]
  },
  {
   "cell_type": "code",
   "execution_count": 24,
   "id": "5074101b",
   "metadata": {},
   "outputs": [
    {
     "data": {
      "text/plain": [
       "3"
      ]
     },
     "execution_count": 24,
     "metadata": {},
     "output_type": "execute_result"
    }
   ],
   "source": [
    "len(a)"
   ]
  },
  {
   "cell_type": "code",
   "execution_count": 25,
   "id": "f60b4018",
   "metadata": {},
   "outputs": [
    {
     "data": {
      "text/plain": [
       "1"
      ]
     },
     "execution_count": 25,
     "metadata": {},
     "output_type": "execute_result"
    }
   ],
   "source": [
    "a.ndim"
   ]
  },
  {
   "cell_type": "code",
   "execution_count": 26,
   "id": "bb5b2737",
   "metadata": {},
   "outputs": [
    {
     "data": {
      "text/plain": [
       "3"
      ]
     },
     "execution_count": 26,
     "metadata": {},
     "output_type": "execute_result"
    }
   ],
   "source": [
    "a.size"
   ]
  },
  {
   "cell_type": "code",
   "execution_count": 27,
   "id": "2f9fc1e0",
   "metadata": {},
   "outputs": [
    {
     "data": {
      "text/plain": [
       "dtype('int32')"
      ]
     },
     "execution_count": 27,
     "metadata": {},
     "output_type": "execute_result"
    }
   ],
   "source": [
    "a.dtype"
   ]
  },
  {
   "cell_type": "code",
   "execution_count": 28,
   "id": "5836b04d",
   "metadata": {},
   "outputs": [
    {
     "data": {
      "text/plain": [
       "'int32'"
      ]
     },
     "execution_count": 28,
     "metadata": {},
     "output_type": "execute_result"
    }
   ],
   "source": [
    "a.dtype.name"
   ]
  },
  {
   "cell_type": "code",
   "execution_count": 29,
   "id": "f1e9d03a",
   "metadata": {},
   "outputs": [
    {
     "data": {
      "text/plain": [
       "array([7, 9, 0])"
      ]
     },
     "execution_count": 29,
     "metadata": {},
     "output_type": "execute_result"
    }
   ],
   "source": [
    "a.astype(int) # change data type"
   ]
  },
  {
   "cell_type": "markdown",
   "id": "aa76cee6",
   "metadata": {},
   "source": [
    "np.int64\n",
    "np.float\n",
    "np.complex\n",
    "np.bool\n",
    "np.object\n",
    "np.string_\n",
    "np.unicode_\n"
   ]
  },
  {
   "cell_type": "markdown",
   "id": "1ab47a8c",
   "metadata": {},
   "source": [
    "SOLVING AND LOADING ON DISK:"
   ]
  },
  {
   "cell_type": "code",
   "execution_count": 30,
   "id": "96cc2861",
   "metadata": {},
   "outputs": [],
   "source": [
    "np.save(\"my_array\",a)"
   ]
  },
  {
   "cell_type": "code",
   "execution_count": 31,
   "id": "3a426b4c",
   "metadata": {},
   "outputs": [],
   "source": [
    "np.save(\"my_array\",b)"
   ]
  },
  {
   "cell_type": "code",
   "execution_count": 32,
   "id": "af049690",
   "metadata": {},
   "outputs": [],
   "source": [
    "np.savez(\"array.npz\",a,b)"
   ]
  },
  {
   "cell_type": "code",
   "execution_count": 33,
   "id": "7a02d2ac",
   "metadata": {},
   "outputs": [
    {
     "data": {
      "text/plain": [
       "array([[6., 7., 8.],\n",
       "       [8., 9., 0.]])"
      ]
     },
     "execution_count": 33,
     "metadata": {},
     "output_type": "execute_result"
    }
   ],
   "source": [
    "np.load(\"my_array.npy\")"
   ]
  },
  {
   "cell_type": "markdown",
   "id": "efdd43f8",
   "metadata": {},
   "source": [
    "SOLVING & LOADING TEXT FILES:"
   ]
  },
  {
   "cell_type": "code",
   "execution_count": 34,
   "id": "051b7503",
   "metadata": {},
   "outputs": [],
   "source": [
    "from numpy import loadtxt"
   ]
  },
  {
   "cell_type": "code",
   "execution_count": 35,
   "id": "237e1688",
   "metadata": {},
   "outputs": [],
   "source": [
    "raw_data = open(\"desktop/Attribute_dataset.csv\")"
   ]
  },
  {
   "cell_type": "code",
   "execution_count": 36,
   "id": "50de8bc1",
   "metadata": {},
   "outputs": [],
   "source": [
    "data = loadtxt(raw_data,delimiter = \",\",dtype= str)"
   ]
  },
  {
   "cell_type": "code",
   "execution_count": 37,
   "id": "6eeba833",
   "metadata": {},
   "outputs": [
    {
     "data": {
      "text/plain": [
       "array([['Style', 'Price', 'Rating', ..., 'Decoration', 'Pattern Type',\n",
       "        'Recommendation'],\n",
       "       ['Sexy', 'Low', '4.6', ..., 'ruffles', 'animal', '1'],\n",
       "       ['Casual', 'Low', '0', ..., 'ruffles', 'animal', '0'],\n",
       "       ...,\n",
       "       ['Casual', 'Average', '4.7', ..., 'lace', 'solid', '1'],\n",
       "       ['Casual', 'Average', '4.6', ..., 'applique', 'print', '1'],\n",
       "       ['Casual', 'Low', '4.4', ..., 'lace', 'solid', '0']], dtype='<U15')"
      ]
     },
     "execution_count": 37,
     "metadata": {},
     "output_type": "execute_result"
    }
   ],
   "source": [
    "data"
   ]
  },
  {
   "cell_type": "code",
   "execution_count": 38,
   "id": "b469f1b5",
   "metadata": {},
   "outputs": [
    {
     "data": {
      "text/plain": [
       "numpy.ndarray"
      ]
     },
     "execution_count": 38,
     "metadata": {},
     "output_type": "execute_result"
    }
   ],
   "source": [
    "type(data)"
   ]
  },
  {
   "cell_type": "code",
   "execution_count": 39,
   "id": "0c584fd1",
   "metadata": {},
   "outputs": [
    {
     "data": {
      "text/plain": [
       "(480, 12)"
      ]
     },
     "execution_count": 39,
     "metadata": {},
     "output_type": "execute_result"
    }
   ],
   "source": [
    "data.shape"
   ]
  },
  {
   "cell_type": "code",
   "execution_count": 40,
   "id": "7a00d743",
   "metadata": {},
   "outputs": [
    {
     "data": {
      "text/plain": [
       "array(['Style', 'Price', 'Rating', 'Size', 'Season', 'NeckLine',\n",
       "       'SleeveLength', 'Material', 'FabricType', 'Decoration',\n",
       "       'Pattern Type', 'Recommendation'], dtype='<U15')"
      ]
     },
     "execution_count": 40,
     "metadata": {},
     "output_type": "execute_result"
    }
   ],
   "source": [
    "data[0]"
   ]
  },
  {
   "cell_type": "code",
   "execution_count": 41,
   "id": "7ae7f71e",
   "metadata": {},
   "outputs": [
    {
     "data": {
      "text/plain": [
       "array(['cute', 'Low', '4.5', 'M', 'Summer', 'o-neck', 'butterfly',\n",
       "       'chiffonfabric', 'chiffon', 'bow', 'dot', '0'], dtype='<U15')"
      ]
     },
     "execution_count": 41,
     "metadata": {},
     "output_type": "execute_result"
    }
   ],
   "source": [
    "data[5]"
   ]
  },
  {
   "cell_type": "code",
   "execution_count": 42,
   "id": "511de578",
   "metadata": {},
   "outputs": [
    {
     "data": {
      "text/plain": [
       "array(['Sexy', 'Low', '4.6', 'M', 'Summer', 'o-neck', 'sleevless', 'null',\n",
       "       'chiffon', 'ruffles', 'animal', '1'], dtype='<U15')"
      ]
     },
     "execution_count": 42,
     "metadata": {},
     "output_type": "execute_result"
    }
   ],
   "source": [
    "data[1]"
   ]
  },
  {
   "cell_type": "code",
   "execution_count": 43,
   "id": "d9682538",
   "metadata": {},
   "outputs": [],
   "source": [
    "y= np.loadtxt(\"desktop/my_file.txt\")"
   ]
  },
  {
   "cell_type": "code",
   "execution_count": 44,
   "id": "bf7fdb8a",
   "metadata": {},
   "outputs": [
    {
     "data": {
      "text/plain": [
       "array([[0., 1., 2., 3., 4., 5., 6., 7., 8., 9., 0.],\n",
       "       [0., 1., 2., 3., 4., 5., 6., 7., 8., 9., 0.],\n",
       "       [0., 1., 2., 3., 4., 5., 6., 7., 8., 9., 0.],\n",
       "       [0., 1., 2., 3., 4., 5., 6., 7., 8., 9., 0.],\n",
       "       [0., 1., 2., 3., 4., 5., 6., 7., 8., 9., 0.],\n",
       "       [0., 1., 2., 3., 4., 5., 6., 7., 8., 9., 0.],\n",
       "       [0., 1., 2., 3., 4., 5., 6., 7., 8., 9., 0.],\n",
       "       [0., 1., 2., 3., 4., 5., 6., 7., 8., 9., 0.],\n",
       "       [0., 1., 2., 3., 4., 5., 6., 7., 8., 9., 0.]])"
      ]
     },
     "execution_count": 44,
     "metadata": {},
     "output_type": "execute_result"
    }
   ],
   "source": [
    "y"
   ]
  },
  {
   "cell_type": "code",
   "execution_count": 45,
   "id": "1d792649",
   "metadata": {},
   "outputs": [],
   "source": [
    "y= np.genfromtxt(\"desktop/my_file.txt\")"
   ]
  },
  {
   "cell_type": "code",
   "execution_count": 46,
   "id": "f25586eb",
   "metadata": {},
   "outputs": [
    {
     "data": {
      "text/plain": [
       "array([[0., 1., 2., 3., 4., 5., 6., 7., 8., 9., 0.],\n",
       "       [0., 1., 2., 3., 4., 5., 6., 7., 8., 9., 0.],\n",
       "       [0., 1., 2., 3., 4., 5., 6., 7., 8., 9., 0.],\n",
       "       [0., 1., 2., 3., 4., 5., 6., 7., 8., 9., 0.],\n",
       "       [0., 1., 2., 3., 4., 5., 6., 7., 8., 9., 0.],\n",
       "       [0., 1., 2., 3., 4., 5., 6., 7., 8., 9., 0.],\n",
       "       [0., 1., 2., 3., 4., 5., 6., 7., 8., 9., 0.],\n",
       "       [0., 1., 2., 3., 4., 5., 6., 7., 8., 9., 0.],\n",
       "       [0., 1., 2., 3., 4., 5., 6., 7., 8., 9., 0.]])"
      ]
     },
     "execution_count": 46,
     "metadata": {},
     "output_type": "execute_result"
    }
   ],
   "source": [
    "y"
   ]
  },
  {
   "cell_type": "code",
   "execution_count": 47,
   "id": "80122f40",
   "metadata": {},
   "outputs": [],
   "source": [
    "y= np.genfromtxt(\"desktop/my_file.txt\",filling_values = 5,skip_header=1,skip_footer=1)"
   ]
  },
  {
   "cell_type": "code",
   "execution_count": 48,
   "id": "22e00cbf",
   "metadata": {},
   "outputs": [
    {
     "name": "stdout",
     "output_type": "stream",
     "text": [
      "[[0. 1. 2. 3. 4. 5. 6. 7. 8. 9. 0.]\n",
      " [0. 1. 2. 3. 4. 5. 6. 7. 8. 9. 0.]\n",
      " [0. 1. 2. 3. 4. 5. 6. 7. 8. 9. 0.]\n",
      " [0. 1. 2. 3. 4. 5. 6. 7. 8. 9. 0.]\n",
      " [0. 1. 2. 3. 4. 5. 6. 7. 8. 9. 0.]\n",
      " [0. 1. 2. 3. 4. 5. 6. 7. 8. 9. 0.]\n",
      " [0. 1. 2. 3. 4. 5. 6. 7. 8. 9. 0.]]\n"
     ]
    }
   ],
   "source": [
    "print(y)"
   ]
  },
  {
   "cell_type": "code",
   "execution_count": 49,
   "id": "33da71ff",
   "metadata": {},
   "outputs": [],
   "source": [
    "g= np.fromfile(\"desktop/my_file.txt\",count=-1)"
   ]
  },
  {
   "cell_type": "code",
   "execution_count": 50,
   "id": "4a9b3e5a",
   "metadata": {},
   "outputs": [
    {
     "name": "stdout",
     "output_type": "stream",
     "text": [
      "[1.42646471e-153 1.72480289e-153 2.81231600e-077 1.29038135e-057\n",
      " 2.38262937e-038 1.19626294e-153 1.50104926e-153 1.79938744e-153\n",
      " 4.58094356e-072 8.45868240e-053 1.56185615e-033 1.27729552e-153\n",
      " 1.57563380e-153 1.87397198e-153 3.00295427e-067 5.54481850e-048\n",
      " 7.00529198e-077 1.35188017e-153 1.65021835e-153 3.69017309e-245\n",
      " 1.96849090e-062 3.63472808e-043 2.96618322e-260 1.42646471e-153\n",
      " 1.72480289e-153]\n"
     ]
    }
   ],
   "source": [
    "print(g)"
   ]
  },
  {
   "cell_type": "code",
   "execution_count": 51,
   "id": "21d284df",
   "metadata": {},
   "outputs": [],
   "source": [
    "import numpy as np"
   ]
  },
  {
   "cell_type": "code",
   "execution_count": 52,
   "id": "e35a1501",
   "metadata": {},
   "outputs": [],
   "source": [
    "o = np.arange(1,101)"
   ]
  },
  {
   "cell_type": "code",
   "execution_count": 53,
   "id": "f964bf8c",
   "metadata": {},
   "outputs": [
    {
     "name": "stdout",
     "output_type": "stream",
     "text": [
      "[  1   2   3   4   5   6   7   8   9  10  11  12  13  14  15  16  17  18\n",
      "  19  20  21  22  23  24  25  26  27  28  29  30  31  32  33  34  35  36\n",
      "  37  38  39  40  41  42  43  44  45  46  47  48  49  50  51  52  53  54\n",
      "  55  56  57  58  59  60  61  62  63  64  65  66  67  68  69  70  71  72\n",
      "  73  74  75  76  77  78  79  80  81  82  83  84  85  86  87  88  89  90\n",
      "  91  92  93  94  95  96  97  98  99 100]\n"
     ]
    }
   ],
   "source": [
    "print(o)"
   ]
  },
  {
   "cell_type": "code",
   "execution_count": 54,
   "id": "1016ceb0",
   "metadata": {},
   "outputs": [],
   "source": [
    "p = np.savetxt(\"array.csv\",o,delimiter=\",\",fmt=\"%d\")"
   ]
  },
  {
   "cell_type": "code",
   "execution_count": 55,
   "id": "da3bc5e2",
   "metadata": {},
   "outputs": [],
   "source": [
    "m= np.arange(1,101)"
   ]
  },
  {
   "cell_type": "code",
   "execution_count": 56,
   "id": "cfc9b4ea",
   "metadata": {},
   "outputs": [],
   "source": [
    "m.tofile(\"array1.csv\" ,sep =\",\",format=\"%d\")"
   ]
  },
  {
   "cell_type": "markdown",
   "id": "0ed92fd2",
   "metadata": {},
   "source": [
    "Routines for reading data:\n",
    "    \n",
    "1.np.loadtxt()= Load data from text file.\n",
    "y = np.loadtxt(\"test.txt\")\n",
    "print(y)\n",
    "\n",
    "2.np.genfromtxt() = oad data from text file ,with missing values handled as specified.\n",
    "\n",
    "parameter        Description\n",
    "\n",
    "filename         file,filename,list,or generator to read\n",
    "delimiter        the string used to separate values\n",
    "missing_values   the set of strings corresponding to missing data\n",
    "filling_values   the set of values to be used as default when the data are missing.\n",
    "g = np.genfromtxt(\"missing_data.txt\")\n",
    "g = np.genfromtxt(\"missing_data.txt\",filling_values=5,usecols=(1,-1))\n",
    "g = np.genfromtxt(\"missing_data.txt\",filling_values=5,skip_header=1,skip_footer=1)\n",
    "print(g)\n",
    "\n",
    "3.np.fromfile()= construct array from data in a text or binary file.\n",
    "g=np.fromfile(\"missing_values.csv\",count=-1,sep=\",\")\n",
    "\n",
    "4. np.savetxt()= save data to txt file.\n",
    "   o = np.arange(1,101)\n",
    "   p = np.savetxt(\"array.csv\",o,delimiter=\",\",fmt=\"%d\")\n",
    "    \n",
    "5. np.tofile()= write array to the file as txt.\n",
    "m= np.arange(1,101)\n",
    "m.tofile(\"array1.csv\" ,sep =\",\",format=\"%d\")"
   ]
  },
  {
   "cell_type": "markdown",
   "id": "1c8e3177",
   "metadata": {},
   "source": [
    "# ARRAY MATHEMATICS:\n"
   ]
  },
  {
   "cell_type": "code",
   "execution_count": 57,
   "id": "4fba48fd",
   "metadata": {},
   "outputs": [
    {
     "data": {
      "text/plain": [
       "array([7, 9, 0])"
      ]
     },
     "execution_count": 57,
     "metadata": {},
     "output_type": "execute_result"
    }
   ],
   "source": [
    "a"
   ]
  },
  {
   "cell_type": "code",
   "execution_count": 58,
   "id": "4354ff43",
   "metadata": {},
   "outputs": [
    {
     "data": {
      "text/plain": [
       "array([[6., 7., 8.],\n",
       "       [8., 9., 0.]])"
      ]
     },
     "execution_count": 58,
     "metadata": {},
     "output_type": "execute_result"
    }
   ],
   "source": [
    "b"
   ]
  },
  {
   "cell_type": "code",
   "execution_count": 59,
   "id": "ac222daf",
   "metadata": {},
   "outputs": [
    {
     "data": {
      "text/plain": [
       "array([[6, 7, 8],\n",
       "       [8, 9, 0],\n",
       "       [0, 8, 5]])"
      ]
     },
     "execution_count": 59,
     "metadata": {},
     "output_type": "execute_result"
    }
   ],
   "source": [
    "c"
   ]
  },
  {
   "cell_type": "code",
   "execution_count": 60,
   "id": "977e5ce2",
   "metadata": {},
   "outputs": [
    {
     "data": {
      "text/plain": [
       "array([10, 12, 14, 16, 18, 20, 22, 24, 26, 28])"
      ]
     },
     "execution_count": 60,
     "metadata": {},
     "output_type": "execute_result"
    }
   ],
   "source": [
    "d"
   ]
  },
  {
   "cell_type": "code",
   "execution_count": 63,
   "id": "a9544e18",
   "metadata": {},
   "outputs": [
    {
     "data": {
      "text/plain": [
       "array([[13., 16.,  8.],\n",
       "       [15., 18.,  0.]])"
      ]
     },
     "execution_count": 63,
     "metadata": {},
     "output_type": "execute_result"
    }
   ],
   "source": [
    "a+b"
   ]
  },
  {
   "cell_type": "code",
   "execution_count": 66,
   "id": "8f3907c0",
   "metadata": {},
   "outputs": [
    {
     "data": {
      "text/plain": [
       "array([[16., 17., 18.],\n",
       "       [18., 19., 10.]])"
      ]
     },
     "execution_count": 66,
     "metadata": {},
     "output_type": "execute_result"
    }
   ],
   "source": [
    "b+2+8"
   ]
  },
  {
   "cell_type": "code",
   "execution_count": 69,
   "id": "33fb1066",
   "metadata": {},
   "outputs": [
    {
     "data": {
      "text/plain": [
       "array([[ 1.,  2., -8.],\n",
       "       [-1.,  0.,  0.]])"
      ]
     },
     "execution_count": 69,
     "metadata": {},
     "output_type": "execute_result"
    }
   ],
   "source": [
    "a-b"
   ]
  },
  {
   "cell_type": "code",
   "execution_count": 70,
   "id": "13e9606d",
   "metadata": {},
   "outputs": [
    {
     "data": {
      "text/plain": [
       "array([[ 6.,  7., -3.],\n",
       "       [ 4.,  5.,  5.]])"
      ]
     },
     "execution_count": 70,
     "metadata": {},
     "output_type": "execute_result"
    }
   ],
   "source": [
    "a-b+5"
   ]
  },
  {
   "cell_type": "code",
   "execution_count": 71,
   "id": "10ef73d3",
   "metadata": {},
   "outputs": [
    {
     "data": {
      "text/plain": [
       "array([[42., 63.,  0.],\n",
       "       [56., 81.,  0.]])"
      ]
     },
     "execution_count": 71,
     "metadata": {},
     "output_type": "execute_result"
    }
   ],
   "source": [
    "a*b"
   ]
  },
  {
   "cell_type": "code",
   "execution_count": 72,
   "id": "553def09",
   "metadata": {},
   "outputs": [
    {
     "data": {
      "text/plain": [
       "array([[44., 65.,  2.],\n",
       "       [58., 83.,  2.]])"
      ]
     },
     "execution_count": 72,
     "metadata": {},
     "output_type": "execute_result"
    }
   ],
   "source": [
    "a*b+2"
   ]
  },
  {
   "cell_type": "code",
   "execution_count": 76,
   "id": "d0ef006f",
   "metadata": {},
   "outputs": [
    {
     "name": "stderr",
     "output_type": "stream",
     "text": [
      "C:\\Users\\ACER\\AppData\\Local\\Temp\\ipykernel_11052\\1348051284.py:1: RuntimeWarning: invalid value encountered in true_divide\n",
      "  a/b\n"
     ]
    },
    {
     "data": {
      "text/plain": [
       "array([[1.16666667, 1.28571429, 0.        ],\n",
       "       [0.875     , 1.        ,        nan]])"
      ]
     },
     "execution_count": 76,
     "metadata": {},
     "output_type": "execute_result"
    }
   ],
   "source": [
    "a/b"
   ]
  },
  {
   "cell_type": "code",
   "execution_count": 77,
   "id": "eed92e07",
   "metadata": {},
   "outputs": [
    {
     "name": "stderr",
     "output_type": "stream",
     "text": [
      "C:\\Users\\ACER\\AppData\\Local\\Temp\\ipykernel_11052\\2626738034.py:1: RuntimeWarning: invalid value encountered in true_divide\n",
      "  np.divide(a,b)\n"
     ]
    },
    {
     "data": {
      "text/plain": [
       "array([[1.16666667, 1.28571429, 0.        ],\n",
       "       [0.875     , 1.        ,        nan]])"
      ]
     },
     "execution_count": 77,
     "metadata": {},
     "output_type": "execute_result"
    }
   ],
   "source": [
    "np.divide(a,b)"
   ]
  },
  {
   "cell_type": "code",
   "execution_count": 78,
   "id": "747e9911",
   "metadata": {},
   "outputs": [
    {
     "data": {
      "text/plain": [
       "array([[13., 16.,  8.],\n",
       "       [15., 18.,  0.]])"
      ]
     },
     "execution_count": 78,
     "metadata": {},
     "output_type": "execute_result"
    }
   ],
   "source": [
    "np.add(a,b)"
   ]
  },
  {
   "cell_type": "code",
   "execution_count": 79,
   "id": "169643ca",
   "metadata": {},
   "outputs": [
    {
     "data": {
      "text/plain": [
       "array([[42., 63.,  0.],\n",
       "       [56., 81.,  0.]])"
      ]
     },
     "execution_count": 79,
     "metadata": {},
     "output_type": "execute_result"
    }
   ],
   "source": [
    "np.multiply(a,b)"
   ]
  },
  {
   "cell_type": "code",
   "execution_count": 80,
   "id": "37560a84",
   "metadata": {},
   "outputs": [
    {
     "data": {
      "text/plain": [
       "array([[ 1.,  2., -8.],\n",
       "       [-1.,  0.,  0.]])"
      ]
     },
     "execution_count": 80,
     "metadata": {},
     "output_type": "execute_result"
    }
   ],
   "source": [
    "np.subtract(a,b)"
   ]
  },
  {
   "cell_type": "code",
   "execution_count": 82,
   "id": "f117a79a",
   "metadata": {},
   "outputs": [
    {
     "data": {
      "text/plain": [
       "array([1.09663316e+03, 8.10308393e+03, 1.00000000e+00])"
      ]
     },
     "execution_count": 82,
     "metadata": {},
     "output_type": "execute_result"
    }
   ],
   "source": [
    "np.exp(a)"
   ]
  },
  {
   "cell_type": "code",
   "execution_count": 83,
   "id": "4cc182df",
   "metadata": {},
   "outputs": [
    {
     "data": {
      "text/plain": [
       "array([2.64575131, 3.        , 0.        ])"
      ]
     },
     "execution_count": 83,
     "metadata": {},
     "output_type": "execute_result"
    }
   ],
   "source": [
    "np.sqrt(a)"
   ]
  },
  {
   "cell_type": "code",
   "execution_count": 84,
   "id": "8f2539ab",
   "metadata": {},
   "outputs": [
    {
     "data": {
      "text/plain": [
       "array([0.6569866 , 0.41211849, 0.        ])"
      ]
     },
     "execution_count": 84,
     "metadata": {},
     "output_type": "execute_result"
    }
   ],
   "source": [
    "np.sin(a)"
   ]
  },
  {
   "cell_type": "code",
   "execution_count": 85,
   "id": "832b2693",
   "metadata": {},
   "outputs": [
    {
     "data": {
      "text/plain": [
       "array([[ 0.96017029,  0.75390225, -0.14550003],\n",
       "       [-0.14550003, -0.91113026,  1.        ]])"
      ]
     },
     "execution_count": 85,
     "metadata": {},
     "output_type": "execute_result"
    }
   ],
   "source": [
    "np.cos(b)"
   ]
  },
  {
   "cell_type": "code",
   "execution_count": 88,
   "id": "7181e419",
   "metadata": {},
   "outputs": [
    {
     "name": "stderr",
     "output_type": "stream",
     "text": [
      "C:\\Users\\ACER\\AppData\\Local\\Temp\\ipykernel_11052\\4200754868.py:1: RuntimeWarning: divide by zero encountered in log\n",
      "  np.log(b)\n"
     ]
    },
    {
     "data": {
      "text/plain": [
       "array([[1.79175947, 1.94591015, 2.07944154],\n",
       "       [2.07944154, 2.19722458,       -inf]])"
      ]
     },
     "execution_count": 88,
     "metadata": {},
     "output_type": "execute_result"
    }
   ],
   "source": [
    "np.log(b)"
   ]
  },
  {
   "cell_type": "code",
   "execution_count": 89,
   "id": "850577ff",
   "metadata": {},
   "outputs": [
    {
     "data": {
      "text/plain": [
       "array([ 0.87144798, -0.45231566,  0.        ])"
      ]
     },
     "execution_count": 89,
     "metadata": {},
     "output_type": "execute_result"
    }
   ],
   "source": [
    "np.tan(a)"
   ]
  },
  {
   "cell_type": "code",
   "execution_count": 91,
   "id": "5ed0d548",
   "metadata": {},
   "outputs": [],
   "source": [
    "g=[2,4,5]"
   ]
  },
  {
   "cell_type": "code",
   "execution_count": 98,
   "id": "929df877",
   "metadata": {},
   "outputs": [
    {
     "data": {
      "text/plain": [
       "50"
      ]
     },
     "execution_count": 98,
     "metadata": {},
     "output_type": "execute_result"
    }
   ],
   "source": [
    "a.dot(g)"
   ]
  },
  {
   "cell_type": "code",
   "execution_count": 99,
   "id": "efc8585c",
   "metadata": {},
   "outputs": [
    {
     "data": {
      "text/plain": [
       "array([7, 9, 0])"
      ]
     },
     "execution_count": 99,
     "metadata": {},
     "output_type": "execute_result"
    }
   ],
   "source": [
    "a\n"
   ]
  },
  {
   "cell_type": "code",
   "execution_count": 100,
   "id": "d27c463f",
   "metadata": {},
   "outputs": [
    {
     "data": {
      "text/plain": [
       "[2, 4, 5]"
      ]
     },
     "execution_count": 100,
     "metadata": {},
     "output_type": "execute_result"
    }
   ],
   "source": [
    "g"
   ]
  },
  {
   "cell_type": "markdown",
   "id": "2af648ab",
   "metadata": {},
   "source": [
    "COPYING  ARRAYS:"
   ]
  },
  {
   "cell_type": "code",
   "execution_count": 103,
   "id": "f5929ff5",
   "metadata": {},
   "outputs": [],
   "source": [
    "h= a.view() # create a view"
   ]
  },
  {
   "cell_type": "code",
   "execution_count": 104,
   "id": "4671265b",
   "metadata": {},
   "outputs": [
    {
     "data": {
      "text/plain": [
       "array([7, 9, 0])"
      ]
     },
     "execution_count": 104,
     "metadata": {},
     "output_type": "execute_result"
    }
   ],
   "source": [
    "h"
   ]
  },
  {
   "cell_type": "code",
   "execution_count": 105,
   "id": "a5b1842a",
   "metadata": {},
   "outputs": [
    {
     "data": {
      "text/plain": [
       "array([7, 9, 0])"
      ]
     },
     "execution_count": 105,
     "metadata": {},
     "output_type": "execute_result"
    }
   ],
   "source": [
    "np.copy(a)"
   ]
  },
  {
   "cell_type": "code",
   "execution_count": 106,
   "id": "35cdc666",
   "metadata": {},
   "outputs": [],
   "source": [
    "h=a.copy() # create a deep view"
   ]
  },
  {
   "cell_type": "code",
   "execution_count": 107,
   "id": "61b06105",
   "metadata": {},
   "outputs": [
    {
     "data": {
      "text/plain": [
       "array([7, 9, 0])"
      ]
     },
     "execution_count": 107,
     "metadata": {},
     "output_type": "execute_result"
    }
   ],
   "source": [
    "h"
   ]
  },
  {
   "cell_type": "markdown",
   "id": "35e7ade1",
   "metadata": {},
   "source": [
    "SORTING ARRAYS:"
   ]
  },
  {
   "cell_type": "code",
   "execution_count": 113,
   "id": "ef8d6730",
   "metadata": {},
   "outputs": [],
   "source": [
    "a.sort(axis=0)"
   ]
  },
  {
   "cell_type": "code",
   "execution_count": 114,
   "id": "7f8463cd",
   "metadata": {},
   "outputs": [],
   "source": [
    "b.sort(axis=0)"
   ]
  },
  {
   "cell_type": "code",
   "execution_count": 115,
   "id": "5f40ec72",
   "metadata": {},
   "outputs": [
    {
     "data": {
      "text/plain": [
       "array([0, 7, 9])"
      ]
     },
     "execution_count": 115,
     "metadata": {},
     "output_type": "execute_result"
    }
   ],
   "source": [
    "a"
   ]
  },
  {
   "cell_type": "code",
   "execution_count": 116,
   "id": "54d3faef",
   "metadata": {},
   "outputs": [
    {
     "data": {
      "text/plain": [
       "array([[6., 7., 0.],\n",
       "       [8., 9., 8.]])"
      ]
     },
     "execution_count": 116,
     "metadata": {},
     "output_type": "execute_result"
    }
   ],
   "source": [
    "b"
   ]
  },
  {
   "cell_type": "markdown",
   "id": "817b1408",
   "metadata": {},
   "source": [
    "ARRAY MANIPULATION:"
   ]
  },
  {
   "cell_type": "markdown",
   "id": "4b2a3e40",
   "metadata": {},
   "source": [
    "TRANSPOSING ARRAY:"
   ]
  },
  {
   "cell_type": "code",
   "execution_count": 125,
   "id": "15ba3e5c",
   "metadata": {},
   "outputs": [],
   "source": [
    "i= np.transpose(b)"
   ]
  },
  {
   "cell_type": "code",
   "execution_count": 126,
   "id": "3bc7b386",
   "metadata": {},
   "outputs": [
    {
     "data": {
      "text/plain": [
       "array([[6., 8.],\n",
       "       [7., 9.],\n",
       "       [0., 8.]])"
      ]
     },
     "execution_count": 126,
     "metadata": {},
     "output_type": "execute_result"
    }
   ],
   "source": [
    "i"
   ]
  },
  {
   "cell_type": "markdown",
   "id": "d9f50bc0",
   "metadata": {},
   "source": [
    "CHANGING ARRAYS SHAPE:"
   ]
  },
  {
   "cell_type": "code",
   "execution_count": 128,
   "id": "2169738f",
   "metadata": {},
   "outputs": [
    {
     "data": {
      "text/plain": [
       "array([6., 7., 0., 8., 9., 8.])"
      ]
     },
     "execution_count": 128,
     "metadata": {},
     "output_type": "execute_result"
    }
   ],
   "source": [
    "b.ravel()"
   ]
  },
  {
   "cell_type": "code",
   "execution_count": 136,
   "id": "7f354077",
   "metadata": {},
   "outputs": [
    {
     "data": {
      "text/plain": [
       "array([[6., 7.],\n",
       "       [0., 8.],\n",
       "       [9., 8.]])"
      ]
     },
     "execution_count": 136,
     "metadata": {},
     "output_type": "execute_result"
    }
   ],
   "source": [
    "b.reshape(-1,2)"
   ]
  },
  {
   "cell_type": "code",
   "execution_count": 137,
   "id": "a1277549",
   "metadata": {},
   "outputs": [
    {
     "data": {
      "text/plain": [
       "array([[6., 7., 0., 8., 9., 8.]])"
      ]
     },
     "execution_count": 137,
     "metadata": {},
     "output_type": "execute_result"
    }
   ],
   "source": [
    "b.reshape(1,-2)"
   ]
  },
  {
   "cell_type": "markdown",
   "id": "37b15ce8",
   "metadata": {},
   "source": [
    "ADDING AND REMOVING ELEMENTS:"
   ]
  },
  {
   "cell_type": "code",
   "execution_count": 158,
   "id": "1aa5531b",
   "metadata": {},
   "outputs": [],
   "source": [
    "h= b.copy()"
   ]
  },
  {
   "cell_type": "code",
   "execution_count": 159,
   "id": "b0a6542f",
   "metadata": {},
   "outputs": [
    {
     "data": {
      "text/plain": [
       "array([[6., 7., 0.],\n",
       "       [8., 9., 8.]])"
      ]
     },
     "execution_count": 159,
     "metadata": {},
     "output_type": "execute_result"
    }
   ],
   "source": [
    "h"
   ]
  },
  {
   "cell_type": "code",
   "execution_count": 168,
   "id": "1740635b",
   "metadata": {},
   "outputs": [
    {
     "data": {
      "text/plain": [
       "array([0., 7., 9., 6., 7., 0., 8., 9., 8.])"
      ]
     },
     "execution_count": 168,
     "metadata": {},
     "output_type": "execute_result"
    }
   ],
   "source": [
    "np.append(a,b)"
   ]
  },
  {
   "cell_type": "code",
   "execution_count": 176,
   "id": "26165161",
   "metadata": {},
   "outputs": [
    {
     "data": {
      "text/plain": [
       "array([0, 7, 9, 6])"
      ]
     },
     "execution_count": 176,
     "metadata": {},
     "output_type": "execute_result"
    }
   ],
   "source": [
    "np.insert(a,3,6)"
   ]
  },
  {
   "cell_type": "code",
   "execution_count": 180,
   "id": "f5ab2815",
   "metadata": {},
   "outputs": [
    {
     "data": {
      "text/plain": [
       "array([0, 9])"
      ]
     },
     "execution_count": 180,
     "metadata": {},
     "output_type": "execute_result"
    }
   ],
   "source": [
    "np.delete(a,[1])"
   ]
  },
  {
   "cell_type": "markdown",
   "id": "f5f0c902",
   "metadata": {},
   "source": [
    "COMBINING ARRAYS:"
   ]
  },
  {
   "cell_type": "code",
   "execution_count": 185,
   "id": "9ed0ac6f",
   "metadata": {},
   "outputs": [
    {
     "data": {
      "text/plain": [
       "array([0, 7, 9, 2, 4, 5])"
      ]
     },
     "execution_count": 185,
     "metadata": {},
     "output_type": "execute_result"
    }
   ],
   "source": [
    "np.concatenate((a,g)) # must be of same dimension"
   ]
  },
  {
   "cell_type": "code",
   "execution_count": 186,
   "id": "b6e35bc3",
   "metadata": {},
   "outputs": [
    {
     "data": {
      "text/plain": [
       "array([[0, 7, 9],\n",
       "       [2, 4, 5]])"
      ]
     },
     "execution_count": 186,
     "metadata": {},
     "output_type": "execute_result"
    }
   ],
   "source": [
    "np.vstack((a,g))"
   ]
  },
  {
   "cell_type": "code",
   "execution_count": 187,
   "id": "1e14fea1",
   "metadata": {},
   "outputs": [
    {
     "data": {
      "text/plain": [
       "array([0, 7, 9, 2, 4, 5])"
      ]
     },
     "execution_count": 187,
     "metadata": {},
     "output_type": "execute_result"
    }
   ],
   "source": [
    "np.hstack((a,g))"
   ]
  },
  {
   "cell_type": "markdown",
   "id": "aa896629",
   "metadata": {},
   "source": [
    "SPLITTING ARRAY:"
   ]
  },
  {
   "cell_type": "code",
   "execution_count": 191,
   "id": "0f411b92",
   "metadata": {},
   "outputs": [
    {
     "data": {
      "text/plain": [
       "[array([0]), array([7]), array([9])]"
      ]
     },
     "execution_count": 191,
     "metadata": {},
     "output_type": "execute_result"
    }
   ],
   "source": [
    "np.hsplit(a,3)"
   ]
  },
  {
   "cell_type": "code",
   "execution_count": 203,
   "id": "9be4d9ac",
   "metadata": {},
   "outputs": [
    {
     "data": {
      "text/plain": [
       "[array([[6., 7., 0.]]), array([[8., 9., 8.]])]"
      ]
     },
     "execution_count": 203,
     "metadata": {},
     "output_type": "execute_result"
    }
   ],
   "source": [
    "np.vsplit(b,2)"
   ]
  },
  {
   "cell_type": "code",
   "execution_count": 207,
   "id": "b2d101ea",
   "metadata": {},
   "outputs": [
    {
     "data": {
      "text/plain": [
       "[array([[6, 7, 8],\n",
       "        [8, 9, 0],\n",
       "        [0, 8, 5]])]"
      ]
     },
     "execution_count": 207,
     "metadata": {},
     "output_type": "execute_result"
    }
   ],
   "source": [
    "np.vsplit(c,1)"
   ]
  },
  {
   "cell_type": "markdown",
   "id": "2c247071",
   "metadata": {},
   "source": [
    "SUBSETTING:"
   ]
  },
  {
   "cell_type": "code",
   "execution_count": 218,
   "id": "b43df6ef",
   "metadata": {},
   "outputs": [
    {
     "data": {
      "text/plain": [
       "7.0"
      ]
     },
     "execution_count": 218,
     "metadata": {},
     "output_type": "execute_result"
    }
   ],
   "source": [
    "b[0,1]"
   ]
  },
  {
   "cell_type": "code",
   "execution_count": 211,
   "id": "8d3b37e3",
   "metadata": {},
   "outputs": [
    {
     "data": {
      "text/plain": [
       "array([[6., 7., 0.],\n",
       "       [8., 9., 8.]])"
      ]
     },
     "execution_count": 211,
     "metadata": {},
     "output_type": "execute_result"
    }
   ],
   "source": [
    "b"
   ]
  },
  {
   "cell_type": "markdown",
   "id": "04c0e79b",
   "metadata": {},
   "source": [
    "SLICING:"
   ]
  },
  {
   "cell_type": "code",
   "execution_count": 221,
   "id": "cdccc122",
   "metadata": {},
   "outputs": [
    {
     "data": {
      "text/plain": [
       "array([0, 7])"
      ]
     },
     "execution_count": 221,
     "metadata": {},
     "output_type": "execute_result"
    }
   ],
   "source": [
    "a[0:2]"
   ]
  },
  {
   "cell_type": "code",
   "execution_count": 220,
   "id": "1c76e4af",
   "metadata": {},
   "outputs": [
    {
     "data": {
      "text/plain": [
       "array([0, 7, 9])"
      ]
     },
     "execution_count": 220,
     "metadata": {},
     "output_type": "execute_result"
    }
   ],
   "source": [
    "a"
   ]
  },
  {
   "cell_type": "code",
   "execution_count": 231,
   "id": "60578872",
   "metadata": {},
   "outputs": [
    {
     "data": {
      "text/plain": [
       "array([[6., 7., 0.]])"
      ]
     },
     "execution_count": 231,
     "metadata": {},
     "output_type": "execute_result"
    }
   ],
   "source": [
    "b[0:1]"
   ]
  },
  {
   "cell_type": "markdown",
   "id": "d50b0940",
   "metadata": {},
   "source": [
    "BOOLEAN INDEXING:"
   ]
  },
  {
   "cell_type": "code",
   "execution_count": 234,
   "id": "0e2441cc",
   "metadata": {},
   "outputs": [
    {
     "data": {
      "text/plain": [
       "array([0, 7, 9])"
      ]
     },
     "execution_count": 234,
     "metadata": {},
     "output_type": "execute_result"
    }
   ],
   "source": [
    "a[a<10]"
   ]
  },
  {
   "cell_type": "code",
   "execution_count": 235,
   "id": "2ddd025a",
   "metadata": {},
   "outputs": [
    {
     "data": {
      "text/plain": [
       "array([6., 7., 0., 8., 9., 8.])"
      ]
     },
     "execution_count": 235,
     "metadata": {},
     "output_type": "execute_result"
    }
   ],
   "source": [
    "b[b<10]"
   ]
  },
  {
   "cell_type": "code",
   "execution_count": null,
   "id": "265fdb84",
   "metadata": {},
   "outputs": [],
   "source": []
  }
 ],
 "metadata": {
  "kernelspec": {
   "display_name": "Python 3 (ipykernel)",
   "language": "python",
   "name": "python3"
  },
  "language_info": {
   "codemirror_mode": {
    "name": "ipython",
    "version": 3
   },
   "file_extension": ".py",
   "mimetype": "text/x-python",
   "name": "python",
   "nbconvert_exporter": "python",
   "pygments_lexer": "ipython3",
   "version": "3.9.12"
  }
 },
 "nbformat": 4,
 "nbformat_minor": 5
}
