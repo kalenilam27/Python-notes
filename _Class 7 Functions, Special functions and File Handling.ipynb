{
 "cells": [
  {
   "cell_type": "markdown",
   "id": "17551269",
   "metadata": {},
   "source": [
    "# Class 7 Functions, Special functions and File Handling"
   ]
  },
  {
   "cell_type": "code",
   "execution_count": 1,
   "id": "c9a738ca",
   "metadata": {},
   "outputs": [],
   "source": [
    "list1=[1,2,3,4,5,6]"
   ]
  },
  {
   "cell_type": "code",
   "execution_count": 2,
   "id": "723161df",
   "metadata": {},
   "outputs": [
    {
     "name": "stdout",
     "output_type": "stream",
     "text": [
      "1\n",
      "2\n",
      "3\n",
      "4\n",
      "5\n",
      "6\n"
     ]
    }
   ],
   "source": [
    "for i in list1:\n",
    "    print(i)"
   ]
  },
  {
   "cell_type": "code",
   "execution_count": 3,
   "id": "88743fb3",
   "metadata": {},
   "outputs": [
    {
     "ename": "TypeError",
     "evalue": "'list' object is not an iterator",
     "output_type": "error",
     "traceback": [
      "\u001b[1;31m---------------------------------------------------------------------------\u001b[0m",
      "\u001b[1;31mTypeError\u001b[0m                                 Traceback (most recent call last)",
      "Input \u001b[1;32mIn [3]\u001b[0m, in \u001b[0;36m<cell line: 1>\u001b[1;34m()\u001b[0m\n\u001b[1;32m----> 1\u001b[0m \u001b[38;5;28;43mnext\u001b[39;49m\u001b[43m(\u001b[49m\u001b[43mlist1\u001b[49m\u001b[43m)\u001b[49m\n",
      "\u001b[1;31mTypeError\u001b[0m: 'list' object is not an iterator"
     ]
    }
   ],
   "source": [
    "next(list1)"
   ]
  },
  {
   "cell_type": "code",
   "execution_count": 7,
   "id": "1a06b382",
   "metadata": {},
   "outputs": [],
   "source": [
    "b= iter(list1)"
   ]
  },
  {
   "cell_type": "code",
   "execution_count": 9,
   "id": "5c9280a7",
   "metadata": {},
   "outputs": [
    {
     "data": {
      "text/plain": [
       "1"
      ]
     },
     "execution_count": 9,
     "metadata": {},
     "output_type": "execute_result"
    }
   ],
   "source": [
    "next(b)"
   ]
  },
  {
   "cell_type": "code",
   "execution_count": 10,
   "id": "327cecbf",
   "metadata": {},
   "outputs": [
    {
     "data": {
      "text/plain": [
       "2"
      ]
     },
     "execution_count": 10,
     "metadata": {},
     "output_type": "execute_result"
    }
   ],
   "source": [
    "next(b)"
   ]
  },
  {
   "cell_type": "code",
   "execution_count": 11,
   "id": "85ddd924",
   "metadata": {},
   "outputs": [
    {
     "data": {
      "text/plain": [
       "3"
      ]
     },
     "execution_count": 11,
     "metadata": {},
     "output_type": "execute_result"
    }
   ],
   "source": [
    "next(b)"
   ]
  },
  {
   "cell_type": "code",
   "execution_count": 16,
   "id": "8f710fb7",
   "metadata": {},
   "outputs": [],
   "source": [
    "list2=\"nilam\""
   ]
  },
  {
   "cell_type": "code",
   "execution_count": 17,
   "id": "683ab9c1",
   "metadata": {},
   "outputs": [
    {
     "name": "stdout",
     "output_type": "stream",
     "text": [
      "n\n",
      "i\n",
      "l\n",
      "a\n",
      "m\n"
     ]
    }
   ],
   "source": [
    "for i in list2:\n",
    "    print(i)"
   ]
  },
  {
   "cell_type": "code",
   "execution_count": 18,
   "id": "89788a17",
   "metadata": {},
   "outputs": [],
   "source": [
    "c=iter(list2)"
   ]
  },
  {
   "cell_type": "code",
   "execution_count": 19,
   "id": "93cacac2",
   "metadata": {},
   "outputs": [
    {
     "data": {
      "text/plain": [
       "'n'"
      ]
     },
     "execution_count": 19,
     "metadata": {},
     "output_type": "execute_result"
    }
   ],
   "source": [
    "next(c)"
   ]
  },
  {
   "cell_type": "code",
   "execution_count": 20,
   "id": "258e10f6",
   "metadata": {},
   "outputs": [
    {
     "data": {
      "text/plain": [
       "'i'"
      ]
     },
     "execution_count": 20,
     "metadata": {},
     "output_type": "execute_result"
    }
   ],
   "source": [
    "next(c)"
   ]
  },
  {
   "cell_type": "markdown",
   "id": "1f71e1ed",
   "metadata": {},
   "source": [
    "#for loop uses iter(), next() and len() function internally"
   ]
  },
  {
   "cell_type": "code",
   "execution_count": 21,
   "id": "36e6011e",
   "metadata": {},
   "outputs": [],
   "source": [
    "t=(7,8,9,0)"
   ]
  },
  {
   "cell_type": "code",
   "execution_count": 22,
   "id": "2ffbe3e2",
   "metadata": {},
   "outputs": [],
   "source": [
    "t=iter(t)"
   ]
  },
  {
   "cell_type": "code",
   "execution_count": 23,
   "id": "98a3a9e6",
   "metadata": {},
   "outputs": [
    {
     "data": {
      "text/plain": [
       "7"
      ]
     },
     "execution_count": 23,
     "metadata": {},
     "output_type": "execute_result"
    }
   ],
   "source": [
    "next(t)"
   ]
  },
  {
   "cell_type": "code",
   "execution_count": 24,
   "id": "ccae8952",
   "metadata": {},
   "outputs": [
    {
     "data": {
      "text/plain": [
       "8"
      ]
     },
     "execution_count": 24,
     "metadata": {},
     "output_type": "execute_result"
    }
   ],
   "source": [
    "next(t)"
   ]
  },
  {
   "cell_type": "code",
   "execution_count": 25,
   "id": "7107bdcc",
   "metadata": {},
   "outputs": [
    {
     "data": {
      "text/plain": [
       "9"
      ]
     },
     "execution_count": 25,
     "metadata": {},
     "output_type": "execute_result"
    }
   ],
   "source": [
    "next(t)"
   ]
  },
  {
   "cell_type": "code",
   "execution_count": 26,
   "id": "346e8e52",
   "metadata": {},
   "outputs": [
    {
     "data": {
      "text/plain": [
       "0"
      ]
     },
     "execution_count": 26,
     "metadata": {},
     "output_type": "execute_result"
    }
   ],
   "source": [
    "next(t)"
   ]
  },
  {
   "cell_type": "code",
   "execution_count": 27,
   "id": "68ff2652",
   "metadata": {},
   "outputs": [
    {
     "ename": "StopIteration",
     "evalue": "",
     "output_type": "error",
     "traceback": [
      "\u001b[1;31m---------------------------------------------------------------------------\u001b[0m",
      "\u001b[1;31mStopIteration\u001b[0m                             Traceback (most recent call last)",
      "Input \u001b[1;32mIn [27]\u001b[0m, in \u001b[0;36m<cell line: 1>\u001b[1;34m()\u001b[0m\n\u001b[1;32m----> 1\u001b[0m \u001b[38;5;28;43mnext\u001b[39;49m\u001b[43m(\u001b[49m\u001b[43mt\u001b[49m\u001b[43m)\u001b[49m\n",
      "\u001b[1;31mStopIteration\u001b[0m: "
     ]
    }
   ],
   "source": [
    "next(t)"
   ]
  },
  {
   "cell_type": "markdown",
   "id": "c773d8b3",
   "metadata": {},
   "source": [
    "#generator function"
   ]
  },
  {
   "cell_type": "code",
   "execution_count": 39,
   "id": "6a25bd17",
   "metadata": {},
   "outputs": [
    {
     "data": {
      "text/plain": [
       "[1, 2, 3, 4, 5, 6, 7, 8, 9, 10]"
      ]
     },
     "execution_count": 39,
     "metadata": {},
     "output_type": "execute_result"
    }
   ],
   "source": [
    "list(range(1,11))"
   ]
  },
  {
   "cell_type": "code",
   "execution_count": 40,
   "id": "22b003e1",
   "metadata": {},
   "outputs": [],
   "source": [
    "def gen():\n",
    "    l=[]\n",
    "    for i in list(range(1,11)):\n",
    "        sq= i**2\n",
    "        l.append(sq)\n",
    "    return l"
   ]
  },
  {
   "cell_type": "code",
   "execution_count": 41,
   "id": "be18779c",
   "metadata": {},
   "outputs": [
    {
     "data": {
      "text/plain": [
       "[1, 4, 9, 16, 25, 36, 49, 64, 81, 100]"
      ]
     },
     "execution_count": 41,
     "metadata": {},
     "output_type": "execute_result"
    }
   ],
   "source": [
    "gen()"
   ]
  },
  {
   "cell_type": "code",
   "execution_count": 56,
   "id": "3e3ad43b",
   "metadata": {},
   "outputs": [],
   "source": [
    "def square_fun(n):\n",
    "    x = [ i*i for i in range(n+1)]\n",
    "    return x"
   ]
  },
  {
   "cell_type": "code",
   "execution_count": 57,
   "id": "ff05d55a",
   "metadata": {},
   "outputs": [
    {
     "data": {
      "text/plain": [
       "[0, 1, 4, 9, 16, 25, 36, 49, 64, 81]"
      ]
     },
     "execution_count": 57,
     "metadata": {},
     "output_type": "execute_result"
    }
   ],
   "source": [
    "square_fun(9)"
   ]
  },
  {
   "cell_type": "code",
   "execution_count": 60,
   "id": "f6ffa649",
   "metadata": {},
   "outputs": [],
   "source": [
    "# Range like function\n",
    "\n",
    "def square_fun1(n):\n",
    "    x = [i*i for i in range(n)]\n",
    "    yield x"
   ]
  },
  {
   "cell_type": "code",
   "execution_count": 61,
   "id": "5701115a",
   "metadata": {},
   "outputs": [
    {
     "data": {
      "text/plain": [
       "<generator object square_fun1 at 0x00000196F7DB14A0>"
      ]
     },
     "execution_count": 61,
     "metadata": {},
     "output_type": "execute_result"
    }
   ],
   "source": [
    "square_fun1(6)"
   ]
  },
  {
   "cell_type": "code",
   "execution_count": 64,
   "id": "deceb324",
   "metadata": {},
   "outputs": [
    {
     "name": "stdout",
     "output_type": "stream",
     "text": [
      "0\n",
      "1\n",
      "4\n",
      "9\n",
      "16\n"
     ]
    }
   ],
   "source": [
    "for i in square_fun(4):\n",
    "    print(i)"
   ]
  },
  {
   "cell_type": "code",
   "execution_count": 65,
   "id": "96f8ec92",
   "metadata": {},
   "outputs": [
    {
     "name": "stdout",
     "output_type": "stream",
     "text": [
      "0\n",
      "1\n",
      "2\n",
      "3\n"
     ]
    }
   ],
   "source": [
    "for i in range(4):\n",
    "    print(i)"
   ]
  },
  {
   "cell_type": "code",
   "execution_count": 67,
   "id": "7ee4307a",
   "metadata": {},
   "outputs": [
    {
     "data": {
      "text/plain": [
       "[0, 1, 4, 9]"
      ]
     },
     "execution_count": 67,
     "metadata": {},
     "output_type": "execute_result"
    }
   ],
   "source": [
    "next(square_fun1(4))"
   ]
  },
  {
   "cell_type": "code",
   "execution_count": 68,
   "id": "81d82135",
   "metadata": {},
   "outputs": [
    {
     "ename": "TypeError",
     "evalue": "'range' object is not an iterator",
     "output_type": "error",
     "traceback": [
      "\u001b[1;31m---------------------------------------------------------------------------\u001b[0m",
      "\u001b[1;31mTypeError\u001b[0m                                 Traceback (most recent call last)",
      "Input \u001b[1;32mIn [68]\u001b[0m, in \u001b[0;36m<cell line: 1>\u001b[1;34m()\u001b[0m\n\u001b[1;32m----> 1\u001b[0m \u001b[38;5;28;43mnext\u001b[39;49m\u001b[43m(\u001b[49m\u001b[38;5;28;43mrange\u001b[39;49m\u001b[43m(\u001b[49m\u001b[38;5;241;43m4\u001b[39;49m\u001b[43m)\u001b[49m\u001b[43m)\u001b[49m\n",
      "\u001b[1;31mTypeError\u001b[0m: 'range' object is not an iterator"
     ]
    }
   ],
   "source": [
    "next(range(4))"
   ]
  },
  {
   "cell_type": "code",
   "execution_count": 69,
   "id": "6dd1f59a",
   "metadata": {},
   "outputs": [],
   "source": [
    "R = iter(range(4))"
   ]
  },
  {
   "cell_type": "code",
   "execution_count": 70,
   "id": "f7623071",
   "metadata": {},
   "outputs": [
    {
     "data": {
      "text/plain": [
       "0"
      ]
     },
     "execution_count": 70,
     "metadata": {},
     "output_type": "execute_result"
    }
   ],
   "source": [
    "next(R)"
   ]
  },
  {
   "cell_type": "code",
   "execution_count": 71,
   "id": "429b73c2",
   "metadata": {},
   "outputs": [
    {
     "data": {
      "text/plain": [
       "1"
      ]
     },
     "execution_count": 71,
     "metadata": {},
     "output_type": "execute_result"
    }
   ],
   "source": [
    "next(R)"
   ]
  },
  {
   "cell_type": "code",
   "execution_count": 72,
   "id": "8db973a3",
   "metadata": {},
   "outputs": [
    {
     "data": {
      "text/plain": [
       "2"
      ]
     },
     "execution_count": 72,
     "metadata": {},
     "output_type": "execute_result"
    }
   ],
   "source": [
    "next(R)"
   ]
  },
  {
   "cell_type": "code",
   "execution_count": 73,
   "id": "4759643e",
   "metadata": {},
   "outputs": [
    {
     "data": {
      "text/plain": [
       "3"
      ]
     },
     "execution_count": 73,
     "metadata": {},
     "output_type": "execute_result"
    }
   ],
   "source": [
    "next(R)"
   ]
  },
  {
   "cell_type": "code",
   "execution_count": 78,
   "id": "edf9ab0c",
   "metadata": {},
   "outputs": [],
   "source": [
    "def genfib(n):\n",
    "    a  =1\n",
    "    b = 1\n",
    "    l = []\n",
    "    for i in range(n):\n",
    "        l.append(a)\n",
    "        a,b = b, a+b\n",
    "    return l\n",
    "        \n",
    "    "
   ]
  },
  {
   "cell_type": "code",
   "execution_count": 79,
   "id": "dea10199",
   "metadata": {},
   "outputs": [
    {
     "data": {
      "text/plain": [
       "[1, 1, 2, 3, 5, 8, 13, 21, 34, 55]"
      ]
     },
     "execution_count": 79,
     "metadata": {},
     "output_type": "execute_result"
    }
   ],
   "source": [
    "genfib(10)"
   ]
  },
  {
   "cell_type": "code",
   "execution_count": 84,
   "id": "e6509bc0",
   "metadata": {},
   "outputs": [],
   "source": [
    "def genfib1(n):\n",
    "    a=1\n",
    "    b=1\n",
    "    for i in range (n):\n",
    "        yield a\n",
    "        a,b= b,a+b"
   ]
  },
  {
   "cell_type": "code",
   "execution_count": 86,
   "id": "3558b2a6",
   "metadata": {},
   "outputs": [
    {
     "name": "stdout",
     "output_type": "stream",
     "text": [
      "1\n",
      "1\n",
      "2\n",
      "3\n",
      "5\n",
      "8\n",
      "13\n",
      "21\n",
      "34\n",
      "55\n"
     ]
    }
   ],
   "source": [
    "for i in genfib1(10):   # generator function will not use resourses completely and other programs can be used\n",
    "    print(i)"
   ]
  },
  {
   "cell_type": "markdown",
   "id": "9eb1e953",
   "metadata": {},
   "source": [
    "# file operation"
   ]
  },
  {
   "cell_type": "code",
   "execution_count": 125,
   "id": "fb2115f0",
   "metadata": {},
   "outputs": [
    {
     "ename": "FileNotFoundError",
     "evalue": "[Errno 2] No such file or directory: 'sudh.txt'",
     "output_type": "error",
     "traceback": [
      "\u001b[1;31m---------------------------------------------------------------------------\u001b[0m",
      "\u001b[1;31mFileNotFoundError\u001b[0m                         Traceback (most recent call last)",
      "Input \u001b[1;32mIn [125]\u001b[0m, in \u001b[0;36m<cell line: 2>\u001b[1;34m()\u001b[0m\n\u001b[0;32m      1\u001b[0m f\u001b[38;5;241m=\u001b[39m[\u001b[38;5;241m1\u001b[39m,\u001b[38;5;241m3\u001b[39m,\u001b[38;5;241m4\u001b[39m]\n\u001b[1;32m----> 2\u001b[0m f \u001b[38;5;241m=\u001b[39m \u001b[38;5;28;43mopen\u001b[39;49m\u001b[43m(\u001b[49m\u001b[38;5;124;43m\"\u001b[39;49m\u001b[38;5;124;43msudh.txt\u001b[39;49m\u001b[38;5;124;43m\"\u001b[39;49m\u001b[43m)\u001b[49m\n",
      "\u001b[1;31mFileNotFoundError\u001b[0m: [Errno 2] No such file or directory: 'sudh.txt'"
     ]
    }
   ],
   "source": [
    "f=[1,3,4]\n",
    "f = open(\"sudh.txt\")"
   ]
  },
  {
   "cell_type": "code",
   "execution_count": 94,
   "id": "da2a50c0",
   "metadata": {},
   "outputs": [
    {
     "name": "stdout",
     "output_type": "stream",
     "text": [
      " Volume in drive C has no label.\n",
      " Volume Serial Number is 8435-4E31\n",
      "\n",
      " Directory of C:\\Users\\ACER\n",
      "\n",
      "02-11-2022  17:37            19,077  Class 8 Functions, Special functions and File Handling.ipynb\n",
      "02-11-2022  17:37    <DIR>          .\n",
      "02-11-2022  17:37    <DIR>          ..\n",
      "05-09-2022  11:53    <DIR>          .idlerc\n",
      "02-11-2022  16:28    <DIR>          .ipynb_checkpoints\n",
      "30-09-2022  14:11    <DIR>          .ipython\n",
      "30-09-2022  16:07    <DIR>          .jupyter\n",
      "30-09-2022  14:16    <DIR>          .matplotlib\n",
      "18-09-2022  12:13    <DIR>          .ms-ad\n",
      "28-08-2022  16:10    <DIR>          3D Objects\n",
      "04-10-2022  17:51            39,495 Class 1 String .ipynb\n",
      "06-10-2022  18:29            59,112 Class 2 List, Set, Tuple, Dict.ipynb\n",
      "11-10-2022  11:59            44,119 Class 3 Conditional statement - if , elif, else.ipynb\n",
      "11-10-2022  17:36            20,545 Class 4 For loop.ipynb\n",
      "31-10-2022  16:15           139,029 Class 5 While loop and functions basic.ipynb\n",
      "02-11-2022  16:25            31,339 Class 6 Exception handling.ipynb\n",
      "28-08-2022  16:10    <DIR>          Contacts\n",
      "11-10-2022  06:45    <DIR>          Desktop\n",
      "02-10-2022  13:48    <DIR>          Documents\n",
      "03-10-2022  16:11             3,581 Doument of EDA.ipynb\n",
      "06-10-2022  23:52    <DIR>          Downloads\n",
      "28-08-2022  16:10    <DIR>          Favorites\n",
      "28-08-2022  16:10    <DIR>          Links\n",
      "15-09-2022  21:15    <DIR>          MediaGet2\n",
      "28-08-2022  16:10    <DIR>          Music\n",
      "12-10-2022  12:37            16,047 Numpy Excersice.ipynb\n",
      "02-11-2022  15:10    <DIR>          OneDrive\n",
      "21-09-2022  18:37    <DIR>          Pictures\n",
      "05-09-2022  17:45    <DIR>          PycharmProjects\n",
      "02-10-2022  18:06            10,628 Python  Assignment 01\n",
      "28-08-2022  16:10    <DIR>          Saved Games\n",
      "28-08-2022  16:13    <DIR>          Searches\n",
      "01-10-2022  18:23           234,470 Spotify songs EDA dataset project.ipynb\n",
      "09-09-2022  11:00    <DIR>          Videos\n",
      "              11 File(s)        617,442 bytes\n",
      "              23 Dir(s)  70,985,048,064 bytes free\n"
     ]
    }
   ],
   "source": [
    "ls"
   ]
  },
  {
   "cell_type": "code",
   "execution_count": 126,
   "id": "b2337a48",
   "metadata": {},
   "outputs": [],
   "source": [
    "f = open(\"sudh1.txt\",\"w\")"
   ]
  },
  {
   "cell_type": "code",
   "execution_count": 127,
   "id": "e4001791",
   "metadata": {},
   "outputs": [
    {
     "data": {
      "text/plain": [
       "36"
      ]
     },
     "execution_count": 127,
     "metadata": {},
     "output_type": "execute_result"
    }
   ],
   "source": [
    "f.write(\"this is my very first file operation\")"
   ]
  },
  {
   "cell_type": "code",
   "execution_count": 128,
   "id": "e3ebca55",
   "metadata": {},
   "outputs": [],
   "source": [
    "f.close()"
   ]
  },
  {
   "cell_type": "code",
   "execution_count": 100,
   "id": "085e08a6",
   "metadata": {},
   "outputs": [
    {
     "name": "stdout",
     "output_type": "stream",
     "text": [
      " Volume in drive C has no label.\n",
      " Volume Serial Number is 8435-4E31\n",
      "\n",
      " Directory of C:\\Users\\ACER\n",
      "\n",
      "02-11-2022  17:43            18,523  Class 8 Functions, Special functions and File Handling.ipynb\n",
      "02-11-2022  17:43    <DIR>          .\n",
      "02-11-2022  17:43    <DIR>          ..\n",
      "05-09-2022  11:53    <DIR>          .idlerc\n",
      "02-11-2022  16:28    <DIR>          .ipynb_checkpoints\n",
      "30-09-2022  14:11    <DIR>          .ipython\n",
      "30-09-2022  16:07    <DIR>          .jupyter\n",
      "30-09-2022  14:16    <DIR>          .matplotlib\n",
      "18-09-2022  12:13    <DIR>          .ms-ad\n",
      "28-08-2022  16:10    <DIR>          3D Objects\n",
      "04-10-2022  17:51            39,495 Class 1 String .ipynb\n",
      "06-10-2022  18:29            59,112 Class 2 List, Set, Tuple, Dict.ipynb\n",
      "11-10-2022  11:59            44,119 Class 3 Conditional statement - if , elif, else.ipynb\n",
      "11-10-2022  17:36            20,545 Class 4 For loop.ipynb\n",
      "31-10-2022  16:15           139,029 Class 5 While loop and functions basic.ipynb\n",
      "02-11-2022  16:25            31,339 Class 6 Exception handling.ipynb\n",
      "28-08-2022  16:10    <DIR>          Contacts\n",
      "11-10-2022  06:45    <DIR>          Desktop\n",
      "02-10-2022  13:48    <DIR>          Documents\n",
      "03-10-2022  16:11             3,581 Doument of EDA.ipynb\n",
      "06-10-2022  23:52    <DIR>          Downloads\n",
      "28-08-2022  16:10    <DIR>          Favorites\n",
      "28-08-2022  16:10    <DIR>          Links\n",
      "15-09-2022  21:15    <DIR>          MediaGet2\n",
      "28-08-2022  16:10    <DIR>          Music\n",
      "12-10-2022  12:37            16,047 Numpy Excersice.ipynb\n",
      "02-11-2022  15:10    <DIR>          OneDrive\n",
      "21-09-2022  18:37    <DIR>          Pictures\n",
      "05-09-2022  17:45    <DIR>          PycharmProjects\n",
      "02-10-2022  18:06            10,628 Python  Assignment 01\n",
      "28-08-2022  16:10    <DIR>          Saved Games\n",
      "28-08-2022  16:13    <DIR>          Searches\n",
      "01-10-2022  18:23           234,470 Spotify songs EDA dataset project.ipynb\n",
      "09-09-2022  11:00    <DIR>          Videos\n",
      "              11 File(s)        616,888 bytes\n",
      "              23 Dir(s)  70,984,253,440 bytes free\n"
     ]
    }
   ],
   "source": [
    "ls"
   ]
  },
  {
   "cell_type": "code",
   "execution_count": 7,
   "id": "523427bc",
   "metadata": {},
   "outputs": [],
   "source": [
    "\n",
    "f1 = open(\"test12.txt\", \"w\")"
   ]
  },
  {
   "cell_type": "code",
   "execution_count": 8,
   "id": "3f0762be",
   "metadata": {},
   "outputs": [
    {
     "data": {
      "text/plain": [
       "54"
      ]
     },
     "execution_count": 8,
     "metadata": {},
     "output_type": "execute_result"
    }
   ],
   "source": [
    "f1.write(\"this is na file operation ia ma doing in my FSDS class\")"
   ]
  },
  {
   "cell_type": "code",
   "execution_count": 9,
   "id": "5d643350",
   "metadata": {},
   "outputs": [],
   "source": [
    "f1.close()"
   ]
  },
  {
   "cell_type": "code",
   "execution_count": 10,
   "id": "ad976007",
   "metadata": {},
   "outputs": [],
   "source": [
    "l= [1,2,3,4,5,6,7]"
   ]
  },
  {
   "cell_type": "code",
   "execution_count": 11,
   "id": "09c5299d",
   "metadata": {},
   "outputs": [
    {
     "ename": "TypeError",
     "evalue": "write() argument must be str, not list",
     "output_type": "error",
     "traceback": [
      "\u001b[1;31m---------------------------------------------------------------------------\u001b[0m",
      "\u001b[1;31mTypeError\u001b[0m                                 Traceback (most recent call last)",
      "Input \u001b[1;32mIn [11]\u001b[0m, in \u001b[0;36m<cell line: 2>\u001b[1;34m()\u001b[0m\n\u001b[0;32m      1\u001b[0m f2 \u001b[38;5;241m=\u001b[39m \u001b[38;5;28mopen\u001b[39m(\u001b[38;5;124m\"\u001b[39m\u001b[38;5;124mtest1234.txt\u001b[39m\u001b[38;5;124m\"\u001b[39m,\u001b[38;5;124m\"\u001b[39m\u001b[38;5;124mw\u001b[39m\u001b[38;5;124m\"\u001b[39m)\n\u001b[1;32m----> 2\u001b[0m \u001b[43mf2\u001b[49m\u001b[38;5;241;43m.\u001b[39;49m\u001b[43mwrite\u001b[49m\u001b[43m(\u001b[49m\u001b[43ml\u001b[49m\u001b[43m)\u001b[49m\n",
      "\u001b[1;31mTypeError\u001b[0m: write() argument must be str, not list"
     ]
    }
   ],
   "source": [
    "f2 = open(\"test1234.txt\",\"w\")\n",
    "f2.write(l)\n"
   ]
  },
  {
   "cell_type": "code",
   "execution_count": 12,
   "id": "7ca96444",
   "metadata": {},
   "outputs": [
    {
     "data": {
      "text/plain": [
       "21"
      ]
     },
     "execution_count": 12,
     "metadata": {},
     "output_type": "execute_result"
    }
   ],
   "source": [
    "f2.write(str(l))"
   ]
  },
  {
   "cell_type": "code",
   "execution_count": 13,
   "id": "2645b500",
   "metadata": {},
   "outputs": [],
   "source": [
    "f2.close()"
   ]
  },
  {
   "cell_type": "code",
   "execution_count": 14,
   "id": "a0aa2249",
   "metadata": {},
   "outputs": [
    {
     "data": {
      "text/plain": [
       "30"
      ]
     },
     "execution_count": 14,
     "metadata": {},
     "output_type": "execute_result"
    }
   ],
   "source": [
    "f3 = open(\"tst.sudh\", \"w\")\n",
    "f3.write(\"asdsad sd asd asd sa da sd sad\")\n"
   ]
  },
  {
   "cell_type": "code",
   "execution_count": 15,
   "id": "e8afcca6",
   "metadata": {},
   "outputs": [],
   "source": [
    "f3.close()"
   ]
  },
  {
   "cell_type": "code",
   "execution_count": 58,
   "id": "c34d6ea3",
   "metadata": {},
   "outputs": [
    {
     "data": {
      "text/plain": [
       "34"
      ]
     },
     "execution_count": 58,
     "metadata": {},
     "output_type": "execute_result"
    }
   ],
   "source": [
    "f4= open(\"test13\",\"w\")\n",
    "f4.write(\"many many happy returns of the day\")"
   ]
  },
  {
   "cell_type": "code",
   "execution_count": 59,
   "id": "28f05e56",
   "metadata": {},
   "outputs": [],
   "source": [
    "f4.close()"
   ]
  },
  {
   "cell_type": "code",
   "execution_count": 60,
   "id": "5c241145",
   "metadata": {},
   "outputs": [],
   "source": [
    "f = open(\"test12.txt\")"
   ]
  },
  {
   "cell_type": "code",
   "execution_count": 61,
   "id": "de5cd67e",
   "metadata": {},
   "outputs": [
    {
     "data": {
      "text/plain": [
       "'this is na file operation ia ma doing in my FSDS class'"
      ]
     },
     "execution_count": 61,
     "metadata": {},
     "output_type": "execute_result"
    }
   ],
   "source": [
    "f.read()"
   ]
  },
  {
   "cell_type": "code",
   "execution_count": 62,
   "id": "80586386",
   "metadata": {},
   "outputs": [],
   "source": [
    "f4= open(\"test13.txt\")"
   ]
  },
  {
   "cell_type": "code",
   "execution_count": 63,
   "id": "259683a2",
   "metadata": {},
   "outputs": [
    {
     "data": {
      "text/plain": [
       "''"
      ]
     },
     "execution_count": 63,
     "metadata": {},
     "output_type": "execute_result"
    }
   ],
   "source": [
    "f4.read()"
   ]
  },
  {
   "cell_type": "code",
   "execution_count": 64,
   "id": "0f5aaede",
   "metadata": {},
   "outputs": [],
   "source": [
    "f = open(\"test12.txt\")"
   ]
  },
  {
   "cell_type": "code",
   "execution_count": 65,
   "id": "6997da83",
   "metadata": {},
   "outputs": [
    {
     "data": {
      "text/plain": [
       "'this is na file operation ia ma doing in my FSDS class'"
      ]
     },
     "execution_count": 65,
     "metadata": {},
     "output_type": "execute_result"
    }
   ],
   "source": [
    "f.read()"
   ]
  },
  {
   "cell_type": "code",
   "execution_count": 66,
   "id": "a1cd1d6b",
   "metadata": {},
   "outputs": [],
   "source": [
    "f5 =open(\"rite\",\"w\")"
   ]
  },
  {
   "cell_type": "code",
   "execution_count": 67,
   "id": "bea0f459",
   "metadata": {},
   "outputs": [
    {
     "data": {
      "text/plain": [
       "17"
      ]
     },
     "execution_count": 67,
     "metadata": {},
     "output_type": "execute_result"
    }
   ],
   "source": [
    "f5.write(\" i live in india \")"
   ]
  },
  {
   "cell_type": "code",
   "execution_count": 68,
   "id": "81464b3d",
   "metadata": {},
   "outputs": [],
   "source": [
    "f5= open(\"rite\")"
   ]
  },
  {
   "cell_type": "code",
   "execution_count": 69,
   "id": "bea47fb8",
   "metadata": {},
   "outputs": [
    {
     "data": {
      "text/plain": [
       "' i live in india '"
      ]
     },
     "execution_count": 69,
     "metadata": {},
     "output_type": "execute_result"
    }
   ],
   "source": [
    "f5.read()"
   ]
  },
  {
   "cell_type": "code",
   "execution_count": 70,
   "id": "7e0f5eec",
   "metadata": {},
   "outputs": [],
   "source": [
    "f5.close()"
   ]
  },
  {
   "cell_type": "code",
   "execution_count": 71,
   "id": "7b68781f",
   "metadata": {},
   "outputs": [
    {
     "name": "stdout",
     "output_type": "stream",
     "text": [
      "Overwriting test5.txt\n"
     ]
    }
   ],
   "source": [
    "%%writefile test5.txt\n",
    "\n",
    "This is my new program which i am writing\n",
    "This is my new program which i am writing\n",
    "This is my new program which i am writing\n",
    "This is my new program which i am writing\n",
    "This is my new program which i am writing\n",
    "This is my new program which i am writing"
   ]
  },
  {
   "cell_type": "code",
   "execution_count": 72,
   "id": "830da188",
   "metadata": {},
   "outputs": [],
   "source": [
    "f= open(\"test5.txt\")"
   ]
  },
  {
   "cell_type": "code",
   "execution_count": 73,
   "id": "480491f3",
   "metadata": {},
   "outputs": [
    {
     "data": {
      "text/plain": [
       "'\\nThis is my new program which i am writing\\nThis is my new program which i am writing\\nThis is my new program which i am writing\\nThis is my new program which i am writing\\nThis is my new program which i am writing\\nThis is my new program which i am writing\\n'"
      ]
     },
     "execution_count": 73,
     "metadata": {},
     "output_type": "execute_result"
    }
   ],
   "source": [
    "f.read()"
   ]
  },
  {
   "cell_type": "code",
   "execution_count": 74,
   "id": "110bdc35",
   "metadata": {},
   "outputs": [
    {
     "data": {
      "text/plain": [
       "''"
      ]
     },
     "execution_count": 74,
     "metadata": {},
     "output_type": "execute_result"
    }
   ],
   "source": [
    "f.read() # here the pointer/ index is available at end of string"
   ]
  },
  {
   "cell_type": "code",
   "execution_count": 75,
   "id": "3ac47caa",
   "metadata": {},
   "outputs": [
    {
     "data": {
      "text/plain": [
       "0"
      ]
     },
     "execution_count": 75,
     "metadata": {},
     "output_type": "execute_result"
    }
   ],
   "source": [
    "f.seek(0) # cursor is at zeroth index"
   ]
  },
  {
   "cell_type": "code",
   "execution_count": 76,
   "id": "bf21c49c",
   "metadata": {},
   "outputs": [
    {
     "data": {
      "text/plain": [
       "'\\nThis is my new program which i am writing\\nThis is my new program which i am writing\\nThis is my new program which i am writing\\nThis is my new program which i am writing\\nThis is my new program which i am writing\\nThis is my new program which i am writing\\n'"
      ]
     },
     "execution_count": 76,
     "metadata": {},
     "output_type": "execute_result"
    }
   ],
   "source": [
    "f.read()"
   ]
  },
  {
   "cell_type": "code",
   "execution_count": 77,
   "id": "fed3167d",
   "metadata": {},
   "outputs": [
    {
     "data": {
      "text/plain": [
       "10"
      ]
     },
     "execution_count": 77,
     "metadata": {},
     "output_type": "execute_result"
    }
   ],
   "source": [
    "f.seek(10) # cursor is at zeroth index"
   ]
  },
  {
   "cell_type": "code",
   "execution_count": 78,
   "id": "61462521",
   "metadata": {},
   "outputs": [
    {
     "data": {
      "text/plain": [
       "'my new program which i am writing\\nThis is my new program which i am writing\\nThis is my new program which i am writing\\nThis is my new program which i am writing\\nThis is my new program which i am writing\\nThis is my new program which i am writing\\n'"
      ]
     },
     "execution_count": 78,
     "metadata": {},
     "output_type": "execute_result"
    }
   ],
   "source": [
    "f.read()"
   ]
  },
  {
   "cell_type": "code",
   "execution_count": 79,
   "id": "affc80fa",
   "metadata": {},
   "outputs": [
    {
     "data": {
      "text/plain": [
       "60"
      ]
     },
     "execution_count": 79,
     "metadata": {},
     "output_type": "execute_result"
    }
   ],
   "source": [
    "f.seek(60) # cursor is at sixth index"
   ]
  },
  {
   "cell_type": "code",
   "execution_count": 80,
   "id": "e9ad125a",
   "metadata": {},
   "outputs": [
    {
     "data": {
      "text/plain": [
       "'program which i am writing\\nThis is my new program which i am writing\\nThis is my new program which i am writing\\nThis is my new program which i am writing\\nThis is my new program which i am writing\\n'"
      ]
     },
     "execution_count": 80,
     "metadata": {},
     "output_type": "execute_result"
    }
   ],
   "source": [
    "f.read()"
   ]
  },
  {
   "cell_type": "code",
   "execution_count": 81,
   "id": "f595b111",
   "metadata": {},
   "outputs": [],
   "source": [
    "f.close()"
   ]
  },
  {
   "cell_type": "code",
   "execution_count": 82,
   "id": "1fa5f0a6",
   "metadata": {},
   "outputs": [],
   "source": [
    "f1= open(\"test5.txt\")"
   ]
  },
  {
   "cell_type": "code",
   "execution_count": 83,
   "id": "b2fcc7e7",
   "metadata": {},
   "outputs": [
    {
     "data": {
      "text/plain": [
       "0"
      ]
     },
     "execution_count": 83,
     "metadata": {},
     "output_type": "execute_result"
    }
   ],
   "source": [
    "f1.tell()"
   ]
  },
  {
   "cell_type": "code",
   "execution_count": 84,
   "id": "d1f31295",
   "metadata": {},
   "outputs": [
    {
     "data": {
      "text/plain": [
       "'\\nThis is my new program which i am writing\\nThis is my new program which i am writing\\nThis is my new program which i am writing\\nThis is my new program which i am writing\\nThis is my new program which i am writing\\nThis is my new program which i am writing\\n'"
      ]
     },
     "execution_count": 84,
     "metadata": {},
     "output_type": "execute_result"
    }
   ],
   "source": [
    "f1.read()"
   ]
  },
  {
   "cell_type": "code",
   "execution_count": 85,
   "id": "7cc9118f",
   "metadata": {},
   "outputs": [
    {
     "data": {
      "text/plain": [
       "5"
      ]
     },
     "execution_count": 85,
     "metadata": {},
     "output_type": "execute_result"
    }
   ],
   "source": [
    "f1.seek(5)"
   ]
  },
  {
   "cell_type": "code",
   "execution_count": 86,
   "id": "0e7b898e",
   "metadata": {},
   "outputs": [
    {
     "data": {
      "text/plain": [
       "5"
      ]
     },
     "execution_count": 86,
     "metadata": {},
     "output_type": "execute_result"
    }
   ],
   "source": [
    "f1.tell()"
   ]
  },
  {
   "cell_type": "code",
   "execution_count": 87,
   "id": "3a765988",
   "metadata": {},
   "outputs": [
    {
     "data": {
      "text/plain": [
       "'s is my new pro'"
      ]
     },
     "execution_count": 87,
     "metadata": {},
     "output_type": "execute_result"
    }
   ],
   "source": [
    "f1.read(15) # index 5 to 15"
   ]
  },
  {
   "cell_type": "code",
   "execution_count": 88,
   "id": "e113aa88",
   "metadata": {},
   "outputs": [],
   "source": [
    "f2= open(\"test5.txt\")"
   ]
  },
  {
   "cell_type": "code",
   "execution_count": 89,
   "id": "359d57ac",
   "metadata": {},
   "outputs": [
    {
     "data": {
      "text/plain": [
       "0"
      ]
     },
     "execution_count": 89,
     "metadata": {},
     "output_type": "execute_result"
    }
   ],
   "source": [
    "f2.tell()"
   ]
  },
  {
   "cell_type": "code",
   "execution_count": 90,
   "id": "99c8541c",
   "metadata": {},
   "outputs": [
    {
     "data": {
      "text/plain": [
       "2"
      ]
     },
     "execution_count": 90,
     "metadata": {},
     "output_type": "execute_result"
    }
   ],
   "source": [
    "f2.seek(2)"
   ]
  },
  {
   "cell_type": "code",
   "execution_count": 91,
   "id": "1fc088ee",
   "metadata": {},
   "outputs": [
    {
     "data": {
      "text/plain": [
       "['This is my new program which i am writing\\n',\n",
       " 'This is my new program which i am writing\\n',\n",
       " 'This is my new program which i am writing\\n',\n",
       " 'This is my new program which i am writing\\n',\n",
       " 'This is my new program which i am writing\\n',\n",
       " 'This is my new program which i am writing\\n']"
      ]
     },
     "execution_count": 91,
     "metadata": {},
     "output_type": "execute_result"
    }
   ],
   "source": [
    "f2.readlines()"
   ]
  },
  {
   "cell_type": "code",
   "execution_count": 92,
   "id": "6a38c0bb",
   "metadata": {},
   "outputs": [
    {
     "data": {
      "text/plain": [
       "<_io.TextIOWrapper name='test5.txt' mode='r' encoding='cp1252'>"
      ]
     },
     "execution_count": 92,
     "metadata": {},
     "output_type": "execute_result"
    }
   ],
   "source": [
    "f2"
   ]
  },
  {
   "cell_type": "code",
   "execution_count": 93,
   "id": "3ca9b94e",
   "metadata": {},
   "outputs": [
    {
     "data": {
      "text/plain": [
       "4"
      ]
     },
     "execution_count": 93,
     "metadata": {},
     "output_type": "execute_result"
    }
   ],
   "source": [
    "f2.fileno()"
   ]
  },
  {
   "cell_type": "code",
   "execution_count": 94,
   "id": "ea4938fa",
   "metadata": {},
   "outputs": [],
   "source": [
    "f2 = open(\"test.txt\",\"w\")"
   ]
  },
  {
   "cell_type": "code",
   "execution_count": 95,
   "id": "d5ac3e72",
   "metadata": {},
   "outputs": [
    {
     "data": {
      "text/plain": [
       "251"
      ]
     },
     "execution_count": 95,
     "metadata": {},
     "output_type": "execute_result"
    }
   ],
   "source": [
    "f2.write(\"\"\"This is my new program which i am writing\n",
    "This is my new program which i am writing\n",
    "This is my new program which i am writing\n",
    "This is my new program which i am writing\n",
    "This is my new program which i am writing\n",
    "This is my new program which i am writing\"\"\")"
   ]
  },
  {
   "cell_type": "code",
   "execution_count": 96,
   "id": "b6495f5d",
   "metadata": {},
   "outputs": [],
   "source": [
    "f2.close()"
   ]
  },
  {
   "cell_type": "code",
   "execution_count": 99,
   "id": "81f11835",
   "metadata": {},
   "outputs": [],
   "source": [
    "f5= open(\"tst.sudh\", \"w\")"
   ]
  },
  {
   "cell_type": "code",
   "execution_count": 101,
   "id": "60a0ee67",
   "metadata": {},
   "outputs": [
    {
     "data": {
      "text/plain": [
       "20"
      ]
     },
     "execution_count": 101,
     "metadata": {},
     "output_type": "execute_result"
    }
   ],
   "source": [
    "f5.write(\"This is my new place\")"
   ]
  },
  {
   "cell_type": "code",
   "execution_count": 103,
   "id": "335430fd",
   "metadata": {},
   "outputs": [],
   "source": [
    "f5 = open(\"tst.sudh\")"
   ]
  },
  {
   "cell_type": "code",
   "execution_count": 104,
   "id": "d7695c23",
   "metadata": {},
   "outputs": [
    {
     "data": {
      "text/plain": [
       "'This is my new place'"
      ]
     },
     "execution_count": 104,
     "metadata": {},
     "output_type": "execute_result"
    }
   ],
   "source": [
    "f5.read()"
   ]
  },
  {
   "cell_type": "code",
   "execution_count": 105,
   "id": "83500b71",
   "metadata": {},
   "outputs": [
    {
     "data": {
      "text/plain": [
       "20"
      ]
     },
     "execution_count": 105,
     "metadata": {},
     "output_type": "execute_result"
    }
   ],
   "source": [
    "f5.tell()"
   ]
  },
  {
   "cell_type": "code",
   "execution_count": 109,
   "id": "1e23b0d3",
   "metadata": {},
   "outputs": [
    {
     "data": {
      "text/plain": [
       "15"
      ]
     },
     "execution_count": 109,
     "metadata": {},
     "output_type": "execute_result"
    }
   ],
   "source": [
    "f5.seek(15)"
   ]
  },
  {
   "cell_type": "code",
   "execution_count": 110,
   "id": "67d21083",
   "metadata": {},
   "outputs": [
    {
     "data": {
      "text/plain": [
       "'place'"
      ]
     },
     "execution_count": 110,
     "metadata": {},
     "output_type": "execute_result"
    }
   ],
   "source": [
    "f5.read()"
   ]
  },
  {
   "cell_type": "code",
   "execution_count": 111,
   "id": "2cf6388e",
   "metadata": {},
   "outputs": [
    {
     "data": {
      "text/plain": [
       "0"
      ]
     },
     "execution_count": 111,
     "metadata": {},
     "output_type": "execute_result"
    }
   ],
   "source": [
    "f5.seek(0)"
   ]
  },
  {
   "cell_type": "code",
   "execution_count": 112,
   "id": "d7c4277f",
   "metadata": {},
   "outputs": [
    {
     "data": {
      "text/plain": [
       "'This is my new place'"
      ]
     },
     "execution_count": 112,
     "metadata": {},
     "output_type": "execute_result"
    }
   ],
   "source": [
    "f5.read()"
   ]
  },
  {
   "cell_type": "code",
   "execution_count": 113,
   "id": "05094809",
   "metadata": {},
   "outputs": [],
   "source": [
    "f5.close()"
   ]
  },
  {
   "cell_type": "code",
   "execution_count": 114,
   "id": "08965eee",
   "metadata": {},
   "outputs": [],
   "source": [
    "f7 = open(\" test20.txt\",\"a\")"
   ]
  },
  {
   "cell_type": "code",
   "execution_count": 115,
   "id": "ee9a79dc",
   "metadata": {},
   "outputs": [
    {
     "data": {
      "text/plain": [
       "17"
      ]
     },
     "execution_count": 115,
     "metadata": {},
     "output_type": "execute_result"
    }
   ],
   "source": [
    "f7.write(\" My name is duggu\")"
   ]
  },
  {
   "cell_type": "code",
   "execution_count": 116,
   "id": "b10b511f",
   "metadata": {},
   "outputs": [],
   "source": [
    "f7.close()"
   ]
  },
  {
   "cell_type": "code",
   "execution_count": 117,
   "id": "ba08c1b4",
   "metadata": {},
   "outputs": [
    {
     "data": {
      "text/plain": [
       "' test20.txt'"
      ]
     },
     "execution_count": 117,
     "metadata": {},
     "output_type": "execute_result"
    }
   ],
   "source": [
    "f7.name"
   ]
  },
  {
   "cell_type": "code",
   "execution_count": 118,
   "id": "2401a647",
   "metadata": {},
   "outputs": [
    {
     "data": {
      "text/plain": [
       "'a'"
      ]
     },
     "execution_count": 118,
     "metadata": {},
     "output_type": "execute_result"
    }
   ],
   "source": [
    "f7.mode"
   ]
  },
  {
   "cell_type": "code",
   "execution_count": 119,
   "id": "08b86269",
   "metadata": {},
   "outputs": [
    {
     "data": {
      "text/plain": [
       "True"
      ]
     },
     "execution_count": 119,
     "metadata": {},
     "output_type": "execute_result"
    }
   ],
   "source": [
    "f7.closed"
   ]
  },
  {
   "cell_type": "code",
   "execution_count": null,
   "id": "f301ca6f",
   "metadata": {},
   "outputs": [],
   "source": []
  }
 ],
 "metadata": {
  "kernelspec": {
   "display_name": "Python 3 (ipykernel)",
   "language": "python",
   "name": "python3"
  },
  "language_info": {
   "codemirror_mode": {
    "name": "ipython",
    "version": 3
   },
   "file_extension": ".py",
   "mimetype": "text/x-python",
   "name": "python",
   "nbconvert_exporter": "python",
   "pygments_lexer": "ipython3",
   "version": "3.9.12"
  }
 },
 "nbformat": 4,
 "nbformat_minor": 5
}
