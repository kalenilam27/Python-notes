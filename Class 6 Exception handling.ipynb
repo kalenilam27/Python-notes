{
 "cells": [
  {
   "cell_type": "markdown",
   "id": "9a735ba9",
   "metadata": {},
   "source": [
    "# Class 6 Exception handling"
   ]
  },
  {
   "cell_type": "code",
   "execution_count": 1,
   "id": "015f3ad9",
   "metadata": {},
   "outputs": [
    {
     "name": "stdout",
     "output_type": "stream",
     "text": [
      "37\n"
     ]
    }
   ],
   "source": [
    "a=4\n",
    "b=9\n",
    "c=24\n",
    "sum=(a+b+c)\n",
    "print(sum)"
   ]
  },
  {
   "cell_type": "code",
   "execution_count": 2,
   "id": "60296b64",
   "metadata": {},
   "outputs": [
    {
     "ename": "SyntaxError",
     "evalue": "unexpected EOF while parsing (54212058.py, line 1)",
     "output_type": "error",
     "traceback": [
      "\u001b[1;36m  Input \u001b[1;32mIn [2]\u001b[1;36m\u001b[0m\n\u001b[1;33m    print(sum\u001b[0m\n\u001b[1;37m             ^\u001b[0m\n\u001b[1;31mSyntaxError\u001b[0m\u001b[1;31m:\u001b[0m unexpected EOF while parsing\n"
     ]
    }
   ],
   "source": [
    "print(sum"
   ]
  },
  {
   "cell_type": "code",
   "execution_count": 3,
   "id": "9ecbfdbc",
   "metadata": {},
   "outputs": [
    {
     "ename": "TypeError",
     "evalue": "unsupported operand type(s) for +: 'int' and 'str'",
     "output_type": "error",
     "traceback": [
      "\u001b[1;31m---------------------------------------------------------------------------\u001b[0m",
      "\u001b[1;31mTypeError\u001b[0m                                 Traceback (most recent call last)",
      "Input \u001b[1;32mIn [3]\u001b[0m, in \u001b[0;36m<cell line: 3>\u001b[1;34m()\u001b[0m\n\u001b[0;32m      1\u001b[0m a\u001b[38;5;241m=\u001b[39m\u001b[38;5;241m4\u001b[39m\n\u001b[0;32m      2\u001b[0m b\u001b[38;5;241m=\u001b[39m\u001b[38;5;124m\"\u001b[39m\u001b[38;5;124mnilam\u001b[39m\u001b[38;5;124m\"\u001b[39m\n\u001b[1;32m----> 3\u001b[0m c\u001b[38;5;241m=\u001b[39m \u001b[43ma\u001b[49m\u001b[38;5;241;43m+\u001b[39;49m\u001b[43mb\u001b[49m\n\u001b[0;32m      4\u001b[0m \u001b[38;5;28mprint\u001b[39m(c)\n",
      "\u001b[1;31mTypeError\u001b[0m: unsupported operand type(s) for +: 'int' and 'str'"
     ]
    }
   ],
   "source": [
    "a=4\n",
    "b=\"nilam\"\n",
    "c= a+b\n",
    "print(c)"
   ]
  },
  {
   "cell_type": "code",
   "execution_count": null,
   "id": "99e3614e",
   "metadata": {},
   "outputs": [],
   "source": [
    "a= int(input(\"Enter first number:\"))\n",
    "b= int(input(\"Enter second number:\"))\n",
    "c=a/b\n",
    "print(c)\n",
    "d=a*b\n",
    "print(d)"
   ]
  },
  {
   "cell_type": "code",
   "execution_count": null,
   "id": "f7fadb3b",
   "metadata": {
    "scrolled": true
   },
   "outputs": [],
   "source": [
    "a= int(input(\"Enter first number:\"))\n",
    "b= int(input(\"Enter second number:\"))\n",
    "try:\n",
    "    c=a/b\n",
    "    print(c) \n",
    "except ZeroDivisionError:\n",
    "    print(\"b should not be equal to zero:\")"
   ]
  },
  {
   "cell_type": "code",
   "execution_count": null,
   "id": "c16b145e",
   "metadata": {},
   "outputs": [],
   "source": [
    "try\n",
    "except\n",
    "else\n",
    "raise\n",
    "finally"
   ]
  },
  {
   "cell_type": "code",
   "execution_count": null,
   "id": "1cfa634a",
   "metadata": {},
   "outputs": [],
   "source": [
    "a= int(input(\"Enter first number:\"))\n",
    "b= int(input(\"Enter second number:\"))\n",
    "try:\n",
    "    c=a/b\n",
    "    print(c) \n",
    "except ZeroDivisionError:\n",
    "    print(\"b should not be equal to zero:\")\n",
    "d= a+b\n",
    "print(d)"
   ]
  },
  {
   "cell_type": "code",
   "execution_count": null,
   "id": "8b312448",
   "metadata": {},
   "outputs": [],
   "source": [
    "a= int(input(\"Enter first number:\"))\n",
    "b= int(input(\"Enter second number:\"))\n",
    "try:\n",
    "    c=a/b\n",
    "    print(c))\n",
    "except ZeroDivisionError:\n",
    "    print(\"b should not be equal to zero:\")\n",
    "d= a+b\n",
    "print(d)"
   ]
  },
  {
   "cell_type": "markdown",
   "id": "ab1d311f",
   "metadata": {},
   "source": [
    "Write a program to ask the user to input 2 integers and calculate and print their division. Make sure your program behaves as follows:\n",
    "\n",
    "If the user enters a non integer value then ask him to enter only integers\n",
    "\n",
    "If denominator is 0 , then ask him to input non-zero denominator\n",
    "\n",
    "-Repeat the process until correct input is given\n",
    "\n",
    "Only if the inputs are correct then display their division and terminate the code"
   ]
  },
  {
   "cell_type": "code",
   "execution_count": null,
   "id": "be280eaf",
   "metadata": {},
   "outputs": [],
   "source": [
    "while True:\n",
    "    try:\n",
    "        a=int(input(\"enter first number\"))\n",
    "        b=int(input(\"enter second number\"))\n",
    "        c=a/b\n",
    "        print(c)\n",
    "        break\n",
    "    \n",
    "    except ValueError: \n",
    "        print(\"there should not be string\")\n",
    "    except ZeroDivisionError:\n",
    "        print(\"non zero denomitor\")\n",
    "    "
   ]
  },
  {
   "cell_type": "code",
   "execution_count": null,
   "id": "b234c350",
   "metadata": {},
   "outputs": [],
   "source": [
    "try:\n",
    "        a=int(input(\"Enter First number\"))\n",
    "        b=int(input(\"Enter second number\"))\n",
    "        c=a/b\n",
    "        print(c)\n",
    "        break"
   ]
  },
  {
   "cell_type": "code",
   "execution_count": null,
   "id": "cae4cf7b",
   "metadata": {},
   "outputs": [],
   "source": [
    "while True:\n",
    "    name=input(\"Enter a name:\")\n",
    "    if name== \"sunny\":\n",
    "        print(\"sunny\")\n",
    "        break"
   ]
  },
  {
   "cell_type": "code",
   "execution_count": null,
   "id": "11b2a86e",
   "metadata": {},
   "outputs": [],
   "source": [
    "try:\n",
    "    a=int(input(\"Enter First number\"))\n",
    "    b=int(input(\"Enter second number\"))\n",
    "except exception:\n",
    "    print(\"number should be an integer value:\")\n",
    "try:\n",
    "    c=a/b\n",
    "    print(c)\n",
    "except zerodivisionerror:\n",
    "    print(\"b should not be equal to zero\")"
   ]
  },
  {
   "cell_type": "code",
   "execution_count": null,
   "id": "a1cf0298",
   "metadata": {},
   "outputs": [],
   "source": [
    "a=int(input(\"Enter first Number : \"))\n",
    "b=int(input(\"Enter Second Number : \"))\n",
    "error =\"\"\n",
    "if type(a)!=int:\n",
    "    error = \"Please enter Numeric Value of a : \"\n",
    "if type(b)!=int:\n",
    "    error = \"Please enter Numeric Value of b : \"\n",
    "if b==0:\n",
    "    error = \"Please enter Non 0 value for b : \"\n",
    "try:\n",
    "    print(a/b)\n",
    "except:\n",
    "    print(\"Input Error\",error)"
   ]
  },
  {
   "cell_type": "code",
   "execution_count": null,
   "id": "6aa1b628",
   "metadata": {},
   "outputs": [],
   "source": [
    "a=int(input(\"Enter first Number : \"))\n",
    "b=int(input(\"Enter Second Number : \"))\n",
    "while a<0:\n",
    "    a= int(input(\"enter a positive number:\"))\n",
    "while b<0:\n",
    "    b= int(input(\"enter a positive number:\"))\n",
    "try:    \n",
    "    c=a/b\n",
    "    print(c)\n",
    "except:\n",
    "    print(\"value of b should not be equal to zero:\")\n",
    "    "
   ]
  },
  {
   "cell_type": "code",
   "execution_count": null,
   "id": "881d8adf",
   "metadata": {},
   "outputs": [],
   "source": [
    "try:\n",
    "    a=int(input(\"Enter first Number : \"))\n",
    "    b=int(input(\"Enter Second Number : \"))\n",
    "    c=a/b\n",
    "    print(c)\n",
    "    \n",
    "except zerodivisionerror:\n",
    "    print(\"value of b should not be equal to zero\")\n",
    "except valueerror:\n",
    "    print(\"Enter an integer\")"
   ]
  },
  {
   "cell_type": "code",
   "execution_count": null,
   "id": "ccbcb1e2",
   "metadata": {},
   "outputs": [],
   "source": [
    "try:\n",
    "    a=int(input(\"Enter first Number : \"))\n",
    "    b=(input(\"Enter Second Number : \"))\n",
    "    c=a/b\n",
    "    print(c)\n",
    "    \n",
    "except zerodivisionerror:\n",
    "    print(\"value of b should not be equal to zero\")\n",
    "except valueerror:\n",
    "    print(\"Enter an integer\")"
   ]
  },
  {
   "cell_type": "code",
   "execution_count": null,
   "id": "a2767136",
   "metadata": {},
   "outputs": [],
   "source": [
    "try:\n",
    "    a=int(input(\"Enter first Number : \"))\n",
    "    b=(input(\"Enter Second Number : \"))\n",
    "    c=a/b\n",
    "    print(c)\n",
    "\n",
    "except TypeError:\n",
    "    print(\"enter a number only\")\n",
    "    \n"
   ]
  },
  {
   "cell_type": "code",
   "execution_count": null,
   "id": "52a10baf",
   "metadata": {},
   "outputs": [],
   "source": [
    "a=int(input(\"Enter first Number : \"))\n",
    "b= int(input(\"Enter Second Number : \"))\n",
    "    \n",
    "try:   \n",
    "    c=a/b\n",
    "    print(c)\n",
    "    d=a+str(b)\n",
    "    print(d)\n",
    "except (zerodivisionerror,valueerror):\n",
    "    print(\"value of b should be non zero or please input number only\")"
   ]
  },
  {
   "cell_type": "code",
   "execution_count": null,
   "id": "c2586478",
   "metadata": {},
   "outputs": [],
   "source": [
    "a=int(input(\"enter first number: \"))\n",
    "b=int(input(\"second number: \"))\n",
    "\n",
    "try:\n",
    "    c=a/b\n",
    "    print(c)\n",
    "    d=a+str(b)\n",
    "    print(d)\n",
    "except ZeroDivisionError:\n",
    "    print(\"b should not be a zero\")"
   ]
  },
  {
   "cell_type": "code",
   "execution_count": null,
   "id": "a5d090dc",
   "metadata": {},
   "outputs": [],
   "source": [
    "try:\n",
    "    int(input(\"Enter string:\"))\n",
    "except:\n",
    "    print(\"string not allowed\")"
   ]
  },
  {
   "cell_type": "code",
   "execution_count": null,
   "id": "b0015aa2",
   "metadata": {},
   "outputs": [],
   "source": [
    "while True:\n",
    "    \n",
    "    try:\n",
    "        a=int(input(\"enter first number: \"))\n",
    "        b=int(input(\"second number: \"))\n",
    "        c=a/b\n",
    "        print(\"div:\",c)\n",
    "        break\n",
    "    \n",
    "    except ZeroDivisionError as e:\n",
    "        print(\"e\")\n",
    "        "
   ]
  },
  {
   "cell_type": "code",
   "execution_count": null,
   "id": "74d93273",
   "metadata": {},
   "outputs": [],
   "source": [
    "import sys\n",
    "\n",
    "while True:\n",
    "    \n",
    "    try:\n",
    "        a=int(input(\"enter first number: \"))\n",
    "        b=int(input(\"second number: \"))\n",
    "        c=a/b\n",
    "        print(\"div:\",c)\n",
    "        break\n",
    "        \n",
    "    except:\n",
    "        a,b,c = sys.exc_info()\n",
    "        print(\"exception_class:\",a)\n",
    "        print(\"exception_message:\",b)\n",
    "        print(\"line_no:\",c.tb_lineno)"
   ]
  },
  {
   "cell_type": "code",
   "execution_count": null,
   "id": "64e3e4af",
   "metadata": {},
   "outputs": [],
   "source": [
    "import traceback\n",
    "\n",
    "while True:\n",
    "    \n",
    "    try:\n",
    "        a=int(input(\"enter first number: \"))\n",
    "        b=int(input(\"second number: \"))\n",
    "        c=a/b\n",
    "        print(\"div:\",c)\n",
    "        break\n",
    "        \n",
    "    except:\n",
    "        print(traceback.format_exc())"
   ]
  },
  {
   "cell_type": "markdown",
   "id": "a35acda5",
   "metadata": {},
   "source": [
    "# Raise block"
   ]
  },
  {
   "cell_type": "code",
   "execution_count": null,
   "id": "f0b0ef0b",
   "metadata": {},
   "outputs": [],
   "source": [
    "while True:\n",
    "    \n",
    "    try:\n",
    "        a=int(input(\"enter first number: \"))\n",
    "        b=int(input(\"second number: \"))\n",
    "        if a<0 or b<0:\n",
    "            raise exception(\"Number should not be negative:\")\n",
    "        c=a/b\n",
    "        print(\"div:\",c)\n",
    "        break\n",
    "     \n",
    "    except ZeroDivisionError:\n",
    "        print(\"Denominator should not be equal to zero:\")\n",
    "        \n",
    "    except ValueError:\n",
    "        print(\"Value should be an interger:\")\n",
    "    except exception as e:\n",
    "        print(\"e\")"
   ]
  },
  {
   "cell_type": "code",
   "execution_count": null,
   "id": "43b8c9a7",
   "metadata": {},
   "outputs": [],
   "source": [
    "class NegativeNumberException(Exception):\n",
    "    pass\n",
    "while True:\n",
    "    try:\n",
    "        a=int(input(\"first number:\"))\n",
    "        b=int(input(\"second number:\"))\n",
    "        if a<0 or b<0: \n",
    "            raise NegativeNumberException(\"neg number note allowd\")\n",
    "        c=a/b\n",
    "        print(\"div is\", c)\n",
    "        break\n",
    "    except ValueError:\n",
    "        print(\"please enter int only\")\n",
    "    except ZeroDivisionError:\n",
    "        print(\"please enter non zero denomitor\")\n",
    "    except NegativeNumberException as e:\n",
    "        print(e)"
   ]
  },
  {
   "cell_type": "markdown",
   "id": "70f67670",
   "metadata": {},
   "source": [
    "# Final block"
   ]
  },
  {
   "cell_type": "code",
   "execution_count": null,
   "id": "08c1ba12",
   "metadata": {},
   "outputs": [],
   "source": [
    "while True:\n",
    "    try:\n",
    "        a=int(input(\"first number:\"))\n",
    "        b=int(input(\"second number:\"))\n",
    "        c=a/b\n",
    "        print(\"div is\", c)\n",
    "        break\n",
    "    except:\n",
    "        print(\"value of b should not be equal to zero\")\n",
    "    \n",
    "    finally:\n",
    "        print(\"Duggu:\")\n",
    "        print(\"nilam:\")"
   ]
  },
  {
   "cell_type": "markdown",
   "id": "b7b423d9",
   "metadata": {},
   "source": [
    "# Else Block"
   ]
  },
  {
   "cell_type": "code",
   "execution_count": null,
   "id": "2d65c708",
   "metadata": {},
   "outputs": [],
   "source": [
    "\n",
    "    try:\n",
    "        a=int(input(\"first number:\"))\n",
    "        b=int(input(\"second number:\"))\n",
    "        c=a/b\n",
    "        print(\"div is\", c)\n",
    "\n",
    "    except:\n",
    "        print(\"value of b should not be equal to zero\")\n",
    "    else:\n",
    "        print(\"python rocks:\")"
   ]
  },
  {
   "cell_type": "code",
   "execution_count": null,
   "id": "d4c404b0",
   "metadata": {},
   "outputs": [],
   "source": [
    "string = \" database connection\" --- error\n",
    "this line in \n",
    "try block\n",
    "except\n",
    " close the database connection this in \n",
    "    finally block --sure"
   ]
  },
  {
   "cell_type": "code",
   "execution_count": null,
   "id": "fa70687f",
   "metadata": {},
   "outputs": [],
   "source": [
    "a = input(\"Enter a number:\")"
   ]
  },
  {
   "cell_type": "code",
   "execution_count": null,
   "id": "6cdda4fc",
   "metadata": {},
   "outputs": [],
   "source": [
    "type(a)"
   ]
  },
  {
   "cell_type": "code",
   "execution_count": null,
   "id": "8ccc32ca",
   "metadata": {},
   "outputs": [],
   "source": [
    "b= int(input(\" Enter a number:\"))"
   ]
  },
  {
   "cell_type": "code",
   "execution_count": null,
   "id": "4e815ae7",
   "metadata": {},
   "outputs": [],
   "source": [
    "type(b)"
   ]
  },
  {
   "cell_type": "code",
   "execution_count": null,
   "id": "49d599f9",
   "metadata": {},
   "outputs": [],
   "source": [
    "while True:\n",
    "    try:\n",
    "        a=int(input(\"first number:\"))\n",
    "        b=int(input(\"second number:\"))\n",
    "        c=a/b\n",
    "        print(\"div is\", c)\n",
    "        break \n",
    "    except ZeroDivisionError:\n",
    "        print(\"Value of denominator should be non-zero\")\n",
    "    except ValueError:\n",
    "        print(\" enter integer only\")"
   ]
  },
  {
   "cell_type": "code",
   "execution_count": null,
   "id": "5ac082c2",
   "metadata": {},
   "outputs": [],
   "source": [
    "import sys\n",
    "def test():\n",
    "        try:\n",
    "            a=int(input(\"first number:\"))\n",
    "            b=int(input(\"second number:\"))\n",
    "            c= int(a)/int(b)\n",
    "            print(\"div is\", c)\n",
    "        \n",
    "        except:\n",
    "            print(sys.exc_info())"
   ]
  },
  {
   "cell_type": "code",
   "execution_count": null,
   "id": "b554799e",
   "metadata": {},
   "outputs": [],
   "source": [
    "test()"
   ]
  },
  {
   "cell_type": "code",
   "execution_count": null,
   "id": "59acd6e9",
   "metadata": {},
   "outputs": [],
   "source": [
    "import traceback\n",
    "def test():\n",
    "        try:\n",
    "            a=int(input(\"first number:\"))\n",
    "            b=int(input(\"second number:\"))\n",
    "            c= int(a)/int(b)\n",
    "            print(\"div is\", c)\n",
    "        \n",
    "        except:\n",
    "            print(traceback.format_exc())"
   ]
  },
  {
   "cell_type": "code",
   "execution_count": null,
   "id": "0db6c166",
   "metadata": {},
   "outputs": [],
   "source": [
    "test()"
   ]
  },
  {
   "cell_type": "code",
   "execution_count": null,
   "id": "647eb17f",
   "metadata": {},
   "outputs": [],
   "source": [
    "while True:\n",
    "\n",
    "    a=input(\"enter first number: \")\n",
    "    b=input(\"enter second number: \")\n",
    "\n",
    "    if a.isnumeric() != True and b.isnumeric() != True:\n",
    "        print(\"Please enter again with a numeric value\")\n",
    "    else:\n",
    "        print(\"Numbers are numeric\")\n",
    "        try:\n",
    "            \n",
    "            d =int(a) \n",
    "            e=int(b)\n",
    "            c = d/e\n",
    "            print(c)\n",
    "            break\n",
    "        except:\n",
    "            print(\"b not zero\")"
   ]
  },
  {
   "cell_type": "code",
   "execution_count": null,
   "id": "dbe88ab4",
   "metadata": {},
   "outputs": [],
   "source": [
    "listpower=lambda *x:[(I**2) for I in x]"
   ]
  },
  {
   "cell_type": "code",
   "execution_count": null,
   "id": "7200611a",
   "metadata": {},
   "outputs": [],
   "source": [
    "listpower(3,5,7,8)"
   ]
  },
  {
   "cell_type": "code",
   "execution_count": null,
   "id": "c7464ceb",
   "metadata": {},
   "outputs": [],
   "source": [
    "print(\"nilam)"
   ]
  },
  {
   "cell_type": "code",
   "execution_count": null,
   "id": "7b97fe89",
   "metadata": {},
   "outputs": [],
   "source": [
    "print(\"duggu\")"
   ]
  },
  {
   "cell_type": "code",
   "execution_count": null,
   "id": "46cc30a1",
   "metadata": {},
   "outputs": [],
   "source": [
    "def test():\n",
    "print()"
   ]
  },
  {
   "cell_type": "code",
   "execution_count": null,
   "id": "d6de0809",
   "metadata": {},
   "outputs": [],
   "source": [
    "def test():\n",
    "    print()"
   ]
  },
  {
   "cell_type": "code",
   "execution_count": null,
   "id": "fab93612",
   "metadata": {},
   "outputs": [],
   "source": [
    "def test(a,b):\n",
    "    return(a/b)\n",
    "    "
   ]
  },
  {
   "cell_type": "code",
   "execution_count": null,
   "id": "3daee62d",
   "metadata": {},
   "outputs": [],
   "source": [
    "test(5,0)"
   ]
  },
  {
   "cell_type": "code",
   "execution_count": null,
   "id": "2cbba65d",
   "metadata": {},
   "outputs": [],
   "source": [
    "test(6,7)"
   ]
  },
  {
   "cell_type": "code",
   "execution_count": null,
   "id": "4a30394e",
   "metadata": {},
   "outputs": [],
   "source": [
    "a= open(\"duggu.txt\",\"r\")"
   ]
  },
  {
   "cell_type": "code",
   "execution_count": null,
   "id": "be509219",
   "metadata": {},
   "outputs": [],
   "source": [
    "try:\n",
    "    a= open(\"duggu.txt\",\"r\")\n",
    "except:\n",
    "    pass"
   ]
  },
  {
   "cell_type": "code",
   "execution_count": null,
   "id": "65ebdf63",
   "metadata": {},
   "outputs": [],
   "source": [
    "try:\n",
    "    a= open(\"duggu.txt\",\"r\"  #compile time error cant be handled only run time erroe can be handeled by exception handeling\n",
    "except:\n",
    "    pass"
   ]
  },
  {
   "cell_type": "code",
   "execution_count": null,
   "id": "d8262f02",
   "metadata": {},
   "outputs": [],
   "source": [
    "try:\n",
    "    a= open(\"duggu.txt\",\"r\")  #compile time error cant be handled only run time erroe can be handeled by exception handeling\n",
    "except:\n",
    "    pass"
   ]
  },
  {
   "cell_type": "code",
   "execution_count": null,
   "id": "59c460fc",
   "metadata": {},
   "outputs": [],
   "source": [
    "try:\n",
    "    c=9/0\n",
    "except IOError:\n",
    "    print(\"There is some issue with my code\")"
   ]
  },
  {
   "cell_type": "code",
   "execution_count": null,
   "id": "79362c06",
   "metadata": {},
   "outputs": [],
   "source": [
    " try:\n",
    "    a= 5/0\n",
    "except ArithmeticError:\n",
    "    print(\"there is some issue with my code\")"
   ]
  },
  {
   "cell_type": "code",
   "execution_count": null,
   "id": "f27e7863",
   "metadata": {},
   "outputs": [],
   "source": [
    "try:\n",
    "    a= 5/0\n",
    "except ArithmeticError as e:\n",
    "    print(\"there is some issue with my code:\",e)"
   ]
  },
  {
   "cell_type": "code",
   "execution_count": null,
   "id": "6af369e3",
   "metadata": {},
   "outputs": [],
   "source": [
    "try:\n",
    "    a= 5/0\n",
    "except ArithmeticError as e:\n",
    "    print(\"there is some issue with my code:\",e)\n",
    "else:\n",
    "    print(\"This will execute when try block execute successfully\")"
   ]
  },
  {
   "cell_type": "code",
   "execution_count": null,
   "id": "b8ebed16",
   "metadata": {},
   "outputs": [],
   "source": [
    "try:\n",
    "    a= 5/45\n",
    "except ArithmeticError as e:\n",
    "    print(\"there is some issue with my code:\",e)\n",
    "else:\n",
    "    print(\"This will execute when try block execute successfully\")\n",
    "try:\n",
    "    f=open(\"duggu.txt\",\"r\")\n",
    "except:\n",
    "    print(\"there is some internal issue with try block\")"
   ]
  },
  {
   "cell_type": "code",
   "execution_count": null,
   "id": "93972ffe",
   "metadata": {},
   "outputs": [],
   "source": [
    "try:\n",
    "    a = int(input(\"Enter first number:\"))\n",
    "    b = int(input(\"Enter second number:\"))\n",
    "    c=a/b\n",
    "except ArithmeticError as e:\n",
    "    print(\"there is some issue with my code:\",e)\n",
    "    f = open (\"test.txt\" , \"w\")\n",
    "else:\n",
    "    print(\"This will execute when try block execute successfully\") \n",
    "    \n",
    "try:\n",
    "    f=open(\"duggu.txt\",\"r\")\n",
    "except:\n",
    "    print(\"there is some internal issue with try block\")"
   ]
  },
  {
   "cell_type": "code",
   "execution_count": null,
   "id": "cf690bff",
   "metadata": {},
   "outputs": [],
   "source": [
    "try:\n",
    "    a = int(input(\"Enter first number:\"))\n",
    "    b = int(input(\"Enter second number:\"))\n",
    "    c=a/b\n",
    "except ArithmeticError as e:\n",
    "    print(\"there is some issue with my code:\",e)\n",
    "    f = open (\"test.txt\" , \"w\")\n",
    "    f.close()\n",
    "else:\n",
    "    print(\"This will execute when try block execute successfully\") \n",
    "    \n",
    "    try:\n",
    "        f=open(\"duggu.txt\",\"r\")\n",
    "    except:\n",
    "        print(\"there is some internal issue with try block\")"
   ]
  },
  {
   "cell_type": "code",
   "execution_count": null,
   "id": "2b1008d8",
   "metadata": {},
   "outputs": [],
   "source": [
    "l=[5,6,7,8,9]\n",
    "print(l[100])\n",
    "t =(5,7,8,3,4)\n",
    "print(t)\n",
    "t[0] =\"Nilam\""
   ]
  },
  {
   "cell_type": "code",
   "execution_count": null,
   "id": "67f93a70",
   "metadata": {},
   "outputs": [],
   "source": [
    "try:\n",
    "    l=[5,6,7,8,9]\n",
    "    print(l[100]) \n",
    "except:\n",
    "    print(\"There is some issue with the code\")\n",
    "    t =(5,7,8,3,4)\n",
    "    print(t)\n",
    "else:\n",
    "    print(\"There is no issue with the code\")"
   ]
  },
  {
   "cell_type": "code",
   "execution_count": null,
   "id": "4dd72336",
   "metadata": {},
   "outputs": [],
   "source": [
    "try:\n",
    "    l=[5,6,7,8,9]\n",
    "    l[100]\n",
    "except:\n",
    "    print(\"There is some issue with the code\")\n",
    "    t =(5,7,8,3,4)\n",
    "    print(t)\n",
    "    t[0] = \"nilam\"\n",
    "else:\n",
    "    print(\"There is no issue with the code\")"
   ]
  },
  {
   "cell_type": "code",
   "execution_count": 15,
   "id": "d50df788",
   "metadata": {},
   "outputs": [
    {
     "name": "stdout",
     "output_type": "stream",
     "text": [
      "there is issue with code\n",
      "(4, 5, 6, 7, 8, 9)\n"
     ]
    }
   ],
   "source": [
    "try:\n",
    "    l= [4,5,6,7,8,0]\n",
    "    l[100]\n",
    "except:\n",
    "    print(\"there is issue with code\")   \n",
    "    t=(4,5,6,7,8,9)\n",
    "    print(t)\n",
    "    try:\n",
    "        t[0] = \"sudh\"\n",
    "        try:\n",
    "            list(t)\n",
    "            print(t)\n",
    "        except:\n",
    "            pass\n",
    "    except:\n",
    "        pass\n",
    "else:\n",
    "    print(\"there is no issue with code\")"
   ]
  },
  {
   "cell_type": "code",
   "execution_count": 27,
   "id": "2fe448ad",
   "metadata": {},
   "outputs": [
    {
     "ename": "FileNotFoundError",
     "evalue": "[Errno 2] No such file or directory: 'text.text'",
     "output_type": "error",
     "traceback": [
      "\u001b[1;31m---------------------------------------------------------------------------\u001b[0m",
      "\u001b[1;31mFileNotFoundError\u001b[0m                         Traceback (most recent call last)",
      "Input \u001b[1;32mIn [27]\u001b[0m, in \u001b[0;36m<cell line: 1>\u001b[1;34m()\u001b[0m\n\u001b[1;32m----> 1\u001b[0m f \u001b[38;5;241m=\u001b[39m \u001b[38;5;28;43mopen\u001b[39;49m\u001b[43m(\u001b[49m\u001b[38;5;124;43m\"\u001b[39;49m\u001b[38;5;124;43mtext.text\u001b[39;49m\u001b[38;5;124;43m\"\u001b[39;49m\u001b[43m,\u001b[49m\u001b[38;5;124;43m\"\u001b[39;49m\u001b[38;5;124;43mr\u001b[39;49m\u001b[38;5;124;43m\"\u001b[39;49m\u001b[43m)\u001b[49m\n",
      "\u001b[1;31mFileNotFoundError\u001b[0m: [Errno 2] No such file or directory: 'text.text'"
     ]
    }
   ],
   "source": [
    "f = open(\"text.text\",\"r\")"
   ]
  },
  {
   "cell_type": "code",
   "execution_count": 28,
   "id": "f02dcd15",
   "metadata": {},
   "outputs": [
    {
     "name": "stdout",
     "output_type": "stream",
     "text": [
      "Finally execute in any case:\n",
      "8\n"
     ]
    },
    {
     "ename": "NameError",
     "evalue": "name 'f' is not defined",
     "output_type": "error",
     "traceback": [
      "\u001b[1;31m---------------------------------------------------------------------------\u001b[0m",
      "\u001b[1;31mFileNotFoundError\u001b[0m                         Traceback (most recent call last)",
      "Input \u001b[1;32mIn [28]\u001b[0m, in \u001b[0;36m<cell line: 1>\u001b[1;34m()\u001b[0m\n\u001b[0;32m      1\u001b[0m \u001b[38;5;28;01mtry\u001b[39;00m:\n\u001b[1;32m----> 2\u001b[0m     f \u001b[38;5;241m=\u001b[39m \u001b[38;5;28;43mopen\u001b[39;49m\u001b[43m(\u001b[49m\u001b[38;5;124;43m\"\u001b[39;49m\u001b[38;5;124;43mtext.text\u001b[39;49m\u001b[38;5;124;43m\"\u001b[39;49m\u001b[43m,\u001b[49m\u001b[38;5;124;43m\"\u001b[39;49m\u001b[38;5;124;43mr\u001b[39;49m\u001b[38;5;124;43m\"\u001b[39;49m\u001b[43m)\u001b[49m\n\u001b[0;32m      4\u001b[0m \u001b[38;5;28;01mfinally\u001b[39;00m:\n",
      "\u001b[1;31mFileNotFoundError\u001b[0m: [Errno 2] No such file or directory: 'text.text'",
      "\nDuring handling of the above exception, another exception occurred:\n",
      "\u001b[1;31mNameError\u001b[0m                                 Traceback (most recent call last)",
      "Input \u001b[1;32mIn [28]\u001b[0m, in \u001b[0;36m<cell line: 1>\u001b[1;34m()\u001b[0m\n\u001b[0;32m      6\u001b[0m l\u001b[38;5;241m=\u001b[39m[\u001b[38;5;241m2\u001b[39m,\u001b[38;5;241m3\u001b[39m,\u001b[38;5;241m6\u001b[39m,\u001b[38;5;241m8\u001b[39m,\u001b[38;5;241m9\u001b[39m,\u001b[38;5;241m4\u001b[39m]\n\u001b[0;32m      7\u001b[0m \u001b[38;5;28mprint\u001b[39m(l[\u001b[38;5;241m3\u001b[39m])\n\u001b[1;32m----> 8\u001b[0m \u001b[43mf\u001b[49m\u001b[38;5;241m.\u001b[39mclose()\n",
      "\u001b[1;31mNameError\u001b[0m: name 'f' is not defined"
     ]
    }
   ],
   "source": [
    "try:\n",
    "    f = open(\"text.text\",\"r\")\n",
    "    \n",
    "finally:\n",
    "    print(\"Finally execute in any case:\")\n",
    "    l=[2,3,6,8,9,4]\n",
    "    print(l[3])\n",
    "    f.close()   "
   ]
  },
  {
   "cell_type": "code",
   "execution_count": 29,
   "id": "73405543",
   "metadata": {},
   "outputs": [
    {
     "name": "stdout",
     "output_type": "stream",
     "text": [
      "Finally execute in any case:\n"
     ]
    },
    {
     "ename": "IndexError",
     "evalue": "list index out of range",
     "output_type": "error",
     "traceback": [
      "\u001b[1;31m---------------------------------------------------------------------------\u001b[0m",
      "\u001b[1;31mFileNotFoundError\u001b[0m                         Traceback (most recent call last)",
      "Input \u001b[1;32mIn [29]\u001b[0m, in \u001b[0;36m<cell line: 1>\u001b[1;34m()\u001b[0m\n\u001b[0;32m      1\u001b[0m \u001b[38;5;28;01mtry\u001b[39;00m:\n\u001b[1;32m----> 2\u001b[0m     f\u001b[38;5;241m=\u001b[39m\u001b[38;5;28;43mopen\u001b[39;49m\u001b[43m(\u001b[49m\u001b[38;5;124;43m\"\u001b[39;49m\u001b[38;5;124;43mtext.text\u001b[39;49m\u001b[38;5;124;43m\"\u001b[39;49m\u001b[43m,\u001b[49m\u001b[38;5;124;43m\"\u001b[39;49m\u001b[38;5;124;43mr\u001b[39;49m\u001b[38;5;124;43m\"\u001b[39;49m\u001b[43m)\u001b[49m\n\u001b[0;32m      4\u001b[0m \u001b[38;5;28;01mfinally\u001b[39;00m:\n",
      "\u001b[1;31mFileNotFoundError\u001b[0m: [Errno 2] No such file or directory: 'text.text'",
      "\nDuring handling of the above exception, another exception occurred:\n",
      "\u001b[1;31mIndexError\u001b[0m                                Traceback (most recent call last)",
      "Input \u001b[1;32mIn [29]\u001b[0m, in \u001b[0;36m<cell line: 1>\u001b[1;34m()\u001b[0m\n\u001b[0;32m      5\u001b[0m \u001b[38;5;28mprint\u001b[39m(\u001b[38;5;124m\"\u001b[39m\u001b[38;5;124mFinally execute in any case:\u001b[39m\u001b[38;5;124m\"\u001b[39m)\n\u001b[0;32m      6\u001b[0m l\u001b[38;5;241m=\u001b[39m[\u001b[38;5;241m2\u001b[39m,\u001b[38;5;241m3\u001b[39m,\u001b[38;5;241m6\u001b[39m,\u001b[38;5;241m8\u001b[39m,\u001b[38;5;241m9\u001b[39m,\u001b[38;5;241m4\u001b[39m]\n\u001b[1;32m----> 7\u001b[0m \u001b[38;5;28mprint\u001b[39m(\u001b[43ml\u001b[49m\u001b[43m[\u001b[49m\u001b[38;5;241;43m10\u001b[39;49m\u001b[43m]\u001b[49m)\n\u001b[0;32m      8\u001b[0m f\u001b[38;5;241m.\u001b[39mclose()\n",
      "\u001b[1;31mIndexError\u001b[0m: list index out of range"
     ]
    }
   ],
   "source": [
    "try:\n",
    "    f=open(\"text.text\",\"r\")\n",
    "    \n",
    "finally:\n",
    "    print(\"Finally execute in any case:\")\n",
    "    l=[2,3,6,8,9,4]\n",
    "    print(l[10])\n",
    "    f.close()"
   ]
  },
  {
   "cell_type": "code",
   "execution_count": 30,
   "id": "afecad93",
   "metadata": {},
   "outputs": [
    {
     "name": "stdout",
     "output_type": "stream",
     "text": [
      "Finally execute in any case:\n"
     ]
    },
    {
     "ename": "IndexError",
     "evalue": "list index out of range",
     "output_type": "error",
     "traceback": [
      "\u001b[1;31m---------------------------------------------------------------------------\u001b[0m",
      "\u001b[1;31mIndexError\u001b[0m                                Traceback (most recent call last)",
      "Input \u001b[1;32mIn [30]\u001b[0m, in \u001b[0;36m<cell line: 1>\u001b[1;34m()\u001b[0m\n\u001b[0;32m      6\u001b[0m \u001b[38;5;28mprint\u001b[39m(\u001b[38;5;124m\"\u001b[39m\u001b[38;5;124mFinally execute in any case:\u001b[39m\u001b[38;5;124m\"\u001b[39m)\n\u001b[0;32m      7\u001b[0m l\u001b[38;5;241m=\u001b[39m[\u001b[38;5;241m2\u001b[39m,\u001b[38;5;241m3\u001b[39m,\u001b[38;5;241m6\u001b[39m,\u001b[38;5;241m8\u001b[39m,\u001b[38;5;241m9\u001b[39m,\u001b[38;5;241m4\u001b[39m]\n\u001b[1;32m----> 8\u001b[0m \u001b[38;5;28mprint\u001b[39m(\u001b[43ml\u001b[49m\u001b[43m[\u001b[49m\u001b[38;5;241;43m10\u001b[39;49m\u001b[43m]\u001b[49m)\n\u001b[0;32m      9\u001b[0m f\u001b[38;5;241m.\u001b[39mclose()\n",
      "\u001b[1;31mIndexError\u001b[0m: list index out of range"
     ]
    }
   ],
   "source": [
    "try:\n",
    "    f=open(\"text.text\",\"r\")\n",
    "except:\n",
    "    pass\n",
    "finally:\n",
    "    print(\"Finally execute in any case:\")\n",
    "    l=[2,3,6,8,9,4]\n",
    "    print(l[10])\n",
    "    f.close()"
   ]
  },
  {
   "cell_type": "code",
   "execution_count": 31,
   "id": "739e134b",
   "metadata": {},
   "outputs": [
    {
     "name": "stdout",
     "output_type": "stream",
     "text": [
      "Finally execute in any case:\n"
     ]
    }
   ],
   "source": [
    "try:\n",
    "    f=open(\"text.text\",\"r\")\n",
    "except:\n",
    "    pass\n",
    "else:\n",
    "    print(\"Execute when try block gets execute\")\n",
    "finally:\n",
    "    print(\"Finally execute in any case:\")\n",
    "    \n",
    "    l=[2,3,6,8,9,4]\n",
    "    try:\n",
    "         print(l[10])\n",
    "    except:\n",
    "        pass"
   ]
  },
  {
   "cell_type": "code",
   "execution_count": 3,
   "id": "3b54c9c0",
   "metadata": {},
   "outputs": [
    {
     "name": "stdout",
     "output_type": "stream",
     "text": [
      "else will execute if try will execute\n",
      "finally ill execute in anycase\n"
     ]
    }
   ],
   "source": [
    "try:\n",
    "    f = open(\"test1.txt\",\"w\")\n",
    "except:\n",
    "    pass\n",
    "else:\n",
    "    print(\"else will execute if try will execute\")\n",
    "finally:\n",
    "    print(\"finally ill execute in anycase\")\n",
    "    l = [2,3,4,5,6]\n",
    "    f.close()\n",
    "    try:\n",
    "        print(l[99])\n",
    "    except:\n",
    "        pass"
   ]
  },
  {
   "cell_type": "code",
   "execution_count": 9,
   "id": "cc5c2e1e",
   "metadata": {},
   "outputs": [
    {
     "name": "stdout",
     "output_type": "stream",
     "text": [
      "this is my first error: [Errno 2] No such file or directory: 'test6.txt'\n"
     ]
    }
   ],
   "source": [
    "try:\n",
    "    f = open(\"test6.txt\",\"r\")\n",
    "except IOError as  e:\n",
    "    print(\"this is my first error:\", e)"
   ]
  },
  {
   "cell_type": "code",
   "execution_count": 2,
   "id": "1117381c",
   "metadata": {},
   "outputs": [],
   "source": [
    "def askforint():\n",
    "    while True:\n",
    "        try:\n",
    "            a=int(input(\"Enter an integer:\"))\n",
    "            \n",
    "        except Exception as e:\n",
    "            print(\"There is an error in the value:\",e)\n",
    "        else:\n",
    "            print(\"Value enter is correct \")\n",
    "            break\n",
    "        finally:\n",
    "            print(\"close the loop\")"
   ]
  },
  {
   "cell_type": "code",
   "execution_count": 3,
   "id": "7a4ebe2a",
   "metadata": {},
   "outputs": [
    {
     "name": "stdout",
     "output_type": "stream",
     "text": [
      "Enter an integer:nilamkale\n",
      "There is an error in the value: invalid literal for int() with base 10: 'nilamkale'\n",
      "close the loop\n",
      "Enter an integer:yummy\n",
      "There is an error in the value: invalid literal for int() with base 10: 'yummy'\n",
      "close the loop\n",
      "Enter an integer:34yummy\n",
      "There is an error in the value: invalid literal for int() with base 10: '34yummy'\n",
      "close the loop\n",
      "Enter an integer:890\n",
      "Value enter is correct \n",
      "close the loop\n"
     ]
    }
   ],
   "source": [
    "askforint()"
   ]
  },
  {
   "cell_type": "code",
   "execution_count": 4,
   "id": "d3dc1dbe",
   "metadata": {},
   "outputs": [],
   "source": [
    "def askforint():\n",
    "    while True:\n",
    "        try:\n",
    "            a=int(input(\"Enter an integer:\"))\n",
    "            \n",
    "        except FileNotFoundError as e:\n",
    "            print(\"There is an error in the value:\",e)\n",
    "        except IOError as e:\n",
    "            print(e)\n",
    "        except ValueError as e:\n",
    "            print(e)\n",
    "        \n",
    "        else:\n",
    "            print(\"Value enter is correct \")\n",
    "            break\n",
    "        finally:\n",
    "            print(\"close the loop\")"
   ]
  },
  {
   "cell_type": "code",
   "execution_count": 5,
   "id": "f7e9953b",
   "metadata": {},
   "outputs": [
    {
     "name": "stdout",
     "output_type": "stream",
     "text": [
      "Enter an integer:india\n",
      "invalid literal for int() with base 10: 'india'\n",
      "close the loop\n",
      "Enter an integer:sonal\n",
      "invalid literal for int() with base 10: 'sonal'\n",
      "close the loop\n",
      "Enter an integer:986734523\n",
      "Value enter is correct \n",
      "close the loop\n"
     ]
    }
   ],
   "source": [
    "askforint()"
   ]
  },
  {
   "cell_type": "code",
   "execution_count": 8,
   "id": "d482b02c",
   "metadata": {},
   "outputs": [],
   "source": [
    "def askforint():\n",
    "    while True:\n",
    "        try:\n",
    "            a=int(input(\"Enter an integer:\"))\n",
    "            c=7/a\n",
    "        except FileNotFoundError as e:\n",
    "            print(\"There is an error in the value:\",e)\n",
    "        except IOError as e:\n",
    "            print(e)\n",
    "        except ValueError as e:\n",
    "            print(e)\n",
    "        except Exception as e:\n",
    "            print(\"This is coming from parent class:\",e)\n",
    "        except ArithmeticError as e:\n",
    "            print(\"This is Arithmetic error:\",e) \n",
    "        except ZeroValueError as e:\n",
    "            print(e)\n",
    "        else:\n",
    "            print(\"Value enter is correct \")\n",
    "            break\n",
    "        finally:\n",
    "            print(\"close the loop\")"
   ]
  },
  {
   "cell_type": "code",
   "execution_count": 10,
   "id": "e05371ee",
   "metadata": {},
   "outputs": [
    {
     "name": "stdout",
     "output_type": "stream",
     "text": [
      "Enter an integer:0\n",
      "This is coming from parent class: division by zero\n",
      "close the loop\n",
      "Enter an integer:yummy\n",
      "invalid literal for int() with base 10: 'yummy'\n",
      "close the loop\n",
      "Enter an integer:78\n",
      "Value enter is correct \n",
      "close the loop\n"
     ]
    }
   ],
   "source": [
    "askforint()"
   ]
  },
  {
   "cell_type": "code",
   "execution_count": 33,
   "id": "eae1ebfc",
   "metadata": {},
   "outputs": [],
   "source": [
    "def create_your_Exception(a):\n",
    "    if a> 5:\n",
    "        raise Exception(\"Error is:\",a)\n",
    "        \n",
    "    else:\n",
    "        print(\"value enter is ok\")"
   ]
  },
  {
   "cell_type": "code",
   "execution_count": 34,
   "id": "e846ef32",
   "metadata": {},
   "outputs": [
    {
     "name": "stdout",
     "output_type": "stream",
     "text": [
      "value enter is ok\n"
     ]
    }
   ],
   "source": [
    "create_your_Exception(3)"
   ]
  },
  {
   "cell_type": "code",
   "execution_count": 35,
   "id": "fa552710",
   "metadata": {},
   "outputs": [
    {
     "name": "stdout",
     "output_type": "stream",
     "text": [
      "('Error is:', 10)\n"
     ]
    }
   ],
   "source": [
    "try:\n",
    "    create_your_Exception(10)\n",
    "except Exception as e:\n",
    "    print(e)"
   ]
  },
  {
   "cell_type": "code",
   "execution_count": null,
   "id": "d6bf723f",
   "metadata": {},
   "outputs": [],
   "source": []
  }
 ],
 "metadata": {
  "kernelspec": {
   "display_name": "Python 3 (ipykernel)",
   "language": "python",
   "name": "python3"
  },
  "language_info": {
   "codemirror_mode": {
    "name": "ipython",
    "version": 3
   },
   "file_extension": ".py",
   "mimetype": "text/x-python",
   "name": "python",
   "nbconvert_exporter": "python",
   "pygments_lexer": "ipython3",
   "version": "3.9.12"
  }
 },
 "nbformat": 4,
 "nbformat_minor": 5
}
