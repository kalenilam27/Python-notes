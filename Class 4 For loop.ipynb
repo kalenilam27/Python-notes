{
 "cells": [
  {
   "cell_type": "markdown",
   "id": "005134b7",
   "metadata": {},
   "source": [
    "# Class 4 For loop"
   ]
  },
  {
   "cell_type": "code",
   "execution_count": 1,
   "id": "45621c01",
   "metadata": {},
   "outputs": [],
   "source": [
    "l=[1,2,3,4,\"sudh\",\"kumar\",45.56]"
   ]
  },
  {
   "cell_type": "code",
   "execution_count": 2,
   "id": "eb965f0a",
   "metadata": {},
   "outputs": [
    {
     "name": "stdout",
     "output_type": "stream",
     "text": [
      "1\n",
      "2\n",
      "3\n",
      "4\n",
      "sudh\n",
      "kumar\n",
      "45.56\n"
     ]
    }
   ],
   "source": [
    "for i in l:\n",
    "    print(i)"
   ]
  },
  {
   "cell_type": "code",
   "execution_count": 3,
   "id": "5058e2b9",
   "metadata": {},
   "outputs": [],
   "source": [
    "for i in l:\n",
    "    pass"
   ]
  },
  {
   "cell_type": "code",
   "execution_count": 5,
   "id": "47f71207",
   "metadata": {},
   "outputs": [
    {
     "name": "stdout",
     "output_type": "stream",
     "text": [
      "sudh\n",
      "Nilam\n",
      "lump\n"
     ]
    }
   ],
   "source": [
    "s= [\"sudh\" , \"Nilam\" , \"lump\"]\n",
    "\n",
    "for i in s:\n",
    "    print(i)"
   ]
  },
  {
   "cell_type": "code",
   "execution_count": 6,
   "id": "df86e264",
   "metadata": {},
   "outputs": [
    {
     "name": "stdout",
     "output_type": "stream",
     "text": [
      "s\n",
      "u\n",
      "d\n",
      "h\n"
     ]
    }
   ],
   "source": [
    "s=\"sudh\"\n",
    "\n",
    "for i in s:\n",
    "    print(i)"
   ]
  },
  {
   "cell_type": "code",
   "execution_count": 7,
   "id": "f4231729",
   "metadata": {},
   "outputs": [
    {
     "name": "stdout",
     "output_type": "stream",
     "text": [
      "1\n",
      "2\n",
      "3\n",
      "4\n",
      "sudh\n",
      "kumar\n",
      "45.56\n",
      " if for loop is going to complete by itself then it will execute else\n"
     ]
    }
   ],
   "source": [
    "for i in l:\n",
    "    print(i)\n",
    "    \n",
    "else:\n",
    "    print(\" if for loop is going to complete by itself then it will execute else\")"
   ]
  },
  {
   "cell_type": "code",
   "execution_count": 14,
   "id": "a0487ece",
   "metadata": {},
   "outputs": [
    {
     "name": "stdout",
     "output_type": "stream",
     "text": [
      "1\n",
      "2\n",
      "3\n"
     ]
    }
   ],
   "source": [
    "for i in l:\n",
    "    if i== 4:\n",
    "        break\n",
    "    print(i)\n",
    "else:\n",
    "    print(\" if for loop is going to complete by itself then it will execute else\")            "
   ]
  },
  {
   "cell_type": "code",
   "execution_count": 16,
   "id": "774f231c",
   "metadata": {},
   "outputs": [
    {
     "name": "stdout",
     "output_type": "stream",
     "text": [
      "n\n",
      "i\n",
      "l\n",
      "a\n",
      "m\n",
      "k\n",
      "a\n",
      "l\n",
      "e\n",
      " print string nilamkale\n"
     ]
    }
   ],
   "source": [
    "n=\"nilamkale\"\n",
    "\n",
    "for i in n:\n",
    "    if i == \"z\":\n",
    "        break\n",
    "    print(i)\n",
    "    \n",
    "else:\n",
    "    print(\" print string\" , n)"
   ]
  },
  {
   "cell_type": "code",
   "execution_count": 23,
   "id": "6e3d309a",
   "metadata": {},
   "outputs": [
    {
     "name": "stdout",
     "output_type": "stream",
     "text": [
      "<class 'set'>\n",
      "{'sudh', 4, 5, 6, 7, 8}\n",
      "sudh\n",
      "4\n",
      "5\n",
      "6\n",
      "7\n",
      "8\n"
     ]
    }
   ],
   "source": [
    "b={4,5,6,7,7,7,7,7,8,\"sudh\"}\n",
    "print(type(b))\n",
    "\n",
    "print (b)\n",
    "\n",
    "for i in b:\n",
    "    print(i)"
   ]
  },
  {
   "cell_type": "code",
   "execution_count": 24,
   "id": "2ff665f2",
   "metadata": {},
   "outputs": [
    {
     "name": "stdout",
     "output_type": "stream",
     "text": [
      "key1\n",
      "contact\n",
      "position\n"
     ]
    }
   ],
   "source": [
    "d={'key1':\"sudh\",'contact':842346934,'position':\"xyz\"}\n",
    "for i in d:\n",
    "    print(i)"
   ]
  },
  {
   "cell_type": "code",
   "execution_count": 31,
   "id": "d544422b",
   "metadata": {},
   "outputs": [
    {
     "name": "stdout",
     "output_type": "stream",
     "text": [
      "sudh\n",
      "842346934\n",
      "xyz\n"
     ]
    }
   ],
   "source": [
    "for i in d:\n",
    "    print(d[i]) "
   ]
  },
  {
   "cell_type": "code",
   "execution_count": 34,
   "id": "03288f7f",
   "metadata": {},
   "outputs": [
    {
     "name": "stdout",
     "output_type": "stream",
     "text": [
      "key1 : sudh\n",
      "contact : 842346934\n",
      "position : xyz\n"
     ]
    }
   ],
   "source": [
    "for i in d:\n",
    "    print(i,\":\" , d[i])"
   ]
  },
  {
   "cell_type": "code",
   "execution_count": 35,
   "id": "30456963",
   "metadata": {},
   "outputs": [
    {
     "data": {
      "text/plain": [
       "range(0, 9)"
      ]
     },
     "execution_count": 35,
     "metadata": {},
     "output_type": "execute_result"
    }
   ],
   "source": [
    "range(0,9)"
   ]
  },
  {
   "cell_type": "code",
   "execution_count": 36,
   "id": "ea6cd507",
   "metadata": {},
   "outputs": [
    {
     "data": {
      "text/plain": [
       "[0, 1, 2, 3, 4, 5, 6, 7, 8, 9]"
      ]
     },
     "execution_count": 36,
     "metadata": {},
     "output_type": "execute_result"
    }
   ],
   "source": [
    "list(range(0,10))"
   ]
  },
  {
   "cell_type": "code",
   "execution_count": 38,
   "id": "a29806c6",
   "metadata": {},
   "outputs": [
    {
     "name": "stdout",
     "output_type": "stream",
     "text": [
      "0\n",
      "1\n",
      "2\n",
      "3\n",
      "4\n",
      "5\n",
      "6\n",
      "7\n",
      "8\n",
      "9\n",
      "10\n",
      "11\n"
     ]
    }
   ],
   "source": [
    "for i in range(12):\n",
    "    print(i)"
   ]
  },
  {
   "cell_type": "code",
   "execution_count": 39,
   "id": "4d9cd410",
   "metadata": {},
   "outputs": [
    {
     "data": {
      "text/plain": [
       "[0, 2, 4, 6, 8]"
      ]
     },
     "execution_count": 39,
     "metadata": {},
     "output_type": "execute_result"
    }
   ],
   "source": [
    "list(range(0,10,2))"
   ]
  },
  {
   "cell_type": "code",
   "execution_count": 42,
   "id": "2d7a225a",
   "metadata": {},
   "outputs": [
    {
     "data": {
      "text/plain": [
       "[0, 3, 6, 9, 12]"
      ]
     },
     "execution_count": 42,
     "metadata": {},
     "output_type": "execute_result"
    }
   ],
   "source": [
    "list(range(0,15,3))"
   ]
  },
  {
   "cell_type": "code",
   "execution_count": 43,
   "id": "356915d4",
   "metadata": {},
   "outputs": [
    {
     "data": {
      "text/plain": [
       "[]"
      ]
     },
     "execution_count": 43,
     "metadata": {},
     "output_type": "execute_result"
    }
   ],
   "source": [
    "list(range(0,15,-1)) # since it is in opposite dirrection"
   ]
  },
  {
   "cell_type": "code",
   "execution_count": 45,
   "id": "a6591926",
   "metadata": {},
   "outputs": [
    {
     "data": {
      "text/plain": [
       "[15, 12, 9, 6, 3]"
      ]
     },
     "execution_count": 45,
     "metadata": {},
     "output_type": "execute_result"
    }
   ],
   "source": [
    "list(range(15,0,-3))"
   ]
  },
  {
   "cell_type": "code",
   "execution_count": 58,
   "id": "2bb4a6c9",
   "metadata": {},
   "outputs": [
    {
     "name": "stdout",
     "output_type": "stream",
     "text": [
      "nilam \n",
      "\n",
      "nilam nilam \n",
      "\n",
      "nilam nilam nilam \n",
      "\n",
      "nilam nilam nilam nilam \n",
      "\n"
     ]
    }
   ],
   "source": [
    "n=4\n",
    "for i in range(4):\n",
    "        for j in range(0, i+1):\n",
    "            print(\"nilam\", end=\" \")\n",
    "        print(\"\\n\")"
   ]
  },
  {
   "cell_type": "code",
   "execution_count": 70,
   "id": "5081f53d",
   "metadata": {},
   "outputs": [
    {
     "name": "stdout",
     "output_type": "stream",
     "text": [
      "               sudh \n",
      "\n",
      "          sudh sudh sudh \n",
      "\n",
      "     sudh sudh sudh sudh sudh \n",
      "\n",
      "sudh sudh sudh sudh sudh sudh sudh \n",
      "\n"
     ]
    }
   ],
   "source": [
    "n=4\n",
    "for i in range(n):\n",
    "    for j in range(i,n-1):\n",
    "        print(\" \"* len(\"sudh\"), end=\" \")\n",
    "    for j in range(i+1):\n",
    "        print(\"sudh\", end=\" \")\n",
    "    for j in range(i):\n",
    "        print(\"sudh\", end=\" \") \n",
    "    print(\"\\n\")     "
   ]
  },
  {
   "cell_type": "code",
   "execution_count": 73,
   "id": "40b904fd",
   "metadata": {},
   "outputs": [],
   "source": [
    "t=(4,5,6,7,8,6,\"sudh\")"
   ]
  },
  {
   "cell_type": "code",
   "execution_count": 74,
   "id": "633a5fc8",
   "metadata": {},
   "outputs": [
    {
     "data": {
      "text/plain": [
       "7"
      ]
     },
     "execution_count": 74,
     "metadata": {},
     "output_type": "execute_result"
    }
   ],
   "source": [
    "len(t)"
   ]
  },
  {
   "cell_type": "code",
   "execution_count": 80,
   "id": "8119e300",
   "metadata": {},
   "outputs": [
    {
     "data": {
      "text/plain": [
       "[0, 1, 2, 3, 4, 5, 6]"
      ]
     },
     "execution_count": 80,
     "metadata": {},
     "output_type": "execute_result"
    }
   ],
   "source": [
    "list(range(len(t)))"
   ]
  },
  {
   "cell_type": "code",
   "execution_count": 85,
   "id": "f35c0755",
   "metadata": {},
   "outputs": [
    {
     "name": "stdout",
     "output_type": "stream",
     "text": [
      "0  :  3\n",
      "1  :  23\n",
      "2  :  45\n",
      "3  :  67\n",
      "4  :  2\n",
      "5  :  4\n",
      "6  :  5\n",
      "7  :  6\n"
     ]
    }
   ],
   "source": [
    "t=(3,23,45,67,2,4,5,6)\n",
    "\n",
    "for i in range(len(t)): # range can be used to produce index\n",
    "    print(i,\" : \" , t[i])"
   ]
  },
  {
   "cell_type": "code",
   "execution_count": 86,
   "id": "653ed4cc",
   "metadata": {},
   "outputs": [
    {
     "name": "stdout",
     "output_type": "stream",
     "text": [
      "0 : n\n",
      "1 : i\n",
      "2 : l\n",
      "3 : a\n",
      "4 : m\n",
      "5 : k\n",
      "6 : a\n",
      "7 : l\n",
      "8 : e\n"
     ]
    }
   ],
   "source": [
    "s=\"nilamkale\"\n",
    "\n",
    "for i in range(len(s)):\n",
    "    print(i, \":\" , s[i])"
   ]
  },
  {
   "cell_type": "code",
   "execution_count": 88,
   "id": "fd35d82c",
   "metadata": {},
   "outputs": [
    {
     "data": {
      "text/plain": [
       "[8, 7, 6, 5, 4, 3, 2, 1, 0]"
      ]
     },
     "execution_count": 88,
     "metadata": {},
     "output_type": "execute_result"
    }
   ],
   "source": [
    "list(range(len(s) -1,-1,-1))"
   ]
  },
  {
   "cell_type": "code",
   "execution_count": 90,
   "id": "3b3ec081",
   "metadata": {},
   "outputs": [
    {
     "name": "stdout",
     "output_type": "stream",
     "text": [
      "8 : e\n",
      "7 : l\n",
      "6 : a\n",
      "5 : k\n",
      "4 : m\n",
      "3 : a\n",
      "2 : l\n",
      "1 : i\n",
      "0 : n\n"
     ]
    }
   ],
   "source": [
    "for i in range(len(s)-1,-1,-1):\n",
    "    print(i,\":\", s[i])"
   ]
  },
  {
   "cell_type": "code",
   "execution_count": 91,
   "id": "ff6df810",
   "metadata": {},
   "outputs": [
    {
     "data": {
      "text/plain": [
       "{'key1': 'sudh', 'contact': 842346934, 'position': 'xyz'}"
      ]
     },
     "execution_count": 91,
     "metadata": {},
     "output_type": "execute_result"
    }
   ],
   "source": [
    "d"
   ]
  },
  {
   "cell_type": "code",
   "execution_count": 97,
   "id": "31796b6a",
   "metadata": {},
   "outputs": [
    {
     "name": "stdout",
     "output_type": "stream",
     "text": [
      "('key1', 'sudh') <class 'list'> <class 'str'>\n",
      "('contact', 842346934) <class 'list'> <class 'int'>\n",
      "('position', 'xyz') <class 'list'> <class 'str'>\n"
     ]
    }
   ],
   "source": [
    "for i in (d.items()):\n",
    "    print(( i), type([i]), type( i[1]))"
   ]
  },
  {
   "cell_type": "code",
   "execution_count": 100,
   "id": "646771b9",
   "metadata": {},
   "outputs": [
    {
     "name": "stdout",
     "output_type": "stream",
     "text": [
      "('sudh', 'kumar') <class 'list'> <class 'str'>\n",
      "(7669696, 's@gmail.com') <class 'list'> <class 'str'>\n",
      "(696, 324823) <class 'list'> <class 'int'>\n"
     ]
    }
   ],
   "source": [
    "l1={\"sudh\":\"kumar\",7669696:\"s@gmail.com\",696:324823}\n",
    "\n",
    "for i in (l1.items()):\n",
    "    print( (i), type([i]), type (i[1]))"
   ]
  },
  {
   "cell_type": "code",
   "execution_count": 103,
   "id": "bc8267ad",
   "metadata": {},
   "outputs": [
    {
     "name": "stdout",
     "output_type": "stream",
     "text": [
      "[7669696]\n",
      "[7669696, 696]\n",
      "[7669696, 696, 324823]\n"
     ]
    }
   ],
   "source": [
    "l1=[\"sudh\",\"kumar\",7669696,\"s@gmail.com\",696,324823]\n",
    "\n",
    "l2=[] \n",
    "for i in l1:\n",
    "        if type(i)== int:\n",
    "            l2.append(i)\n",
    "            \n",
    "            print(l2)\n",
    "            "
   ]
  },
  {
   "cell_type": "code",
   "execution_count": 104,
   "id": "41d92469",
   "metadata": {},
   "outputs": [
    {
     "name": "stdout",
     "output_type": "stream",
     "text": [
      "[1]\n",
      "[1, 324324]\n",
      "[1, 324324, 232]\n"
     ]
    }
   ],
   "source": [
    "d={1:32746276, \"name\":\"sudh\", \"email\":\"s@gmail.com\", 324324:\"ysda\", \"43\":\"ewf\",232:\"8423\"}\n",
    "\n",
    "l3=[]\n",
    "\n",
    "for i in d:\n",
    "    if type(i)== int:\n",
    "        l3.append(i)\n",
    "        \n",
    "        print(l3)"
   ]
  },
  {
   "cell_type": "code",
   "execution_count": 105,
   "id": "b00c3c0f",
   "metadata": {},
   "outputs": [
    {
     "name": "stdout",
     "output_type": "stream",
     "text": [
      "1 : 32746276\n",
      "324324 : ysda\n",
      "232 : 8423\n"
     ]
    }
   ],
   "source": [
    "l3=[]\n",
    "for i in d:\n",
    "    if type(i)== int:\n",
    "        print(i, \":\", d[i])"
   ]
  },
  {
   "cell_type": "code",
   "execution_count": 109,
   "id": "bcb6ae8f",
   "metadata": {},
   "outputs": [
    {
     "name": "stdout",
     "output_type": "stream",
     "text": [
      "b : 2\n",
      "c : 2\n",
      "a : 4\n",
      "d : 1\n"
     ]
    }
   ],
   "source": [
    "s=\"aaaabbccd\"\n",
    "\n",
    "for i in set(s):\n",
    "    \n",
    "        print( i, \":\", s.count(i))"
   ]
  },
  {
   "cell_type": "code",
   "execution_count": 110,
   "id": "2bb12b17",
   "metadata": {},
   "outputs": [
    {
     "ename": "TypeError",
     "evalue": "'int' object is not iterable",
     "output_type": "error",
     "traceback": [
      "\u001b[1;31m---------------------------------------------------------------------------\u001b[0m",
      "\u001b[1;31mTypeError\u001b[0m                                 Traceback (most recent call last)",
      "Input \u001b[1;32mIn [110]\u001b[0m, in \u001b[0;36m<cell line: 3>\u001b[1;34m()\u001b[0m\n\u001b[0;32m      1\u001b[0m m \u001b[38;5;241m=\u001b[39m\u001b[38;5;241m23423492492349235\u001b[39m\n\u001b[1;32m----> 3\u001b[0m \u001b[38;5;28;01mfor\u001b[39;00m i \u001b[38;5;129;01min\u001b[39;00m \u001b[38;5;28;43mset\u001b[39;49m\u001b[43m(\u001b[49m\u001b[43mm\u001b[49m\u001b[43m)\u001b[49m:\n\u001b[0;32m      5\u001b[0m         \u001b[38;5;28mprint\u001b[39m( i, \u001b[38;5;124m\"\u001b[39m\u001b[38;5;124m:\u001b[39m\u001b[38;5;124m\"\u001b[39m, m\u001b[38;5;241m.\u001b[39mcount(i))\n",
      "\u001b[1;31mTypeError\u001b[0m: 'int' object is not iterable"
     ]
    }
   ],
   "source": [
    "\n",
    "m =23423492492349235 # int is not iterable\n",
    "\n",
    "for i in set(m):\n",
    "    \n",
    "        print( i, \":\", m.count(i))"
   ]
  },
  {
   "cell_type": "code",
   "execution_count": 111,
   "id": "e02ff9b1",
   "metadata": {},
   "outputs": [
    {
     "name": "stdout",
     "output_type": "stream",
     "text": [
      "2 <class 'int'>\n",
      "3 <class 'int'>\n",
      "4 <class 'int'>\n",
      "2 <class 'int'>\n",
      "3 <class 'int'>\n",
      "4 <class 'int'>\n",
      "9 <class 'int'>\n",
      "2 <class 'int'>\n",
      "4 <class 'int'>\n",
      "9 <class 'int'>\n",
      "2 <class 'int'>\n",
      "3 <class 'int'>\n",
      "4 <class 'int'>\n",
      "9 <class 'int'>\n",
      "2 <class 'int'>\n",
      "3 <class 'int'>\n",
      "5 <class 'int'>\n"
     ]
    }
   ],
   "source": [
    "m =23423492492349235\n",
    "\n",
    "for i in str(m):\n",
    "    print( int(i), type(int(i)))"
   ]
  },
  {
   "cell_type": "code",
   "execution_count": 116,
   "id": "b5ff6cdd",
   "metadata": {},
   "outputs": [
    {
     "name": "stdout",
     "output_type": "stream",
     "text": [
      "3\n",
      "3\n",
      "key2\n",
      "324\n"
     ]
    }
   ],
   "source": [
    "t=(\"sudh\",\"kumar\",[1,2,3,4,5],(1,2,3,4,5),{3:3,\"key2\":324})\n",
    "\n",
    "for i in t:\n",
    "    if type(i)==list or type(i)==tuple:\n",
    "        for j in i:\n",
    "            if type(j)== 3:\n",
    "                print(j)\n",
    "    if type(i)== dict:\n",
    "          for k,v in i.items():\n",
    "                print(k)\n",
    "                print(v)"
   ]
  },
  {
   "cell_type": "code",
   "execution_count": 123,
   "id": "69d4f17a",
   "metadata": {},
   "outputs": [
    {
     "name": "stdout",
     "output_type": "stream",
     "text": [
      "(4, 5)\n",
      "('key1', 'sudh')\n",
      "('key2', 'kumar')\n"
     ]
    }
   ],
   "source": [
    "d={4:5,\"key1\":\"sudh\",\"key2\":\"kumar\"}\n",
    "\n",
    "for i in d.items():\n",
    "     print(i)"
   ]
  },
  {
   "cell_type": "code",
   "execution_count": 127,
   "id": "2c465edc",
   "metadata": {},
   "outputs": [
    {
     "name": "stdout",
     "output_type": "stream",
     "text": [
      "4 : 5\n",
      "key1 : sudh\n",
      "key2 : kumar\n"
     ]
    }
   ],
   "source": [
    "d={4:5,\"key1\":\"sudh\",\"key2\":\"kumar\"}\n",
    "\n",
    "for i in d:\n",
    "    print(i, \":\", d[i])"
   ]
  },
  {
   "cell_type": "code",
   "execution_count": 129,
   "id": "f53eca3a",
   "metadata": {},
   "outputs": [
    {
     "name": "stdout",
     "output_type": "stream",
     "text": [
      "4 5\n",
      "key1 sudh\n",
      "key2 kumar\n"
     ]
    }
   ],
   "source": [
    "for i,j in d.items():\n",
    "    print(i,j)"
   ]
  },
  {
   "cell_type": "code",
   "execution_count": 140,
   "id": "1c34608e",
   "metadata": {},
   "outputs": [
    {
     "name": "stdout",
     "output_type": "stream",
     "text": [
      "(4, 5) <class 'list'> <class 'int'>\n",
      "('key1', 'sudh') <class 'list'> <class 'str'>\n",
      "('key2', 'kumar') <class 'list'> <class 'str'>\n"
     ]
    }
   ],
   "source": [
    "for i in d.items():\n",
    "    print(i, type([i]), type(i[1]))"
   ]
  },
  {
   "cell_type": "code",
   "execution_count": 148,
   "id": "a04c908a",
   "metadata": {},
   "outputs": [
    {
     "name": "stdout",
     "output_type": "stream",
     "text": [
      "                         nilam \n",
      "\n",
      "                   nilam  nilam  nilam \n",
      "\n",
      "             nilam  nilam  nilam  nilam  nilam \n",
      "\n",
      "       nilam  nilam  nilam  nilam  nilam  nilam  nilam \n",
      "\n",
      " nilam  nilam  nilam  nilam  nilam  nilam  nilam  nilam  nilam \n",
      "\n"
     ]
    }
   ],
   "source": [
    "n=5\n",
    "\n",
    "for i in range(n):\n",
    "    for j in range(i,n-1):\n",
    "        print(\" \"*len(\"nilam\"), end=\" \")\n",
    "    for j in range(i+1):\n",
    "        print(\" nilam\", end=\" \")\n",
    "    for j in range(i):\n",
    "        print(\" nilam\", end=\" \")\n",
    "        \n",
    "    print(\"\\n\")\n",
    "    "
   ]
  },
  {
   "cell_type": "code",
   "execution_count": null,
   "id": "281fd611",
   "metadata": {},
   "outputs": [],
   "source": []
  }
 ],
 "metadata": {
  "kernelspec": {
   "display_name": "Python 3 (ipykernel)",
   "language": "python",
   "name": "python3"
  },
  "language_info": {
   "codemirror_mode": {
    "name": "ipython",
    "version": 3
   },
   "file_extension": ".py",
   "mimetype": "text/x-python",
   "name": "python",
   "nbconvert_exporter": "python",
   "pygments_lexer": "ipython3",
   "version": "3.9.12"
  }
 },
 "nbformat": 4,
 "nbformat_minor": 5
}
