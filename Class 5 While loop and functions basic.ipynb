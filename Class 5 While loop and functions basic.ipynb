{
 "cells": [
  {
   "cell_type": "markdown",
   "id": "8b86409f",
   "metadata": {},
   "source": [
    "# Class 5 While loop and functions basic"
   ]
  },
  {
   "cell_type": "code",
   "execution_count": 1,
   "id": "4b92f8e4",
   "metadata": {},
   "outputs": [],
   "source": [
    "a=1\n",
    "b= 10"
   ]
  },
  {
   "cell_type": "code",
   "execution_count": 6,
   "id": "7fe628dd",
   "metadata": {},
   "outputs": [
    {
     "name": "stdout",
     "output_type": "stream",
     "text": [
      "1\n",
      "2\n",
      "3\n",
      "4\n",
      "5\n",
      "6\n",
      "7\n",
      "8\n",
      "9\n",
      "10\n"
     ]
    }
   ],
   "source": [
    "a=1\n",
    "b= 10\n",
    "while a <=b:\n",
    "    print(a)\n",
    "    a=a+1\n",
    "    "
   ]
  },
  {
   "cell_type": "code",
   "execution_count": 7,
   "id": "7ffe18a0",
   "metadata": {},
   "outputs": [
    {
     "name": "stdout",
     "output_type": "stream",
     "text": [
      "1\n",
      "3\n",
      "5\n",
      "7\n",
      "9\n",
      " print the else block\n"
     ]
    }
   ],
   "source": [
    "a=1\n",
    "b=10\n",
    "\n",
    "while a<=b:\n",
    "    print(a)\n",
    "    a=a+2\n",
    "    \n",
    "else :\n",
    "        print(\" print the else block\")"
   ]
  },
  {
   "cell_type": "code",
   "execution_count": 15,
   "id": "031b94a3",
   "metadata": {},
   "outputs": [
    {
     "name": "stdout",
     "output_type": "stream",
     "text": [
      "1\n",
      "2\n",
      "3\n",
      "4\n",
      "5\n"
     ]
    }
   ],
   "source": [
    "a=1\n",
    "b=10\n",
    "\n",
    "while a<= b:\n",
    "    print(a)\n",
    "    if a==5:\n",
    "        break\n",
    "    a=a+1\n",
    "else: \n",
    "    print(\" print the else block\")  "
   ]
  },
  {
   "cell_type": "code",
   "execution_count": 1,
   "id": "8609c1f1",
   "metadata": {},
   "outputs": [
    {
     "name": "stdout",
     "output_type": "stream",
     "text": [
      "2\n",
      "4\n",
      "5\n",
      "6\n",
      "7\n",
      "8\n",
      "9\n",
      "10\n"
     ]
    }
   ],
   "source": [
    "a=1\n",
    "b=10\n",
    "while a<b:\n",
    "    a= a+1\n",
    "    if a==3:  \n",
    "        continue\n",
    "    print(a)\n",
    "   "
   ]
  },
  {
   "cell_type": "code",
   "execution_count": 3,
   "id": "87c3d756",
   "metadata": {},
   "outputs": [],
   "source": [
    "l=[1,2,3,4,65,56]"
   ]
  },
  {
   "cell_type": "code",
   "execution_count": 5,
   "id": "f9957eba",
   "metadata": {},
   "outputs": [
    {
     "name": "stdout",
     "output_type": "stream",
     "text": [
      "1\n",
      "2\n",
      "3\n",
      "4\n",
      "65\n",
      "56\n"
     ]
    }
   ],
   "source": [
    "a=0\n",
    "\n",
    "while a < len(l):\n",
    "    print(l[a])\n",
    "    a=a +1"
   ]
  },
  {
   "cell_type": "code",
   "execution_count": 10,
   "id": "b24e4298",
   "metadata": {},
   "outputs": [
    {
     "data": {
      "text/plain": [
       "[1, 2, 3, 4, 65, 56]"
      ]
     },
     "execution_count": 10,
     "metadata": {},
     "output_type": "execute_result"
    }
   ],
   "source": [
    "l"
   ]
  },
  {
   "cell_type": "code",
   "execution_count": 50,
   "id": "451777a7",
   "metadata": {},
   "outputs": [],
   "source": [
    "t=(6,4,5,6,7,8,6)"
   ]
  },
  {
   "cell_type": "code",
   "execution_count": 5,
   "id": "b8023cc5",
   "metadata": {},
   "outputs": [
    {
     "ename": "NameError",
     "evalue": "name 'l' is not defined",
     "output_type": "error",
     "traceback": [
      "\u001b[1;31m---------------------------------------------------------------------------\u001b[0m",
      "\u001b[1;31mNameError\u001b[0m                                 Traceback (most recent call last)",
      "Input \u001b[1;32mIn [5]\u001b[0m, in \u001b[0;36m<cell line: 3>\u001b[1;34m()\u001b[0m\n\u001b[0;32m      1\u001b[0m a\u001b[38;5;241m=\u001b[39m\u001b[38;5;241m0\u001b[39m\n\u001b[1;32m----> 3\u001b[0m \u001b[38;5;28;01mwhile\u001b[39;00m a \u001b[38;5;241m<\u001b[39m\u001b[38;5;241m=\u001b[39m \u001b[38;5;28mlen\u001b[39m(\u001b[43ml\u001b[49m):\n\u001b[0;32m      4\u001b[0m     \u001b[38;5;28;01mif\u001b[39;00m t[a]\u001b[38;5;241m==\u001b[39m\u001b[38;5;241m6\u001b[39m \u001b[38;5;129;01mor\u001b[39;00m t[a]\u001b[38;5;241m==\u001b[39m\u001b[38;5;241m7\u001b[39m:\n\u001b[0;32m      5\u001b[0m         \u001b[38;5;28mprint\u001b[39m(a)\n",
      "\u001b[1;31mNameError\u001b[0m: name 'l' is not defined"
     ]
    }
   ],
   "source": [
    "a=0\n",
    "\n",
    "while a <= len(l):\n",
    "    if t[a]==6 or t[a]==7:\n",
    "        print(a)\n",
    "        \n",
    "    a=a+1"
   ]
  },
  {
   "cell_type": "code",
   "execution_count": 6,
   "id": "fe8e795c",
   "metadata": {},
   "outputs": [
    {
     "name": "stdout",
     "output_type": "stream",
     "text": [
      "index is -1\n",
      "index is -3\n",
      "index is -4\n",
      "index is -7\n"
     ]
    }
   ],
   "source": [
    "a=len(t)-8\n",
    "# make this program generalise i.e remove 8 and 0\n",
    "while a<=0:\n",
    "    if t[a]== 6 or t[a]==7:\n",
    "        print(\"index is\",a)\n",
    "    if a==-len(t):\n",
    "        break\n",
    "    a=a-1"
   ]
  },
  {
   "cell_type": "code",
   "execution_count": 1,
   "id": "570a3f76",
   "metadata": {},
   "outputs": [],
   "source": [
    "d={\"k1\":\"shud\", \"k2\":[1,2,3,4],\"k3\":(2,3,4,5)}"
   ]
  },
  {
   "cell_type": "code",
   "execution_count": 4,
   "id": "8e88304e",
   "metadata": {},
   "outputs": [
    {
     "name": "stdout",
     "output_type": "stream",
     "text": [
      "shud\n",
      "[1, 2, 3, 4]\n",
      "(2, 3, 4, 5)\n"
     ]
    }
   ],
   "source": [
    "a=0\n",
    "b= list(d.keys())\n",
    "\n",
    "while a< len(d):\n",
    "    print(d[b[a]])\n",
    "    a=a+1"
   ]
  },
  {
   "cell_type": "code",
   "execution_count": 19,
   "id": "a4c4765f",
   "metadata": {},
   "outputs": [
    {
     "name": "stdout",
     "output_type": "stream",
     "text": [
      "1\n",
      "3\n",
      "6\n",
      "10\n",
      "15\n",
      "21\n",
      "28\n",
      "36\n",
      "45\n",
      "55\n",
      "66\n",
      "78\n",
      "91\n",
      "105\n",
      "120\n",
      "136\n",
      "153\n",
      "171\n",
      "190\n",
      "210\n",
      "231\n",
      "253\n",
      "276\n",
      "300\n",
      "325\n",
      "351\n",
      "378\n",
      "406\n",
      "435\n",
      "465\n",
      "496\n",
      "528\n",
      "561\n",
      "595\n",
      "630\n",
      "666\n",
      "703\n",
      "741\n",
      "780\n",
      "820\n",
      "861\n",
      "903\n",
      "946\n",
      "990\n",
      "1035\n",
      "1081\n",
      "1128\n",
      "1176\n",
      "1225\n",
      "1275\n",
      "1326\n",
      "1378\n",
      "1431\n",
      "1485\n",
      "1540\n",
      "1596\n",
      "1653\n",
      "1711\n",
      "1770\n",
      "1830\n",
      "1891\n",
      "1953\n",
      "2016\n",
      "2080\n",
      "2145\n",
      "2211\n",
      "2278\n",
      "2346\n",
      "2415\n",
      "2485\n",
      "2556\n",
      "2628\n",
      "2701\n",
      "2775\n",
      "2850\n",
      "2926\n",
      "3003\n",
      "3081\n",
      "3160\n",
      "3240\n",
      "3321\n",
      "3403\n",
      "3486\n",
      "3570\n",
      "3655\n",
      "3741\n",
      "3828\n",
      "3916\n",
      "4005\n",
      "4095\n",
      "4186\n",
      "4278\n",
      "4371\n",
      "4465\n",
      "4560\n",
      "4656\n",
      "4753\n",
      "4851\n",
      "4950\n",
      "5050\n",
      "5151\n"
     ]
    }
   ],
   "source": [
    "# Q1. Write a while loop that adds all the numbers up to 100 (inclusive).\n",
    "\n",
    "a=0\n",
    "b=0\n",
    "\n",
    "while a<= 100:\n",
    "    a=a+1\n",
    "    b=b+a\n",
    "    print(b )"
   ]
  },
  {
   "cell_type": "code",
   "execution_count": 1,
   "id": "9b6386a7",
   "metadata": {},
   "outputs": [],
   "source": [
    "lst=[10, 99, 98, 85, 45, 59, 65, 66, 76, 12, 35, 13, 100, 80, 95]"
   ]
  },
  {
   "cell_type": "code",
   "execution_count": 2,
   "id": "c4bf6c14",
   "metadata": {},
   "outputs": [
    {
     "name": "stdout",
     "output_type": "stream",
     "text": [
      "There is a 100 at index no: 12\n"
     ]
    }
   ],
   "source": [
    "i = 0\n",
    "while i < len(lst):\n",
    "    if lst[i] == 100:\n",
    "        print(\"There is a 100 at index no: \" + str(i))\n",
    "    i = i+1"
   ]
  },
  {
   "cell_type": "code",
   "execution_count": 4,
   "id": "3da45b50",
   "metadata": {},
   "outputs": [],
   "source": [
    "#Q3. Using while loop and an if statement write a function named name_adder which appends all\n",
    "the elements in a list to a new list unless the element is an empty string: \"\"."
   ]
  },
  {
   "cell_type": "code",
   "execution_count": 23,
   "id": "df387720",
   "metadata": {},
   "outputs": [],
   "source": [
    "lst1=[\"Joe\", \"Sarah\", \"Mike\", \"Jess\", \"\", \"Matt\", \"\", \"Greg\"]"
   ]
  },
  {
   "cell_type": "code",
   "execution_count": 28,
   "id": "ccb7a3ce",
   "metadata": {},
   "outputs": [
    {
     "name": "stdout",
     "output_type": "stream",
     "text": [
      "['Joe', 'Sarah', 'Mike', 'Jess', 'Matt', 'Greg']\n"
     ]
    }
   ],
   "source": [
    "lst1=[\"Joe\", \"Sarah\", \"Mike\", \"Jess\", \"\", \"Matt\", \"\", \"Greg\"]\n",
    "\n",
    "#Type your code here.\n",
    "\n",
    "def name_adder(list):\n",
    "    i = 0\n",
    "    new_list = []\n",
    "    while i < len(list):\n",
    "        if list[i] != \"\":\n",
    "            new_list.append(list[i])\n",
    "        i = i+1\n",
    "    return new_list\n",
    "\n",
    "\n",
    "\n",
    "print(name_adder(lst1))\n"
   ]
  },
  {
   "cell_type": "code",
   "execution_count": null,
   "id": "b0581e7c",
   "metadata": {},
   "outputs": [],
   "source": [
    "#Q.4 This time inside a function named name_adder, write a while loop that stops appending items to the new list as soon as it encounters an empty string: \"\".\n",
    "And prints \"There is an empty string and returns the new list.\""
   ]
  },
  {
   "cell_type": "code",
   "execution_count": 11,
   "id": "161c9ece",
   "metadata": {},
   "outputs": [
    {
     "name": "stdout",
     "output_type": "stream",
     "text": [
      "['Sam']\n"
     ]
    }
   ],
   "source": [
    "lst1=[\"Sam\", \"\", \"Ben\", \"Olivia\", \"Alicia\"]\n",
    "\n",
    "def name_adder(list):\n",
    "    i=0\n",
    "    new_list=[]\n",
    "    \n",
    "    while i<len(list):\n",
    "        if list[i]!=\" \":\n",
    "            new_list.append(list[i])\n",
    "        else:\n",
    "            break\n",
    "            \n",
    "        return new_list \n",
    "        i=i+1\n",
    "print(name_adder(lst1))\n",
    "    \n",
    "    "
   ]
  },
  {
   "cell_type": "markdown",
   "id": "c49ef8cd",
   "metadata": {},
   "source": [
    "# Functions"
   ]
  },
  {
   "cell_type": "code",
   "execution_count": 3,
   "id": "6d117f83",
   "metadata": {},
   "outputs": [],
   "source": [
    "def training():\n",
    "    print(\"this is my first function\")"
   ]
  },
  {
   "cell_type": "code",
   "execution_count": 5,
   "id": "9798fe78",
   "metadata": {},
   "outputs": [
    {
     "name": "stdout",
     "output_type": "stream",
     "text": [
      "this is my first function\n"
     ]
    }
   ],
   "source": [
    "training()"
   ]
  },
  {
   "cell_type": "code",
   "execution_count": 12,
   "id": "f8f431ef",
   "metadata": {},
   "outputs": [
    {
     "ename": "TypeError",
     "evalue": "unsupported operand type(s) for +: 'function' and 'str'",
     "output_type": "error",
     "traceback": [
      "\u001b[1;31m---------------------------------------------------------------------------\u001b[0m",
      "\u001b[1;31mTypeError\u001b[0m                                 Traceback (most recent call last)",
      "Input \u001b[1;32mIn [12]\u001b[0m, in \u001b[0;36m<cell line: 1>\u001b[1;34m()\u001b[0m\n\u001b[1;32m----> 1\u001b[0m \u001b[43mtraining\u001b[49m\u001b[43m \u001b[49m\u001b[38;5;241;43m+\u001b[39;49m\u001b[43m \u001b[49m\u001b[38;5;124;43m\"\u001b[39;49m\u001b[38;5;124;43mnilam\u001b[39;49m\u001b[38;5;124;43m\"\u001b[39;49m\n",
      "\u001b[1;31mTypeError\u001b[0m: unsupported operand type(s) for +: 'function' and 'str'"
     ]
    }
   ],
   "source": [
    "training + \"nilam\""
   ]
  },
  {
   "cell_type": "code",
   "execution_count": 14,
   "id": "e67098c2",
   "metadata": {},
   "outputs": [
    {
     "name": "stdout",
     "output_type": "stream",
     "text": [
      "this is my first function\n"
     ]
    },
    {
     "data": {
      "text/plain": [
       "NoneType"
      ]
     },
     "execution_count": 14,
     "metadata": {},
     "output_type": "execute_result"
    }
   ],
   "source": [
    "type(training())"
   ]
  },
  {
   "cell_type": "code",
   "execution_count": 15,
   "id": "2bcefb06",
   "metadata": {},
   "outputs": [
    {
     "data": {
      "text/plain": [
       "function"
      ]
     },
     "execution_count": 15,
     "metadata": {},
     "output_type": "execute_result"
    }
   ],
   "source": [
    "type(training)"
   ]
  },
  {
   "cell_type": "code",
   "execution_count": 16,
   "id": "3f796235",
   "metadata": {},
   "outputs": [],
   "source": [
    "def test1():\n",
    "    return(\" this is my first funtion\")"
   ]
  },
  {
   "cell_type": "code",
   "execution_count": 18,
   "id": "291a6f4c",
   "metadata": {},
   "outputs": [
    {
     "data": {
      "text/plain": [
       "' this is my first funtion'"
      ]
     },
     "execution_count": 18,
     "metadata": {},
     "output_type": "execute_result"
    }
   ],
   "source": [
    "test1()"
   ]
  },
  {
   "cell_type": "code",
   "execution_count": 19,
   "id": "1d504411",
   "metadata": {},
   "outputs": [
    {
     "data": {
      "text/plain": [
       "str"
      ]
     },
     "execution_count": 19,
     "metadata": {},
     "output_type": "execute_result"
    }
   ],
   "source": [
    "type(test1())"
   ]
  },
  {
   "cell_type": "code",
   "execution_count": 28,
   "id": "73999fba",
   "metadata": {},
   "outputs": [
    {
     "data": {
      "text/plain": [
       "' this is my first funtion , nilam'"
      ]
     },
     "execution_count": 28,
     "metadata": {},
     "output_type": "execute_result"
    }
   ],
   "source": [
    "test1() + \" , nilam\""
   ]
  },
  {
   "cell_type": "code",
   "execution_count": 29,
   "id": "e6112c7f",
   "metadata": {},
   "outputs": [],
   "source": [
    "def test2():\n",
    "    pass"
   ]
  },
  {
   "cell_type": "code",
   "execution_count": 30,
   "id": "397e474a",
   "metadata": {},
   "outputs": [],
   "source": [
    "test2()"
   ]
  },
  {
   "cell_type": "code",
   "execution_count": 52,
   "id": "9ff9ecbc",
   "metadata": {},
   "outputs": [],
   "source": [
    "def test3():\n",
    "    return 1,3,5, [1,2,3,4,5,67]"
   ]
  },
  {
   "cell_type": "code",
   "execution_count": 53,
   "id": "70259f44",
   "metadata": {},
   "outputs": [
    {
     "data": {
      "text/plain": [
       "(1, 3, 5, [1, 2, 3, 4, 5, 67])"
      ]
     },
     "execution_count": 53,
     "metadata": {},
     "output_type": "execute_result"
    }
   ],
   "source": [
    "test3() # function returns multiple objects in the form of tuple"
   ]
  },
  {
   "cell_type": "code",
   "execution_count": 54,
   "id": "eb0aa300",
   "metadata": {},
   "outputs": [],
   "source": [
    "a= test3()"
   ]
  },
  {
   "cell_type": "code",
   "execution_count": 55,
   "id": "b547b83d",
   "metadata": {},
   "outputs": [
    {
     "data": {
      "text/plain": [
       "(1, 3, 5, [1, 2, 3, 4, 5, 67])"
      ]
     },
     "execution_count": 55,
     "metadata": {},
     "output_type": "execute_result"
    }
   ],
   "source": [
    "a"
   ]
  },
  {
   "cell_type": "code",
   "execution_count": 56,
   "id": "f71b16a8",
   "metadata": {},
   "outputs": [],
   "source": [
    "a,b,c,d=test3()"
   ]
  },
  {
   "cell_type": "code",
   "execution_count": 57,
   "id": "907f2346",
   "metadata": {},
   "outputs": [
    {
     "data": {
      "text/plain": [
       "1"
      ]
     },
     "execution_count": 57,
     "metadata": {},
     "output_type": "execute_result"
    }
   ],
   "source": [
    "a"
   ]
  },
  {
   "cell_type": "code",
   "execution_count": 58,
   "id": "1ee5086b",
   "metadata": {},
   "outputs": [
    {
     "data": {
      "text/plain": [
       "3"
      ]
     },
     "execution_count": 58,
     "metadata": {},
     "output_type": "execute_result"
    }
   ],
   "source": [
    "b"
   ]
  },
  {
   "cell_type": "code",
   "execution_count": 59,
   "id": "6e509d93",
   "metadata": {},
   "outputs": [
    {
     "data": {
      "text/plain": [
       "5"
      ]
     },
     "execution_count": 59,
     "metadata": {},
     "output_type": "execute_result"
    }
   ],
   "source": [
    "c"
   ]
  },
  {
   "cell_type": "code",
   "execution_count": 60,
   "id": "28c6e73f",
   "metadata": {},
   "outputs": [
    {
     "data": {
      "text/plain": [
       "[1, 2, 3, 4, 5, 67]"
      ]
     },
     "execution_count": 60,
     "metadata": {},
     "output_type": "execute_result"
    }
   ],
   "source": [
    "d"
   ]
  },
  {
   "cell_type": "code",
   "execution_count": 61,
   "id": "3f967af5",
   "metadata": {},
   "outputs": [],
   "source": [
    "def test4():\n",
    "    a=5*4\n",
    "    b=6+5\n",
    "    return a,b"
   ]
  },
  {
   "cell_type": "code",
   "execution_count": 62,
   "id": "98e3cba9",
   "metadata": {},
   "outputs": [],
   "source": [
    "m=test4()"
   ]
  },
  {
   "cell_type": "code",
   "execution_count": 63,
   "id": "549c43d7",
   "metadata": {},
   "outputs": [
    {
     "data": {
      "text/plain": [
       "(20, 11)"
      ]
     },
     "execution_count": 63,
     "metadata": {},
     "output_type": "execute_result"
    }
   ],
   "source": [
    "m"
   ]
  },
  {
   "cell_type": "code",
   "execution_count": 64,
   "id": "8ba2bd95",
   "metadata": {},
   "outputs": [],
   "source": [
    "j,k=test4()"
   ]
  },
  {
   "cell_type": "code",
   "execution_count": 65,
   "id": "89383566",
   "metadata": {},
   "outputs": [
    {
     "data": {
      "text/plain": [
       "20"
      ]
     },
     "execution_count": 65,
     "metadata": {},
     "output_type": "execute_result"
    }
   ],
   "source": [
    "j"
   ]
  },
  {
   "cell_type": "code",
   "execution_count": 66,
   "id": "5724aecc",
   "metadata": {},
   "outputs": [
    {
     "data": {
      "text/plain": [
       "11"
      ]
     },
     "execution_count": 66,
     "metadata": {},
     "output_type": "execute_result"
    }
   ],
   "source": [
    "k"
   ]
  },
  {
   "cell_type": "code",
   "execution_count": 67,
   "id": "b188392a",
   "metadata": {},
   "outputs": [],
   "source": [
    "_, l= test4()"
   ]
  },
  {
   "cell_type": "code",
   "execution_count": 68,
   "id": "0257564d",
   "metadata": {},
   "outputs": [
    {
     "data": {
      "text/plain": [
       "20"
      ]
     },
     "execution_count": 68,
     "metadata": {},
     "output_type": "execute_result"
    }
   ],
   "source": [
    "_"
   ]
  },
  {
   "cell_type": "code",
   "execution_count": 69,
   "id": "f8545c76",
   "metadata": {},
   "outputs": [
    {
     "data": {
      "text/plain": [
       "11"
      ]
     },
     "execution_count": 69,
     "metadata": {},
     "output_type": "execute_result"
    }
   ],
   "source": [
    "l"
   ]
  },
  {
   "cell_type": "code",
   "execution_count": 70,
   "id": "d64c6687",
   "metadata": {},
   "outputs": [
    {
     "data": {
      "text/plain": [
       "(1, 3, 5, [1, 2, 3, 4, 5, 67])"
      ]
     },
     "execution_count": 70,
     "metadata": {},
     "output_type": "execute_result"
    }
   ],
   "source": [
    "test3()"
   ]
  },
  {
   "cell_type": "code",
   "execution_count": 71,
   "id": "a5b0cdce",
   "metadata": {},
   "outputs": [],
   "source": [
    "_,_,_,g=test3()"
   ]
  },
  {
   "cell_type": "code",
   "execution_count": 72,
   "id": "2348ef6b",
   "metadata": {},
   "outputs": [
    {
     "data": {
      "text/plain": [
       "5"
      ]
     },
     "execution_count": 72,
     "metadata": {},
     "output_type": "execute_result"
    }
   ],
   "source": [
    "_"
   ]
  },
  {
   "cell_type": "code",
   "execution_count": 73,
   "id": "d0aef899",
   "metadata": {},
   "outputs": [
    {
     "data": {
      "text/plain": [
       "5"
      ]
     },
     "execution_count": 73,
     "metadata": {},
     "output_type": "execute_result"
    }
   ],
   "source": [
    "_"
   ]
  },
  {
   "cell_type": "code",
   "execution_count": 74,
   "id": "73428eac",
   "metadata": {},
   "outputs": [
    {
     "data": {
      "text/plain": [
       "[1, 2, 3, 4, 5, 67]"
      ]
     },
     "execution_count": 74,
     "metadata": {},
     "output_type": "execute_result"
    }
   ],
   "source": [
    "g"
   ]
  },
  {
   "cell_type": "code",
   "execution_count": 77,
   "id": "98b3e035",
   "metadata": {},
   "outputs": [],
   "source": [
    "def test5(a,b):\n",
    "    while a<=b:\n",
    "        print(a)\n",
    "        a=a+2\n",
    "    else:\n",
    "        print(\"Print this else block\")"
   ]
  },
  {
   "cell_type": "code",
   "execution_count": 79,
   "id": "97d6fca5",
   "metadata": {},
   "outputs": [
    {
     "name": "stdout",
     "output_type": "stream",
     "text": [
      "1\n",
      "3\n",
      "5\n",
      "7\n",
      "9\n",
      "Print this else block\n"
     ]
    }
   ],
   "source": [
    "test5(1,10)"
   ]
  },
  {
   "cell_type": "code",
   "execution_count": 80,
   "id": "0964d427",
   "metadata": {},
   "outputs": [
    {
     "name": "stdout",
     "output_type": "stream",
     "text": [
      "Print this else block\n"
     ]
    }
   ],
   "source": [
    "test5(10,3)"
   ]
  },
  {
   "cell_type": "code",
   "execution_count": 83,
   "id": "05c0a1ff",
   "metadata": {},
   "outputs": [],
   "source": [
    "def test6(a,b):\n",
    "    while a<=b:\n",
    "        return (a)\n",
    "        a=a+1\n",
    "    else:\n",
    "        print(\"print this else block\")"
   ]
  },
  {
   "cell_type": "code",
   "execution_count": 84,
   "id": "f9356e36",
   "metadata": {},
   "outputs": [
    {
     "data": {
      "text/plain": [
       "2"
      ]
     },
     "execution_count": 84,
     "metadata": {},
     "output_type": "execute_result"
    }
   ],
   "source": [
    "test6(2,8)"
   ]
  },
  {
   "cell_type": "code",
   "execution_count": 86,
   "id": "2f7341ec",
   "metadata": {},
   "outputs": [
    {
     "name": "stdout",
     "output_type": "stream",
     "text": [
      "print this else block\n"
     ]
    }
   ],
   "source": [
    "test6(8,2)"
   ]
  },
  {
   "cell_type": "code",
   "execution_count": 1,
   "id": "5bc68316",
   "metadata": {},
   "outputs": [],
   "source": [
    "def test7(a,b):\n",
    "    l=[]\n",
    "    while a<=b:\n",
    "        l.append(a)\n",
    "        a=a+2\n",
    "        print(l)\n",
    "    else:\n",
    "        print(\"print the else block\")"
   ]
  },
  {
   "cell_type": "code",
   "execution_count": 5,
   "id": "a88f22e5",
   "metadata": {},
   "outputs": [
    {
     "name": "stdout",
     "output_type": "stream",
     "text": [
      "[9]\n",
      "[9, 11]\n",
      "print the else block\n"
     ]
    }
   ],
   "source": [
    "test7(9,11)"
   ]
  },
  {
   "cell_type": "code",
   "execution_count": 6,
   "id": "cc107188",
   "metadata": {},
   "outputs": [],
   "source": [
    "l= [4,5,6,67,7,8,8,9,9,9,9,[3,4,5,6,7,7,],\"sudh\"]"
   ]
  },
  {
   "cell_type": "code",
   "execution_count": 8,
   "id": "f1cb97e6",
   "metadata": {},
   "outputs": [],
   "source": [
    "l1=[]\n",
    "\n",
    "for i in l:\n",
    "    if type(i)== int:\n",
    "        l1.append(i)\n",
    "       "
   ]
  },
  {
   "cell_type": "code",
   "execution_count": 9,
   "id": "dd34ef57",
   "metadata": {},
   "outputs": [
    {
     "data": {
      "text/plain": [
       "[4, 5, 6, 67, 7, 8, 8, 9, 9, 9, 9]"
      ]
     },
     "execution_count": 9,
     "metadata": {},
     "output_type": "execute_result"
    }
   ],
   "source": [
    "l1"
   ]
  },
  {
   "cell_type": "code",
   "execution_count": 12,
   "id": "854f5061",
   "metadata": {},
   "outputs": [],
   "source": [
    "def test8(a,b):\n",
    "    l1=[]\n",
    "    for i in l:\n",
    "        if type(i)== int:\n",
    "            l1.append(i)\n",
    "            \n",
    "        return l1"
   ]
  },
  {
   "cell_type": "code",
   "execution_count": 14,
   "id": "c9d529f4",
   "metadata": {},
   "outputs": [
    {
     "data": {
      "text/plain": [
       "[4, 5, 6, 67, 7, 8, 8, 9, 9, 9, 9]"
      ]
     },
     "execution_count": 14,
     "metadata": {},
     "output_type": "execute_result"
    }
   ],
   "source": [
    "l1"
   ]
  },
  {
   "cell_type": "code",
   "execution_count": 15,
   "id": "920f6dba",
   "metadata": {},
   "outputs": [],
   "source": [
    "l3=[345,34,5,6,7,\"sudh\",(3,4,56,5)]"
   ]
  },
  {
   "cell_type": "code",
   "execution_count": 42,
   "id": "47091f83",
   "metadata": {},
   "outputs": [],
   "source": [
    "def test9(l):\n",
    "    l1 =[]\n",
    "    for i in l:\n",
    "        if type (i)==int:\n",
    "            l1.append(i)\n",
    "        \n",
    "    return(l1)"
   ]
  },
  {
   "cell_type": "code",
   "execution_count": 43,
   "id": "2a928c5a",
   "metadata": {},
   "outputs": [
    {
     "data": {
      "text/plain": [
       "[345, 34, 5, 6, 7]"
      ]
     },
     "execution_count": 43,
     "metadata": {},
     "output_type": "execute_result"
    }
   ],
   "source": [
    "test9(l3)"
   ]
  },
  {
   "cell_type": "code",
   "execution_count": 48,
   "id": "8928f91a",
   "metadata": {},
   "outputs": [],
   "source": [
    "def test10(t):\n",
    "    a=-1\n",
    "    while a>= -len(t):\n",
    "        if t[a]==6 or t[a]== 7:\n",
    "            print(\"index :\" , a)\n",
    "        \n",
    "        if a==-len(t):\n",
    "            break\n",
    "        a=a-1   \n",
    "    "
   ]
  },
  {
   "cell_type": "code",
   "execution_count": 51,
   "id": "02f5c154",
   "metadata": {},
   "outputs": [
    {
     "name": "stdout",
     "output_type": "stream",
     "text": [
      "index : -1\n",
      "index : -3\n",
      "index : -4\n",
      "index : -7\n"
     ]
    }
   ],
   "source": [
    "test10(t)"
   ]
  },
  {
   "cell_type": "code",
   "execution_count": 55,
   "id": "2dbb8c26",
   "metadata": {},
   "outputs": [],
   "source": [
    "t11=(4,5,6,7,8,9,1,2,3,4,5,10)"
   ]
  },
  {
   "cell_type": "code",
   "execution_count": 56,
   "id": "77ff9a54",
   "metadata": {},
   "outputs": [
    {
     "name": "stdout",
     "output_type": "stream",
     "text": [
      "index : -9\n",
      "index : -10\n"
     ]
    }
   ],
   "source": [
    "test10(t11)"
   ]
  },
  {
   "cell_type": "code",
   "execution_count": 75,
   "id": "fe80928b",
   "metadata": {},
   "outputs": [],
   "source": [
    "l=[1,11,1,1,1,1,1,11,1]"
   ]
  },
  {
   "cell_type": "code",
   "execution_count": 78,
   "id": "7306db53",
   "metadata": {},
   "outputs": [
    {
     "name": "stdout",
     "output_type": "stream",
     "text": [
      "[11, 1, 11, 1]\n",
      "[11, 11, 1]\n",
      "[11, 11]\n"
     ]
    }
   ],
   "source": [
    "for i in l:\n",
    "    if i==1:\n",
    "         l.remove(1)\n",
    "    print(l)"
   ]
  },
  {
   "cell_type": "code",
   "execution_count": 79,
   "id": "d3d9a351",
   "metadata": {},
   "outputs": [
    {
     "data": {
      "text/plain": [
       "[11, 11]"
      ]
     },
     "execution_count": 79,
     "metadata": {},
     "output_type": "execute_result"
    }
   ],
   "source": [
    "l"
   ]
  },
  {
   "cell_type": "code",
   "execution_count": 82,
   "id": "281b0fd4",
   "metadata": {},
   "outputs": [
    {
     "name": "stdout",
     "output_type": "stream",
     "text": [
      "[1, 11, 1, 1, 1, 1, 1, 11, 1]\n",
      "[1, 1, 1, 1, 1, 1, 11, 1]\n",
      "[1, 1, 1, 1, 1, 1, 11, 1]\n",
      "[1, 1, 1, 1, 1, 1, 11, 1]\n",
      "[1, 1, 1, 1, 1, 1, 11, 1]\n",
      "[1, 1, 1, 1, 1, 1, 11, 1]\n",
      "[1, 1, 1, 1, 1, 1, 1]\n"
     ]
    }
   ],
   "source": [
    "l=[1,11,1,1,1,1,1,11,1]\n",
    "\n",
    "for i in l:\n",
    "    if i==11:\n",
    "         l.remove(11)\n",
    "    print(l)"
   ]
  },
  {
   "cell_type": "code",
   "execution_count": 83,
   "id": "fb6dfd15",
   "metadata": {},
   "outputs": [
    {
     "data": {
      "text/plain": [
       "(6, 4, 5, 6, 7, 8, 6)"
      ]
     },
     "execution_count": 83,
     "metadata": {},
     "output_type": "execute_result"
    }
   ],
   "source": [
    "t"
   ]
  },
  {
   "cell_type": "code",
   "execution_count": 85,
   "id": "8ea63175",
   "metadata": {},
   "outputs": [],
   "source": [
    "def test11(t):\n",
    "    a=-1\n",
    "    while a>= -len(t):\n",
    "        if t[a]==6 or t[a]==7:\n",
    "             print(\"index : \" ,a)\n",
    "        \n",
    "        if a== -len(t):\n",
    "            break\n",
    "        a=a-1\n",
    "        \n",
    "    "
   ]
  },
  {
   "cell_type": "code",
   "execution_count": 86,
   "id": "35b43d53",
   "metadata": {},
   "outputs": [
    {
     "name": "stdout",
     "output_type": "stream",
     "text": [
      "index :  -1\n",
      "index :  -3\n",
      "index :  -4\n",
      "index :  -7\n"
     ]
    }
   ],
   "source": [
    "test11(t)"
   ]
  },
  {
   "cell_type": "code",
   "execution_count": 1,
   "id": "09a9d2c1",
   "metadata": {},
   "outputs": [],
   "source": [
    "#Write a program to create a function that takes two arguments, name and age, and print their value."
   ]
  },
  {
   "cell_type": "code",
   "execution_count": 5,
   "id": "2a3371a7",
   "metadata": {},
   "outputs": [],
   "source": [
    "\n",
    "\n",
    "def demo(name,age):\n",
    "    \n",
    "    print(name,age)\n",
    "    \n",
    "    "
   ]
  },
  {
   "cell_type": "code",
   "execution_count": 8,
   "id": "6c311e2d",
   "metadata": {},
   "outputs": [
    {
     "name": "stdout",
     "output_type": "stream",
     "text": [
      "nilam 32\n"
     ]
    }
   ],
   "source": [
    "demo(\"nilam\",32)"
   ]
  },
  {
   "cell_type": "code",
   "execution_count": 9,
   "id": "511f5ebc",
   "metadata": {},
   "outputs": [],
   "source": [
    "#Write a program to create function func1() to accept a variable length of arguments and print their value."
   ]
  },
  {
   "cell_type": "code",
   "execution_count": 22,
   "id": "172014b0",
   "metadata": {},
   "outputs": [
    {
     "name": "stdout",
     "output_type": "stream",
     "text": [
      "20\n",
      "40\n",
      "60\n",
      "80\n",
      "100\n"
     ]
    }
   ],
   "source": [
    "def func1(*args):\n",
    "    for i in args:\n",
    "        print(i)\n",
    "        \n",
    "func1(20, 40, 60)\n",
    "func1(80, 100)"
   ]
  },
  {
   "cell_type": "code",
   "execution_count": null,
   "id": "45bd051e",
   "metadata": {},
   "outputs": [],
   "source": [
    "#Write a program to create function calculation() such that it can accept two variables and \n",
    "calculate addition and subtraction. Also, it must return both addition and subtraction in a single return call."
   ]
  },
  {
   "cell_type": "code",
   "execution_count": 39,
   "id": "32333800",
   "metadata": {},
   "outputs": [
    {
     "data": {
      "text/plain": [
       "(19, -1)"
      ]
     },
     "execution_count": 39,
     "metadata": {},
     "output_type": "execute_result"
    }
   ],
   "source": [
    "def calculations(a,b):\n",
    "    addition = a+b\n",
    "    subtraction = a-b\n",
    "    return(addition,subtraction)\n",
    "calculations(9,10)"
   ]
  },
  {
   "cell_type": "code",
   "execution_count": null,
   "id": "e8c35b07",
   "metadata": {},
   "outputs": [],
   "source": [
    "#Write a program to create a function show_employee() using the following conditions.\n",
    "\n",
    "It should accept the employee’s name and salary and display both.\n",
    "If the salary is missing in the function call then assign default value 9000 to salary"
   ]
  },
  {
   "cell_type": "code",
   "execution_count": 44,
   "id": "57541376",
   "metadata": {},
   "outputs": [
    {
     "name": "stdout",
     "output_type": "stream",
     "text": [
      "name : nilam salary  : 5000\n",
      "name : sonal salary  : 9000\n"
     ]
    }
   ],
   "source": [
    "def show_employee(name,salary=9000):\n",
    "    print(\"name :\" ,  name ,  \"salary  :\" , salary  )\n",
    "    \n",
    "show_employee(\"nilam\",5000)\n",
    "show_employee(\"sonal\")"
   ]
  },
  {
   "cell_type": "code",
   "execution_count": null,
   "id": "99d2efba",
   "metadata": {},
   "outputs": [],
   "source": [
    "#Create an inner function to calculate the addition in the following way\n",
    "Create an outer function that will accept two parameters, a and b\n",
    "Create an inner function inside an outer function that will calculate the addition of a and b\n",
    "At last, an outer function will add 5 into addition and return it"
   ]
  },
  {
   "cell_type": "code",
   "execution_count": 67,
   "id": "4c3e1801",
   "metadata": {},
   "outputs": [
    {
     "name": "stdout",
     "output_type": "stream",
     "text": [
      "20\n"
     ]
    }
   ],
   "source": [
    "def outer_fun(a,b):\n",
    "    def addition(a,b):\n",
    "        return(a+b)\n",
    "    add= addition(a,b)\n",
    "    return add+5\n",
    "result= outer_fun(5,10)\n",
    "print(result)"
   ]
  },
  {
   "cell_type": "code",
   "execution_count": null,
   "id": "4d17ea2b",
   "metadata": {},
   "outputs": [],
   "source": [
    "#Write a program to create a recursive function to calculate the sum of numbers from 0 to 10.\n",
    "\n",
    "A recursive function is a function that calls itself again and again."
   ]
  },
  {
   "cell_type": "code",
   "execution_count": 70,
   "id": "620cd898",
   "metadata": {},
   "outputs": [
    {
     "name": "stdout",
     "output_type": "stream",
     "text": [
      "55\n"
     ]
    }
   ],
   "source": [
    "def addition(num):\n",
    "    if num:\n",
    "        return num+ addition(num-1)\n",
    "    else:\n",
    "        return 0\n",
    "res = addition(10)\n",
    "print(res)"
   ]
  },
  {
   "cell_type": "code",
   "execution_count": null,
   "id": "19bdeabf",
   "metadata": {},
   "outputs": [],
   "source": [
    "#Below is the function display_student(name, age). Assign a new name show_tudent(name, age) \n",
    "to it and call it using the new name."
   ]
  },
  {
   "cell_type": "code",
   "execution_count": 2,
   "id": "3eac2559",
   "metadata": {},
   "outputs": [],
   "source": [
    "def display_student(name, age):\n",
    "    print(name,age)\n",
    "    \n"
   ]
  },
  {
   "cell_type": "code",
   "execution_count": 3,
   "id": "7715020c",
   "metadata": {},
   "outputs": [
    {
     "name": "stdout",
     "output_type": "stream",
     "text": [
      "nilam 32\n"
     ]
    }
   ],
   "source": [
    "display_student(\"nilam\",\"32\")"
   ]
  },
  {
   "cell_type": "code",
   "execution_count": 6,
   "id": "0e82dee8",
   "metadata": {},
   "outputs": [
    {
     "name": "stdout",
     "output_type": "stream",
     "text": [
      "nilam 26\n"
     ]
    }
   ],
   "source": [
    "show_student = display_student\n",
    "show_student(\"nilam\" ,26)"
   ]
  },
  {
   "cell_type": "code",
   "execution_count": 7,
   "id": "27ee8f6e",
   "metadata": {},
   "outputs": [],
   "source": [
    " #Generate a Python list of all the even numbers between 4 to 30"
   ]
  },
  {
   "cell_type": "code",
   "execution_count": 10,
   "id": "3da769bb",
   "metadata": {},
   "outputs": [
    {
     "data": {
      "text/plain": [
       "[4, 6, 8, 10, 12, 14, 16, 18, 20, 22, 24, 26, 28]"
      ]
     },
     "execution_count": 10,
     "metadata": {},
     "output_type": "execute_result"
    }
   ],
   "source": [
    "list(range(4,30,2))"
   ]
  },
  {
   "cell_type": "code",
   "execution_count": 11,
   "id": "ce7289a4",
   "metadata": {},
   "outputs": [],
   "source": [
    "#Find the largest item from a given list\n",
    "x = [4, 6, 8, 24, 12, 2]"
   ]
  },
  {
   "cell_type": "code",
   "execution_count": 12,
   "id": "ee592150",
   "metadata": {},
   "outputs": [
    {
     "data": {
      "text/plain": [
       "24"
      ]
     },
     "execution_count": 12,
     "metadata": {},
     "output_type": "execute_result"
    }
   ],
   "source": [
    "max(x)"
   ]
  },
  {
   "cell_type": "code",
   "execution_count": 25,
   "id": "f3ac5870",
   "metadata": {},
   "outputs": [],
   "source": [
    "def test(a,b):\n",
    "    print(\"this is my function for cocatenation or additon\")\n",
    "    return(a+b)"
   ]
  },
  {
   "cell_type": "code",
   "execution_count": 26,
   "id": "6412c4d3",
   "metadata": {},
   "outputs": [
    {
     "name": "stdout",
     "output_type": "stream",
     "text": [
      "this is my function for cocatenation or additon\n"
     ]
    },
    {
     "data": {
      "text/plain": [
       "19"
      ]
     },
     "execution_count": 26,
     "metadata": {},
     "output_type": "execute_result"
    }
   ],
   "source": [
    "test(9,10)"
   ]
  },
  {
   "cell_type": "code",
   "execution_count": 27,
   "id": "89d2317e",
   "metadata": {},
   "outputs": [
    {
     "name": "stdout",
     "output_type": "stream",
     "text": [
      "this is my function for cocatenation or additon\n"
     ]
    },
    {
     "data": {
      "text/plain": [
       "'sudhkumar'"
      ]
     },
     "execution_count": 27,
     "metadata": {},
     "output_type": "execute_result"
    }
   ],
   "source": [
    "test(\"sudh\", \"kumar\")"
   ]
  },
  {
   "cell_type": "code",
   "execution_count": 28,
   "id": "112469ff",
   "metadata": {},
   "outputs": [
    {
     "name": "stdout",
     "output_type": "stream",
     "text": [
      "this is my function for cocatenation or additon\n"
     ]
    },
    {
     "data": {
      "text/plain": [
       "21"
      ]
     },
     "execution_count": 28,
     "metadata": {},
     "output_type": "execute_result"
    }
   ],
   "source": [
    "test(a=9,b=12)"
   ]
  },
  {
   "cell_type": "code",
   "execution_count": 30,
   "id": "16e08523",
   "metadata": {},
   "outputs": [
    {
     "name": "stdout",
     "output_type": "stream",
     "text": [
      "this is my function for cocatenation or additon\n"
     ]
    },
    {
     "data": {
      "text/plain": [
       "'nilam46'"
      ]
     },
     "execution_count": 30,
     "metadata": {},
     "output_type": "execute_result"
    }
   ],
   "source": [
    "test(\"nilam\",\"46\")"
   ]
  },
  {
   "cell_type": "code",
   "execution_count": 31,
   "id": "718f6793",
   "metadata": {},
   "outputs": [],
   "source": [
    "def test1(a,b,c,d):\n",
    "    return(a,b,c,d)"
   ]
  },
  {
   "cell_type": "code",
   "execution_count": 33,
   "id": "99f8f258",
   "metadata": {},
   "outputs": [
    {
     "ename": "TypeError",
     "evalue": "test1() takes 4 positional arguments but 6 were given",
     "output_type": "error",
     "traceback": [
      "\u001b[1;31m---------------------------------------------------------------------------\u001b[0m",
      "\u001b[1;31mTypeError\u001b[0m                                 Traceback (most recent call last)",
      "Input \u001b[1;32mIn [33]\u001b[0m, in \u001b[0;36m<cell line: 1>\u001b[1;34m()\u001b[0m\n\u001b[1;32m----> 1\u001b[0m \u001b[43mtest1\u001b[49m\u001b[43m(\u001b[49m\u001b[38;5;241;43m4\u001b[39;49m\u001b[43m,\u001b[49m\u001b[38;5;241;43m5\u001b[39;49m\u001b[43m,\u001b[49m\u001b[38;5;241;43m6\u001b[39;49m\u001b[43m,\u001b[49m\u001b[38;5;241;43m7\u001b[39;49m\u001b[43m,\u001b[49m\u001b[38;5;241;43m9\u001b[39;49m\u001b[43m,\u001b[49m\u001b[38;5;241;43m10\u001b[39;49m\u001b[43m)\u001b[49m\n",
      "\u001b[1;31mTypeError\u001b[0m: test1() takes 4 positional arguments but 6 were given"
     ]
    }
   ],
   "source": [
    "test1(4,5,6,7,9,10)"
   ]
  },
  {
   "cell_type": "code",
   "execution_count": 34,
   "id": "551fcdd6",
   "metadata": {},
   "outputs": [],
   "source": [
    "def test1(*args): # args is just a variable\n",
    "    return(args)"
   ]
  },
  {
   "cell_type": "code",
   "execution_count": 35,
   "id": "837227fc",
   "metadata": {},
   "outputs": [
    {
     "data": {
      "text/plain": [
       "(4, 5, 6, 7, 8, 9, 10)"
      ]
     },
     "execution_count": 35,
     "metadata": {},
     "output_type": "execute_result"
    }
   ],
   "source": [
    "test1(4,5,6,7,8,9,10)"
   ]
  },
  {
   "cell_type": "code",
   "execution_count": 37,
   "id": "1d6480fe",
   "metadata": {},
   "outputs": [],
   "source": [
    "l=[1,11,1,1,1,1,1,11,1]"
   ]
  },
  {
   "cell_type": "code",
   "execution_count": 47,
   "id": "f37842b2",
   "metadata": {},
   "outputs": [],
   "source": [
    "def test1(*a):\n",
    "    \"\"\"this function takes n no of arguments and returns a list contaning all arguments\"\"\"\n",
    "    l =[]\n",
    "    for i in a:\n",
    "        l.append(i)\n",
    "    return(l)"
   ]
  },
  {
   "cell_type": "code",
   "execution_count": 50,
   "id": "300f4bbe",
   "metadata": {},
   "outputs": [
    {
     "data": {
      "text/plain": [
       "[4, 5, 8, 9, 0]"
      ]
     },
     "execution_count": 50,
     "metadata": {},
     "output_type": "execute_result"
    }
   ],
   "source": [
    "test1(4,5,8,9,0)"
   ]
  },
  {
   "cell_type": "code",
   "execution_count": 54,
   "id": "20946b6a",
   "metadata": {},
   "outputs": [],
   "source": [
    "def test2(a,b,c,d ,*m):\n",
    "    return(a,b,c,d,m)"
   ]
  },
  {
   "cell_type": "code",
   "execution_count": 55,
   "id": "a6d25c6a",
   "metadata": {},
   "outputs": [
    {
     "data": {
      "text/plain": [
       "(5, 6, 7, 8, (3, 6, 4, 9, 0))"
      ]
     },
     "execution_count": 55,
     "metadata": {},
     "output_type": "execute_result"
    }
   ],
   "source": [
    "test2(5,6,7,8,3,6,4,9,0)"
   ]
  },
  {
   "cell_type": "code",
   "execution_count": 56,
   "id": "2c193809",
   "metadata": {},
   "outputs": [],
   "source": [
    "def test3(*m,a,b,c,d): #test2 is possible not test3\n",
    "    return(m,a,b,c,d)"
   ]
  },
  {
   "cell_type": "code",
   "execution_count": 57,
   "id": "a9853a7f",
   "metadata": {},
   "outputs": [
    {
     "ename": "TypeError",
     "evalue": "test3() missing 4 required keyword-only arguments: 'a', 'b', 'c', and 'd'",
     "output_type": "error",
     "traceback": [
      "\u001b[1;31m---------------------------------------------------------------------------\u001b[0m",
      "\u001b[1;31mTypeError\u001b[0m                                 Traceback (most recent call last)",
      "Input \u001b[1;32mIn [57]\u001b[0m, in \u001b[0;36m<cell line: 1>\u001b[1;34m()\u001b[0m\n\u001b[1;32m----> 1\u001b[0m \u001b[43mtest3\u001b[49m\u001b[43m(\u001b[49m\u001b[38;5;241;43m4\u001b[39;49m\u001b[43m,\u001b[49m\u001b[38;5;241;43m5\u001b[39;49m\u001b[43m,\u001b[49m\u001b[38;5;241;43m7\u001b[39;49m\u001b[43m,\u001b[49m\u001b[38;5;241;43m8\u001b[39;49m\u001b[43m,\u001b[49m\u001b[38;5;241;43m9\u001b[39;49m\u001b[43m,\u001b[49m\u001b[38;5;241;43m10\u001b[39;49m\u001b[43m,\u001b[49m\u001b[38;5;241;43m77\u001b[39;49m\u001b[43m,\u001b[49m\u001b[38;5;241;43m88\u001b[39;49m\u001b[43m,\u001b[49m\u001b[38;5;241;43m99\u001b[39;49m\u001b[43m)\u001b[49m\n",
      "\u001b[1;31mTypeError\u001b[0m: test3() missing 4 required keyword-only arguments: 'a', 'b', 'c', and 'd'"
     ]
    }
   ],
   "source": [
    "test3(4,5,7,8,9,10,77,88,99)"
   ]
  },
  {
   "cell_type": "code",
   "execution_count": 58,
   "id": "5a7a7f41",
   "metadata": {},
   "outputs": [
    {
     "data": {
      "text/plain": [
       "((5, 8, 9, 10, 77, 88), 0, 9, 7, 3)"
      ]
     },
     "execution_count": 58,
     "metadata": {},
     "output_type": "execute_result"
    }
   ],
   "source": [
    "test3(5,8,9,10,77,88,a=0,b=9,c=7,d=3)"
   ]
  },
  {
   "cell_type": "code",
   "execution_count": 59,
   "id": "2ae15e5c",
   "metadata": {},
   "outputs": [],
   "source": [
    "def test4(**sudh):\n",
    "    return(sudh)"
   ]
  },
  {
   "cell_type": "code",
   "execution_count": 61,
   "id": "cd0e26ab",
   "metadata": {},
   "outputs": [
    {
     "ename": "TypeError",
     "evalue": "test4() takes 0 positional arguments but 4 were given",
     "output_type": "error",
     "traceback": [
      "\u001b[1;31m---------------------------------------------------------------------------\u001b[0m",
      "\u001b[1;31mTypeError\u001b[0m                                 Traceback (most recent call last)",
      "Input \u001b[1;32mIn [61]\u001b[0m, in \u001b[0;36m<cell line: 1>\u001b[1;34m()\u001b[0m\n\u001b[1;32m----> 1\u001b[0m \u001b[43mtest4\u001b[49m\u001b[43m(\u001b[49m\u001b[38;5;241;43m9\u001b[39;49m\u001b[43m,\u001b[49m\u001b[38;5;241;43m0\u001b[39;49m\u001b[43m,\u001b[49m\u001b[38;5;241;43m8\u001b[39;49m\u001b[43m,\u001b[49m\u001b[38;5;241;43m7\u001b[39;49m\u001b[43m)\u001b[49m\n",
      "\u001b[1;31mTypeError\u001b[0m: test4() takes 0 positional arguments but 4 were given"
     ]
    }
   ],
   "source": [
    "test4(9,0,8,7)"
   ]
  },
  {
   "cell_type": "code",
   "execution_count": 62,
   "id": "e08f0d5b",
   "metadata": {},
   "outputs": [
    {
     "data": {
      "text/plain": [
       "{'a': 7, 'b': 0, 'c': 7, 'd': 5, 'm': [8, 9, 0, 7, 8]}"
      ]
     },
     "execution_count": 62,
     "metadata": {},
     "output_type": "execute_result"
    }
   ],
   "source": [
    "test4(a=7,b=0,c=7,d=5,m=[8,9,0,7,8])"
   ]
  },
  {
   "cell_type": "code",
   "execution_count": 63,
   "id": "09f71ccd",
   "metadata": {},
   "outputs": [],
   "source": [
    "def test5(*m,**s):\n",
    "    return(m,s)"
   ]
  },
  {
   "cell_type": "code",
   "execution_count": 64,
   "id": "c55faa0e",
   "metadata": {},
   "outputs": [
    {
     "data": {
      "text/plain": [
       "((7, 8, 9, 0), {'a': 5, 'b': 9})"
      ]
     },
     "execution_count": 64,
     "metadata": {},
     "output_type": "execute_result"
    }
   ],
   "source": [
    "test5(7,8,9,0,a=5,b=9)"
   ]
  },
  {
   "cell_type": "code",
   "execution_count": 19,
   "id": "3a706392",
   "metadata": {},
   "outputs": [],
   "source": [
    "def test6(*m):\n",
    "    n=0\n",
    "    for i in m:\n",
    "        if type(i) == int:\n",
    "            n=n +i\n",
    "    return n"
   ]
  },
  {
   "cell_type": "code",
   "execution_count": 20,
   "id": "f5d8106f",
   "metadata": {},
   "outputs": [
    {
     "data": {
      "text/plain": [
       "44"
      ]
     },
     "execution_count": 20,
     "metadata": {},
     "output_type": "execute_result"
    }
   ],
   "source": [
    "test6(2,3,4,5,6,7,8,9)"
   ]
  },
  {
   "cell_type": "code",
   "execution_count": 17,
   "id": "0c8146dc",
   "metadata": {},
   "outputs": [],
   "source": [
    "def test7(*m):\n",
    "    n=1\n",
    "    for i in m:\n",
    "        if type(i) == int:\n",
    "            n=n *i\n",
    "    return n"
   ]
  },
  {
   "cell_type": "code",
   "execution_count": 18,
   "id": "1f0376c2",
   "metadata": {},
   "outputs": [
    {
     "data": {
      "text/plain": [
       "504"
      ]
     },
     "execution_count": 18,
     "metadata": {},
     "output_type": "execute_result"
    }
   ],
   "source": [
    "test7(7,8,9)"
   ]
  },
  {
   "cell_type": "markdown",
   "id": "9a3daee7",
   "metadata": {},
   "source": [
    "# # ananomyus function i.e lambda function"
   ]
  },
  {
   "cell_type": "code",
   "execution_count": 5,
   "id": "9a448763",
   "metadata": {},
   "outputs": [],
   "source": [
    "n= lambda a,b : a+b"
   ]
  },
  {
   "cell_type": "code",
   "execution_count": 6,
   "id": "328e6ec5",
   "metadata": {},
   "outputs": [
    {
     "data": {
      "text/plain": [
       "7"
      ]
     },
     "execution_count": 6,
     "metadata": {},
     "output_type": "execute_result"
    }
   ],
   "source": [
    "n(3,4)"
   ]
  },
  {
   "cell_type": "code",
   "execution_count": 9,
   "id": "2307f16c",
   "metadata": {},
   "outputs": [],
   "source": [
    "b= lambda *m : m"
   ]
  },
  {
   "cell_type": "code",
   "execution_count": 10,
   "id": "f97ef50e",
   "metadata": {},
   "outputs": [
    {
     "data": {
      "text/plain": [
       "(8, 9, 6, 4, 5)"
      ]
     },
     "execution_count": 10,
     "metadata": {},
     "output_type": "execute_result"
    }
   ],
   "source": [
    "b(8,9,6,4,5)"
   ]
  },
  {
   "cell_type": "code",
   "execution_count": 16,
   "id": "c5ddf436",
   "metadata": {},
   "outputs": [
    {
     "name": "stdout",
     "output_type": "stream",
     "text": [
      "[3, 4, 5, 6, 7, 8, 909, 90]\n"
     ]
    }
   ],
   "source": [
    "t = (3,4,5,6,7,8,909,90)\n",
    "\n",
    "l1=[]\n",
    "for i in t:\n",
    "        l1.append(i)\n",
    "print(l1)"
   ]
  },
  {
   "cell_type": "code",
   "execution_count": 20,
   "id": "f6a9e2e0",
   "metadata": {},
   "outputs": [
    {
     "data": {
      "text/plain": [
       "[3, 4, 5, 6, 7, 8, 909, 90]"
      ]
     },
     "execution_count": 20,
     "metadata": {},
     "output_type": "execute_result"
    }
   ],
   "source": [
    "[i for i in t]"
   ]
  },
  {
   "cell_type": "code",
   "execution_count": 23,
   "id": "e0eb36d4",
   "metadata": {},
   "outputs": [],
   "source": [
    "s=\"sudh\""
   ]
  },
  {
   "cell_type": "code",
   "execution_count": 24,
   "id": "62871141",
   "metadata": {},
   "outputs": [
    {
     "data": {
      "text/plain": [
       "['s', 'u', 'd', 'h']"
      ]
     },
     "execution_count": 24,
     "metadata": {},
     "output_type": "execute_result"
    }
   ],
   "source": [
    "[i for i in s]"
   ]
  },
  {
   "cell_type": "code",
   "execution_count": 25,
   "id": "4acf7b7a",
   "metadata": {},
   "outputs": [
    {
     "data": {
      "text/plain": [
       "[1, 2, 3, 4, 5, 6, 7, 8, 9]"
      ]
     },
     "execution_count": 25,
     "metadata": {},
     "output_type": "execute_result"
    }
   ],
   "source": [
    "[i for i in range(1,10)]"
   ]
  },
  {
   "cell_type": "code",
   "execution_count": 26,
   "id": "2cbe70fd",
   "metadata": {},
   "outputs": [
    {
     "data": {
      "text/plain": [
       "[1, 4, 9, 16, 25, 36, 49, 64, 81, 100]"
      ]
     },
     "execution_count": 26,
     "metadata": {},
     "output_type": "execute_result"
    }
   ],
   "source": [
    "[i*i for i in range(1,11)]"
   ]
  },
  {
   "cell_type": "code",
   "execution_count": 28,
   "id": "88c8e5c1",
   "metadata": {},
   "outputs": [
    {
     "name": "stdout",
     "output_type": "stream",
     "text": [
      "[1, 2, 3, 4, 5, 6, 7, 8, 9]\n"
     ]
    }
   ],
   "source": [
    "l1= []\n",
    "\n",
    "for i in range(1,10):\n",
    "        l1.append(i)\n",
    "print(l1)\n"
   ]
  },
  {
   "cell_type": "code",
   "execution_count": 29,
   "id": "37467b90",
   "metadata": {},
   "outputs": [
    {
     "name": "stdout",
     "output_type": "stream",
     "text": [
      "[2, 4, 6, 8, 10, 12, 14, 16, 18]\n"
     ]
    }
   ],
   "source": [
    "l1= []\n",
    "\n",
    "for i in range(1,10):\n",
    "        l1.append(i*2)\n",
    "print(l1)\n"
   ]
  },
  {
   "cell_type": "code",
   "execution_count": 30,
   "id": "63ed8e22",
   "metadata": {},
   "outputs": [
    {
     "name": "stdout",
     "output_type": "stream",
     "text": [
      "[1, 4, 9, 16, 25, 36, 49, 64, 81]\n"
     ]
    }
   ],
   "source": [
    "l1= []\n",
    "\n",
    "for i in range(1,10):\n",
    "        l1.append(i*i)\n",
    "print(l1)\n"
   ]
  },
  {
   "cell_type": "code",
   "execution_count": 38,
   "id": "2b3626e8",
   "metadata": {},
   "outputs": [],
   "source": [
    "b=lambda *x :[i for i in x]"
   ]
  },
  {
   "cell_type": "code",
   "execution_count": 39,
   "id": "c0929e81",
   "metadata": {},
   "outputs": [
    {
     "data": {
      "text/plain": [
       "[1, 3, 6, 8, 9, 8, [7, 9, 0, 8]]"
      ]
     },
     "execution_count": 39,
     "metadata": {},
     "output_type": "execute_result"
    }
   ],
   "source": [
    "b(1,3,6,8,9,8,[7,9,0,8])"
   ]
  },
  {
   "cell_type": "code",
   "execution_count": 40,
   "id": "32a2a706",
   "metadata": {},
   "outputs": [],
   "source": [
    "b=lambda *x :[i*2 for i in x]"
   ]
  },
  {
   "cell_type": "code",
   "execution_count": 41,
   "id": "942ab10a",
   "metadata": {},
   "outputs": [
    {
     "data": {
      "text/plain": [
       "[2, 6, 12, 16, 18, 16]"
      ]
     },
     "execution_count": 41,
     "metadata": {},
     "output_type": "execute_result"
    }
   ],
   "source": [
    "b(1,3,6,8,9,8)"
   ]
  },
  {
   "cell_type": "code",
   "execution_count": 42,
   "id": "a10e06b0",
   "metadata": {},
   "outputs": [],
   "source": [
    "b=lambda *x :[i*i for i in x]"
   ]
  },
  {
   "cell_type": "code",
   "execution_count": 43,
   "id": "b75bb025",
   "metadata": {},
   "outputs": [
    {
     "data": {
      "text/plain": [
       "[1, 9, 36, 64, 81, 64]"
      ]
     },
     "execution_count": 43,
     "metadata": {},
     "output_type": "execute_result"
    }
   ],
   "source": [
    "b(1,3,6,8,9,8)"
   ]
  },
  {
   "cell_type": "code",
   "execution_count": 44,
   "id": "dd2c0c7c",
   "metadata": {},
   "outputs": [],
   "source": [
    "#The special syntax **kwargs in function definitions in python is used to pass a keyworded, \n",
    "#variable-length argument list.The special syntax **kwargs in function definitions in python \n",
    "#is used to pass a keyworded, variable-length argument list."
   ]
  },
  {
   "cell_type": "code",
   "execution_count": 68,
   "id": "5cf47d7d",
   "metadata": {},
   "outputs": [],
   "source": [
    "def test14(**kwargs):\n",
    "    count = 0\n",
    "    print(kwargs)\n",
    "    print(kwargs.values())\n",
    "    for v in kwargs.values():\n",
    "        if type(v) == str or type(v) == list:\n",
    "            count +=1\n",
    "    return count\n",
    "            "
   ]
  },
  {
   "cell_type": "code",
   "execution_count": 73,
   "id": "40be8666",
   "metadata": {},
   "outputs": [
    {
     "name": "stdout",
     "output_type": "stream",
     "text": [
      "{'a': 7, 'b': 'sudh', 'c': 345, 'd': 'sudh', 'l': [1, 2, 3, 4, 5, 'sudh']}\n",
      "dict_values([7, 'sudh', 345, 'sudh', [1, 2, 3, 4, 5, 'sudh']])\n"
     ]
    },
    {
     "data": {
      "text/plain": [
       "3"
      ]
     },
     "execution_count": 73,
     "metadata": {},
     "output_type": "execute_result"
    }
   ],
   "source": [
    "test14(a= 7, b= \"sudh\", c=345, d= \"sudh\", l=[1,2,3,4,5,\"sudh\"])"
   ]
  },
  {
   "cell_type": "code",
   "execution_count": 74,
   "id": "c23261b3",
   "metadata": {},
   "outputs": [],
   "source": [
    "def test15(**kwargs):\n",
    "    count=0\n",
    "    print(kwargs)\n",
    "    print(kwargs.values())\n",
    "    \n",
    "    for v in kwargs.values():\n",
    "        if type(v)== str or type(v)==list:\n",
    "            count = count+1\n",
    "    return count\n",
    "    \n",
    "    \n",
    "    \n",
    "    "
   ]
  },
  {
   "cell_type": "code",
   "execution_count": 75,
   "id": "83fe3ba8",
   "metadata": {},
   "outputs": [
    {
     "name": "stdout",
     "output_type": "stream",
     "text": [
      "{'a': 7, 'b': 'nilam', 'c': 345, 'd': 'kale', 'l': [6, 7, 8, 9, 10, 'sudh']}\n",
      "dict_values([7, 'nilam', 345, 'kale', [6, 7, 8, 9, 10, 'sudh']])\n"
     ]
    },
    {
     "data": {
      "text/plain": [
       "3"
      ]
     },
     "execution_count": 75,
     "metadata": {},
     "output_type": "execute_result"
    }
   ],
   "source": [
    "test15(a=7,b=\"nilam\",c=345,d=\"kale\", l=[6,7,8,9,10,\"sudh\"])"
   ]
  },
  {
   "cell_type": "code",
   "execution_count": 76,
   "id": "3f25f8d0",
   "metadata": {},
   "outputs": [],
   "source": [
    "def test16(**kwargs):\n",
    "    return(list(kwargs.values()))"
   ]
  },
  {
   "cell_type": "code",
   "execution_count": 88,
   "id": "3f3fdce6",
   "metadata": {},
   "outputs": [
    {
     "data": {
      "text/plain": [
       "[7, 'nilam', 345, 'kale', [6, 7, 8, 9, 10, 'sudh']]"
      ]
     },
     "execution_count": 88,
     "metadata": {},
     "output_type": "execute_result"
    }
   ],
   "source": [
    "test16(a=7,b=\"nilam\",c=345,d=\"kale\", l=[6,7,8,9,10,\"sudh\"])"
   ]
  },
  {
   "cell_type": "markdown",
   "id": "843b1f59",
   "metadata": {},
   "source": [
    "# Introduction : Lambda Function\n",
    "In non-technical language, lambda is an alternative way of defining function. \n",
    "You can define function inline using lambda. \n",
    "It means you can apply a function to some data using a single line of python code. \n",
    "It is called anonymous function as the function can be defined without its name. \n",
    "They are a part of functional programming style which focus on readability of code and avoids changing mutable data.\n",
    "\n",
    "Syntax of Lambda Function:\n",
    "Lambda arguments: expression\n",
    "\n",
    "Lambda function can have more than one argument but expression cannot be more than 1. \n",
    "The expression is evaluated and returned. \n",
    "Example:\n",
    "addition = lambda x,y: x + y\n",
    "addition(2,3) \n",
    "returns 5\n",
    "\n",
    "In the above python code, x,y are the arguments and x + y is the expression that gets evaluated and returned.\n",
    "\n",
    "Difference between Lambda and Def Function:\n",
    "\n",
    "By using both lambda and def, you can create your own user-defined function in python.\n",
    "\n",
    "def square(x):\n",
    "     return x**2\n",
    " square(2) \n",
    " returns 4\n",
    "\n",
    "square = lambda x:x**2\n",
    "square(2) returns 4\n",
    "\n",
    "There are some difference between them as listed below:\n",
    "\n",
    "lambda is a keyword that returns a function object and does not create a 'name'. Whereas def creates name in the local namespace\n",
    "lambda functions are good for situations where you want to minimize lines of code as you can create function in one line of python code. It is not possible using def\n",
    "lambda functions are somewhat less readable for most Python users.\n",
    "lambda functions can only be used once, unless assigned to a variable name.\n",
    "Lambda functions are used along with built-in functions like filter(), map(), reduce().\n",
    "\n",
    "map() function:\n",
    "\n",
    "map functions executes the function object (i.e. lambda or def) for each element and returns a list of the elements modified by the function object. In the code below, we are multiplying each element by 2.\n",
    "\n",
    "mylist = [1, 2, 3, 4]\n",
    "map(lambda x : x*2, mylist)\n",
    "It returns map object. You cannot see the returned values directly. To view the result, you need to wrap it in list( )\n",
    "list(map(lambda x : x*2, mylist))\n",
    "Output : [2, 4, 6, 8]\n",
    "\n",
    "filter() function:\n",
    "It returns the items where function is true. If none of the element meets condition, it will return nothing. In the code below, we are checking if value is greater than 2.\n",
    "\n",
    "list(filter(lambda x : x > 2 , mylist))\n",
    "Output : [3, 4]\n",
    "\n",
    "It returns filter object. To see the output values, you need to put filter( ) function within list( )\n",
    "Let's say you have a dictionary and you want to filter them by values of specific keys.\n",
    "\n",
    "d = {'a': [1, 2, 1], 'b': [3, 4, 1], 'c': [5, 6, 2]}\n",
    "We are filtering values equal to 1 in key 'a' and greater than 1 in key 'b'.\n",
    "list(filter(lambda x: x[0]==1 and x[1]>1, zip(d['a'],d['b'])))\n",
    "\n",
    "Output\n",
    "[(1, 3)]\n",
    "Here x[0] refers to d['a'] and x[1] refers to d['b'].\n",
    "\n",
    "reduce() function:\n",
    "\n",
    "Syntax of reduce function is as follows :\n",
    "reduce(function, list or tuple)\n",
    "\n",
    "from functools import reduce\n",
    "\n",
    "reduce(lambda x,y: x+y, [1,2,3,4])\n",
    "It returns 10.\n"
   ]
  },
  {
   "cell_type": "code",
   "execution_count": 57,
   "id": "667773d8",
   "metadata": {},
   "outputs": [
    {
     "data": {
      "text/plain": [
       "[8, 27, 64, 125, 216, 343, 512, 729]"
      ]
     },
     "execution_count": 57,
     "metadata": {},
     "output_type": "execute_result"
    }
   ],
   "source": [
    "# MAP FUNCTION:\n",
    "\n",
    "mylist2= [2,3,4,5,6,7,8,9] \n",
    "\n",
    "list(map(lambda x: x**3,mylist2 ))"
   ]
  },
  {
   "cell_type": "code",
   "execution_count": 59,
   "id": "b8a7aff5",
   "metadata": {},
   "outputs": [
    {
     "data": {
      "text/plain": [
       "[64, 729, 4096, 15625, 46656, 117649, 262144, 531441]"
      ]
     },
     "execution_count": 59,
     "metadata": {},
     "output_type": "execute_result"
    }
   ],
   "source": [
    "mylist3= [4, 9, 16, 25, 36, 49, 64, 81]\n",
    "\n",
    "list(map(lambda x: x**3 , mylist3))"
   ]
  },
  {
   "cell_type": "code",
   "execution_count": 62,
   "id": "cc0922f3",
   "metadata": {},
   "outputs": [
    {
     "data": {
      "text/plain": [
       "[7, 8, 9]"
      ]
     },
     "execution_count": 62,
     "metadata": {},
     "output_type": "execute_result"
    }
   ],
   "source": [
    "# Filter function:\n",
    "\n",
    "mylist2= [2,3,4,5,6,7,8,9] \n",
    "\n",
    "list(filter(lambda x: x>6, mylist2))"
   ]
  },
  {
   "cell_type": "code",
   "execution_count": 63,
   "id": "a1f6dbbf",
   "metadata": {},
   "outputs": [
    {
     "data": {
      "text/plain": [
       "[36, 49, 64, 81]"
      ]
     },
     "execution_count": 63,
     "metadata": {},
     "output_type": "execute_result"
    }
   ],
   "source": [
    "mylist3= [4, 9, 16, 25, 36, 49, 64, 81]\n",
    "\n",
    "list(filter(lambda x: x>25,mylist3))"
   ]
  },
  {
   "cell_type": "code",
   "execution_count": 85,
   "id": "b5659648",
   "metadata": {},
   "outputs": [
    {
     "data": {
      "text/plain": [
       "[(1, 3)]"
      ]
     },
     "execution_count": 85,
     "metadata": {},
     "output_type": "execute_result"
    }
   ],
   "source": [
    "d = {'a': [1, 2, 1], 'b': [3, 4, 1], 'c': [5, 6, 2]}\n",
    "list(filter(lambda x: x[0]==1 and x[1]>1 ,zip(d[\"a\"],d[\"b\"])))"
   ]
  },
  {
   "cell_type": "code",
   "execution_count": 87,
   "id": "c20c649c",
   "metadata": {},
   "outputs": [
    {
     "data": {
      "text/plain": [
       "[(6, 5), (8, 6)]"
      ]
     },
     "execution_count": 87,
     "metadata": {},
     "output_type": "execute_result"
    }
   ],
   "source": [
    "d = {'a': [6,8,9], 'b': [3, 4, 1], 'c': [5, 6, 2]}\n",
    "\n",
    "list(filter(lambda x: x[1]>3 and x[1>3],zip(d[\"a\"],d[\"c\"])))"
   ]
  },
  {
   "cell_type": "code",
   "execution_count": 74,
   "id": "c9c0c4d8",
   "metadata": {},
   "outputs": [
    {
     "data": {
      "text/plain": [
       "44"
      ]
     },
     "execution_count": 74,
     "metadata": {},
     "output_type": "execute_result"
    }
   ],
   "source": [
    "from functools import reduce\n",
    "\n",
    "mylist2= [2,3,4,5,6,7,8,9]\n",
    "\n",
    "reduce(lambda x,y: x+y,[2,3,4,5,6,7,8,9] )"
   ]
  },
  {
   "cell_type": "code",
   "execution_count": 75,
   "id": "50cd853a",
   "metadata": {},
   "outputs": [
    {
     "data": {
      "text/plain": [
       "284"
      ]
     },
     "execution_count": 75,
     "metadata": {},
     "output_type": "execute_result"
    }
   ],
   "source": [
    "mylist3= [4, 9, 16, 25, 36, 49, 64, 81]\n",
    "\n",
    "reduce(lambda x,y:x+y ,[4, 9, 16, 25, 36, 49, 64, 81])"
   ]
  },
  {
   "cell_type": "code",
   "execution_count": 89,
   "id": "e82c4a62",
   "metadata": {},
   "outputs": [
    {
     "name": "stdout",
     "output_type": "stream",
     "text": [
      "prime number between 1 and 1000 are :\n",
      "2\n",
      "3\n",
      "5\n",
      "7\n",
      "11\n",
      "13\n",
      "17\n",
      "19\n",
      "23\n",
      "29\n",
      "31\n",
      "37\n",
      "41\n",
      "43\n",
      "47\n",
      "53\n",
      "59\n",
      "61\n",
      "67\n",
      "71\n",
      "73\n",
      "79\n",
      "83\n",
      "89\n",
      "97\n",
      "101\n",
      "103\n",
      "107\n",
      "109\n",
      "113\n",
      "127\n",
      "131\n",
      "137\n",
      "139\n",
      "149\n",
      "151\n",
      "157\n",
      "163\n",
      "167\n",
      "173\n",
      "179\n",
      "181\n",
      "191\n",
      "193\n",
      "197\n",
      "199\n",
      "211\n",
      "223\n",
      "227\n",
      "229\n",
      "233\n",
      "239\n",
      "241\n",
      "251\n",
      "257\n",
      "263\n",
      "269\n",
      "271\n",
      "277\n",
      "281\n",
      "283\n",
      "293\n",
      "307\n",
      "311\n",
      "313\n",
      "317\n",
      "331\n",
      "337\n",
      "347\n",
      "349\n",
      "353\n",
      "359\n",
      "367\n",
      "373\n",
      "379\n",
      "383\n",
      "389\n",
      "397\n",
      "401\n",
      "409\n",
      "419\n",
      "421\n",
      "431\n",
      "433\n",
      "439\n",
      "443\n",
      "449\n",
      "457\n",
      "461\n",
      "463\n",
      "467\n",
      "479\n",
      "487\n",
      "491\n",
      "499\n",
      "503\n",
      "509\n",
      "521\n",
      "523\n",
      "541\n",
      "547\n",
      "557\n",
      "563\n",
      "569\n",
      "571\n",
      "577\n",
      "587\n",
      "593\n",
      "599\n",
      "601\n",
      "607\n",
      "613\n",
      "617\n",
      "619\n",
      "631\n",
      "641\n",
      "643\n",
      "647\n",
      "653\n",
      "659\n",
      "661\n",
      "673\n",
      "677\n",
      "683\n",
      "691\n",
      "701\n",
      "709\n",
      "719\n",
      "727\n",
      "733\n",
      "739\n",
      "743\n",
      "751\n",
      "757\n",
      "761\n",
      "769\n",
      "773\n",
      "787\n",
      "797\n",
      "809\n",
      "811\n",
      "821\n",
      "823\n",
      "827\n",
      "829\n",
      "839\n",
      "853\n",
      "857\n",
      "859\n",
      "863\n",
      "877\n",
      "881\n",
      "883\n",
      "887\n",
      "907\n",
      "911\n",
      "919\n",
      "929\n",
      "937\n",
      "941\n",
      "947\n",
      "953\n",
      "967\n",
      "971\n",
      "977\n",
      "983\n",
      "991\n",
      "997\n"
     ]
    }
   ],
   "source": [
    "#q1: try to print a prime number in between 1 to 1000.\n",
    "\n",
    "lower=1\n",
    "upper=1000\n",
    "print(\"prime number between\", lower , \"and\", upper ,\"are :\")\n",
    "\n",
    "for num in range(lower,upper+1):\n",
    "    \n",
    "    if num>1:\n",
    "        for i in range(2,num):\n",
    "            if (num%i)== 0 :\n",
    "                 break\n",
    "        else:\n",
    "            print(num)"
   ]
  },
  {
   "cell_type": "code",
   "execution_count": 90,
   "id": "7601f539",
   "metadata": {},
   "outputs": [
    {
     "data": {
      "text/plain": [
       "17"
      ]
     },
     "execution_count": 90,
     "metadata": {},
     "output_type": "execute_result"
    }
   ],
   "source": [
    "#write a func which is equivalent to print function in python.\n",
    "\n",
    "def test(a,b):\n",
    "    return(a+b)\n",
    "test(8,9)"
   ]
  },
  {
   "cell_type": "code",
   "execution_count": null,
   "id": "9ce2c591",
   "metadata": {},
   "outputs": [],
   "source": [
    "#write a func which is replica of list append, extend and pop function.\n",
    "\n",
    "q7: try to write a func which can perform read operation from .txt file"
   ]
  },
  {
   "cell_type": "code",
   "execution_count": 95,
   "id": "a01995ee",
   "metadata": {},
   "outputs": [],
   "source": [
    "l1=[1,11,1,1,1,1,1,11,1]"
   ]
  },
  {
   "cell_type": "code",
   "execution_count": 96,
   "id": "65f8467f",
   "metadata": {},
   "outputs": [],
   "source": [
    "def test1(*a):\n",
    "    l1=[]\n",
    "    for i in a:\n",
    "        l1.append(i)\n",
    "    return l1"
   ]
  },
  {
   "cell_type": "code",
   "execution_count": 98,
   "id": "e5e11d42",
   "metadata": {},
   "outputs": [
    {
     "data": {
      "text/plain": [
       "[[1, 11, 1, 1, 1, 1, 1, 11, 1], 6, 7, 3, 6]"
      ]
     },
     "execution_count": 98,
     "metadata": {},
     "output_type": "execute_result"
    }
   ],
   "source": [
    "test1(l1,6,7,3,6)"
   ]
  },
  {
   "cell_type": "code",
   "execution_count": 102,
   "id": "d4763c6c",
   "metadata": {},
   "outputs": [],
   "source": [
    "def test2(*a):\n",
    "    l1=[]\n",
    "    for i in a:\n",
    "        l1.extend(i)\n",
    "    return l1"
   ]
  },
  {
   "cell_type": "code",
   "execution_count": 105,
   "id": "69ab1880",
   "metadata": {},
   "outputs": [
    {
     "data": {
      "text/plain": [
       "[1, 11, 1, 1, 1, 1, 1, 11, 1]"
      ]
     },
     "execution_count": 105,
     "metadata": {},
     "output_type": "execute_result"
    }
   ],
   "source": [
    "test2(l1)"
   ]
  },
  {
   "cell_type": "code",
   "execution_count": 142,
   "id": "a4677c4f",
   "metadata": {},
   "outputs": [],
   "source": [
    "def test3(*a):   # in pop we call index no\n",
    "    l1=[6,7,8,9,10,12,11] \n",
    "    for i in a:\n",
    "        l1.pop(6)\n",
    "    return l1"
   ]
  },
  {
   "cell_type": "code",
   "execution_count": 143,
   "id": "670eb56a",
   "metadata": {},
   "outputs": [
    {
     "data": {
      "text/plain": [
       "[6, 7, 8, 9, 10, 12]"
      ]
     },
     "execution_count": 143,
     "metadata": {},
     "output_type": "execute_result"
    }
   ],
   "source": [
    "test3(6) "
   ]
  },
  {
   "cell_type": "code",
   "execution_count": null,
   "id": "67398bc7",
   "metadata": {},
   "outputs": [],
   "source": [
    "# write a lambda func which can return a concatenation of all the string that we will pass."
   ]
  },
  {
   "cell_type": "code",
   "execution_count": 156,
   "id": "659b8dce",
   "metadata": {},
   "outputs": [
    {
     "name": "stdout",
     "output_type": "stream",
     "text": [
      "nilamnilam\n"
     ]
    }
   ],
   "source": [
    "z= lambda nilam,kale : nilam * 2\n",
    "result=z(\"nilam\", 2)\n",
    "print(result)  "
   ]
  },
  {
   "cell_type": "code",
   "execution_count": 157,
   "id": "8af0e243",
   "metadata": {},
   "outputs": [
    {
     "name": "stdout",
     "output_type": "stream",
     "text": [
      "nilamkale\n"
     ]
    }
   ],
   "source": [
    "z= lambda nilam,kale : nilam + kale\n",
    "result=z(\"nilam\", \"kale\")\n",
    "print(result)  "
   ]
  },
  {
   "cell_type": "code",
   "execution_count": 158,
   "id": "73adc176",
   "metadata": {},
   "outputs": [],
   "source": [
    "#write a lambda func which will return list of squares of all the data bw 1-100"
   ]
  },
  {
   "cell_type": "code",
   "execution_count": 47,
   "id": "3eda6893",
   "metadata": {},
   "outputs": [],
   "source": [
    "b= lambda *x :[x*2 for x in range(1,100)]"
   ]
  },
  {
   "cell_type": "code",
   "execution_count": 43,
   "id": "bb7c9578",
   "metadata": {},
   "outputs": [
    {
     "data": {
      "text/plain": [
       "[1,\n",
       " 4,\n",
       " 9,\n",
       " 16,\n",
       " 25,\n",
       " 36,\n",
       " 49,\n",
       " 64,\n",
       " 81,\n",
       " 100,\n",
       " 121,\n",
       " 144,\n",
       " 169,\n",
       " 196,\n",
       " 225,\n",
       " 256,\n",
       " 289,\n",
       " 324,\n",
       " 361,\n",
       " 400,\n",
       " 441,\n",
       " 484,\n",
       " 529,\n",
       " 576,\n",
       " 625,\n",
       " 676,\n",
       " 729,\n",
       " 784,\n",
       " 841,\n",
       " 900,\n",
       " 961,\n",
       " 1024,\n",
       " 1089,\n",
       " 1156,\n",
       " 1225,\n",
       " 1296,\n",
       " 1369,\n",
       " 1444,\n",
       " 1521,\n",
       " 1600,\n",
       " 1681,\n",
       " 1764,\n",
       " 1849,\n",
       " 1936,\n",
       " 2025,\n",
       " 2116,\n",
       " 2209,\n",
       " 2304,\n",
       " 2401,\n",
       " 2500,\n",
       " 2601,\n",
       " 2704,\n",
       " 2809,\n",
       " 2916,\n",
       " 3025,\n",
       " 3136,\n",
       " 3249,\n",
       " 3364,\n",
       " 3481,\n",
       " 3600,\n",
       " 3721,\n",
       " 3844,\n",
       " 3969,\n",
       " 4096,\n",
       " 4225,\n",
       " 4356,\n",
       " 4489,\n",
       " 4624,\n",
       " 4761,\n",
       " 4900,\n",
       " 5041,\n",
       " 5184,\n",
       " 5329,\n",
       " 5476,\n",
       " 5625,\n",
       " 5776,\n",
       " 5929,\n",
       " 6084,\n",
       " 6241,\n",
       " 6400,\n",
       " 6561,\n",
       " 6724,\n",
       " 6889,\n",
       " 7056,\n",
       " 7225,\n",
       " 7396,\n",
       " 7569,\n",
       " 7744,\n",
       " 7921,\n",
       " 8100,\n",
       " 8281,\n",
       " 8464,\n",
       " 8649,\n",
       " 8836,\n",
       " 9025,\n",
       " 9216,\n",
       " 9409,\n",
       " 9604,\n",
       " 9801]"
      ]
     },
     "execution_count": 43,
     "metadata": {},
     "output_type": "execute_result"
    }
   ],
   "source": [
    "b(1,2)"
   ]
  },
  {
   "cell_type": "code",
   "execution_count": null,
   "id": "d1e14ce8",
   "metadata": {},
   "outputs": [],
   "source": [
    "# write a 10 different different lambda func with choice of your task"
   ]
  },
  {
   "cell_type": "code",
   "execution_count": 46,
   "id": "ffb2acad",
   "metadata": {},
   "outputs": [
    {
     "data": {
      "text/plain": [
       "[1,\n",
       " 8,\n",
       " 27,\n",
       " 64,\n",
       " 125,\n",
       " 216,\n",
       " 343,\n",
       " 512,\n",
       " 729,\n",
       " 1000,\n",
       " 1331,\n",
       " 1728,\n",
       " 2197,\n",
       " 2744,\n",
       " 3375,\n",
       " 4096,\n",
       " 4913,\n",
       " 5832,\n",
       " 6859,\n",
       " 8000]"
      ]
     },
     "execution_count": 46,
     "metadata": {},
     "output_type": "execute_result"
    }
   ],
   "source": [
    "#lambda function:\n",
    "\n",
    "# q1. write a lambda func which will return list of cubes of all the data bw 1-21:\n",
    "\n",
    "b= lambda *x :[x**3 for x in range(1,21)]\n",
    "b(1,2,3,4,5,6,7,8,9)"
   ]
  },
  {
   "cell_type": "code",
   "execution_count": 89,
   "id": "b017fa2a",
   "metadata": {},
   "outputs": [
    {
     "data": {
      "text/plain": [
       "17"
      ]
     },
     "execution_count": 89,
     "metadata": {},
     "output_type": "execute_result"
    }
   ],
   "source": [
    "#q.3 \n",
    "\n",
    "addition =lambda x,y : x+y\n",
    "\n",
    "addition(8,9)"
   ]
  },
  {
   "cell_type": "code",
   "execution_count": 91,
   "id": "609b864c",
   "metadata": {},
   "outputs": [
    {
     "data": {
      "text/plain": [
       "15"
      ]
     },
     "execution_count": 91,
     "metadata": {},
     "output_type": "execute_result"
    }
   ],
   "source": [
    "#q 4 . Add 10 to argument a, and return the result:\n",
    "\n",
    "x = lambda a : a+10\n",
    "\n",
    "x(5)\n"
   ]
  },
  {
   "cell_type": "code",
   "execution_count": 92,
   "id": "76f761d3",
   "metadata": {},
   "outputs": [
    {
     "data": {
      "text/plain": [
       "54"
      ]
     },
     "execution_count": 92,
     "metadata": {},
     "output_type": "execute_result"
    }
   ],
   "source": [
    "#q 5. Multiply argument a with argument b and return the result:\n",
    "\n",
    "x=lambda a,b: a*b\n",
    "\n",
    "x(9,6)"
   ]
  },
  {
   "cell_type": "code",
   "execution_count": 93,
   "id": "be07d6e2",
   "metadata": {},
   "outputs": [
    {
     "data": {
      "text/plain": [
       "12"
      ]
     },
     "execution_count": 93,
     "metadata": {},
     "output_type": "execute_result"
    }
   ],
   "source": [
    "#q.6 Summarize argument a, b, and c and return the result:\n",
    "\n",
    "x= lambda a,b,c:a+b+c\n",
    "\n",
    "x(3,4,5)"
   ]
  },
  {
   "cell_type": "markdown",
   "id": "8ea35966",
   "metadata": {},
   "source": [
    "# Why Use Lambda Functions?\n",
    "The power of lambda is better shown when you use them as an anonymous function inside another function.\n",
    "Say you have a function definition that takes one argument, and that argument will be multiplied with an unknown number:"
   ]
  },
  {
   "cell_type": "code",
   "execution_count": 102,
   "id": "d40bef06",
   "metadata": {},
   "outputs": [
    {
     "name": "stdout",
     "output_type": "stream",
     "text": [
      "99\n"
     ]
    }
   ],
   "source": [
    "def myfunc(n):\n",
    "    return lambda a: a*n\n",
    "\n",
    "mydoubler =myfunc(9)\n",
    "\n",
    "print(mydoubler(11))"
   ]
  },
  {
   "cell_type": "code",
   "execution_count": 107,
   "id": "5083b6d7",
   "metadata": {},
   "outputs": [
    {
     "name": "stdout",
     "output_type": "stream",
     "text": [
      "79\n"
     ]
    }
   ],
   "source": [
    "def myfunc(n):\n",
    "    return lambda x,y: x +y* n\n",
    "mydoubler= myfunc(9)\n",
    "print(mydoubler(7,8))"
   ]
  },
  {
   "cell_type": "code",
   "execution_count": 109,
   "id": "ccac5ff9",
   "metadata": {},
   "outputs": [
    {
     "name": "stdout",
     "output_type": "stream",
     "text": [
      "216\n"
     ]
    }
   ],
   "source": [
    "def myfunc(m):\n",
    "    return lambda x,y: x*y*m\n",
    "mydoubler=myfunc(9)\n",
    "print(mydoubler(8,3))"
   ]
  },
  {
   "cell_type": "markdown",
   "id": "2559840b",
   "metadata": {},
   "source": [
    "1. Write a Python program to create a lambda function that adds 15 to a given number passed in as an argument, also create a lambda function that multiplies argument x with argument y and print the result"
   ]
  },
  {
   "cell_type": "code",
   "execution_count": 114,
   "id": "29070e36",
   "metadata": {},
   "outputs": [
    {
     "name": "stdout",
     "output_type": "stream",
     "text": [
      "18\n"
     ]
    }
   ],
   "source": [
    "a= lambda n :n+15\n",
    "print(a(3))"
   ]
  },
  {
   "cell_type": "code",
   "execution_count": 113,
   "id": "8a46e4de",
   "metadata": {},
   "outputs": [
    {
     "name": "stdout",
     "output_type": "stream",
     "text": [
      "72\n"
     ]
    }
   ],
   "source": [
    "a=lambda x,y:x*y\n",
    "print(a(8,9))"
   ]
  },
  {
   "cell_type": "markdown",
   "id": "f38d8679",
   "metadata": {},
   "source": [
    "2. Write a Python program to create a function that takes one argument, and that argument will be multiplied with an unknown given number. Go to the editor\n",
    "Sample Output:\n",
    "Double the number of 15 = 30\n",
    "Triple the number of 15 = 45\n",
    "Quadruple the number of 15 = 60\n",
    "Quintuple the number 15 = 75"
   ]
  },
  {
   "cell_type": "code",
   "execution_count": 124,
   "id": "6fda5a6f",
   "metadata": {},
   "outputs": [
    {
     "name": "stdout",
     "output_type": "stream",
     "text": [
      "double the number of 15 : 30\n",
      "double the number of 15 : 45\n",
      "double the number of 15 : 60\n",
      "double the number of 15 : 75\n"
     ]
    }
   ],
   "source": [
    "def my_compute(n):\n",
    "    return lambda x: x*n\n",
    "result= my_compute(2)\n",
    "print(\"double the number of 15 :\" ,result(15))\n",
    "result= my_compute(3)\n",
    "print(\"double the number of 15 :\" ,result(15))\n",
    "result= my_compute(4)\n",
    "print(\"double the number of 15 :\" ,result(15))\n",
    "result= my_compute(5)\n",
    "print(\"double the number of 15 :\" ,result(15))"
   ]
  },
  {
   "cell_type": "markdown",
   "id": "cc01519b",
   "metadata": {},
   "source": [
    "3. Write a Python program to sort a list of tuples using Lambda.\n",
    "Original list of tuples:\n",
    "[('English', 88), ('Science', 90), ('Maths', 97), ('Social sciences', 82)]\n",
    "Sorting the List of Tuples:\n",
    "[('Social sciences', 82), ('English', 88), ('Science', 90), ('Maths', 97)]"
   ]
  },
  {
   "cell_type": "code",
   "execution_count": 147,
   "id": "f1d24974",
   "metadata": {},
   "outputs": [
    {
     "name": "stdout",
     "output_type": "stream",
     "text": [
      "the original list of tuples : \n",
      "[('English', 88), ('Science', 90), ('Maths', 97), ('Social sciences', 82)]\n",
      " \n",
      "sorting list of tuples: \n",
      "[('Social sciences', 82), ('English', 88), ('Science', 90), ('Maths', 97)]\n"
     ]
    }
   ],
   "source": [
    "mark_list =[('English', 88), ('Science', 90), ('Maths', 97), ('Social sciences', 82)]\n",
    "print(\"the original list of tuples : \")\n",
    "print(mark_list)\n",
    "mark_list.sort(key=lambda x: x[1])\n",
    "print(\" \\nsorting list of tuples: \" )\n",
    "print(mark_list)\n"
   ]
  },
  {
   "cell_type": "markdown",
   "id": "264fa5ab",
   "metadata": {},
   "source": [
    "4. Write a Python program to sort a list of dictionaries using Lambda. Go to the editor\n",
    "Original list of dictionaries :\n",
    "[{'make': 'Nokia', 'model': 216, 'color': 'Black'}, {'make': 'Mi Max', 'model': '2', 'color': 'Gold'}, {'make': 'Samsung', 'model': 7, 'color': 'Blue'}]\n",
    "Sorting the List of dictionaries :\n",
    "[{'make': 'Nokia', 'model': 216, 'color': 'Black'}, {'make': 'Samsung', 'model': 7, 'color': 'Blue'}, {'make': 'Mi Max', 'model': '2', 'color': 'Gold'}]"
   ]
  },
  {
   "cell_type": "code",
   "execution_count": 168,
   "id": "9e3d71b4",
   "metadata": {},
   "outputs": [
    {
     "name": "stdout",
     "output_type": "stream",
     "text": [
      "Original list of dictionaries :\n",
      "[{'make': 'Nokia', 'model': 216, 'color': 'Black'}, {'make': 'Mi Max', 'model': '2', 'color': 'Gold'}, {'make': 'Samsung', 'model': 7, 'color': 'Blue'}]\n",
      "\n",
      "Sorting the List of dictionaries :\n",
      "[{'make': 'Nokia', 'model': 216, 'color': 'Black'}, {'make': 'Samsung', 'model': 7, 'color': 'Blue'}, {'make': 'Mi Max', 'model': '2', 'color': 'Gold'}]\n"
     ]
    }
   ],
   "source": [
    "models = [{'make':'Nokia', 'model':216, 'color':'Black'}, {'make':'Mi Max', 'model':'2', 'color':'Gold'}, {'make':'Samsung', 'model': 7, 'color':'Blue'}]\n",
    "print(\"Original list of dictionaries :\")\n",
    "print(models)\n",
    "sorted_models = sorted(models, key = lambda x: x['color'])\n",
    "print(\"\\nSorting the List of dictionaries :\")\n",
    "print(sorted_models)"
   ]
  },
  {
   "cell_type": "markdown",
   "id": "d9d2f26a",
   "metadata": {},
   "source": [
    "5. Write a Python program to filter a list of integers using Lambda. Go to the editor\n",
    "Original list of integers:\n",
    "[1, 2, 3, 4, 5, 6, 7, 8, 9, 10]\n",
    "Even numbers from the said list:\n",
    "[2, 4, 6, 8, 10]\n",
    "Odd numbers from the said list:\n",
    "[1, 3, 5, 7, 9]"
   ]
  },
  {
   "cell_type": "code",
   "execution_count": 179,
   "id": "eeac216e",
   "metadata": {},
   "outputs": [
    {
     "name": "stdout",
     "output_type": "stream",
     "text": [
      " the originall list of integers: \n",
      "[1, 2, 3, 4, 5, 6, 7, 8, 9, 10]\n",
      "\n",
      "Even_num : [2, 4, 6, 8, 10]\n",
      "\n",
      "odd_num : [1, 3, 5, 7, 9]\n"
     ]
    }
   ],
   "source": [
    "Integers_list=[1, 2, 3, 4, 5, 6, 7, 8, 9, 10]\n",
    "print(\" the originall list of integers: \")\n",
    "print(Integers_list)\n",
    "\n",
    "Even_num =list(filter(lambda x:x%2==0,[1, 2, 3, 4, 5, 6, 7, 8, 9, 10]))\n",
    "print(\"\\nEven_num :\",Even_num)\n",
    "\n",
    "odd_num =list(filter(lambda x:x%2!=0,[1, 2, 3, 4, 5, 6, 7, 8, 9, 10]))\n",
    "print(\"\\nodd_num :\",odd_num)"
   ]
  },
  {
   "cell_type": "markdown",
   "id": "7d559a7c",
   "metadata": {},
   "source": [
    "6. Write a Python program to square and cube every number in a given list of integers using Lambda. Go to the editor\n",
    "Original list of integers:\n",
    "[1, 2, 3, 4, 5, 6, 7, 8, 9, 10]\n",
    "Square every number of the said list:\n",
    "[1, 4, 9, 16, 25, 36, 49, 64, 81, 100]\n",
    "Cube every number of the said list:\n",
    "[1, 8, 27, 64, 125, 216, 343, 512, 729, 1000]"
   ]
  },
  {
   "cell_type": "code",
   "execution_count": 210,
   "id": "c9767dbe",
   "metadata": {},
   "outputs": [
    {
     "name": "stdout",
     "output_type": "stream",
     "text": [
      "The original list of integers: \n",
      "[1, 2, 3, 4, 5, 6, 7, 8, 9, 10]\n",
      "Square every number of the said list:  [1, 4, 9, 16, 25, 36, 49, 64, 81, 100]\n",
      "cube every number of the said list:  [1, 8, 27, 64, 125, 216, 343, 512, 729, 1000]\n"
     ]
    }
   ],
   "source": [
    "Integers_list= [1, 2, 3, 4, 5, 6, 7, 8, 9, 10] \n",
    "print(\"The original list of integers: \")\n",
    "print(Integers_list)\n",
    "\n",
    "y=lambda *x: [x**2 for x in range(1,11)]\n",
    "print(\"Square every number of the said list: \",y())\n",
    "y=lambda *x: [x**3 for x in range(1,11)]\n",
    "print(\"cube every number of the said list: \",y())\n"
   ]
  },
  {
   "cell_type": "markdown",
   "id": "d8b219bb",
   "metadata": {},
   "source": [
    "7. Write a Python program to find if a given string starts with a given character using Lambda"
   ]
  },
  {
   "cell_type": "code",
   "execution_count": 213,
   "id": "3e97b4fe",
   "metadata": {},
   "outputs": [
    {
     "name": "stdout",
     "output_type": "stream",
     "text": [
      "True\n",
      "False\n"
     ]
    }
   ],
   "source": [
    "x= lambda y: True if y.startswith(\"n\") else False\n",
    "print(x(\"nilamkale\"))\n",
    "\n",
    "x= lambda y: True if y.startswith(\"l\") else False\n",
    "print(x(\"nilamkale\"))"
   ]
  },
  {
   "cell_type": "markdown",
   "id": "46299f76",
   "metadata": {},
   "source": [
    "8. Write a Python program to extract year, month, date and time using Lambda."
   ]
  },
  {
   "cell_type": "code",
   "execution_count": 4,
   "id": "316d30ed",
   "metadata": {},
   "outputs": [
    {
     "name": "stdout",
     "output_type": "stream",
     "text": [
      "2022-10-18 12:53:48.600922\n",
      "2022\n",
      "10\n",
      "18\n",
      "12:53:48.600922\n"
     ]
    }
   ],
   "source": [
    "import datetime\n",
    "now= datetime.datetime.now()\n",
    "print(now)\n",
    "\n",
    "year= lambda x: x.year\n",
    "month=lambda x: x.month\n",
    "day=lambda x: x.day\n",
    "time= lambda x:x.time()\n",
    "print(year(now)) \n",
    "print(month(now))\n",
    "print(day(now))\n",
    "print(time(now))\n",
    "        "
   ]
  },
  {
   "cell_type": "markdown",
   "id": "79301f6e",
   "metadata": {},
   "source": [
    "9. Write a Python program to check whether a given string is number or not using Lambda."
   ]
  },
  {
   "cell_type": "code",
   "execution_count": 15,
   "id": "a47176e5",
   "metadata": {},
   "outputs": [
    {
     "name": "stdout",
     "output_type": "stream",
     "text": [
      "True\n",
      "True\n",
      "False\n",
      "True\n",
      "False\n",
      "True\n",
      "\n",
      "Print checking numbers:\n",
      "True\n",
      "True\n",
      "False\n"
     ]
    }
   ],
   "source": [
    "is_num = lambda x: x.replace(\".\",\"\",1).isdigit()\n",
    "print(is_num(\"1234\"))\n",
    "print(is_num(\"0.234\"))\n",
    "print(is_num('-12547'))\n",
    "print(is_num('00'))\n",
    "print(is_num('A001'))\n",
    "print(is_num('001'))\n",
    "print(\"\\nPrint checking numbers:\")\n",
    "\n",
    "is_num1= lambda y:is_num(y[1:])if y[0]==\"-\" else is_num(y)\n",
    "print(is_num1('-16.4'))\n",
    "print(is_num1('-24587.11'))\n",
    "print(is_num1('ASAS'))"
   ]
  },
  {
   "cell_type": "markdown",
   "id": "8eb59af6",
   "metadata": {},
   "source": [
    "10. Write a Python program to create Fibonacci series upto n using Lambda."
   ]
  },
  {
   "cell_type": "code",
   "execution_count": 70,
   "id": "43110595",
   "metadata": {},
   "outputs": [
    {
     "name": "stdout",
     "output_type": "stream",
     "text": [
      "Fibonacci series upto 2:\n",
      "[0, 1]\n",
      "\n",
      "Fibonacci series upto 5:\n",
      "[0, 1, 1, 2, 3]\n",
      "\n",
      "Fibonacci series upto 6:\n",
      "[0, 1, 1, 2, 3, 5]\n",
      "\n",
      "Fibonacci series upto 9:\n",
      "[0, 1, 1, 2, 3, 5, 8, 13, 21]\n"
     ]
    }
   ],
   "source": [
    "from functools import reduce\n",
    " \n",
    "fib_series = lambda n: reduce(lambda x, _: x+[x[-1]+x[-2]],\n",
    "                                range(n-2), [0, 1])\n",
    " \n",
    "print(\"Fibonacci series upto 2:\")\n",
    "print(fib_series(2))\n",
    "print(\"\\nFibonacci series upto 5:\")\n",
    "print(fib_series(5))\n",
    "print(\"\\nFibonacci series upto 6:\")\n",
    "print(fib_series(6))\n",
    "print(\"\\nFibonacci series upto 9:\")\n",
    "print(fib_series(9))"
   ]
  },
  {
   "cell_type": "markdown",
   "id": "80fe10cd",
   "metadata": {},
   "source": [
    "#11. Write a Python program to find intersection of two given arrays using Lambda. Go to the editor\n",
    "Original arrays:\n",
    "[1, 2, 3, 5, 7, 8, 9, 10]\n",
    "[1, 2, 4, 8, 9]"
   ]
  },
  {
   "cell_type": "code",
   "execution_count": 77,
   "id": "f4eb161b",
   "metadata": {},
   "outputs": [
    {
     "name": "stdout",
     "output_type": "stream",
     "text": [
      "original arrays: \n",
      "[1, 2, 3, 5, 7, 8, 9, 10]\n",
      "[1, 2, 4, 8, 9]\n",
      "intersection of arrays: \n",
      "[1, 2, 8, 9]\n"
     ]
    }
   ],
   "source": [
    "array_1= [1, 2, 3, 5, 7, 8, 9, 10] \n",
    "array_2= [1, 2, 4, 8, 9]\n",
    "print(\"original arrays: \")\n",
    "print(array_1)\n",
    "print(array_2)\n",
    "\n",
    "intersection= list(filter(lambda x: x in array_1,array_2))\n",
    "print(\"intersection of arrays: \")\n",
    "print(intersection)"
   ]
  },
  {
   "cell_type": "markdown",
   "id": "8bae6fff",
   "metadata": {},
   "source": [
    "12. Write a Python program to rearrange positive and negative numbers in a given array using Lambda. Go to the editor\n",
    "Original arrays:\n",
    "[-1, 2, -3, 5, 7, 8, 9, -10]"
   ]
  },
  {
   "cell_type": "code",
   "execution_count": 85,
   "id": "28074f5a",
   "metadata": {},
   "outputs": [
    {
     "name": "stdout",
     "output_type": "stream",
     "text": [
      " the original arrays: \n",
      "[-1, 2, -3, 5, 7, 8, 9, -10]\n",
      "[2, 5, 7, 8, 9, -10, -3, -1]\n"
     ]
    }
   ],
   "source": [
    "\n",
    "\n",
    "original_arrays= [-1, 2, -3, 5, 7, 8, 9, -10]\n",
    "print(\" the original arrays: \")\n",
    "print(original_arrays)\n",
    "\n",
    "pos_neg= sorted(original_arrays,key = lambda x: 0 if x==0 else -1/x)\n",
    "print(pos_neg)"
   ]
  },
  {
   "cell_type": "markdown",
   "id": "07d5c7df",
   "metadata": {},
   "source": [
    "13. Write a Python program to count the even, odd numbers in a given array of integers using Lambda. Go to the editor\n",
    "Original arrays:\n",
    "[1, 2, 3, 5, 7, 8, 9, 10]"
   ]
  },
  {
   "cell_type": "code",
   "execution_count": 103,
   "id": "c69d3e7f",
   "metadata": {},
   "outputs": [
    {
     "name": "stdout",
     "output_type": "stream",
     "text": [
      "Original arrays:\n",
      "[1, 2, 3, 5, 7, 8, 9, 10]\n",
      "\n",
      "Number of even numbers in the above array:  3\n",
      "\n",
      "Number of odd numbers in the above array:  5\n"
     ]
    }
   ],
   "source": [
    "array_nums = [1, 2, 3, 5, 7, 8, 9, 10]\n",
    "print(\"Original arrays:\")\n",
    "print(array_nums)\n",
    "odd_ctr = len(list(filter(lambda x: (x%2 != 0) , array_nums)))\n",
    "even_ctr = len(list(filter(lambda x: (x%2 == 0) , array_nums)))\n",
    "print(\"\\nNumber of even numbers in the above array: \", even_ctr)\n",
    "print(\"\\nNumber of odd numbers in the above array: \", odd_ctr)"
   ]
  },
  {
   "cell_type": "markdown",
   "id": "6a03f1f9",
   "metadata": {},
   "source": [
    "14. Write a Python program to find the values of length six in a given list using Lambda. "
   ]
  },
  {
   "cell_type": "code",
   "execution_count": 106,
   "id": "3da7029d",
   "metadata": {},
   "outputs": [
    {
     "name": "stdout",
     "output_type": "stream",
     "text": [
      "monday\n",
      "friday\n",
      "sunday\n"
     ]
    }
   ],
   "source": [
    "weekdays=[\"monday\",\"tuesday\",\"wednesday\",\"thursday\",\"friday\",\"saturday\",\"sunday\"]\n",
    "\n",
    "days= filter(lambda day: day if len(day)==6 else \"\",weekdays)\n",
    "for d in days:\n",
    "    print(d)"
   ]
  },
  {
   "cell_type": "markdown",
   "id": "a973f92e",
   "metadata": {},
   "source": [
    "15. Write a Python program to add two given lists using map and lambda. Go to the editor\n",
    "Original list:\n",
    "[1, 2, 3]\n",
    "[4, 5, 6]"
   ]
  },
  {
   "cell_type": "code",
   "execution_count": 108,
   "id": "3f0c79fc",
   "metadata": {},
   "outputs": [
    {
     "name": "stdout",
     "output_type": "stream",
     "text": [
      "original arrays: \n",
      "[1, 2, 3]\n",
      "[4, 5, 6]\n",
      " two number after adding :  [5, 7, 9]\n"
     ]
    }
   ],
   "source": [
    "array_1= [1, 2, 3]\n",
    "array_2= [4, 5, 6]\n",
    "print(\"original arrays: \")\n",
    "print(array_1)\n",
    "print(array_2)\n",
    "\n",
    "add_two= list(map(lambda x,y:x+y, array_1,array_2))\n",
    "print(\" two number after adding : \" , add_two)\n"
   ]
  },
  {
   "cell_type": "markdown",
   "id": "b9a44f85",
   "metadata": {},
   "source": [
    "16. Write a Python program to find the second lowest grade of any student(s) from the given names and grades of each student using lists and lambda. Input number of students, names and grades of each student.\n",
    "Input number of students: 5\n",
    "Name: S ROY\n",
    "Grade: 1\n",
    "Name: B BOSE\n",
    "Grade: 3\n",
    "Name: N KAR\n",
    "Grade: 2\n",
    "Name: C DUTTA\n",
    "Grade: 1\n",
    "Name: G GHOSH\n",
    "Grade: 1"
   ]
  },
  {
   "cell_type": "code",
   "execution_count": 4,
   "id": "83034800",
   "metadata": {},
   "outputs": [
    {
     "name": "stdout",
     "output_type": "stream",
     "text": [
      "Input number of students: 5\n",
      "Name: roy\n",
      "Total marks: 1\n",
      "Name: ghosh\n",
      "Total marks: 3\n",
      "Name: kar\n",
      "Total marks: 2\n",
      "Name: dutta\n",
      "Total marks: 1\n",
      "Name: bose\n",
      "Total marks: 1\n",
      "\n",
      "Names and Marks of all students:\n",
      "[['roy', 1.0], ['ghosh', 3.0], ['kar', 2.0], ['dutta', 1.0], ['bose', 1.0]]\n",
      "\n",
      "Second lowest Marks:  0\n",
      "\n",
      "Names:\n"
     ]
    }
   ],
   "source": [
    "students = []\n",
    "sec_name = []\n",
    "second_low =0\n",
    "n = int(input(\"Input number of students: \"))\n",
    "for _ in range(n):\n",
    "    s_name = input(\"Name: \")\n",
    "    score = float(input(\"Total marks: \"))\n",
    "    students.append([s_name,score])\n",
    "print(\"\\nNames and Marks of all students:\")\n",
    "print(students)\n",
    "order =sorted(students, key = lambda x: int(x[1]))\n",
    "for i in range(n):\n",
    "    if order[i][1]!= order[0][1]:\n",
    "        second_low = order[i][1]\n",
    "    break\n",
    "print(\"\\nSecond lowest Marks: \",second_low)\n",
    "sec_student_name = [x[0] for x in order if x[1] == second_low]\n",
    "sec_student_name.sort()\n",
    "print(\"\\nNames:\")\n",
    "for s_name in sec_student_name:\n",
    "    print(s_name)"
   ]
  },
  {
   "cell_type": "markdown",
   "id": "c32a66c7",
   "metadata": {},
   "source": [
    "17. Write a Python program to find numbers divisible by nineteen or thirteen from a list of numbers using Lambda. Go to the editor\n",
    "Orginal list:\n",
    "[19, 65, 57, 39, 152, 639, 121, 44, 90, 190]\n",
    "Numbers of the above list divisible by nineteen or thirteen:\n",
    "[19, 65, 57, 39, 152, 190]"
   ]
  },
  {
   "cell_type": "code",
   "execution_count": 13,
   "id": "0e2f4235",
   "metadata": {},
   "outputs": [
    {
     "name": "stdout",
     "output_type": "stream",
     "text": [
      "[19, 65, 57, 39, 152, 639, 121, 44, 90, 190]\n",
      "[19, 65, 57, 39, 152, 190]\n"
     ]
    }
   ],
   "source": [
    "Original_list = [19, 65, 57, 39, 152, 639, 121, 44, 90, 190]\n",
    "print(Original_list)\n",
    "\n",
    "divisible= list(filter(lambda x: x%19 == 0 or x%13==0,Original_list))\n",
    "\n",
    "print(divisible)\n"
   ]
  },
  {
   "cell_type": "markdown",
   "id": "254bca80",
   "metadata": {},
   "source": [
    " 18. Write a Python program to find palindromes in a given list of strings using Lambda. Orginal list of strings:\n",
    "['php', 'w3r', 'Python', 'abcd', 'Java', 'aaa']"
   ]
  },
  {
   "cell_type": "code",
   "execution_count": 30,
   "id": "83eb63cb",
   "metadata": {},
   "outputs": [
    {
     "name": "stdout",
     "output_type": "stream",
     "text": [
      "['php', 'w3r', 'Python', 'abcd', 'Java', 'aaa']\n",
      "['php', 'aaa']\n"
     ]
    }
   ],
   "source": [
    "Orginal_list_of_strings =['php', 'w3r', 'Python', 'abcd', 'Java', 'aaa']\n",
    "print(Orginal_list_of_strings)\n",
    "result = list(filter(lambda x: x== \"\".join(reversed(x)),Orginal_list_of_strings))\n",
    "print(result)    \n",
    "    \n",
    "    "
   ]
  },
  {
   "cell_type": "markdown",
   "id": "9593d890",
   "metadata": {},
   "source": [
    "19. Write a Python program to find all anagrams of a string in a given list of strings using lambda. Go to the editor\n",
    "Orginal list of strings:\n",
    "['bcda', 'abce', 'cbda', 'cbea', 'adcb']"
   ]
  },
  {
   "cell_type": "code",
   "execution_count": 10,
   "id": "eb3e0c3d",
   "metadata": {},
   "outputs": [
    {
     "name": "stdout",
     "output_type": "stream",
     "text": [
      "['bcda', 'abce', 'cbda', 'cbea', 'adcb']\n",
      "\n",
      "the list of Anagrams: \n",
      "['bcda', 'cbda', 'adcb']\n"
     ]
    }
   ],
   "source": [
    "\n",
    "from collections import Counter\n",
    "Orginal_list = ['bcda', 'abce', 'cbda', 'cbea', 'adcb']\n",
    "str=(\"bcda\")\n",
    "print(Orginal_list)\n",
    "\n",
    "results= list(filter(lambda x: (Counter(str)== Counter(x)),Orginal_list ))\n",
    "print( \"\\nthe list of Anagrams: \")\n",
    "print(results)"
   ]
  },
  {
   "cell_type": "markdown",
   "id": "956ec445",
   "metadata": {},
   "source": [
    "20. Write a Python program to find the numbers of a given string and store them in a list, display the numbers which are bigger than the length of the list in sorted form. Use lambda function to solve the problem. Go to the editor\n",
    "Original string: sdf 23 safs8 5 sdfsd8 sdfs 56 21sfs 20 5"
   ]
  },
  {
   "cell_type": "code",
   "execution_count": 13,
   "id": "e926136e",
   "metadata": {},
   "outputs": [
    {
     "name": "stdout",
     "output_type": "stream",
     "text": [
      "Original string:  sdf 23 safs8 5 sdfsd8 sdfs 56 21sfs 20 5\n",
      "Numbers in sorted form:\n",
      "20 23 56 "
     ]
    }
   ],
   "source": [
    "str1 = \"sdf 23 safs8 5 sdfsd8 sdfs 56 21sfs 20 5\"\n",
    "print(\"Original string: \",str1)\n",
    "str_num=[i for i in str1.split(' ')]\n",
    "lenght=len(str_num)\n",
    "numbers=sorted([int(x) for x in str_num if x.isdigit()])\n",
    "print('Numbers in sorted form:')\n",
    "for i in ((filter(lambda x:x>lenght,numbers))):\n",
    "    print(i,end=' ')"
   ]
  },
  {
   "cell_type": "markdown",
   "id": "4f85c334",
   "metadata": {},
   "source": [
    "21. Write a Python program that multiply each number of given list with a given number using lambda function. Print the result. Go to the editor\n",
    "Original list: [2, 4, 6, 9, 11]\n",
    "Given number: 2\n",
    "Result:\n",
    "4 8 12 18 22"
   ]
  },
  {
   "cell_type": "code",
   "execution_count": 16,
   "id": "eaa47a93",
   "metadata": {},
   "outputs": [
    {
     "name": "stdout",
     "output_type": "stream",
     "text": [
      "[2, 4, 6, 9, 11]\n",
      "[4, 8, 12, 18, 22]\n"
     ]
    }
   ],
   "source": [
    "Original_list= [2, 4, 6, 9, 11] \n",
    "print(Original_list)\n",
    "\n",
    "result= list(map(lambda x:x*2,Original_list))\n",
    "print(result)"
   ]
  },
  {
   "cell_type": "markdown",
   "id": "3a918690",
   "metadata": {},
   "source": [
    "22. Write a Python program that sum the length of the names of a given list of names after removing the names that starts with an lowercase letter. Use lambda function"
   ]
  },
  {
   "cell_type": "code",
   "execution_count": 27,
   "id": "aea1414c",
   "metadata": {},
   "outputs": [
    {
     "name": "stdout",
     "output_type": "stream",
     "text": [
      "['sally', 'Dylan', 'rebecca', 'Diana', 'Joanne', 'keith']\n",
      "['Dylan', 'Diana', 'Joanne']\n",
      "16\n"
     ]
    }
   ],
   "source": [
    "sample_names = ['sally', 'Dylan', 'rebecca', 'Diana', 'Joanne', 'keith']\n",
    "print(sample_names)\n",
    "\n",
    "results= list(filter(lambda x: x[0].isupper() and x[1:].islower(),sample_names ))\n",
    "print(results)\n",
    "print( len(\"\".join(results)))"
   ]
  },
  {
   "cell_type": "markdown",
   "id": "070b1697",
   "metadata": {},
   "source": [
    "23. Write a Python program to calculate the sum of the positive and negative numbers of a given list of numbers using lambda function. Go to the editor\n",
    "Original list: [2, 4, -6, -9, 11, -12, 14, -5, 17]"
   ]
  },
  {
   "cell_type": "code",
   "execution_count": 33,
   "id": "ae29973b",
   "metadata": {},
   "outputs": [
    {
     "name": "stdout",
     "output_type": "stream",
     "text": [
      "[2, 4, -6, -9, 11, -12, 14, -5, 17]\n",
      " the sum of positive number:  48\n",
      " the sum of negative number:  -32\n"
     ]
    }
   ],
   "source": [
    "Original_list=[2, 4, -6, -9, 11, -12, 14, -5, 17]\n",
    "print(Original_list)\n",
    "\n",
    "result_positive= list(filter(lambda x:x>0 ,Original_list))\n",
    "result_negative= list(filter(lambda x:x<0 ,Original_list))\n",
    "print(\" the sum of positive number: \", sum(result_positive))\n",
    "print(\" the sum of negative number: \", sum(result_negative))"
   ]
  },
  {
   "cell_type": "markdown",
   "id": "05bf99b7",
   "metadata": {},
   "source": [
    "24. Write a Python program to find numbers within a given range where every number is divisible by every digit it contains."
   ]
  },
  {
   "cell_type": "code",
   "execution_count": 10,
   "id": "3b6afee8",
   "metadata": {},
   "outputs": [],
   "source": [
    "def divisible_by_number(start_num,end_num):\n",
    "    return [n for n in range(start_num,end_num+1) \\\n",
    "            if not any(map(lambda x: int(x)==0 or n%int(x)!=0, str(n)))]\n"
   ]
  },
  {
   "cell_type": "code",
   "execution_count": 11,
   "id": "b1d21d88",
   "metadata": {},
   "outputs": [
    {
     "name": "stdout",
     "output_type": "stream",
     "text": [
      "[1, 2, 3, 4, 5, 6, 7, 8, 9, 11, 12, 15, 22]\n"
     ]
    }
   ],
   "source": [
    "print(divisible_by_number(1,22))"
   ]
  },
  {
   "cell_type": "markdown",
   "id": "12c63c3f",
   "metadata": {},
   "source": [
    "25. Write a Python program to create the next bigger number by rearranging the digits of a given number. Go to the editor\n",
    "Original number: 12\n",
    "Next bigger number: 21\n",
    "Original number: 10\n",
    "Next bigger number: False\n",
    "Original number: 201\n",
    "Next bigger number: 210\n",
    "Original number: 102\n",
    "Next bigger number: 120\n",
    "Original number: 445\n",
    "Next bigger number: 454"
   ]
  },
  {
   "cell_type": "code",
   "execution_count": 2,
   "id": "0e99eb72",
   "metadata": {},
   "outputs": [
    {
     "name": "stdout",
     "output_type": "stream",
     "text": [
      " the original number:  12\n",
      " Next bigger number: 21\n",
      " the original number:  10\n",
      " Next bigger number: False\n",
      " the original number:  201\n",
      " Next bigger number: 210\n",
      " the original number:  102\n",
      " Next bigger number: 120\n",
      " the original number:  445\n",
      " Next bigger number: 454\n"
     ]
    }
   ],
   "source": [
    "def rearrange_bigger(n):\n",
    "    #Break the number into digits and store in a list\n",
    "    nums = list(str(n))\n",
    "    for i in range(len(nums)-2,-1,-1):\n",
    "        if nums[i] < nums[i+1]:\n",
    "            z = nums[i:]\n",
    "            y = min(filter(lambda x: x > z[0], z))\n",
    "            z.remove(y)\n",
    "            z.sort()\n",
    "            nums[i:] = [y] + z\n",
    "            return int(\"\".join(nums))\n",
    "    return False\n",
    "  \n",
    "n=12\n",
    "print(\" the original number: \" ,n)\n",
    "print(\" Next bigger number:\",rearrange_bigger(n))\n",
    "          \n",
    "n=10\n",
    "print(\" the original number: \" ,n)\n",
    "print(\" Next bigger number:\",rearrange_bigger(n))\n",
    "                   \n",
    "n=201\n",
    "print(\" the original number: \" ,n)\n",
    "print(\" Next bigger number:\",rearrange_bigger(n))\n",
    "                   \n",
    "n=102\n",
    "print(\" the original number: \" ,n)\n",
    "print(\" Next bigger number:\",rearrange_bigger(n))\n",
    "                   \n",
    "n=445\n",
    "print(\" the original number: \" ,n)\n",
    "print(\" Next bigger number:\",rearrange_bigger(n))\n",
    "                                      \n",
    "                   "
   ]
  },
  {
   "cell_type": "markdown",
   "id": "4b088746",
   "metadata": {},
   "source": [
    "Write a Python program to find the list with maximum and minimum length using lambda. Go to the editor\n",
    "Original list:\n",
    "[[0], [1, 3], [5, 7], [9, 11], [13, 15, 17]]"
   ]
  },
  {
   "cell_type": "code",
   "execution_count": 16,
   "id": "d50d08c3",
   "metadata": {},
   "outputs": [
    {
     "name": "stdout",
     "output_type": "stream",
     "text": [
      "[[0], [1, 3], [5, 7], [9, 11], [13, 15, 17]]\n",
      "maximum length of list: \n",
      "(3, [13, 15, 17])\n",
      "minimum length of list: \n",
      "(1, [0])\n"
     ]
    }
   ],
   "source": [
    "original_list=  [[0], [1, 3], [5, 7], [9, 11], [13, 15, 17]]\n",
    "print(original_list)\n",
    "\n",
    "def max_length_list(original_list):\n",
    "    max_length= max(len(i) for i in original_list)\n",
    "    max_list= max(original_list,key = lambda i: len(i))\n",
    "    return( max_length,max_list)\n",
    "\n",
    "def min_length_list(original_list):\n",
    "    min_length= min(len(i) for i in original_list)\n",
    "    min_list= min(original_list,key= lambda i: len(i))\n",
    "    return( min_length,min_list)\n",
    "\n",
    "print(\"maximum length of list: \")\n",
    "print(max_length_list(original_list))\n",
    "print(\"minimum length of list: \")\n",
    "print(min_length_list(original_list))"
   ]
  },
  {
   "cell_type": "markdown",
   "id": "992f8bf1",
   "metadata": {},
   "source": [
    "27.Write a Python program to sort each sublist of strings in a given list of lists using lambda. Go to the editor\n",
    "Original list:\n",
    "[['green', 'orange'], ['black', 'white'], ['white', 'black', 'orange']]"
   ]
  },
  {
   "cell_type": "code",
   "execution_count": 5,
   "id": "31d4a51e",
   "metadata": {},
   "outputs": [
    {
     "name": "stdout",
     "output_type": "stream",
     "text": [
      "\n",
      "Original list:\n",
      "[['green', 'orange'], ['black', 'white'], ['white', 'black', 'orange']]\n",
      "\n",
      "After sorting each sublist of the said list of lists:\n",
      "[['green', 'orange'], ['black', 'white'], ['black', 'orange', 'white']]\n"
     ]
    }
   ],
   "source": [
    "def sort_sublists(input_list):\n",
    "    result = [sorted(x, key = lambda x:x[0]) for x in input_list] \n",
    "    return result\n",
    "color1 = [[\"green\", \"orange\"], [\"black\", \"white\"], [\"white\", \"black\", \"orange\"]]\n",
    "print(\"\\nOriginal list:\")\n",
    "print(color1)  \n",
    "print(\"\\nAfter sorting each sublist of the said list of lists:\")\n",
    "print(sort_sublists(color1))"
   ]
  },
  {
   "cell_type": "markdown",
   "id": "80b31b43",
   "metadata": {},
   "source": [
    "28. Write a Python program to sort a given list of lists by length and value using lambda. Go to the editor\n",
    "Original list:\n",
    "[[2], [0], [1, 3], [0, 7], [9, 11], [13, 15, 17]]"
   ]
  },
  {
   "cell_type": "code",
   "execution_count": 11,
   "id": "02b9852e",
   "metadata": {},
   "outputs": [
    {
     "name": "stdout",
     "output_type": "stream",
     "text": [
      "[[2], [0], [1, 3], [0, 7], [9, 11], [13, 15, 17]]\n",
      "\n",
      "list after sorting: \n",
      "[[[0], [2], [0, 7], [1, 3], [9, 11], [13, 15, 17]]]\n"
     ]
    }
   ],
   "source": [
    "def length_value(Original_list):\n",
    "    result = [sorted( Original_list,key = lambda x : (len(x),x))]\n",
    "    return(result)\n",
    "Original_list=[[2], [0], [1, 3], [0, 7], [9, 11], [13, 15, 17]]\n",
    "print(Original_list)\n",
    "\n",
    "print(\"\\nlist after sorting: \")\n",
    "print(length_value(Original_list))"
   ]
  },
  {
   "cell_type": "markdown",
   "id": "83caada3",
   "metadata": {},
   "source": [
    "29. Write a Python program to find the maximum value in a given heterogeneous list using lambda. Go to the editor\n",
    "Original list:\n",
    "['Python', 3, 2, 4, 5, 'version']"
   ]
  },
  {
   "cell_type": "code",
   "execution_count": 15,
   "id": "ae45ad91",
   "metadata": {},
   "outputs": [
    {
     "name": "stdout",
     "output_type": "stream",
     "text": [
      "['Python', 3, 2, 4, 5, 'version']\n",
      "\n",
      "maximum value in the list: \n",
      "5\n"
     ]
    }
   ],
   "source": [
    "def max_value( Original_list):\n",
    "    result= max(Original_list,key = lambda x : (isinstance(x,int),x))\n",
    "    return result\n",
    "Original_list=['Python', 3, 2, 4, 5, 'version']\n",
    "print( Original_list)\n",
    "\n",
    "print(\"\\nmaximum value in the list: \")\n",
    "print(max_value( Original_list))"
   ]
  },
  {
   "cell_type": "markdown",
   "id": "8940cd96",
   "metadata": {},
   "source": [
    "30. Write a Python program to sort a given matrix in ascending order according to the sum of its rows using lambda. Go to the editor\n",
    "Original Matrix:\n",
    "[[1, 2, 3], [2, 4, 5], [1, 1, 1]]"
   ]
  },
  {
   "cell_type": "code",
   "execution_count": 18,
   "id": "1caf18c9",
   "metadata": {},
   "outputs": [
    {
     "name": "stdout",
     "output_type": "stream",
     "text": [
      "[[1, 2, 3], [2, 4, 5], [1, 1, 1]]\n",
      "\n",
      "sum of the matrix row: \n",
      "[[1, 1, 1], [1, 2, 3], [2, 4, 5]]\n"
     ]
    }
   ],
   "source": [
    "def ascending_order(Original_Matrix):\n",
    "    result = sorted( Original_Matrix,key = lambda matrix_sum : sum(matrix_sum))\n",
    "    return result\n",
    "Original_Matrix =[[1, 2, 3], [2, 4, 5], [1, 1, 1]]\n",
    "print(Original_Matrix)\n",
    "\n",
    "print(\"\\nsum of the matrix row: \")\n",
    "print(ascending_order(Original_Matrix))"
   ]
  },
  {
   "cell_type": "markdown",
   "id": "8b806680",
   "metadata": {},
   "source": [
    "31. Write a Python program to extract specified size of strings from a give list of string values using lambda. Go to the editor\n",
    "Original list:\n",
    "['Python', 'list', 'exercises', 'practice', 'solution']\n",
    "length of the string to extract:\n",
    "8"
   ]
  },
  {
   "cell_type": "code",
   "execution_count": 19,
   "id": "793a7b37",
   "metadata": {},
   "outputs": [
    {
     "name": "stdout",
     "output_type": "stream",
     "text": [
      "['Python', 'list', 'exercises', 'practice', 'solution']\n",
      "\n",
      " list after extracting:\n",
      "['practice', 'solution']\n"
     ]
    }
   ],
   "source": [
    "def extract_size(Original_list,l):\n",
    "    result= list(filter(lambda x: len(x)== l , Original_list ))\n",
    "    return result\n",
    "Original_list = ['Python', 'list', 'exercises', 'practice', 'solution']\n",
    "print(Original_list)\n",
    "l=8\n",
    "print(\"\\n list after extracting:\")\n",
    "print(extract_size(Original_list,l))"
   ]
  },
  {
   "cell_type": "markdown",
   "id": "0dcc8a65",
   "metadata": {},
   "source": [
    "32. Write a Python program to count float number in a given mixed list using lambda. Go to the editor\n",
    "Original list:\n",
    "[1, 'abcd', 3.12, 1.2, 4, 'xyz', 5, 'pqr', 7, -5, -12.22]"
   ]
  },
  {
   "cell_type": "code",
   "execution_count": 24,
   "id": "2c7d2744",
   "metadata": {},
   "outputs": [
    {
     "name": "stdout",
     "output_type": "stream",
     "text": [
      "[1, 'abcd', 3.12, 1.2, 4, 'xyz', 5, 'pqr', 7, -5, -12.22]\n",
      "\n",
      " count of floating point number: \n",
      "3\n"
     ]
    }
   ],
   "source": [
    "def count_float(Original_list):\n",
    "    result= list(map(lambda x: isinstance(x,float), Original_list))\n",
    "    mixed_list = len([e for e in result if e])\n",
    "    return mixed_list\n",
    "Original_list= [1, 'abcd', 3.12, 1.2, 4, 'xyz', 5, 'pqr', 7, -5, -12.22]\n",
    "print(Original_list)\n",
    "\n",
    "print(\"\\n count of floating point number: \")\n",
    "print(count_float(Original_list))\n",
    "    \n",
    "    "
   ]
  },
  {
   "cell_type": "markdown",
   "id": "d618c2f3",
   "metadata": {},
   "source": [
    "33. Write a Python program to check whether a given string contains a capital letter, a lower case letter, a number and a minimum length using lambda."
   ]
  },
  {
   "cell_type": "code",
   "execution_count": 2,
   "id": "1219736a",
   "metadata": {},
   "outputs": [
    {
     "name": "stdout",
     "output_type": "stream",
     "text": [
      "Input the string:  W3resource\n",
      "['Valid string.']\n"
     ]
    }
   ],
   "source": [
    "def check_string(str1):\n",
    "    messg = [\n",
    "    lambda str1: any(x.isupper() for x in str1) or 'String must have 1 upper case character.',\n",
    "    lambda str1: any(x.islower() for x in str1) or 'String must have 1 lower case character.',\n",
    "    lambda str1: any(x.isdigit() for x in str1) or 'String must have 1 number.',\n",
    "    lambda str1: len(str1) >= 7                 or 'String length should be atleast 8.',]\n",
    "    result = [x for x in [i(str1) for i in messg] if x != True]\n",
    "    if not result:\n",
    "        result.append('Valid string.')\n",
    "    return result    \n",
    "s = input(\"Input the string: \")\n",
    "print(check_string(s))\n",
    "         \n",
    "         \n",
    "         \n",
    "         \n",
    "         "
   ]
  },
  {
   "cell_type": "markdown",
   "id": "bdb4c9ea",
   "metadata": {},
   "source": [
    "34. Write a Python program to filter the height and width of students, which are stored in a dictionary using lambda. Go to the editor\n",
    "Original Dictionary:\n",
    "{'Cierra Vega': (6.2, 70), 'Alden Cantrell': (5.9, 65), 'Kierra Gentry': (6.0, 68), 'Pierre Cox': (5.8, 66)}"
   ]
  },
  {
   "cell_type": "code",
   "execution_count": 14,
   "id": "1982f35a",
   "metadata": {},
   "outputs": [
    {
     "name": "stdout",
     "output_type": "stream",
     "text": [
      "{'Cierra Vega': (6.2, 70), 'Alden Cantrell': (5.9, 65), 'Kierra Gentry': (6.0, 68), 'Pierre Cox': (5.8, 66)}\n",
      "{'Cierra Vega': (6.2, 70)}\n"
     ]
    }
   ],
   "source": [
    "def filter_data (Original_Dictionary):\n",
    "        result = dict(filter(lambda x: (x[1][0],x[1][1])>(6.0,70),Original_Dictionary.items()))\n",
    "        return result\n",
    "    \n",
    "Original_Dictionary = {'Cierra Vega': (6.2, 70), 'Alden Cantrell': (5.9, 65), 'Kierra Gentry': (6.0, 68), 'Pierre Cox': (5.8, 66)}\n",
    "print(Original_Dictionary)\n",
    "    \n",
    "print(filter_data (Original_Dictionary))\n"
   ]
  },
  {
   "cell_type": "markdown",
   "id": "bbd4db09",
   "metadata": {},
   "source": [
    "35. Write a Python program to check whether a specified list is sorted or not using lambda. Go to the editor\n",
    "Original list:\n",
    "[1, 2, 4, 6, 8, 10, 12, 14, 16, 17]"
   ]
  },
  {
   "cell_type": "code",
   "execution_count": 16,
   "id": "248df657",
   "metadata": {},
   "outputs": [
    {
     "name": "stdout",
     "output_type": "stream",
     "text": [
      "Original list:\n",
      "[1, 2, 4, 6, 8, 10, 12, 14, 16, 17]\n",
      "\n",
      "Is the said list is sorted!\n",
      "True\n",
      "\n",
      "Original list:\n",
      "[2, 3, 8, 4, 7, 9, 8, 2, 6, 5, 1, 6, 1, 2, 3, 4, 6, 9, 1, 2]\n",
      "\n",
      "Is the said list is sorted!\n",
      "True\n"
     ]
    }
   ],
   "source": [
    " def is_sort_list(nums,key=lambda x:x):\n",
    "        for i ,e in enumerate (nums[1:]):\n",
    "            if key(e)< key(nums[i]):\n",
    "                return False\n",
    "            return True\n",
    "    \n",
    "nums1 = [1,2,4,6,8,10,12,14,16,17]\n",
    "print (\"Original list:\")\n",
    "print(nums1)\n",
    "print(\"\\nIs the said list is sorted!\")\n",
    "print(is_sort_list(nums1)) \n",
    "nums2 = [2,3,8,4,7,9,8,2,6,5,1,6,1,2,3,4,6,9,1,2]\n",
    "print (\"\\nOriginal list:\")\n",
    "print(nums2)\n",
    "print(\"\\nIs the said list is sorted!\")\n",
    "print(is_sort_list(nums2))\n"
   ]
  },
  {
   "cell_type": "markdown",
   "id": "a4532b9e",
   "metadata": {},
   "source": [
    "36. Write a Python program to extract the nth element from a given list of tuples using lambda. Go to the editor\n",
    "Original list:\n",
    "[('Greyson Fulton', 98, 99), ('Brady Kent', 97, 96), ('Wyatt Knott', 91, 94), ('Beau Turnbull', 94, 98)]\n",
    "Extract nth element ( n = 0 ) from the said list of tuples:\n",
    "['Greyson Fulton', 'Brady Kent', 'Wyatt Knott', 'Beau Turnbull']\n",
    "Extract nth element ( n = 2 ) from the said list of tuples:\n",
    "[99, 96, 94, 98]"
   ]
  },
  {
   "cell_type": "code",
   "execution_count": 35,
   "id": "b57831a6",
   "metadata": {},
   "outputs": [
    {
     "name": "stdout",
     "output_type": "stream",
     "text": [
      "[('Greyson Fulton', 98, 99), ('Brady Kent', 97, 96), ('Wyatt Knott', 91, 94), ('Beau Turnbull', 94, 98)]\n",
      "Extract nth element (n= True )from the said list of tuples:\n",
      "\n",
      " nth element : 0\n",
      "['Greyson Fulton', 'Brady Kent', 'Wyatt Knott', 'Beau Turnbull']\n",
      "Extract nth element (n= True ) from the said list of tuples:\n",
      "\n",
      " nth element : 2\n",
      "[99, 96, 94, 98]\n"
     ]
    }
   ],
   "source": [
    "def extract_n_element(test_list,n):\n",
    "    result= list(map(lambda x: (x[n]) ,test_list))\n",
    "    return result\n",
    "\n",
    "test_list = [('Greyson Fulton', 98, 99), ('Brady Kent', 97, 96), ('Wyatt Knott', 91, 94), ('Beau Turnbull', 94, 98)]\n",
    "print(test_list)\n",
    "\n",
    "n=0\n",
    "print(\"Extract nth element (n=\" ,n==0,\")from the said list of tuples:\")\n",
    "print(\"\\n nth element :\" ,n)\n",
    "print(extract_n_element(test_list,n))\n",
    "\n",
    "n=2\n",
    "print(\"Extract nth element (n=\",n==2,\") from the said list of tuples:\")\n",
    "print(\"\\n nth element :\" ,n)\n",
    "print(extract_n_element(test_list,n))"
   ]
  },
  {
   "cell_type": "markdown",
   "id": "46dfa271",
   "metadata": {},
   "source": [
    "37. Write a Python program to sort a list of lists by a given index of the inner list using lambda."
   ]
  },
  {
   "cell_type": "code",
   "execution_count": 6,
   "id": "ec1e817f",
   "metadata": {},
   "outputs": [
    {
     "name": "stdout",
     "output_type": "stream",
     "text": [
      "Original list:\n",
      "[('Greyson Fulton', 98, 99), ('Brady Kent', 97, 96), ('Wyatt Knott', 91, 94), ('Beau Turnbull', 94, 98)]\n",
      "\n",
      "Sort the said list of lists by a given index (index= 0 ) of the inner list\n",
      "[('Beau Turnbull', 94, 98), ('Brady Kent', 97, 96), ('Greyson Fulton', 98, 99), ('Wyatt Knott', 91, 94)]\n",
      "\n",
      "Sort the said list of lists by a given index (index= 2 ) of the inner list\n",
      "[('Wyatt Knott', 91, 94), ('Brady Kent', 97, 96), ('Beau Turnbull', 94, 98), ('Greyson Fulton', 98, 99)]\n"
     ]
    }
   ],
   "source": [
    "def index_on_inner_list(list_data,index_no):\n",
    "    result= sorted(list_data,key=lambda x: x[index_no])\n",
    "    return result\n",
    "students = [('Greyson Fulton', 98, 99), ('Brady Kent', 97, 96), ('Wyatt Knott', 91, 94), ('Beau Turnbull', 94, 98)] \n",
    "print (\"Original list:\")\n",
    "print(students)\n",
    "index_no = 0\n",
    "print(\"\\nSort the said list of lists by a given index\",\"(index=\",index_no,\") of the inner list\")\n",
    "print( index_on_inner_list(students,index_no))\n",
    "index_no = 2\n",
    "print(\"\\nSort the said list of lists by a given index\",\"(index=\",index_no,\") of the inner list\")\n",
    "print( index_on_inner_list(students,index_no))"
   ]
  },
  {
   "cell_type": "markdown",
   "id": "f9c757be",
   "metadata": {},
   "source": [
    "38. Write a Python program to remove all elements from a given list present in another list using lambda. "
   ]
  },
  {
   "cell_type": "code",
   "execution_count": 10,
   "id": "275bceb8",
   "metadata": {},
   "outputs": [
    {
     "name": "stdout",
     "output_type": "stream",
     "text": [
      "original list: [1, 2, 3, 4, 5, 6, 7, 8, 9, 10]\n",
      "original list: [2, 4, 6, 8]\n",
      "\n",
      "remove all elements from list1 to list2:\n",
      "[1, 3, 5, 7, 9, 10]\n"
     ]
    }
   ],
   "source": [
    "def remove_list1_list2(list1,list2):\n",
    "    result= list(filter(lambda x: x not in list2,list1))\n",
    "    return result\n",
    "list1= [1, 2, 3, 4, 5, 6, 7, 8, 9, 10]\n",
    "list2=[2, 4, 6, 8]\n",
    "print(\"original list:\", list1)\n",
    "print(\"original list:\", list2)\n",
    "\n",
    "print(\"\\nremove all elements from list1 to list2:\",)\n",
    "print(remove_list1_list2(list1,list2))\n"
   ]
  },
  {
   "cell_type": "markdown",
   "id": "e6ba94c5",
   "metadata": {},
   "source": [
    "39. Write a Python program to find the elements of a given list of strings that contain specific substring using lambda"
   ]
  },
  {
   "cell_type": "code",
   "execution_count": 24,
   "id": "0b719fd1",
   "metadata": {},
   "outputs": [
    {
     "name": "stdout",
     "output_type": "stream",
     "text": [
      "['red', 'black', 'white', 'green', 'orange']\n",
      "\n",
      "sub_string to search: ack\n",
      "Elements of the said list that contain specific substring:\n",
      "['black']\n",
      "\n",
      "sub_string to search: abc\n",
      "Elements of the said list that contain specific substring:\n",
      "[]\n"
     ]
    }
   ],
   "source": [
    "def list_of_substrings(str1, sub_string):\n",
    "    result= list(filter(lambda x: sub_string in x,str1 ))\n",
    "    return result\n",
    "Original_list=['red', 'black', 'white', 'green', 'orange']\n",
    "print(Original_list)\n",
    "sub_string=\"ack\"\n",
    "print(\"\\nsub_string to search:\", sub_string)\n",
    "print(\"Elements of the said list that contain specific substring:\",)\n",
    "print( list_of_substrings(Original_list,sub_string))\n",
    "\n",
    "sub_string=\"abc\"\n",
    "print(\"\\nsub_string to search:\", sub_string)\n",
    "print(\"Elements of the said list that contain specific substring:\",)\n",
    "print( list_of_substrings(Original_list,sub_string))\n"
   ]
  },
  {
   "cell_type": "markdown",
   "id": "a93550d9",
   "metadata": {},
   "source": [
    "40. Write a Python program to find the nested lists elements, which are present in another list using lambda. Go to the editor"
   ]
  },
  {
   "cell_type": "code",
   "execution_count": 5,
   "id": "394b42be",
   "metadata": {},
   "outputs": [
    {
     "name": "stdout",
     "output_type": "stream",
     "text": [
      "The original list1:  [1, 2, 3, 4, 5, 6, 7, 8, 9, 10, 11, 12, 13, 14]\n",
      "The original list2:  [[12, 18, 23, 25, 45], [7, 11, 19, 24, 28], [1, 5, 8, 18, 15, 16]]\n",
      "\n",
      "the nested lists elements, which are present in another list: \n",
      "[[12], [7, 11], [1, 5, 8]]\n"
     ]
    }
   ],
   "source": [
    "def nested_list(list_1,list_2):\n",
    "    result= [list(filter(lambda x: x in list_1 , sub_string )) for sub_string in list_2]\n",
    "    return result\n",
    "Original_lists_1= [1, 2, 3, 4, 5, 6, 7, 8, 9, 10, 11, 12, 13, 14] \n",
    "Original_lists_2=[[12, 18, 23, 25, 45], [7, 11, 19, 24, 28], [1, 5, 8, 18, 15, 16]]\n",
    "print(\"The original list1: \", Original_lists_1)\n",
    "print(\"The original list2: \", Original_lists_2)\n",
    "\n",
    "print(\"\\nthe nested lists elements, which are present in another list: \")\n",
    "print(nested_list(Original_lists_1,Original_lists_2))\n",
    "\n"
   ]
  },
  {
   "cell_type": "markdown",
   "id": "2226a145",
   "metadata": {},
   "source": [
    "41. Write a Python program to reverse strings in a given list of string values using lambda. "
   ]
  },
  {
   "cell_type": "code",
   "execution_count": 11,
   "id": "dc526eab",
   "metadata": {},
   "outputs": [
    {
     "name": "stdout",
     "output_type": "stream",
     "text": [
      " the original list: ['Red', 'Green', 'Blue', 'White', 'Black']\n",
      "Reverse strings of the said given list:\n",
      "[['deR', 'neerG', 'eulB', 'etihW', 'kcalB']]\n"
     ]
    }
   ],
   "source": [
    "\n",
    "def reverse_list(list1):\n",
    "    result= [list(map(lambda x: \"\".join(reversed(x)),list1))]\n",
    "    return result\n",
    "Original_lists=['Red', 'Green', 'Blue', 'White', 'Black']\n",
    "print(\" the original list:\",Original_lists)\n",
    "\n",
    "print(\"Reverse strings of the said given list:\")\n",
    "print(reverse_list(Original_lists))\n"
   ]
  },
  {
   "cell_type": "markdown",
   "id": "f8066431",
   "metadata": {},
   "source": [
    "42. Write a Python program to calculate the product of a given list of numbers using lambda. "
   ]
  },
  {
   "cell_type": "code",
   "execution_count": 18,
   "id": "bd0c9a08",
   "metadata": {},
   "outputs": [
    {
     "name": "stdout",
     "output_type": "stream",
     "text": [
      "the original list: [1, 2, 3, 4, 5, 6, 7, 8, 9, 10]\n",
      "Product of the said list numbers:\n",
      "3628800\n",
      "the original list: [2.2, 4.12, 6.6, 8.1, 8.3]\n",
      "Product of the said list numbers:\n",
      "4021.8599520000007\n"
     ]
    }
   ],
   "source": [
    "import functools\n",
    "\n",
    "def product_list(list1):\n",
    "    result= functools.reduce(lambda x,y: x*y,list1,1)\n",
    "    return result\n",
    "\n",
    "list1=[1, 2, 3, 4, 5, 6, 7, 8, 9, 10]\n",
    "print(\"the original list:\", list1)\n",
    "print(\"Product of the said list numbers:\")\n",
    "print( product_list(list1))\n",
    "list2= [2.2, 4.12, 6.6, 8.1, 8.3]\n",
    "print(\"the original list:\", list2)\n",
    "print(\"Product of the said list numbers:\")\n",
    "print( product_list(list2))"
   ]
  },
  {
   "cell_type": "markdown",
   "id": "9c7f29f6",
   "metadata": {},
   "source": [
    "43. Write a Python program to multiply all the numbers in a given list using lambda"
   ]
  },
  {
   "cell_type": "code",
   "execution_count": 22,
   "id": "6ac9ef40",
   "metadata": {},
   "outputs": [
    {
     "name": "stdout",
     "output_type": "stream",
     "text": [
      "the original list: [4, 3, 2, 2, -1, 18]\n",
      "multiply all the numbers of the said list:\n",
      "-864\n",
      "the original list: [4, 3, 2, 2, -1, 18]\n",
      "multiply all the numbers of the said list:\n",
      "27648\n"
     ]
    }
   ],
   "source": [
    "import functools\n",
    "\n",
    "def multiply_list(list1):\n",
    "    result = functools.reduce(lambda x,y: x*y,list1)\n",
    "    return result\n",
    "Original_list=[4, 3, 2, 2, -1, 18]\n",
    "print(\"the original list:\",Original_list)\n",
    "print(\"multiply all the numbers of the said list:\")\n",
    "print(multiply_list(Original_list))\n",
    "Original_list2 =[2, 4, 8, 8, 3, 2, 9]\n",
    "print(\"the original list:\",Original_list)\n",
    "print(\"multiply all the numbers of the said list:\")\n",
    "print(multiply_list(Original_list2))"
   ]
  },
  {
   "cell_type": "markdown",
   "id": "c49bb1f4",
   "metadata": {},
   "source": [
    "44. Write a Python program to calculate the average value of the numbers in a given tuple of tuples using lambda. "
   ]
  },
  {
   "cell_type": "code",
   "execution_count": 7,
   "id": "02be67a8",
   "metadata": {},
   "outputs": [
    {
     "name": "stdout",
     "output_type": "stream",
     "text": [
      "the original list: ((10, 10, 10), (30, 45, 56), (81, 80, 39), (1, 2, 3))\n",
      "Average value of the numbers of the said tuple of tuples:\n",
      "(30.5, 34.25, 27.0)\n",
      "the original list: ((1, 1, -5), (30, -15, 56), (81, -60, -39), (-10, 2, 3))\n",
      "Average value of the numbers of the said tuple of tuples:\n",
      "(25.5, -18.0, 3.75)\n"
     ]
    }
   ],
   "source": [
    "def average_tuple(nums):\n",
    "    result = tuple(map(lambda x: sum(x) / float(len(x)), zip(*nums)))\n",
    "    return result\n",
    "\n",
    "Original_Tuple=((10, 10, 10), (30, 45, 56), (81, 80, 39), (1, 2, 3))\n",
    "print(\"the original list:\",Original_Tuple)\n",
    "\n",
    "print(\"Average value of the numbers of the said tuple of tuples:\")\n",
    "print( average_tuple(Original_Tuple))\n",
    "\n",
    "Original_Tuple1=((1, 1, -5), (30, -15, 56), (81, -60, -39), (-10, 2, 3))\n",
    "print(\"the original list:\",Original_Tuple1)\n",
    "\n",
    "print(\"Average value of the numbers of the said tuple of tuples:\")\n",
    "print( average_tuple(Original_Tuple1))\n"
   ]
  },
  {
   "cell_type": "markdown",
   "id": "3ae1e3ba",
   "metadata": {},
   "source": [
    "45. Write a Python program to convert string element to integer inside a given tuple using lambda."
   ]
  },
  {
   "cell_type": "code",
   "execution_count": 12,
   "id": "b6a0d075",
   "metadata": {},
   "outputs": [
    {
     "name": "stdout",
     "output_type": "stream",
     "text": [
      "Original_tuple_values: (('233', 'ABCD', '33'), ('1416', 'EFGH', '55'), ('2345', 'WERT', '34'))\n",
      "the new values of tuples:\n",
      "((233, 33), (1416, 55), (2345, 34))\n"
     ]
    }
   ],
   "source": [
    "def con_str_ele(test_tuple):\n",
    "    result = tuple(map(lambda x:(int(x[0]),int(x[2])) , test_tuple))\n",
    "    return result\n",
    "\n",
    "Original_tuple_values=(('233', 'ABCD', '33'), ('1416', 'EFGH', '55'), ('2345', 'WERT', '34'))\n",
    "print(\"Original_tuple_values:\",Original_tuple_values)\n",
    "\n",
    "print(\"the new values of tuples:\")\n",
    "print(con_str_ele(Original_tuple_values))"
   ]
  },
  {
   "cell_type": "markdown",
   "id": "59fbad47",
   "metadata": {},
   "source": [
    "46. Write a Python program to find index position and value of the maximum and minimum values in a given list of numbers using lambda. Go to the editor\n"
   ]
  },
  {
   "cell_type": "code",
   "execution_count": 5,
   "id": "8535aec9",
   "metadata": {},
   "outputs": [
    {
     "name": "stdout",
     "output_type": "stream",
     "text": [
      "Original list:\n",
      "[12, 33, 23, 10.11, 67, 89, 45, 66.7, 23, 12, 11, 10.25, 54]\n",
      "\n",
      "Index position and value of the maximum value of the said list:\n",
      "(5, 89)\n",
      "\n",
      "Index position and value of the minimum value of the said list:\n",
      "(3, 10.11)\n"
     ]
    }
   ],
   "source": [
    "def position_max_min(nums):\n",
    "    max_result = max(enumerate(nums), key=(lambda x: x[1]))\n",
    "    min_result = min(enumerate(nums), key=(lambda x: x[1]))\n",
    "    return max_result,min_result\n",
    "\n",
    "nums = [12,33,23,10.11,67,89,45,66.7,23,12,11,10.25,54]\n",
    "print(\"Original list:\")\n",
    "print(nums)\n",
    "result = position_max_min(nums)\n",
    "print(\"\\nIndex position and value of the maximum value of the said list:\")\n",
    "print(result[0])\n",
    "print(\"\\nIndex position and value of the minimum value of the said list:\")\n",
    "print(result[1])"
   ]
  },
  {
   "cell_type": "markdown",
   "id": "82732fbb",
   "metadata": {},
   "source": [
    "47. Write a Python program to sort a given mixed list of integers and strings using lambda. Numbers must be sorted before strings."
   ]
  },
  {
   "cell_type": "code",
   "execution_count": 10,
   "id": "f912bdb8",
   "metadata": {},
   "outputs": [
    {
     "name": "stdout",
     "output_type": "stream",
     "text": [
      "Original_list:  [19, 'red', 12, 'green', 'blue', 10, 'white', 'green', 1]\n",
      "Numbers must be sorted before strings:\n",
      "[1, 10, 12, 19, 'blue', 'green', 'green', 'red', 'white']\n"
     ]
    }
   ],
   "source": [
    "def sort_mixed_list(list1):\n",
    "    list1.sort(key = lambda e: (isinstance(e,str),e))\n",
    "    return list1\n",
    "\n",
    "Original_list=[19, 'red', 12, 'green', 'blue', 10, 'white', 'green', 1]\n",
    "print(\"Original_list: \",Original_list)\n",
    "\n",
    "print(\"Numbers must be sorted before strings:\")\n",
    "print(sort_mixed_list(Original_list))\n"
   ]
  },
  {
   "cell_type": "markdown",
   "id": "c1c963fd",
   "metadata": {},
   "source": [
    "48. Write a Python program to sort a given list of strings(numbers) numerically using lambda"
   ]
  },
  {
   "cell_type": "code",
   "execution_count": 21,
   "id": "76701e13",
   "metadata": {},
   "outputs": [
    {
     "name": "stdout",
     "output_type": "stream",
     "text": [
      "list1: ['4', '12', '45', '7', '0', '100', '200', '-12', '-500']\n",
      "['-500', '-12', '0', '4', '7', '12', '45', '100', '200']\n"
     ]
    }
   ],
   "source": [
    "def sort_list(list1):\n",
    "    result = sorted(list1,key = lambda x :int(x))\n",
    "    return result\n",
    "\n",
    "list1=['4', '12', '45', '7', '0', '100', '200', '-12', '-500']\n",
    "print(\"list1:\",list1)\n",
    "\n",
    "print(sort_list(list1))\n"
   ]
  },
  {
   "cell_type": "markdown",
   "id": "cc87b614",
   "metadata": {},
   "source": [
    "49. Write a Python program to count the occurrences of the items in a given list using lambda"
   ]
  },
  {
   "cell_type": "code",
   "execution_count": 24,
   "id": "c249a23e",
   "metadata": {},
   "outputs": [
    {
     "name": "stdout",
     "output_type": "stream",
     "text": [
      "[3, 4, 5, 8, 0, 3, 8, 5, 0, 3, 1, 5, 2, 3, 4, 2]\n",
      "Count the occurrences of the items in the said list:\n",
      "{3: 4, 4: 2, 5: 3, 8: 2, 0: 2, 1: 1, 2: 2}\n"
     ]
    }
   ],
   "source": [
    "def count_occurences(nums):\n",
    "    result = dict(map(lambda x: (x, list(nums).count(x)),nums))\n",
    "    return result\n",
    "\n",
    "nums =[3, 4, 5, 8, 0, 3, 8, 5, 0, 3, 1, 5, 2, 3, 4, 2]\n",
    "print(nums)\n",
    "print(\"Count the occurrences of the items in the said list:\")\n",
    "print(count_occurences(nums))"
   ]
  },
  {
   "cell_type": "markdown",
   "id": "2297320f",
   "metadata": {},
   "source": [
    "50. Write a Python program to remove specific words from a given list using lambda. "
   ]
  },
  {
   "cell_type": "code",
   "execution_count": 31,
   "id": "940e7b38",
   "metadata": {},
   "outputs": [
    {
     "name": "stdout",
     "output_type": "stream",
     "text": [
      "['orange', 'red', 'green', 'blue', 'white', 'black']\n",
      "['orange', 'black']\n",
      "['red', 'green', 'blue', 'white']\n"
     ]
    }
   ],
   "source": [
    "def remove_words(list1,remove_words):\n",
    "    result= list(filter(lambda words:words not in remove_words,list1))\n",
    "    return result\n",
    "\n",
    "colours=['orange', 'red', 'green', 'blue', 'white', 'black']\n",
    "print(colours)\n",
    "remove_colours= ['orange', 'black']\n",
    "print(remove_colours)\n",
    "print(remove_words(colours,remove_colours))\n",
    "\n"
   ]
  },
  {
   "cell_type": "markdown",
   "id": "9ddbec25",
   "metadata": {},
   "source": [
    "51. Write a Python program to find the maximum and minimum values in a given list of tuples using lambda function"
   ]
  },
  {
   "cell_type": "code",
   "execution_count": 41,
   "id": "49cb946f",
   "metadata": {},
   "outputs": [
    {
     "name": "stdout",
     "output_type": "stream",
     "text": [
      "Original list with tuples:\n",
      "[('V', 62), ('VI', 68), ('VII', 72), ('VIII', 70), ('IX', 74), ('X', 65)]\n",
      "\n",
      "Maximum and minimum values of the said list of tuples:\n",
      "(74, 62)\n"
     ]
    }
   ],
   "source": [
    "def max_min_list_tuples(class_students):\n",
    "    return_max = max(class_students,key=lambda item:item[1])[1]\n",
    "    return_min = min(class_students,key=lambda item:item[1])[1]\n",
    "    return return_max, return_min\n",
    "    \n",
    "class_students = [('V', 62), ('VI', 68), ('VII', 72), ('VIII', 70), ('IX', 74), ('X', 65)]\n",
    "print(\"Original list with tuples:\")\n",
    "print(class_students)\n",
    "print(\"\\nMaximum and minimum values of the said list of tuples:\")\n",
    "print(max_min_list_tuples(class_students))"
   ]
  },
  {
   "cell_type": "markdown",
   "id": "87a6d0eb",
   "metadata": {},
   "source": [
    "52. Write a Python program to remove None value from a given list using lambda function."
   ]
  },
  {
   "cell_type": "code",
   "execution_count": 51,
   "id": "2266779c",
   "metadata": {},
   "outputs": [
    {
     "name": "stdout",
     "output_type": "stream",
     "text": [
      "[12, 0, None, 23, None, -55, 234, 89, None, 0, 6, -12]\n",
      "['None']\n",
      "[12, 0, 23, -55, 234, 89, 0, 6, -12]\n"
     ]
    }
   ],
   "source": [
    "def remove_none(list1,remove_word):\n",
    "    result= list(filter(lambda word: word is not None,list1 ))\n",
    "    return result\n",
    "\n",
    "Original_list=[12, 0, None, 23, None, -55, 234, 89, None, 0, 6, -12]\n",
    "print(Original_list)\n",
    "\n",
    "remove_word = [\"None\"]\n",
    "print(remove_word)\n",
    "print(remove_none(Original_list, remove_word))"
   ]
  },
  {
   "cell_type": "code",
   "execution_count": null,
   "id": "0ee99fb3",
   "metadata": {},
   "outputs": [],
   "source": []
  },
  {
   "cell_type": "code",
   "execution_count": null,
   "id": "a71eb7d5",
   "metadata": {},
   "outputs": [],
   "source": []
  }
 ],
 "metadata": {
  "kernelspec": {
   "display_name": "Python 3 (ipykernel)",
   "language": "python",
   "name": "python3"
  },
  "language_info": {
   "codemirror_mode": {
    "name": "ipython",
    "version": 3
   },
   "file_extension": ".py",
   "mimetype": "text/x-python",
   "name": "python",
   "nbconvert_exporter": "python",
   "pygments_lexer": "ipython3",
   "version": "3.9.12"
  }
 },
 "nbformat": 4,
 "nbformat_minor": 5
}
